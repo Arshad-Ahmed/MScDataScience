{
 "cells": [
  {
   "cell_type": "markdown",
   "metadata": {},
   "source": [
    "# INM433 Visual Analytics Coursework\n",
    "### Arshad Ahmed \n",
    "#### MSc Data Science 2015/16\n"
   ]
  },
  {
   "cell_type": "markdown",
   "metadata": {},
   "source": [
    "# Contents\n",
    "\n",
    "## 1: Introduction\n",
    "    + Aims\n",
    "    + Description of dataset\n",
    "    + Methods to be used\n",
    "    \n",
    "## 2: Data Processing\n",
    "    + Data Import\n",
    "    + Preprocessing\n",
    "    + Visualisation\n",
    "    + Basic statistics\n",
    "    + Observations\n",
    "    "
   ]
  },
  {
   "cell_type": "markdown",
   "metadata": {},
   "source": [
    "# 1: Introduction\n",
    "\n",
    "***\n",
    "### Aim\n",
    "\n",
    "Our aim is to test the accuracy of a neural network model and an SVM in classifying wines as red or white based on their chemical properties. To do this experiment we use the [Wine Quality Dataset](https://archive.ics.uci.edu/ml/datasets/Wine+Quality) from the UCI Machine Learning Repository.\n",
    "\n",
    "### Description of the dataset\n",
    "\n",
    ">The two datasets are related to red and white variants of the Portuguese \"Vinho Verde\" wine. Due to privacy and logistic issues, only physicochemical (inputs) and sensory (the output) variables are available (e.g. there is no data about grape types, wine brand, wine selling price, etc.). \n",
    "\n",
    "**Source:**\n",
    ">Paulo Cortez, University of Minho, Guimarães, Portugal, http://www3.dsi.uminho.pt/pcortez \n",
    "A. Cerdeira, F. Almeida, T. Matos and J. Reis, Viticulture Commission of the Vinho Verde Region(CVRVV), Porto, Portugal \n",
    "@2009\n",
    "\n",
    "### Attribute Information\n",
    "\n",
    "Input variables (based on physicochemical tests): \n",
    "+ fixed acidity \n",
    "+ volatile acidity \n",
    "+ citric acid \n",
    "+ residual sugar \n",
    "+ chlorides \n",
    "+ free sulfur dioxide \n",
    "+ total sulfur dioxide \n",
    "+ density \n",
    "+ pH \n",
    "+ sulphates \n",
    "+ alcohol \n",
    "+ quality (score between 0 and 10)\n",
    "+ **Color: red or white: this our target variable which we will add to the data**\n"
   ]
  },
  {
   "cell_type": "markdown",
   "metadata": {},
   "source": [
    "# 2: Data Processing"
   ]
  },
  {
   "cell_type": "code",
   "execution_count": 87,
   "metadata": {
    "collapsed": false
   },
   "outputs": [],
   "source": [
    "#Import Libraries\n",
    "import seaborn as sns\n",
    "import numpy as np\n",
    "import pandas as pd\n",
    "import matplotlib.pyplot as plt\n",
    "import seaborn as sns\n",
    "import keras\n",
    "import sklearn\n",
    "from sklearn.preprocessing import *\n",
    "from sklearn.cross_validation import *\n",
    "from sklearn.metrics import *\n",
    "from sklearn.cluster import *\n",
    "from pandas.tools.plotting import *\n",
    "%matplotlib inline\n",
    "import random"
   ]
  },
  {
   "cell_type": "code",
   "execution_count": 57,
   "metadata": {
    "collapsed": false
   },
   "outputs": [],
   "source": [
    "#set plotting context\n",
    "sns.set(context='paper', style='dark', palette='husl', font='sans-serif')"
   ]
  },
  {
   "cell_type": "code",
   "execution_count": 3,
   "metadata": {
    "collapsed": true
   },
   "outputs": [],
   "source": [
    "#for reproducibility\n",
    "random.seed(11111111111111111111111111111)"
   ]
  },
  {
   "cell_type": "markdown",
   "metadata": {},
   "source": [
    "# Import data"
   ]
  },
  {
   "cell_type": "code",
   "execution_count": 4,
   "metadata": {
    "collapsed": true
   },
   "outputs": [],
   "source": [
    "red = pd.io.parsers.read_csv('https://archive.ics.uci.edu/ml/machine-learning-databases/wine-quality/winequality-red.csv',\\\n",
    "                            delimiter=';')\n",
    "white = pd.io.parsers.read_csv('https://archive.ics.uci.edu/ml/machine-learning-databases/wine-quality/winequality-white.csv',\\\n",
    "                            delimiter=';')"
   ]
  },
  {
   "cell_type": "code",
   "execution_count": 5,
   "metadata": {
    "collapsed": false
   },
   "outputs": [],
   "source": [
    "#Add class labels\n",
    "red[\"Color\"] = 0\n",
    "white[\"Color\"] = 1"
   ]
  },
  {
   "cell_type": "code",
   "execution_count": 47,
   "metadata": {
    "collapsed": true
   },
   "outputs": [
    {
     "name": "stdout",
     "output_type": "stream",
     "text": [
      "Data after merging \n",
      "    fixed acidity  volatile acidity  citric acid  residual sugar  chlorides  \\\n",
      "0            7.4              0.70         0.00             1.9      0.076   \n",
      "1            7.8              0.88         0.00             2.6      0.098   \n",
      "2            7.8              0.76         0.04             2.3      0.092   \n",
      "3           11.2              0.28         0.56             1.9      0.075   \n",
      "4            7.4              0.70         0.00             1.9      0.076   \n",
      "\n",
      "   free sulfur dioxide  total sulfur dioxide  density    pH  sulphates  \\\n",
      "0                   11                    34   0.9978  3.51       0.56   \n",
      "1                   25                    67   0.9968  3.20       0.68   \n",
      "2                   15                    54   0.9970  3.26       0.65   \n",
      "3                   17                    60   0.9980  3.16       0.58   \n",
      "4                   11                    34   0.9978  3.51       0.56   \n",
      "\n",
      "   alcohol  quality  Color  \n",
      "0      9.4        5      0  \n",
      "1      9.8        5      0  \n",
      "2      9.8        5      0  \n",
      "3      9.8        6      0  \n",
      "4      9.4        5      0  \n",
      "Total Samples:  6497\n",
      "Total Columns:  13\n"
     ]
    }
   ],
   "source": [
    "#join both datasets together\n",
    "data =  pd.concat([red,white])\n",
    "print('Data after merging \\n',data.head())\n",
    "print('Total Samples: ', data.shape[0])\n",
    "print('Total Columns: ', data.shape[1])"
   ]
  },
  {
   "cell_type": "code",
   "execution_count": 51,
   "metadata": {
    "collapsed": false
   },
   "outputs": [],
   "source": [
    "#Shuffle df\n",
    "data = data.iloc[np.random.permutation(len(data))]"
   ]
  },
  {
   "cell_type": "code",
   "execution_count": 52,
   "metadata": {
    "collapsed": false
   },
   "outputs": [],
   "source": [
    "#Reset index \n",
    "data.reset_index(level = 0, inplace = True)"
   ]
  },
  {
   "cell_type": "code",
   "execution_count": 53,
   "metadata": {
    "collapsed": false
   },
   "outputs": [],
   "source": [
    "#Drop old index (not needed column)\n",
    "data = data.drop('index', axis = 1)"
   ]
  },
  {
   "cell_type": "code",
   "execution_count": 54,
   "metadata": {
    "collapsed": false
   },
   "outputs": [
    {
     "data": {
      "text/html": [
       "<div>\n",
       "<table border=\"1\" class=\"dataframe\">\n",
       "  <thead>\n",
       "    <tr style=\"text-align: right;\">\n",
       "      <th></th>\n",
       "      <th>fixed acidity</th>\n",
       "      <th>volatile acidity</th>\n",
       "      <th>citric acid</th>\n",
       "      <th>residual sugar</th>\n",
       "      <th>chlorides</th>\n",
       "      <th>free sulfur dioxide</th>\n",
       "      <th>total sulfur dioxide</th>\n",
       "      <th>density</th>\n",
       "      <th>pH</th>\n",
       "      <th>sulphates</th>\n",
       "      <th>alcohol</th>\n",
       "      <th>quality</th>\n",
       "      <th>Color</th>\n",
       "    </tr>\n",
       "  </thead>\n",
       "  <tbody>\n",
       "    <tr>\n",
       "      <th>0</th>\n",
       "      <td>6.6</td>\n",
       "      <td>0.25</td>\n",
       "      <td>0.41</td>\n",
       "      <td>7.4</td>\n",
       "      <td>0.043</td>\n",
       "      <td>29</td>\n",
       "      <td>151</td>\n",
       "      <td>0.99460</td>\n",
       "      <td>3.15</td>\n",
       "      <td>0.60</td>\n",
       "      <td>10.20</td>\n",
       "      <td>7</td>\n",
       "      <td>1</td>\n",
       "    </tr>\n",
       "    <tr>\n",
       "      <th>1</th>\n",
       "      <td>5.9</td>\n",
       "      <td>0.22</td>\n",
       "      <td>0.30</td>\n",
       "      <td>1.3</td>\n",
       "      <td>0.052</td>\n",
       "      <td>42</td>\n",
       "      <td>86</td>\n",
       "      <td>0.99069</td>\n",
       "      <td>3.31</td>\n",
       "      <td>0.47</td>\n",
       "      <td>11.55</td>\n",
       "      <td>6</td>\n",
       "      <td>1</td>\n",
       "    </tr>\n",
       "    <tr>\n",
       "      <th>2</th>\n",
       "      <td>6.8</td>\n",
       "      <td>0.26</td>\n",
       "      <td>0.34</td>\n",
       "      <td>13.9</td>\n",
       "      <td>0.034</td>\n",
       "      <td>39</td>\n",
       "      <td>134</td>\n",
       "      <td>0.99490</td>\n",
       "      <td>3.33</td>\n",
       "      <td>0.53</td>\n",
       "      <td>12.00</td>\n",
       "      <td>6</td>\n",
       "      <td>1</td>\n",
       "    </tr>\n",
       "    <tr>\n",
       "      <th>3</th>\n",
       "      <td>6.0</td>\n",
       "      <td>0.32</td>\n",
       "      <td>0.32</td>\n",
       "      <td>4.8</td>\n",
       "      <td>0.041</td>\n",
       "      <td>40</td>\n",
       "      <td>186</td>\n",
       "      <td>0.99235</td>\n",
       "      <td>3.22</td>\n",
       "      <td>0.54</td>\n",
       "      <td>11.00</td>\n",
       "      <td>6</td>\n",
       "      <td>1</td>\n",
       "    </tr>\n",
       "    <tr>\n",
       "      <th>4</th>\n",
       "      <td>6.7</td>\n",
       "      <td>0.18</td>\n",
       "      <td>0.28</td>\n",
       "      <td>10.2</td>\n",
       "      <td>0.039</td>\n",
       "      <td>29</td>\n",
       "      <td>115</td>\n",
       "      <td>0.99469</td>\n",
       "      <td>3.11</td>\n",
       "      <td>0.45</td>\n",
       "      <td>10.90</td>\n",
       "      <td>7</td>\n",
       "      <td>1</td>\n",
       "    </tr>\n",
       "  </tbody>\n",
       "</table>\n",
       "</div>"
      ],
      "text/plain": [
       "   fixed acidity  volatile acidity  citric acid  residual sugar  chlorides  \\\n",
       "0            6.6              0.25         0.41             7.4      0.043   \n",
       "1            5.9              0.22         0.30             1.3      0.052   \n",
       "2            6.8              0.26         0.34            13.9      0.034   \n",
       "3            6.0              0.32         0.32             4.8      0.041   \n",
       "4            6.7              0.18         0.28            10.2      0.039   \n",
       "\n",
       "   free sulfur dioxide  total sulfur dioxide  density    pH  sulphates  \\\n",
       "0                   29                   151  0.99460  3.15       0.60   \n",
       "1                   42                    86  0.99069  3.31       0.47   \n",
       "2                   39                   134  0.99490  3.33       0.53   \n",
       "3                   40                   186  0.99235  3.22       0.54   \n",
       "4                   29                   115  0.99469  3.11       0.45   \n",
       "\n",
       "   alcohol  quality  Color  \n",
       "0    10.20        7      1  \n",
       "1    11.55        6      1  \n",
       "2    12.00        6      1  \n",
       "3    11.00        6      1  \n",
       "4    10.90        7      1  "
      ]
     },
     "execution_count": 54,
     "metadata": {},
     "output_type": "execute_result"
    }
   ],
   "source": [
    "data.head()"
   ]
  },
  {
   "cell_type": "code",
   "execution_count": 58,
   "metadata": {
    "collapsed": false,
    "scrolled": false
   },
   "outputs": [
    {
     "data": {
      "image/png": "[encoded data removed]",
      "text/plain": [
       "<matplotlib.figure.Figure at 0x7f5734984b00>"
      ]
     },
     "metadata": {},
     "output_type": "display_data"
    }
   ],
   "source": [
    "cmap = sns.cubehelix_palette(as_cmap=True, rot=-.3, light=1)\n",
    "#with column wise standardization\n",
    "clust = sns.clustermap(data.corr(), metric='cosine', cmap=cmap, linewidths=1, standard_scale=1,\n",
    "                      row_cluster=False)\n"
   ]
  },
  {
   "cell_type": "code",
   "execution_count": 56,
   "metadata": {
    "collapsed": false
   },
   "outputs": [
    {
     "data": {
      "text/plain": [
       "[8, 1, 4, 9, 0, 7, 10, 11, 2, 3, 12, 5, 6]"
      ]
     },
     "execution_count": 56,
     "metadata": {},
     "output_type": "execute_result"
    }
   ],
   "source": [
    "clust.dendrogram_col.reordered_ind"
   ]
  },
  {
   "cell_type": "code",
   "execution_count": 59,
   "metadata": {
    "collapsed": true
   },
   "outputs": [],
   "source": [
    "import time\n",
    "from sklearn import cluster, datasets\n",
    "from sklearn.neighbors import kneighbors_graph\n",
    "from sklearn.preprocessing import StandardScaler\n"
   ]
  },
  {
   "cell_type": "markdown",
   "metadata": {},
   "source": [
    "There is an issue with scale in the data so we will scale it to remove its effects"
   ]
  },
  {
   "cell_type": "code",
   "execution_count": 61,
   "metadata": {
    "collapsed": true
   },
   "outputs": [],
   "source": [
    "from sklearn.preprocessing import StandardScaler\n"
   ]
  },
  {
   "cell_type": "code",
   "execution_count": 101,
   "metadata": {
    "collapsed": false
   },
   "outputs": [
    {
     "data": {
      "text/plain": [
       "['fixed acidity',\n",
       " 'volatile acidity',\n",
       " 'citric acid',\n",
       " 'residual sugar',\n",
       " 'chlorides',\n",
       " 'free sulfur dioxide',\n",
       " 'total sulfur dioxide',\n",
       " 'density',\n",
       " 'pH',\n",
       " 'sulphates',\n",
       " 'alcohol']"
      ]
     },
     "execution_count": 101,
     "metadata": {},
     "output_type": "execute_result"
    }
   ],
   "source": [
    "colnames =list(data)\n",
    "colnames[:-2]"
   ]
  },
  {
   "cell_type": "code",
   "execution_count": 102,
   "metadata": {
    "collapsed": false
   },
   "outputs": [],
   "source": [
    "feat= data[colnames[:-1]]\n",
    "feat = StandardScaler().fit_transform(feat)"
   ]
  },
  {
   "cell_type": "code",
   "execution_count": 103,
   "metadata": {
    "collapsed": false,
    "scrolled": true
   },
   "outputs": [
    {
     "data": {
      "text/plain": [
       "0       7\n",
       "1       6\n",
       "2       6\n",
       "3       6\n",
       "4       7\n",
       "5       6\n",
       "6       6\n",
       "7       6\n",
       "8       6\n",
       "9       6\n",
       "10      5\n",
       "11      6\n",
       "12      5\n",
       "13      6\n",
       "14      7\n",
       "15      6\n",
       "16      7\n",
       "17      7\n",
       "18      6\n",
       "19      7\n",
       "20      5\n",
       "21      6\n",
       "22      6\n",
       "23      5\n",
       "24      5\n",
       "25      5\n",
       "26      4\n",
       "27      6\n",
       "28      6\n",
       "29      6\n",
       "       ..\n",
       "6467    5\n",
       "6468    6\n",
       "6469    6\n",
       "6470    6\n",
       "6471    5\n",
       "6472    6\n",
       "6473    5\n",
       "6474    5\n",
       "6475    6\n",
       "6476    5\n",
       "6477    6\n",
       "6478    6\n",
       "6479    6\n",
       "6480    6\n",
       "6481    6\n",
       "6482    5\n",
       "6483    6\n",
       "6484    4\n",
       "6485    5\n",
       "6486    6\n",
       "6487    6\n",
       "6488    7\n",
       "6489    6\n",
       "6490    6\n",
       "6491    5\n",
       "6492    5\n",
       "6493    6\n",
       "6494    6\n",
       "6495    5\n",
       "6496    6\n",
       "Name: quality, dtype: int64"
      ]
     },
     "execution_count": 103,
     "metadata": {},
     "output_type": "execute_result"
    }
   ],
   "source": [
    "labels = data[colnames[11]]\n",
    "labels"
   ]
  },
  {
   "cell_type": "code",
   "execution_count": 104,
   "metadata": {
    "collapsed": false
   },
   "outputs": [
    {
     "data": {
      "text/plain": [
       "<matplotlib.axes._subplots.AxesSubplot at 0x7f57306761d0>"
      ]
     },
     "execution_count": 104,
     "metadata": {},
     "output_type": "execute_result"
    },
    {
     "data": {
      "image/png": "[encoded data removed]",
      "text/plain": [
       "<matplotlib.figure.Figure at 0x7f5730685ba8>"
      ]
     },
     "metadata": {},
     "output_type": "display_data"
    }
   ],
   "source": [
    "sns.violinplot(feat, orient=\"h\")"
   ]
  },
  {
   "cell_type": "code",
   "execution_count": 105,
   "metadata": {
    "collapsed": false
   },
   "outputs": [],
   "source": [
    "# Compute DBSCAN\n",
    "db = DBSCAN(eps=0.3, min_samples=10).fit(feat)\n",
    "labels_db = db.labels_"
   ]
  },
  {
   "cell_type": "code",
   "execution_count": 106,
   "metadata": {
    "collapsed": false
   },
   "outputs": [
    {
     "name": "stderr",
     "output_type": "stream",
     "text": [
      "/home/arshad/anaconda3/lib/python3.5/site-packages/sklearn/metrics/cluster/unsupervised.py:193: FutureWarning: in the future, boolean array-likes will be handled as a boolean array index\n",
      "  a = np.mean(distances_row[mask])\n",
      "/home/arshad/anaconda3/lib/python3.5/site-packages/sklearn/metrics/cluster/unsupervised.py:219: FutureWarning: in the future, boolean array-likes will be handled as a boolean array index\n",
      "  for cur_label in set(labels) if not cur_label == label])\n"
     ]
    },
    {
     "name": "stdout",
     "output_type": "stream",
     "text": [
      "Estimated number of clusters: 7\n",
      "Homogeneity: 1.000\n",
      "Completeness: -0.000\n",
      "V-measure: -0.000\n",
      "Adjusted Rand Index: 0.000\n",
      "Adjusted Mutual Information: -0.000\n",
      "Silhouette Coefficient: -0.051\n"
     ]
    }
   ],
   "source": [
    "from sklearn import metrics\n",
    "\n",
    "# Number of clusters in labels, ignoring noise if present.\n",
    "n_clusters_ = len(set(labels)) - (1 if -1 in labels else 0)\n",
    "\n",
    "print('Estimated number of clusters: %d' % n_clusters_)\n",
    "print(\"Homogeneity: %0.3f\" % metrics.homogeneity_score(labels_db, labels))\n",
    "print(\"Completeness: %0.3f\" % metrics.completeness_score(labels_db, labels))\n",
    "print(\"V-measure: %0.3f\" % metrics.v_measure_score(labels_db, labels))\n",
    "print(\"Adjusted Rand Index: %0.3f\"\n",
    "      % metrics.adjusted_rand_score(labels_db, labels))\n",
    "print(\"Adjusted Mutual Information: %0.3f\"\n",
    "      % metrics.adjusted_mutual_info_score(labels_db, labels))\n",
    "print(\"Silhouette Coefficient: %0.3f\"\n",
    "      % metrics.silhouette_score(feat, labels))"
   ]
  },
  {
   "cell_type": "code",
   "execution_count": 107,
   "metadata": {
    "collapsed": false
   },
   "outputs": [
    {
     "name": "stderr",
     "output_type": "stream",
     "text": [
      "/home/arshad/anaconda3/lib/python3.5/site-packages/ipykernel/__main__.py:11: FutureWarning: in the future, boolean array-likes will be handled as a boolean array index\n",
      "/home/arshad/anaconda3/lib/python3.5/site-packages/matplotlib/lines.py:1106: FutureWarning: elementwise comparison failed; returning scalar instead, but in the future will perform elementwise comparison\n",
      "  if self._markerfacecolor != fc:\n",
      "/home/arshad/anaconda3/lib/python3.5/site-packages/ipykernel/__main__.py:15: FutureWarning: in the future, boolean array-likes will be handled as a boolean array index\n"
     ]
    },
    {
     "data": {
      "image/png": "[encoded data removed]",
      "text/plain": [
       "<matplotlib.figure.Figure at 0x7f5730563518>"
      ]
     },
     "metadata": {},
     "output_type": "display_data"
    }
   ],
   "source": [
    "# Black removed and is used for noise instead.\n",
    "unique_labels = set(labels)\n",
    "colors = plt.cm.Spectral(np.linspace(0, 1, len(unique_labels)))\n",
    "for k, col in zip(unique_labels, colors):\n",
    "    if k == -1:\n",
    "        # Black used for noise.\n",
    "        col = 'k'\n",
    "\n",
    "    class_member_mask = (labels == k)\n",
    "\n",
    "    xy = feat[class_member_mask & core_samples_mask]\n",
    "    plt.plot(xy[:, 0], xy[:, 1], 'o', markerfacecolor=col,\n",
    "             markeredgecolor='k', markersize=14)\n",
    "\n",
    "    xy = feat[class_member_mask & ~core_samples_mask]\n",
    "    plt.plot(xy[:, 0], xy[:, 1], 'o', markerfacecolor=col,\n",
    "             markeredgecolor='k', markersize=6)\n",
    "\n",
    "plt.title('Estimated number of clusters: %d' % n_clusters_)\n",
    "plt.show()"
   ]
  },
  {
   "cell_type": "code",
   "execution_count": null,
   "metadata": {
    "collapsed": true
   },
   "outputs": [],
   "source": []
  }
 ],
 "metadata": {
  "kernelspec": {
   "display_name": "Python 3",
   "language": "python",
   "name": "python3"
  },
  "language_info": {
   "codemirror_mode": {
    "name": "ipython",
    "version": 3
   },
   "file_extension": ".py",
   "mimetype": "text/x-python",
   "name": "python",
   "nbconvert_exporter": "python",
   "pygments_lexer": "ipython3",
   "version": "3.5.1"
  }
 },
 "nbformat": 4,
 "nbformat_minor": 0
}

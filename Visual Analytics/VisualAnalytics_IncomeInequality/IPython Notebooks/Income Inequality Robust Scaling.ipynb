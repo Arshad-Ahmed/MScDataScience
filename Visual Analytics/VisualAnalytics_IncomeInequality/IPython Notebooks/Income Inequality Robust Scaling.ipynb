{
 "cells": [
  {
   "cell_type": "markdown",
   "metadata": {
    "hide_input": false,
    "run_control": {
     "marked": true
    }
   },
   "source": [
    "# Table of Contents\n",
    "* [World Bank Data Analysis: Income Inequality](#World-Bank-Data-Analysis:-Income-Inequality)\n",
    "* [Selected Indices from 1980-2010](#Selected-Indices-from-1980-2010)\n",
    "* [Exploratory Analysis](#Exploratory-Analysis)\n",
    "\t* [Clean up aggregates](#Clean-up-aggregates)\n",
    "\t* [Percentage Change](#Percentage-Change)\n",
    "* [Scale Data](#Scale-Data)\n",
    "* [Merge Data](#Merge-Data)\n",
    "* [Output to Excel](#Output-to-Excel)\n"
   ]
  },
  {
   "cell_type": "markdown",
   "metadata": {
    "hide_input": false,
    "run_control": {
     "marked": true
    }
   },
   "source": [
    "# World Bank Data Analysis: Income Inequality"
   ]
  },
  {
   "cell_type": "markdown",
   "metadata": {
    "hide_input": false,
    "run_control": {
     "marked": true
    }
   },
   "source": [
    "---"
   ]
  },
  {
   "cell_type": "code",
   "execution_count": 1,
   "metadata": {
    "ExecuteTime": {
     "end_time": "2016-04-02T22:06:47.549690",
     "start_time": "2016-04-02T22:06:47.535679"
    },
    "collapsed": false,
    "hide_input": false,
    "nbpresent": {
     "id": "d60a014c-4aba-4aaa-832d-1f3c7ad82cf3"
    },
    "run_control": {
     "marked": true
    },
    "slideshow": {
     "slide_type": "skip"
    }
   },
   "outputs": [],
   "source": [
    "import pandas as pd\n",
    "import numpy as np\n",
    "import seaborn as sns\n",
    "import folium \n",
    "import mplleaflet\n",
    "from pandas_datareader import data, wb\n",
    "import matplotlib.pyplot as plt\n",
    "%matplotlib inline\n",
    "plt.style.use('fivethirtyeight')\n",
    "sns.set(style=\"whitegrid\", color_codes=True)"
   ]
  },
  {
   "cell_type": "markdown",
   "metadata": {
    "hide_input": false,
    "run_control": {
     "marked": true
    }
   },
   "source": [
    "# Selected Indices from 1980-2010"
   ]
  },
  {
   "cell_type": "markdown",
   "metadata": {
    "hide_input": false,
    "run_control": {
     "marked": true
    }
   },
   "source": [
    "+ GDP\n",
    "+ Income Percentage held by top 10%\n",
    "+ Total Population"
   ]
  },
  {
   "cell_type": "code",
   "execution_count": 2,
   "metadata": {
    "ExecuteTime": {
     "end_time": "2016-04-02T18:58:42.448476",
     "start_time": "2016-04-02T18:58:42.388437"
    },
    "collapsed": false,
    "hide_input": false,
    "run_control": {
     "marked": true
    }
   },
   "outputs": [],
   "source": [
    "ind = ['NY.GDP.MKTP.KN','SI.DST.10TH.10', 'SP.POP.TOTL']\n",
    "ind_name = ['gdp','income_10pc','pop']"
   ]
  },
  {
   "cell_type": "code",
   "execution_count": 3,
   "metadata": {
    "ExecuteTime": {
     "end_time": "2016-04-02T22:46:13.039417",
     "start_time": "2016-04-02T22:46:00.139196"
    },
    "collapsed": false,
    "hide_input": false,
    "run_control": {
     "marked": true
    },
    "scrolled": true
   },
   "outputs": [
    {
     "data": {
      "text/html": [
       "<div>\n",
       "<table border=\"1\" class=\"dataframe\">\n",
       "  <thead>\n",
       "    <tr style=\"text-align: right;\">\n",
       "      <th></th>\n",
       "      <th></th>\n",
       "      <th>gdp</th>\n",
       "      <th>income_10pc</th>\n",
       "      <th>pop</th>\n",
       "    </tr>\n",
       "    <tr>\n",
       "      <th>country</th>\n",
       "      <th>year</th>\n",
       "      <th></th>\n",
       "      <th></th>\n",
       "      <th></th>\n",
       "    </tr>\n",
       "  </thead>\n",
       "  <tbody>\n",
       "    <tr>\n",
       "      <th rowspan=\"10\" valign=\"top\">Zimbabwe</th>\n",
       "      <th>1989</th>\n",
       "      <td>1.158729e+10</td>\n",
       "      <td>0.0</td>\n",
       "      <td>10184966.0</td>\n",
       "    </tr>\n",
       "    <tr>\n",
       "      <th>1988</th>\n",
       "      <td>1.101456e+10</td>\n",
       "      <td>0.0</td>\n",
       "      <td>9866776.0</td>\n",
       "    </tr>\n",
       "    <tr>\n",
       "      <th>1987</th>\n",
       "      <td>1.024111e+10</td>\n",
       "      <td>0.0</td>\n",
       "      <td>9535657.0</td>\n",
       "    </tr>\n",
       "    <tr>\n",
       "      <th>1986</th>\n",
       "      <td>1.012461e+10</td>\n",
       "      <td>0.0</td>\n",
       "      <td>9198874.0</td>\n",
       "    </tr>\n",
       "    <tr>\n",
       "      <th>1985</th>\n",
       "      <td>9.916456e+09</td>\n",
       "      <td>0.0</td>\n",
       "      <td>8862601.0</td>\n",
       "    </tr>\n",
       "    <tr>\n",
       "      <th>1984</th>\n",
       "      <td>9.272535e+09</td>\n",
       "      <td>0.0</td>\n",
       "      <td>8528328.0</td>\n",
       "    </tr>\n",
       "    <tr>\n",
       "      <th>1983</th>\n",
       "      <td>9.452835e+09</td>\n",
       "      <td>0.0</td>\n",
       "      <td>8197564.0</td>\n",
       "    </tr>\n",
       "    <tr>\n",
       "      <th>1982</th>\n",
       "      <td>9.305317e+09</td>\n",
       "      <td>0.0</td>\n",
       "      <td>7876414.0</td>\n",
       "    </tr>\n",
       "    <tr>\n",
       "      <th>1981</th>\n",
       "      <td>9.066479e+09</td>\n",
       "      <td>0.0</td>\n",
       "      <td>7571965.0</td>\n",
       "    </tr>\n",
       "    <tr>\n",
       "      <th>1980</th>\n",
       "      <td>8.057272e+09</td>\n",
       "      <td>0.0</td>\n",
       "      <td>7289083.0</td>\n",
       "    </tr>\n",
       "  </tbody>\n",
       "</table>\n",
       "</div>"
      ],
      "text/plain": [
       "                        gdp  income_10pc         pop\n",
       "country  year                                       \n",
       "Zimbabwe 1989  1.158729e+10          0.0  10184966.0\n",
       "         1988  1.101456e+10          0.0   9866776.0\n",
       "         1987  1.024111e+10          0.0   9535657.0\n",
       "         1986  1.012461e+10          0.0   9198874.0\n",
       "         1985  9.916456e+09          0.0   8862601.0\n",
       "         1984  9.272535e+09          0.0   8528328.0\n",
       "         1983  9.452835e+09          0.0   8197564.0\n",
       "         1982  9.305317e+09          0.0   7876414.0\n",
       "         1981  9.066479e+09          0.0   7571965.0\n",
       "         1980  8.057272e+09          0.0   7289083.0"
      ]
     },
     "execution_count": 3,
     "metadata": {},
     "output_type": "execute_result"
    }
   ],
   "source": [
    "dat = wb.download(indicator=ind, country='all', start=1980, end=2010).fillna(0)\n",
    "dat.columns = ind_name\n",
    "dat.tail(10)"
   ]
  },
  {
   "cell_type": "code",
   "execution_count": 4,
   "metadata": {
    "collapsed": false,
    "hide_input": false,
    "run_control": {
     "marked": true
    }
   },
   "outputs": [
    {
     "data": {
      "text/plain": [
       "7688"
      ]
     },
     "execution_count": 4,
     "metadata": {},
     "output_type": "execute_result"
    }
   ],
   "source": [
    "len(dat)"
   ]
  },
  {
   "cell_type": "markdown",
   "metadata": {
    "hide_input": false,
    "run_control": {
     "marked": true
    }
   },
   "source": [
    "# Exploratory Analysis"
   ]
  },
  {
   "cell_type": "markdown",
   "metadata": {
    "hide_input": false,
    "run_control": {
     "marked": true
    }
   },
   "source": [
    "## Clean up aggregates"
   ]
  },
  {
   "cell_type": "code",
   "execution_count": 5,
   "metadata": {
    "ExecuteTime": {
     "end_time": "2016-04-02T22:57:18.175699",
     "start_time": "2016-04-02T22:57:18.165695"
    },
    "collapsed": false,
    "hide_input": false,
    "run_control": {
     "marked": true
    }
   },
   "outputs": [],
   "source": [
    "dat_01 = dat.reset_index()"
   ]
  },
  {
   "cell_type": "code",
   "execution_count": 6,
   "metadata": {
    "ExecuteTime": {
     "end_time": "2016-04-02T22:57:18.811098",
     "start_time": "2016-04-02T22:57:18.805097"
    },
    "collapsed": false,
    "hide_input": false,
    "run_control": {
     "marked": true
    }
   },
   "outputs": [],
   "source": [
    "country_name = dat_01['country'].unique()\n",
    "country_name = country_name[34:]"
   ]
  },
  {
   "cell_type": "code",
   "execution_count": 7,
   "metadata": {
    "ExecuteTime": {
     "end_time": "2016-04-02T22:57:20.280000",
     "start_time": "2016-04-02T22:57:20.251982"
    },
    "collapsed": false,
    "hide_input": false,
    "run_control": {
     "marked": true
    },
    "scrolled": true
   },
   "outputs": [
    {
     "data": {
      "text/html": [
       "<div>\n",
       "<table border=\"1\" class=\"dataframe\">\n",
       "  <thead>\n",
       "    <tr style=\"text-align: right;\">\n",
       "      <th></th>\n",
       "      <th>country</th>\n",
       "      <th>year</th>\n",
       "      <th>gdp</th>\n",
       "      <th>income_10pc</th>\n",
       "      <th>pop</th>\n",
       "    </tr>\n",
       "  </thead>\n",
       "  <tbody>\n",
       "    <tr>\n",
       "      <th>1054</th>\n",
       "      <td>Afghanistan</td>\n",
       "      <td>2010</td>\n",
       "      <td>3.688652e+11</td>\n",
       "      <td>0.0</td>\n",
       "      <td>27962207.0</td>\n",
       "    </tr>\n",
       "    <tr>\n",
       "      <th>1055</th>\n",
       "      <td>Afghanistan</td>\n",
       "      <td>2009</td>\n",
       "      <td>3.401770e+11</td>\n",
       "      <td>0.0</td>\n",
       "      <td>27207291.0</td>\n",
       "    </tr>\n",
       "    <tr>\n",
       "      <th>1056</th>\n",
       "      <td>Afghanistan</td>\n",
       "      <td>2008</td>\n",
       "      <td>2.810901e+11</td>\n",
       "      <td>0.0</td>\n",
       "      <td>26528741.0</td>\n",
       "    </tr>\n",
       "    <tr>\n",
       "      <th>1057</th>\n",
       "      <td>Afghanistan</td>\n",
       "      <td>2007</td>\n",
       "      <td>2.712927e+11</td>\n",
       "      <td>0.0</td>\n",
       "      <td>25877544.0</td>\n",
       "    </tr>\n",
       "    <tr>\n",
       "      <th>1058</th>\n",
       "      <td>Afghanistan</td>\n",
       "      <td>2006</td>\n",
       "      <td>2.385196e+11</td>\n",
       "      <td>0.0</td>\n",
       "      <td>25183615.0</td>\n",
       "    </tr>\n",
       "  </tbody>\n",
       "</table>\n",
       "</div>"
      ],
      "text/plain": [
       "          country  year           gdp  income_10pc         pop\n",
       "1054  Afghanistan  2010  3.688652e+11          0.0  27962207.0\n",
       "1055  Afghanistan  2009  3.401770e+11          0.0  27207291.0\n",
       "1056  Afghanistan  2008  2.810901e+11          0.0  26528741.0\n",
       "1057  Afghanistan  2007  2.712927e+11          0.0  25877544.0\n",
       "1058  Afghanistan  2006  2.385196e+11          0.0  25183615.0"
      ]
     },
     "execution_count": 7,
     "metadata": {},
     "output_type": "execute_result"
    }
   ],
   "source": [
    "todrop = dat_01['country'].isin(country_name)\n",
    "dat_01 = dat_01[todrop]\n",
    "dat_01.head()"
   ]
  },
  {
   "cell_type": "markdown",
   "metadata": {
    "hide_input": false,
    "run_control": {
     "marked": true
    }
   },
   "source": [
    "## Percentage Change "
   ]
  },
  {
   "cell_type": "code",
   "execution_count": 8,
   "metadata": {
    "collapsed": false,
    "hide_input": false,
    "run_control": {
     "marked": true
    }
   },
   "outputs": [
    {
     "data": {
      "text/html": [
       "<div>\n",
       "<table border=\"1\" class=\"dataframe\">\n",
       "  <thead>\n",
       "    <tr style=\"text-align: right;\">\n",
       "      <th></th>\n",
       "      <th>country</th>\n",
       "      <th>year</th>\n",
       "      <th>gdp_pctchg_10</th>\n",
       "      <th>inc_pctchg_10</th>\n",
       "      <th>pop_pctchg_10</th>\n",
       "    </tr>\n",
       "  </thead>\n",
       "  <tbody>\n",
       "    <tr>\n",
       "      <th>1054</th>\n",
       "      <td>Afghanistan</td>\n",
       "      <td>2010</td>\n",
       "      <td>0.0</td>\n",
       "      <td>0.0</td>\n",
       "      <td>-0.994615</td>\n",
       "    </tr>\n",
       "    <tr>\n",
       "      <th>1055</th>\n",
       "      <td>Afghanistan</td>\n",
       "      <td>2009</td>\n",
       "      <td>0.0</td>\n",
       "      <td>0.0</td>\n",
       "      <td>-0.994669</td>\n",
       "    </tr>\n",
       "    <tr>\n",
       "      <th>1056</th>\n",
       "      <td>Afghanistan</td>\n",
       "      <td>2008</td>\n",
       "      <td>0.0</td>\n",
       "      <td>0.0</td>\n",
       "      <td>-0.994710</td>\n",
       "    </tr>\n",
       "    <tr>\n",
       "      <th>1057</th>\n",
       "      <td>Afghanistan</td>\n",
       "      <td>2007</td>\n",
       "      <td>0.0</td>\n",
       "      <td>0.0</td>\n",
       "      <td>-0.994748</td>\n",
       "    </tr>\n",
       "    <tr>\n",
       "      <th>1058</th>\n",
       "      <td>Afghanistan</td>\n",
       "      <td>2006</td>\n",
       "      <td>0.0</td>\n",
       "      <td>0.0</td>\n",
       "      <td>-0.994798</td>\n",
       "    </tr>\n",
       "  </tbody>\n",
       "</table>\n",
       "</div>"
      ],
      "text/plain": [
       "          country  year  gdp_pctchg_10  inc_pctchg_10  pop_pctchg_10\n",
       "1054  Afghanistan  2010            0.0            0.0      -0.994615\n",
       "1055  Afghanistan  2009            0.0            0.0      -0.994669\n",
       "1056  Afghanistan  2008            0.0            0.0      -0.994710\n",
       "1057  Afghanistan  2007            0.0            0.0      -0.994748\n",
       "1058  Afghanistan  2006            0.0            0.0      -0.994798"
      ]
     },
     "execution_count": 8,
     "metadata": {},
     "output_type": "execute_result"
    }
   ],
   "source": [
    "pct_change_10 = dat.pct_change(periods=10).fillna(0)\n",
    "pct_change_10.reset_index(inplace=True)\n",
    "pct_change_10 = pct_change_10[pct_change_10['country'].isin(country_name)]\n",
    "pct_change_10.replace(to_replace=[np.inf,np.nan,-np.inf,np.NaN, np.NAN,np.NINF],value=0, inplace=True)\n",
    "pct_change_10.columns = ['country','year','gdp_pctchg_10', 'inc_pctchg_10','pop_pctchg_10']\n",
    "pct_change_10.head()"
   ]
  },
  {
   "cell_type": "code",
   "execution_count": 9,
   "metadata": {
    "collapsed": false,
    "hide_input": false,
    "run_control": {
     "marked": true
    }
   },
   "outputs": [
    {
     "data": {
      "text/html": [
       "<div>\n",
       "<table border=\"1\" class=\"dataframe\">\n",
       "  <thead>\n",
       "    <tr style=\"text-align: right;\">\n",
       "      <th></th>\n",
       "      <th>country</th>\n",
       "      <th>year</th>\n",
       "      <th>gdp_pctchg_30</th>\n",
       "      <th>inc_pctchg_30</th>\n",
       "      <th>pop_pctchg_30</th>\n",
       "    </tr>\n",
       "  </thead>\n",
       "  <tbody>\n",
       "    <tr>\n",
       "      <th>1054</th>\n",
       "      <td>Afghanistan</td>\n",
       "      <td>2010</td>\n",
       "      <td>0.0</td>\n",
       "      <td>0.0</td>\n",
       "      <td>-0.995913</td>\n",
       "    </tr>\n",
       "    <tr>\n",
       "      <th>1055</th>\n",
       "      <td>Afghanistan</td>\n",
       "      <td>2009</td>\n",
       "      <td>0.0</td>\n",
       "      <td>0.0</td>\n",
       "      <td>-0.995974</td>\n",
       "    </tr>\n",
       "    <tr>\n",
       "      <th>1056</th>\n",
       "      <td>Afghanistan</td>\n",
       "      <td>2008</td>\n",
       "      <td>0.0</td>\n",
       "      <td>0.0</td>\n",
       "      <td>-0.996026</td>\n",
       "    </tr>\n",
       "    <tr>\n",
       "      <th>1057</th>\n",
       "      <td>Afghanistan</td>\n",
       "      <td>2007</td>\n",
       "      <td>0.0</td>\n",
       "      <td>0.0</td>\n",
       "      <td>-0.996076</td>\n",
       "    </tr>\n",
       "    <tr>\n",
       "      <th>1058</th>\n",
       "      <td>Afghanistan</td>\n",
       "      <td>2006</td>\n",
       "      <td>0.0</td>\n",
       "      <td>0.0</td>\n",
       "      <td>-0.996134</td>\n",
       "    </tr>\n",
       "  </tbody>\n",
       "</table>\n",
       "</div>"
      ],
      "text/plain": [
       "          country  year  gdp_pctchg_30  inc_pctchg_30  pop_pctchg_30\n",
       "1054  Afghanistan  2010            0.0            0.0      -0.995913\n",
       "1055  Afghanistan  2009            0.0            0.0      -0.995974\n",
       "1056  Afghanistan  2008            0.0            0.0      -0.996026\n",
       "1057  Afghanistan  2007            0.0            0.0      -0.996076\n",
       "1058  Afghanistan  2006            0.0            0.0      -0.996134"
      ]
     },
     "execution_count": 9,
     "metadata": {},
     "output_type": "execute_result"
    }
   ],
   "source": [
    "pct_change_30 = dat.pct_change(periods=30).fillna(0)\n",
    "pct_change_30.reset_index(inplace=True)\n",
    "pct_change_30 = pct_change_30[pct_change_30['country'].isin(country_name)]\n",
    "pct_change_30.replace(to_replace=[np.inf,np.nan,-np.inf,np.NaN, np.NAN,np.NINF],value=0, inplace=True)\n",
    "pct_change_30.columns = ['country','year','gdp_pctchg_30', 'inc_pctchg_30','pop_pctchg_30']\n",
    "pct_change_30.head()"
   ]
  },
  {
   "cell_type": "code",
   "execution_count": 10,
   "metadata": {
    "collapsed": false,
    "hide_input": false,
    "run_control": {
     "marked": true
    }
   },
   "outputs": [
    {
     "data": {
      "text/plain": [
       "gdp            2.559395e+10\n",
       "income_10pc    0.000000e+00\n",
       "pop            6.270391e+06\n",
       "dtype: float64"
      ]
     },
     "execution_count": 10,
     "metadata": {},
     "output_type": "execute_result"
    }
   ],
   "source": [
    "dat.median()"
   ]
  },
  {
   "cell_type": "code",
   "execution_count": 11,
   "metadata": {
    "collapsed": false,
    "hide_input": false,
    "run_control": {
     "marked": true
    }
   },
   "outputs": [
    {
     "data": {
      "text/plain": [
       "gdp            3.058614e+13\n",
       "income_10pc    4.479376e+00\n",
       "pop            1.585289e+08\n",
       "dtype: float64"
      ]
     },
     "execution_count": 11,
     "metadata": {},
     "output_type": "execute_result"
    }
   ],
   "source": [
    "dat.mean()"
   ]
  },
  {
   "cell_type": "markdown",
   "metadata": {
    "hide_input": false,
    "run_control": {
     "marked": true
    }
   },
   "source": [
    "# Scale Data"
   ]
  },
  {
   "cell_type": "code",
   "execution_count": 12,
   "metadata": {
    "collapsed": true,
    "hide_input": false,
    "run_control": {
     "marked": true
    }
   },
   "outputs": [],
   "source": [
    "from sklearn.preprocessing import *"
   ]
  },
  {
   "cell_type": "code",
   "execution_count": 13,
   "metadata": {
    "collapsed": true,
    "hide_input": false,
    "run_control": {
     "marked": true
    }
   },
   "outputs": [],
   "source": [
    "robust_scaler = RobustScaler()\n",
    "standard_scaler = StandardScaler()\n",
    "maxabs = MaxAbsScaler()"
   ]
  },
  {
   "cell_type": "code",
   "execution_count": 14,
   "metadata": {
    "collapsed": false,
    "hide_input": false,
    "run_control": {
     "marked": true
    }
   },
   "outputs": [
    {
     "name": "stderr",
     "output_type": "stream",
     "text": [
      "C:\\Users\\arsha_000\\Anaconda3\\lib\\site-packages\\sklearn\\preprocessing\\data.py:965: DeprecationWarning: Passing 1d arrays as data is deprecated in 0.17 and will raise ValueError in 0.19. Reshape your data either using X.reshape(-1, 1) if your data has a single feature or X.reshape(1, -1) if it contains a single sample.\n",
      "  warnings.warn(DEPRECATION_MSG_1D, DeprecationWarning)\n",
      "C:\\Users\\arsha_000\\Anaconda3\\lib\\site-packages\\sklearn\\preprocessing\\data.py:987: DeprecationWarning: Passing 1d arrays as data is deprecated in 0.17 and will raise ValueError in 0.19. Reshape your data either using X.reshape(-1, 1) if your data has a single feature or X.reshape(1, -1) if it contains a single sample.\n",
      "  warnings.warn(DEPRECATION_MSG_1D, DeprecationWarning)\n",
      "C:\\Users\\arsha_000\\Anaconda3\\lib\\site-packages\\sklearn\\preprocessing\\data.py:965: DeprecationWarning: Passing 1d arrays as data is deprecated in 0.17 and will raise ValueError in 0.19. Reshape your data either using X.reshape(-1, 1) if your data has a single feature or X.reshape(1, -1) if it contains a single sample.\n",
      "  warnings.warn(DEPRECATION_MSG_1D, DeprecationWarning)\n",
      "C:\\Users\\arsha_000\\Anaconda3\\lib\\site-packages\\sklearn\\preprocessing\\data.py:1011: DeprecationWarning: Passing 1d arrays as data is deprecated in 0.17 and will raise ValueError in 0.19. Reshape your data either using X.reshape(-1, 1) if your data has a single feature or X.reshape(1, -1) if it contains a single sample.\n",
      "  warnings.warn(DEPRECATION_MSG_1D, DeprecationWarning)\n",
      "C:\\Users\\arsha_000\\Anaconda3\\lib\\site-packages\\sklearn\\preprocessing\\data.py:965: DeprecationWarning: Passing 1d arrays as data is deprecated in 0.17 and will raise ValueError in 0.19. Reshape your data either using X.reshape(-1, 1) if your data has a single feature or X.reshape(1, -1) if it contains a single sample.\n",
      "  warnings.warn(DEPRECATION_MSG_1D, DeprecationWarning)\n",
      "C:\\Users\\arsha_000\\Anaconda3\\lib\\site-packages\\sklearn\\preprocessing\\data.py:987: DeprecationWarning: Passing 1d arrays as data is deprecated in 0.17 and will raise ValueError in 0.19. Reshape your data either using X.reshape(-1, 1) if your data has a single feature or X.reshape(1, -1) if it contains a single sample.\n",
      "  warnings.warn(DEPRECATION_MSG_1D, DeprecationWarning)\n",
      "C:\\Users\\arsha_000\\Anaconda3\\lib\\site-packages\\sklearn\\preprocessing\\data.py:965: DeprecationWarning: Passing 1d arrays as data is deprecated in 0.17 and will raise ValueError in 0.19. Reshape your data either using X.reshape(-1, 1) if your data has a single feature or X.reshape(1, -1) if it contains a single sample.\n",
      "  warnings.warn(DEPRECATION_MSG_1D, DeprecationWarning)\n",
      "C:\\Users\\arsha_000\\Anaconda3\\lib\\site-packages\\sklearn\\preprocessing\\data.py:1011: DeprecationWarning: Passing 1d arrays as data is deprecated in 0.17 and will raise ValueError in 0.19. Reshape your data either using X.reshape(-1, 1) if your data has a single feature or X.reshape(1, -1) if it contains a single sample.\n",
      "  warnings.warn(DEPRECATION_MSG_1D, DeprecationWarning)\n",
      "C:\\Users\\arsha_000\\Anaconda3\\lib\\site-packages\\sklearn\\preprocessing\\data.py:965: DeprecationWarning: Passing 1d arrays as data is deprecated in 0.17 and will raise ValueError in 0.19. Reshape your data either using X.reshape(-1, 1) if your data has a single feature or X.reshape(1, -1) if it contains a single sample.\n",
      "  warnings.warn(DEPRECATION_MSG_1D, DeprecationWarning)\n",
      "C:\\Users\\arsha_000\\Anaconda3\\lib\\site-packages\\sklearn\\preprocessing\\data.py:987: DeprecationWarning: Passing 1d arrays as data is deprecated in 0.17 and will raise ValueError in 0.19. Reshape your data either using X.reshape(-1, 1) if your data has a single feature or X.reshape(1, -1) if it contains a single sample.\n",
      "  warnings.warn(DEPRECATION_MSG_1D, DeprecationWarning)\n",
      "C:\\Users\\arsha_000\\Anaconda3\\lib\\site-packages\\sklearn\\preprocessing\\data.py:965: DeprecationWarning: Passing 1d arrays as data is deprecated in 0.17 and will raise ValueError in 0.19. Reshape your data either using X.reshape(-1, 1) if your data has a single feature or X.reshape(1, -1) if it contains a single sample.\n",
      "  warnings.warn(DEPRECATION_MSG_1D, DeprecationWarning)\n",
      "C:\\Users\\arsha_000\\Anaconda3\\lib\\site-packages\\sklearn\\preprocessing\\data.py:1011: DeprecationWarning: Passing 1d arrays as data is deprecated in 0.17 and will raise ValueError in 0.19. Reshape your data either using X.reshape(-1, 1) if your data has a single feature or X.reshape(1, -1) if it contains a single sample.\n",
      "  warnings.warn(DEPRECATION_MSG_1D, DeprecationWarning)\n"
     ]
    }
   ],
   "source": [
    "df_robust_scaled = dat_01.copy()\n",
    "df_robust_scaled['gdp_rs'] = robust_scaler.fit_transform(dat_01['gdp']);\n",
    "df_robust_scaled['inc_rs'] = robust_scaler.fit_transform(dat_01['income_10pc']);\n",
    "df_robust_scaled['pop_rs'] = robust_scaler.fit_transform(dat_01['pop']);\n",
    "df_robust_scaled['inc_gdpPop'] = df_robust_scaled['inc_rs']/(df_robust_scaled['gdp_rs']+df_robust_scaled['pop_rs'])"
   ]
  },
  {
   "cell_type": "code",
   "execution_count": 15,
   "metadata": {
    "collapsed": false
   },
   "outputs": [],
   "source": [
    "df_robust_scaled['inc_gdp'] = df_robust_scaled['inc_rs']/df_robust_scaled['gdp_rs']\n",
    "df_robust_scaled['inc_pop'] = df_robust_scaled['inc_rs']/df_robust_scaled['pop_rs']"
   ]
  },
  {
   "cell_type": "code",
   "execution_count": 16,
   "metadata": {
    "collapsed": true
   },
   "outputs": [],
   "source": [
    "df_robust_scaled.drop(['gdp','income_10pc','pop'], axis=1, inplace=True)"
   ]
  },
  {
   "cell_type": "code",
   "execution_count": 17,
   "metadata": {
    "collapsed": false,
    "hide_input": false,
    "run_control": {
     "marked": true
    },
    "scrolled": true
   },
   "outputs": [
    {
     "data": {
      "text/html": [
       "<div>\n",
       "<table border=\"1\" class=\"dataframe\">\n",
       "  <thead>\n",
       "    <tr style=\"text-align: right;\">\n",
       "      <th></th>\n",
       "      <th>country</th>\n",
       "      <th>year</th>\n",
       "      <th>gdp_rs</th>\n",
       "      <th>inc_rs</th>\n",
       "      <th>pop_rs</th>\n",
       "      <th>inc_gdpPop</th>\n",
       "      <th>inc_gdp</th>\n",
       "      <th>inc_pop</th>\n",
       "    </tr>\n",
       "  </thead>\n",
       "  <tbody>\n",
       "    <tr>\n",
       "      <th>1054</th>\n",
       "      <td>Afghanistan</td>\n",
       "      <td>2010</td>\n",
       "      <td>0.256335</td>\n",
       "      <td>0.0</td>\n",
       "      <td>1.584875</td>\n",
       "      <td>0.0</td>\n",
       "      <td>0.0</td>\n",
       "      <td>0.0</td>\n",
       "    </tr>\n",
       "    <tr>\n",
       "      <th>1055</th>\n",
       "      <td>Afghanistan</td>\n",
       "      <td>2009</td>\n",
       "      <td>0.231228</td>\n",
       "      <td>0.0</td>\n",
       "      <td>1.533607</td>\n",
       "      <td>0.0</td>\n",
       "      <td>0.0</td>\n",
       "      <td>0.0</td>\n",
       "    </tr>\n",
       "    <tr>\n",
       "      <th>1056</th>\n",
       "      <td>Afghanistan</td>\n",
       "      <td>2008</td>\n",
       "      <td>0.179519</td>\n",
       "      <td>0.0</td>\n",
       "      <td>1.487526</td>\n",
       "      <td>0.0</td>\n",
       "      <td>0.0</td>\n",
       "      <td>0.0</td>\n",
       "    </tr>\n",
       "    <tr>\n",
       "      <th>1057</th>\n",
       "      <td>Afghanistan</td>\n",
       "      <td>2007</td>\n",
       "      <td>0.170945</td>\n",
       "      <td>0.0</td>\n",
       "      <td>1.443303</td>\n",
       "      <td>0.0</td>\n",
       "      <td>0.0</td>\n",
       "      <td>0.0</td>\n",
       "    </tr>\n",
       "    <tr>\n",
       "      <th>1058</th>\n",
       "      <td>Afghanistan</td>\n",
       "      <td>2006</td>\n",
       "      <td>0.142263</td>\n",
       "      <td>0.0</td>\n",
       "      <td>1.396177</td>\n",
       "      <td>0.0</td>\n",
       "      <td>0.0</td>\n",
       "      <td>0.0</td>\n",
       "    </tr>\n",
       "  </tbody>\n",
       "</table>\n",
       "</div>"
      ],
      "text/plain": [
       "          country  year    gdp_rs  inc_rs    pop_rs  inc_gdpPop  inc_gdp  \\\n",
       "1054  Afghanistan  2010  0.256335     0.0  1.584875         0.0      0.0   \n",
       "1055  Afghanistan  2009  0.231228     0.0  1.533607         0.0      0.0   \n",
       "1056  Afghanistan  2008  0.179519     0.0  1.487526         0.0      0.0   \n",
       "1057  Afghanistan  2007  0.170945     0.0  1.443303         0.0      0.0   \n",
       "1058  Afghanistan  2006  0.142263     0.0  1.396177         0.0      0.0   \n",
       "\n",
       "      inc_pop  \n",
       "1054      0.0  \n",
       "1055      0.0  \n",
       "1056      0.0  \n",
       "1057      0.0  \n",
       "1058      0.0  "
      ]
     },
     "execution_count": 17,
     "metadata": {},
     "output_type": "execute_result"
    }
   ],
   "source": [
    "df_robust_scaled.head()"
   ]
  },
  {
   "cell_type": "code",
   "execution_count": 18,
   "metadata": {
    "collapsed": false
   },
   "outputs": [
    {
     "data": {
      "text/plain": [
       "country       Zimbabwe\n",
       "year              2010\n",
       "gdp_rs         6007.05\n",
       "inc_rs           61.49\n",
       "pop_rs          90.531\n",
       "inc_gdpPop     27061.8\n",
       "inc_gdp        97902.3\n",
       "inc_pop        20518.2\n",
       "dtype: object"
      ]
     },
     "execution_count": 18,
     "metadata": {},
     "output_type": "execute_result"
    }
   ],
   "source": [
    "df_robust_scaled.max()"
   ]
  },
  {
   "cell_type": "code",
   "execution_count": 21,
   "metadata": {
    "collapsed": false
   },
   "outputs": [
    {
     "data": {
      "text/plain": [
       "country       Afghanistan\n",
       "year                 1980\n",
       "gdp_rs          -0.066476\n",
       "inc_rs                  0\n",
       "pop_rs           -0.31407\n",
       "inc_gdpPop       -15468.3\n",
       "inc_gdp      -1.31752e+06\n",
       "inc_pop           -274430\n",
       "dtype: object"
      ]
     },
     "execution_count": 21,
     "metadata": {},
     "output_type": "execute_result"
    }
   ],
   "source": [
    "df_robust_scaled.min()"
   ]
  },
  {
   "cell_type": "markdown",
   "metadata": {
    "hide_input": false,
    "run_control": {
     "marked": true
    }
   },
   "source": [
    "# Merge Data"
   ]
  },
  {
   "cell_type": "code",
   "execution_count": 22,
   "metadata": {
    "collapsed": true
   },
   "outputs": [],
   "source": [
    "merged_noScale = dat_01.merge(pct_change_10,on=['country','year'], how='outer').merge(pct_change_30,on=['country','year'], how='outer')"
   ]
  },
  {
   "cell_type": "code",
   "execution_count": 23,
   "metadata": {
    "collapsed": true
   },
   "outputs": [],
   "source": [
    "merged_df = df_robust_scaled.merge(pct_change_10,on=['country','year'], how='outer').merge(pct_change_30,on=['country','year'], how='outer')"
   ]
  },
  {
   "cell_type": "code",
   "execution_count": 24,
   "metadata": {
    "collapsed": false,
    "scrolled": true
   },
   "outputs": [
    {
     "data": {
      "text/html": [
       "<div>\n",
       "<table border=\"1\" class=\"dataframe\">\n",
       "  <thead>\n",
       "    <tr style=\"text-align: right;\">\n",
       "      <th></th>\n",
       "      <th>country</th>\n",
       "      <th>year</th>\n",
       "      <th>gdp</th>\n",
       "      <th>income_10pc</th>\n",
       "      <th>pop</th>\n",
       "      <th>gdp_pctchg_10</th>\n",
       "      <th>inc_pctchg_10</th>\n",
       "      <th>pop_pctchg_10</th>\n",
       "      <th>gdp_pctchg_30</th>\n",
       "      <th>inc_pctchg_30</th>\n",
       "      <th>pop_pctchg_30</th>\n",
       "    </tr>\n",
       "  </thead>\n",
       "  <tbody>\n",
       "    <tr>\n",
       "      <th>0</th>\n",
       "      <td>Afghanistan</td>\n",
       "      <td>2010</td>\n",
       "      <td>3.688652e+11</td>\n",
       "      <td>0.0</td>\n",
       "      <td>27962207.0</td>\n",
       "      <td>0.0</td>\n",
       "      <td>0.0</td>\n",
       "      <td>-0.994615</td>\n",
       "      <td>0.0</td>\n",
       "      <td>0.0</td>\n",
       "      <td>-0.995913</td>\n",
       "    </tr>\n",
       "    <tr>\n",
       "      <th>1</th>\n",
       "      <td>Afghanistan</td>\n",
       "      <td>2009</td>\n",
       "      <td>3.401770e+11</td>\n",
       "      <td>0.0</td>\n",
       "      <td>27207291.0</td>\n",
       "      <td>0.0</td>\n",
       "      <td>0.0</td>\n",
       "      <td>-0.994669</td>\n",
       "      <td>0.0</td>\n",
       "      <td>0.0</td>\n",
       "      <td>-0.995974</td>\n",
       "    </tr>\n",
       "    <tr>\n",
       "      <th>2</th>\n",
       "      <td>Afghanistan</td>\n",
       "      <td>2008</td>\n",
       "      <td>2.810901e+11</td>\n",
       "      <td>0.0</td>\n",
       "      <td>26528741.0</td>\n",
       "      <td>0.0</td>\n",
       "      <td>0.0</td>\n",
       "      <td>-0.994710</td>\n",
       "      <td>0.0</td>\n",
       "      <td>0.0</td>\n",
       "      <td>-0.996026</td>\n",
       "    </tr>\n",
       "    <tr>\n",
       "      <th>3</th>\n",
       "      <td>Afghanistan</td>\n",
       "      <td>2007</td>\n",
       "      <td>2.712927e+11</td>\n",
       "      <td>0.0</td>\n",
       "      <td>25877544.0</td>\n",
       "      <td>0.0</td>\n",
       "      <td>0.0</td>\n",
       "      <td>-0.994748</td>\n",
       "      <td>0.0</td>\n",
       "      <td>0.0</td>\n",
       "      <td>-0.996076</td>\n",
       "    </tr>\n",
       "    <tr>\n",
       "      <th>4</th>\n",
       "      <td>Afghanistan</td>\n",
       "      <td>2006</td>\n",
       "      <td>2.385196e+11</td>\n",
       "      <td>0.0</td>\n",
       "      <td>25183615.0</td>\n",
       "      <td>0.0</td>\n",
       "      <td>0.0</td>\n",
       "      <td>-0.994798</td>\n",
       "      <td>0.0</td>\n",
       "      <td>0.0</td>\n",
       "      <td>-0.996134</td>\n",
       "    </tr>\n",
       "  </tbody>\n",
       "</table>\n",
       "</div>"
      ],
      "text/plain": [
       "       country  year           gdp  income_10pc         pop  gdp_pctchg_10  \\\n",
       "0  Afghanistan  2010  3.688652e+11          0.0  27962207.0            0.0   \n",
       "1  Afghanistan  2009  3.401770e+11          0.0  27207291.0            0.0   \n",
       "2  Afghanistan  2008  2.810901e+11          0.0  26528741.0            0.0   \n",
       "3  Afghanistan  2007  2.712927e+11          0.0  25877544.0            0.0   \n",
       "4  Afghanistan  2006  2.385196e+11          0.0  25183615.0            0.0   \n",
       "\n",
       "   inc_pctchg_10  pop_pctchg_10  gdp_pctchg_30  inc_pctchg_30  pop_pctchg_30  \n",
       "0            0.0      -0.994615            0.0            0.0      -0.995913  \n",
       "1            0.0      -0.994669            0.0            0.0      -0.995974  \n",
       "2            0.0      -0.994710            0.0            0.0      -0.996026  \n",
       "3            0.0      -0.994748            0.0            0.0      -0.996076  \n",
       "4            0.0      -0.994798            0.0            0.0      -0.996134  "
      ]
     },
     "execution_count": 24,
     "metadata": {},
     "output_type": "execute_result"
    }
   ],
   "source": [
    "merged_noScale.head()"
   ]
  },
  {
   "cell_type": "code",
   "execution_count": 25,
   "metadata": {
    "collapsed": false
   },
   "outputs": [
    {
     "data": {
      "text/html": [
       "<div>\n",
       "<table border=\"1\" class=\"dataframe\">\n",
       "  <thead>\n",
       "    <tr style=\"text-align: right;\">\n",
       "      <th></th>\n",
       "      <th>country</th>\n",
       "      <th>year</th>\n",
       "      <th>gdp</th>\n",
       "      <th>income_10pc</th>\n",
       "      <th>pop</th>\n",
       "      <th>gdp_pctchg_10</th>\n",
       "      <th>inc_pctchg_10</th>\n",
       "      <th>pop_pctchg_10</th>\n",
       "      <th>gdp_pctchg_30</th>\n",
       "      <th>inc_pctchg_30</th>\n",
       "      <th>pop_pctchg_30</th>\n",
       "      <th>inc_gdp</th>\n",
       "      <th>inc_pop</th>\n",
       "      <th>gdp_pop</th>\n",
       "      <th>inc_gdpPop</th>\n",
       "    </tr>\n",
       "  </thead>\n",
       "  <tbody>\n",
       "    <tr>\n",
       "      <th>0</th>\n",
       "      <td>Afghanistan</td>\n",
       "      <td>2010</td>\n",
       "      <td>3.688652e+11</td>\n",
       "      <td>0.0</td>\n",
       "      <td>27962207.0</td>\n",
       "      <td>0.0</td>\n",
       "      <td>0.0</td>\n",
       "      <td>-0.994615</td>\n",
       "      <td>0.0</td>\n",
       "      <td>0.0</td>\n",
       "      <td>-0.995913</td>\n",
       "      <td>0.0</td>\n",
       "      <td>0.0</td>\n",
       "      <td>13191.561210</td>\n",
       "      <td>0.0</td>\n",
       "    </tr>\n",
       "    <tr>\n",
       "      <th>1</th>\n",
       "      <td>Afghanistan</td>\n",
       "      <td>2009</td>\n",
       "      <td>3.401770e+11</td>\n",
       "      <td>0.0</td>\n",
       "      <td>27207291.0</td>\n",
       "      <td>0.0</td>\n",
       "      <td>0.0</td>\n",
       "      <td>-0.994669</td>\n",
       "      <td>0.0</td>\n",
       "      <td>0.0</td>\n",
       "      <td>-0.995974</td>\n",
       "      <td>0.0</td>\n",
       "      <td>0.0</td>\n",
       "      <td>12503.157580</td>\n",
       "      <td>0.0</td>\n",
       "    </tr>\n",
       "    <tr>\n",
       "      <th>2</th>\n",
       "      <td>Afghanistan</td>\n",
       "      <td>2008</td>\n",
       "      <td>2.810901e+11</td>\n",
       "      <td>0.0</td>\n",
       "      <td>26528741.0</td>\n",
       "      <td>0.0</td>\n",
       "      <td>0.0</td>\n",
       "      <td>-0.994710</td>\n",
       "      <td>0.0</td>\n",
       "      <td>0.0</td>\n",
       "      <td>-0.996026</td>\n",
       "      <td>0.0</td>\n",
       "      <td>0.0</td>\n",
       "      <td>10595.681374</td>\n",
       "      <td>0.0</td>\n",
       "    </tr>\n",
       "    <tr>\n",
       "      <th>3</th>\n",
       "      <td>Afghanistan</td>\n",
       "      <td>2007</td>\n",
       "      <td>2.712927e+11</td>\n",
       "      <td>0.0</td>\n",
       "      <td>25877544.0</td>\n",
       "      <td>0.0</td>\n",
       "      <td>0.0</td>\n",
       "      <td>-0.994748</td>\n",
       "      <td>0.0</td>\n",
       "      <td>0.0</td>\n",
       "      <td>-0.996076</td>\n",
       "      <td>0.0</td>\n",
       "      <td>0.0</td>\n",
       "      <td>10483.711584</td>\n",
       "      <td>0.0</td>\n",
       "    </tr>\n",
       "    <tr>\n",
       "      <th>4</th>\n",
       "      <td>Afghanistan</td>\n",
       "      <td>2006</td>\n",
       "      <td>2.385196e+11</td>\n",
       "      <td>0.0</td>\n",
       "      <td>25183615.0</td>\n",
       "      <td>0.0</td>\n",
       "      <td>0.0</td>\n",
       "      <td>-0.994798</td>\n",
       "      <td>0.0</td>\n",
       "      <td>0.0</td>\n",
       "      <td>-0.996134</td>\n",
       "      <td>0.0</td>\n",
       "      <td>0.0</td>\n",
       "      <td>9471.222567</td>\n",
       "      <td>0.0</td>\n",
       "    </tr>\n",
       "  </tbody>\n",
       "</table>\n",
       "</div>"
      ],
      "text/plain": [
       "       country  year           gdp  income_10pc         pop  gdp_pctchg_10  \\\n",
       "0  Afghanistan  2010  3.688652e+11          0.0  27962207.0            0.0   \n",
       "1  Afghanistan  2009  3.401770e+11          0.0  27207291.0            0.0   \n",
       "2  Afghanistan  2008  2.810901e+11          0.0  26528741.0            0.0   \n",
       "3  Afghanistan  2007  2.712927e+11          0.0  25877544.0            0.0   \n",
       "4  Afghanistan  2006  2.385196e+11          0.0  25183615.0            0.0   \n",
       "\n",
       "   inc_pctchg_10  pop_pctchg_10  gdp_pctchg_30  inc_pctchg_30  pop_pctchg_30  \\\n",
       "0            0.0      -0.994615            0.0            0.0      -0.995913   \n",
       "1            0.0      -0.994669            0.0            0.0      -0.995974   \n",
       "2            0.0      -0.994710            0.0            0.0      -0.996026   \n",
       "3            0.0      -0.994748            0.0            0.0      -0.996076   \n",
       "4            0.0      -0.994798            0.0            0.0      -0.996134   \n",
       "\n",
       "   inc_gdp  inc_pop       gdp_pop  inc_gdpPop  \n",
       "0      0.0      0.0  13191.561210         0.0  \n",
       "1      0.0      0.0  12503.157580         0.0  \n",
       "2      0.0      0.0  10595.681374         0.0  \n",
       "3      0.0      0.0  10483.711584         0.0  \n",
       "4      0.0      0.0   9471.222567         0.0  "
      ]
     },
     "execution_count": 25,
     "metadata": {},
     "output_type": "execute_result"
    }
   ],
   "source": [
    "merged_noScale['inc_gdp'] = merged_noScale['income_10pc']/merged_noScale['gdp']\n",
    "merged_noScale['inc_pop'] = merged_noScale['income_10pc']/merged_noScale['pop']\n",
    "merged_noScale['gdp_pop'] = merged_noScale['gdp']/merged_noScale['pop']\n",
    "merged_noScale['inc_gdpPop'] = merged_noScale['income_10pc']/(merged_noScale['gdp']+merged_noScale['pop'])\n",
    "merged_noScale.head()"
   ]
  },
  {
   "cell_type": "code",
   "execution_count": 26,
   "metadata": {
    "collapsed": true
   },
   "outputs": [],
   "source": [
    "rs_grouped_ctry_median = merged_df.groupby('country').median()\n",
    "rs_grouped_ctry_median.reset_index(inplace=True)"
   ]
  },
  {
   "cell_type": "code",
   "execution_count": 27,
   "metadata": {
    "collapsed": false
   },
   "outputs": [
    {
     "data": {
      "text/html": [
       "<div>\n",
       "<table border=\"1\" class=\"dataframe\">\n",
       "  <thead>\n",
       "    <tr style=\"text-align: right;\">\n",
       "      <th></th>\n",
       "      <th>country</th>\n",
       "      <th>gdp_rs</th>\n",
       "      <th>inc_rs</th>\n",
       "      <th>pop_rs</th>\n",
       "      <th>inc_gdpPop</th>\n",
       "      <th>inc_gdp</th>\n",
       "      <th>inc_pop</th>\n",
       "      <th>gdp_pctchg_10</th>\n",
       "      <th>inc_pctchg_10</th>\n",
       "      <th>pop_pctchg_10</th>\n",
       "      <th>gdp_pctchg_30</th>\n",
       "      <th>inc_pctchg_30</th>\n",
       "      <th>pop_pctchg_30</th>\n",
       "    </tr>\n",
       "  </thead>\n",
       "  <tbody>\n",
       "    <tr>\n",
       "      <th>0</th>\n",
       "      <td>Afghanistan</td>\n",
       "      <td>-0.066476</td>\n",
       "      <td>0.0</td>\n",
       "      <td>0.824971</td>\n",
       "      <td>0.0</td>\n",
       "      <td>-0.0</td>\n",
       "      <td>0.0</td>\n",
       "      <td>0.000000</td>\n",
       "      <td>0.0</td>\n",
       "      <td>-0.360284</td>\n",
       "      <td>0.000000</td>\n",
       "      <td>0.0</td>\n",
       "      <td>-0.996936</td>\n",
       "    </tr>\n",
       "    <tr>\n",
       "      <th>1</th>\n",
       "      <td>Albania</td>\n",
       "      <td>0.251905</td>\n",
       "      <td>0.0</td>\n",
       "      <td>-0.106873</td>\n",
       "      <td>0.0</td>\n",
       "      <td>0.0</td>\n",
       "      <td>-0.0</td>\n",
       "      <td>0.000000</td>\n",
       "      <td>0.0</td>\n",
       "      <td>-0.069961</td>\n",
       "      <td>0.000000</td>\n",
       "      <td>0.0</td>\n",
       "      <td>-0.799131</td>\n",
       "    </tr>\n",
       "    <tr>\n",
       "      <th>2</th>\n",
       "      <td>Algeria</td>\n",
       "      <td>0.122773</td>\n",
       "      <td>0.0</td>\n",
       "      <td>1.648853</td>\n",
       "      <td>0.0</td>\n",
       "      <td>0.0</td>\n",
       "      <td>0.0</td>\n",
       "      <td>-0.153735</td>\n",
       "      <td>0.0</td>\n",
       "      <td>-0.134656</td>\n",
       "      <td>-0.392848</td>\n",
       "      <td>0.0</td>\n",
       "      <td>8.011372</td>\n",
       "    </tr>\n",
       "    <tr>\n",
       "      <th>3</th>\n",
       "      <td>American Samoa</td>\n",
       "      <td>-0.066476</td>\n",
       "      <td>0.0</td>\n",
       "      <td>-0.310479</td>\n",
       "      <td>-0.0</td>\n",
       "      <td>-0.0</td>\n",
       "      <td>-0.0</td>\n",
       "      <td>0.000000</td>\n",
       "      <td>0.0</td>\n",
       "      <td>-0.257726</td>\n",
       "      <td>-1.000000</td>\n",
       "      <td>0.0</td>\n",
       "      <td>-0.998152</td>\n",
       "    </tr>\n",
       "    <tr>\n",
       "      <th>4</th>\n",
       "      <td>Andorra</td>\n",
       "      <td>-0.065403</td>\n",
       "      <td>0.0</td>\n",
       "      <td>-0.309734</td>\n",
       "      <td>-0.0</td>\n",
       "      <td>-0.0</td>\n",
       "      <td>-0.0</td>\n",
       "      <td>-0.255263</td>\n",
       "      <td>0.0</td>\n",
       "      <td>-0.199523</td>\n",
       "      <td>0.000000</td>\n",
       "      <td>0.0</td>\n",
       "      <td>0.195653</td>\n",
       "    </tr>\n",
       "  </tbody>\n",
       "</table>\n",
       "</div>"
      ],
      "text/plain": [
       "          country    gdp_rs  inc_rs    pop_rs  inc_gdpPop  inc_gdp  inc_pop  \\\n",
       "0     Afghanistan -0.066476     0.0  0.824971         0.0     -0.0      0.0   \n",
       "1         Albania  0.251905     0.0 -0.106873         0.0      0.0     -0.0   \n",
       "2         Algeria  0.122773     0.0  1.648853         0.0      0.0      0.0   \n",
       "3  American Samoa -0.066476     0.0 -0.310479        -0.0     -0.0     -0.0   \n",
       "4         Andorra -0.065403     0.0 -0.309734        -0.0     -0.0     -0.0   \n",
       "\n",
       "   gdp_pctchg_10  inc_pctchg_10  pop_pctchg_10  gdp_pctchg_30  inc_pctchg_30  \\\n",
       "0       0.000000            0.0      -0.360284       0.000000            0.0   \n",
       "1       0.000000            0.0      -0.069961       0.000000            0.0   \n",
       "2      -0.153735            0.0      -0.134656      -0.392848            0.0   \n",
       "3       0.000000            0.0      -0.257726      -1.000000            0.0   \n",
       "4      -0.255263            0.0      -0.199523       0.000000            0.0   \n",
       "\n",
       "   pop_pctchg_30  \n",
       "0      -0.996936  \n",
       "1      -0.799131  \n",
       "2       8.011372  \n",
       "3      -0.998152  \n",
       "4       0.195653  "
      ]
     },
     "execution_count": 27,
     "metadata": {},
     "output_type": "execute_result"
    }
   ],
   "source": [
    "rs_grouped_ctry_median.head()"
   ]
  },
  {
   "cell_type": "code",
   "execution_count": 28,
   "metadata": {
    "collapsed": true
   },
   "outputs": [],
   "source": [
    "rs_grouped_year_median = merged_df.groupby('year').mean()\n",
    "rs_grouped_year_median.reset_index(inplace=True)"
   ]
  },
  {
   "cell_type": "code",
   "execution_count": 29,
   "metadata": {
    "collapsed": false,
    "scrolled": true
   },
   "outputs": [
    {
     "data": {
      "text/html": [
       "<div>\n",
       "<table border=\"1\" class=\"dataframe\">\n",
       "  <thead>\n",
       "    <tr style=\"text-align: right;\">\n",
       "      <th></th>\n",
       "      <th>year</th>\n",
       "      <th>gdp_rs</th>\n",
       "      <th>inc_rs</th>\n",
       "      <th>pop_rs</th>\n",
       "      <th>inc_gdpPop</th>\n",
       "      <th>inc_gdp</th>\n",
       "      <th>inc_pop</th>\n",
       "      <th>gdp_pctchg_10</th>\n",
       "      <th>inc_pctchg_10</th>\n",
       "      <th>pop_pctchg_10</th>\n",
       "      <th>gdp_pctchg_30</th>\n",
       "      <th>inc_pctchg_30</th>\n",
       "      <th>pop_pctchg_30</th>\n",
       "    </tr>\n",
       "  </thead>\n",
       "  <tbody>\n",
       "    <tr>\n",
       "      <th>0</th>\n",
       "      <td>1980</td>\n",
       "      <td>12.157144</td>\n",
       "      <td>0.000000</td>\n",
       "      <td>1.085910</td>\n",
       "      <td>0.000000</td>\n",
       "      <td>0.000000</td>\n",
       "      <td>0.000000</td>\n",
       "      <td>-0.300212</td>\n",
       "      <td>-0.070093</td>\n",
       "      <td>-0.179718</td>\n",
       "      <td>-0.609114</td>\n",
       "      <td>-0.364486</td>\n",
       "      <td>-0.365175</td>\n",
       "    </tr>\n",
       "    <tr>\n",
       "      <th>1</th>\n",
       "      <td>1981</td>\n",
       "      <td>12.613258</td>\n",
       "      <td>1.354813</td>\n",
       "      <td>1.110520</td>\n",
       "      <td>2.782616</td>\n",
       "      <td>-0.188586</td>\n",
       "      <td>-1.775442</td>\n",
       "      <td>-0.282964</td>\n",
       "      <td>-0.060693</td>\n",
       "      <td>-0.177377</td>\n",
       "      <td>55.974168</td>\n",
       "      <td>0.000000</td>\n",
       "      <td>41.460283</td>\n",
       "    </tr>\n",
       "    <tr>\n",
       "      <th>2</th>\n",
       "      <td>1982</td>\n",
       "      <td>13.487640</td>\n",
       "      <td>0.216028</td>\n",
       "      <td>1.136087</td>\n",
       "      <td>0.024061</td>\n",
       "      <td>0.362376</td>\n",
       "      <td>0.025772</td>\n",
       "      <td>-0.271954</td>\n",
       "      <td>-0.134744</td>\n",
       "      <td>-0.172741</td>\n",
       "      <td>77.936685</td>\n",
       "      <td>-0.042056</td>\n",
       "      <td>41.654573</td>\n",
       "    </tr>\n",
       "    <tr>\n",
       "      <th>3</th>\n",
       "      <td>1983</td>\n",
       "      <td>14.556007</td>\n",
       "      <td>0.441028</td>\n",
       "      <td>1.161847</td>\n",
       "      <td>0.040121</td>\n",
       "      <td>0.461082</td>\n",
       "      <td>0.045866</td>\n",
       "      <td>-0.269748</td>\n",
       "      <td>-0.126374</td>\n",
       "      <td>-0.169162</td>\n",
       "      <td>77.495043</td>\n",
       "      <td>-0.004673</td>\n",
       "      <td>41.815405</td>\n",
       "    </tr>\n",
       "    <tr>\n",
       "      <th>4</th>\n",
       "      <td>1984</td>\n",
       "      <td>16.711837</td>\n",
       "      <td>1.167897</td>\n",
       "      <td>1.187526</td>\n",
       "      <td>0.588777</td>\n",
       "      <td>4.382643</td>\n",
       "      <td>1.942193</td>\n",
       "      <td>-0.257627</td>\n",
       "      <td>-0.112655</td>\n",
       "      <td>-0.165122</td>\n",
       "      <td>143.524009</td>\n",
       "      <td>-0.009493</td>\n",
       "      <td>41.998991</td>\n",
       "    </tr>\n",
       "  </tbody>\n",
       "</table>\n",
       "</div>"
      ],
      "text/plain": [
       "   year     gdp_rs    inc_rs    pop_rs  inc_gdpPop   inc_gdp   inc_pop  \\\n",
       "0  1980  12.157144  0.000000  1.085910    0.000000  0.000000  0.000000   \n",
       "1  1981  12.613258  1.354813  1.110520    2.782616 -0.188586 -1.775442   \n",
       "2  1982  13.487640  0.216028  1.136087    0.024061  0.362376  0.025772   \n",
       "3  1983  14.556007  0.441028  1.161847    0.040121  0.461082  0.045866   \n",
       "4  1984  16.711837  1.167897  1.187526    0.588777  4.382643  1.942193   \n",
       "\n",
       "   gdp_pctchg_10  inc_pctchg_10  pop_pctchg_10  gdp_pctchg_30  inc_pctchg_30  \\\n",
       "0      -0.300212      -0.070093      -0.179718      -0.609114      -0.364486   \n",
       "1      -0.282964      -0.060693      -0.177377      55.974168       0.000000   \n",
       "2      -0.271954      -0.134744      -0.172741      77.936685      -0.042056   \n",
       "3      -0.269748      -0.126374      -0.169162      77.495043      -0.004673   \n",
       "4      -0.257627      -0.112655      -0.165122     143.524009      -0.009493   \n",
       "\n",
       "   pop_pctchg_30  \n",
       "0      -0.365175  \n",
       "1      41.460283  \n",
       "2      41.654573  \n",
       "3      41.815405  \n",
       "4      41.998991  "
      ]
     },
     "execution_count": 29,
     "metadata": {},
     "output_type": "execute_result"
    }
   ],
   "source": [
    "rs_grouped_year_median.head()"
   ]
  },
  {
   "cell_type": "code",
   "execution_count": 30,
   "metadata": {
    "collapsed": true
   },
   "outputs": [],
   "source": [
    "rs_grouped_ctry_median = merged_df.groupby('country').mean()\n",
    "rs_grouped_ctry_median.reset_index(inplace=True)"
   ]
  },
  {
   "cell_type": "code",
   "execution_count": 33,
   "metadata": {
    "collapsed": false
   },
   "outputs": [
    {
     "data": {
      "text/plain": [
       "country           Zimbabwe\n",
       "gdp_rs             3223.73\n",
       "inc_rs             38.6816\n",
       "pop_rs             80.2154\n",
       "inc_gdpPop         933.579\n",
       "inc_gdp            4231.28\n",
       "inc_pop            661.878\n",
       "gdp_pctchg_10      17291.6\n",
       "inc_pctchg_10            0\n",
       "pop_pctchg_10      1546.57\n",
       "gdp_pctchg_30       524434\n",
       "inc_pctchg_30    0.0345873\n",
       "pop_pctchg_30      3481.78\n",
       "dtype: object"
      ]
     },
     "execution_count": 33,
     "metadata": {},
     "output_type": "execute_result"
    }
   ],
   "source": [
    "rs_grouped_ctry_median.max()"
   ]
  },
  {
   "cell_type": "code",
   "execution_count": 34,
   "metadata": {
    "collapsed": false
   },
   "outputs": [
    {
     "data": {
      "text/plain": [
       "country          Afghanistan\n",
       "gdp_rs             -0.066476\n",
       "inc_rs                     0\n",
       "pop_rs             -0.313448\n",
       "inc_gdpPop          -176.043\n",
       "inc_gdp             -42470.9\n",
       "inc_pop             -8678.43\n",
       "gdp_pctchg_10      -0.745989\n",
       "inc_pctchg_10      -0.346486\n",
       "pop_pctchg_10      -0.659326\n",
       "gdp_pctchg_30      -0.999999\n",
       "inc_pctchg_30       -0.83871\n",
       "pop_pctchg_30       -0.99655\n",
       "dtype: object"
      ]
     },
     "execution_count": 34,
     "metadata": {},
     "output_type": "execute_result"
    }
   ],
   "source": [
    "rs_grouped_ctry_median.min()"
   ]
  },
  {
   "cell_type": "markdown",
   "metadata": {},
   "source": [
    "# Output to Excel"
   ]
  },
  {
   "cell_type": "code",
   "execution_count": 32,
   "metadata": {
    "collapsed": false
   },
   "outputs": [],
   "source": [
    "rs_grouped_ctry_median.to_excel('robustscaled_grp_ctry.xlsx')\n",
    "rs_grouped_year_median.to_excel('robustscaled_grp_year.xlsx')"
   ]
  },
  {
   "cell_type": "markdown",
   "metadata": {},
   "source": [
    "# Visualisations"
   ]
  },
  {
   "cell_type": "code",
   "execution_count": 35,
   "metadata": {
    "collapsed": false
   },
   "outputs": [
    {
     "data": {
      "text/plain": [
       "<matplotlib.text.Text at 0x1e5b20e7400>"
      ]
     },
     "execution_count": 35,
     "metadata": {},
     "output_type": "execute_result"
    },
    {
     "data": {
      "image/png": "[encoded data removed]",
      "text/plain": [
       "<matplotlib.figure.Figure at 0x1e5b21095f8>"
      ]
     },
     "metadata": {},
     "output_type": "display_data"
    }
   ],
   "source": [
    "merged_rob_corr = rs_grouped_ctry_median.corr()\n",
    "sns.heatmap(merged_rob_corr, cmap=plt.cm.spectral)\n",
    "\n",
    "plt.xticks(rotation='vertical', fontsize=11)\n",
    "plt.yticks(fontsize=13)\n",
    "plt.title('Correlation Matrix of All Robust Scaled Data',fontsize=20)"
   ]
  },
  {
   "cell_type": "code",
   "execution_count": null,
   "metadata": {
    "collapsed": true
   },
   "outputs": [],
   "source": []
  }
 ],
 "metadata": {
  "kernelspec": {
   "display_name": "Python 3",
   "language": "python",
   "name": "python3"
  },
  "language_info": {
   "codemirror_mode": {
    "name": "ipython",
    "version": 3
   },
   "file_extension": ".py",
   "mimetype": "text/x-python",
   "name": "python",
   "nbconvert_exporter": "python",
   "pygments_lexer": "ipython3",
   "version": "3.5.1"
  },
  "nbpresent": {
   "slides": {
    "14fa70f2-f6db-43c6-b063-e02522652f2e": {
     "id": "14fa70f2-f6db-43c6-b063-e02522652f2e",
     "prev": "f1c30776-cd33-432a-9e5f-acf757fc0544",
     "regions": {
      "0af25ef4-1f57-4588-939e-0294bf8ce83f": {
       "attrs": {
        "height": 0.4,
        "width": 0.8,
        "x": 0.1,
        "y": 0.5
       },
       "content": {
        "cell": "153f929a-cef1-4835-a336-7c7e6aea263f",
        "part": "whole"
       },
       "id": "0af25ef4-1f57-4588-939e-0294bf8ce83f"
      },
      "0be338a2-bc2a-4386-aa82-0061d6045a0f": {
       "attrs": {
        "height": 0.4,
        "width": 0.8,
        "x": 0.1,
        "y": 0.5
       },
       "content": {
        "cell": "22f027c3-6194-4e8b-a8fb-e2f153ef2810",
        "part": "whole"
       },
       "id": "0be338a2-bc2a-4386-aa82-0061d6045a0f"
      },
      "2b93b258-0c24-4159-a373-e3b65b511b30": {
       "attrs": {
        "height": 0.4,
        "width": 0.8,
        "x": 0.1,
        "y": 0.5
       },
       "content": {
        "cell": "dbcc2c76-f733-449d-b25f-45a0617e5f3b",
        "part": "whole"
       },
       "id": "2b93b258-0c24-4159-a373-e3b65b511b30"
      },
      "2be95b69-5f6f-4694-892b-6bd568b9bef2": {
       "attrs": {
        "height": 0.4,
        "width": 0.8,
        "x": 0.1,
        "y": 0.5
       },
       "content": {
        "cell": "e10025c2-9095-4aad-887c-d07024afaffa",
        "part": "whole"
       },
       "id": "2be95b69-5f6f-4694-892b-6bd568b9bef2"
      },
      "3acacffb-037a-48f7-92b7-3330f881a3a8": {
       "attrs": {
        "height": 0.4,
        "width": 0.8,
        "x": 0.1,
        "y": 0.5
       },
       "content": {
        "cell": "70fa05a0-b104-4771-a2d7-a5c7417a4171",
        "part": "whole"
       },
       "id": "3acacffb-037a-48f7-92b7-3330f881a3a8"
      },
      "3f1f0e4d-70a0-48a8-87b8-5d575b5241c0": {
       "attrs": {
        "height": 0.8,
        "width": 0.8,
        "x": 0.1,
        "y": 0.1
       },
       "content": {
        "cell": "d73828b6-e17c-416c-b576-9280f0fd3932",
        "part": "whole"
       },
       "id": "3f1f0e4d-70a0-48a8-87b8-5d575b5241c0"
      },
      "73500eec-bef8-4a7f-b15a-17920c8a5cf1": {
       "attrs": {
        "height": 0.4,
        "width": 0.8,
        "x": 0.1,
        "y": 0.5
       },
       "content": {
        "cell": "4d783705-9579-48c4-b446-ab8c67908f03",
        "part": "whole"
       },
       "id": "73500eec-bef8-4a7f-b15a-17920c8a5cf1"
      },
      "7573b4e0-1f9b-4b88-ba35-a7b414390277": {
       "attrs": {
        "height": 0.4,
        "width": 0.8,
        "x": 0.1,
        "y": 0.5
       },
       "content": {
        "cell": "9d737d1c-9545-4d2a-9361-4bc85858b67f",
        "part": "whole"
       },
       "id": "7573b4e0-1f9b-4b88-ba35-a7b414390277"
      },
      "76eac4ba-dd40-4dbc-92fb-a9ab0bbb3280": {
       "attrs": {
        "height": 0.4,
        "width": 0.8,
        "x": 0.1,
        "y": 0.5
       },
       "content": {
        "cell": "b2ead05d-8d27-4d84-9c77-43325e82988c",
        "part": "whole"
       },
       "id": "76eac4ba-dd40-4dbc-92fb-a9ab0bbb3280"
      },
      "77711df0-424c-424f-b594-5666cfca9ab6": {
       "attrs": {
        "height": 0.4,
        "width": 0.8,
        "x": 0.1,
        "y": 0.5
       },
       "content": {
        "cell": "25e4e801-f255-469f-ad7b-a31c44ab9736",
        "part": "whole"
       },
       "id": "77711df0-424c-424f-b594-5666cfca9ab6"
      },
      "83a84274-211c-40b9-a2b5-a9da8d883320": {
       "attrs": {
        "height": 0.4,
        "width": 0.8,
        "x": 0.1,
        "y": 0.5
       },
       "content": {
        "cell": "8c0e762e-0d31-4e3c-a266-b40de792bc03",
        "part": "whole"
       },
       "id": "83a84274-211c-40b9-a2b5-a9da8d883320"
      },
      "b522ed25-14ae-4bb4-9ded-d67c48cd6adc": {
       "attrs": {
        "height": 0.4,
        "width": 0.8,
        "x": 0.1,
        "y": 0.5
       },
       "content": {
        "cell": "d60a014c-4aba-4aaa-832d-1f3c7ad82cf3",
        "part": "whole"
       },
       "id": "b522ed25-14ae-4bb4-9ded-d67c48cd6adc"
      },
      "bc0b1e34-dd6a-4ebc-bc5b-42bfc4716454": {
       "attrs": {
        "height": 0.4,
        "width": 0.8,
        "x": 0.1,
        "y": 0.5
       },
       "content": {
        "cell": "d7004522-8538-447b-bde6-506843b6673c",
        "part": "whole"
       },
       "id": "bc0b1e34-dd6a-4ebc-bc5b-42bfc4716454"
      },
      "d095c260-b613-45a3-b993-ed841c04e97b": {
       "attrs": {
        "height": 0.4,
        "width": 0.8,
        "x": 0.1,
        "y": 0.5
       },
       "content": {
        "cell": "66ce71fc-702c-4276-a729-df79b2486f4a",
        "part": "whole"
       },
       "id": "d095c260-b613-45a3-b993-ed841c04e97b"
      },
      "f39041c8-9912-4062-a49a-aca5b54d0b6f": {
       "attrs": {
        "height": 0.4,
        "width": 0.8,
        "x": 0.1,
        "y": 0.5
       },
       "content": {
        "cell": "25f89e24-202f-4020-bdee-b6ca535be50e",
        "part": "whole"
       },
       "id": "f39041c8-9912-4062-a49a-aca5b54d0b6f"
      },
      "facd2994-63c3-41a2-a140-9f02a1956265": {
       "attrs": {
        "height": 0.4,
        "width": 0.8,
        "x": 0.1,
        "y": 0.5
       },
       "content": {
        "cell": "adcbe9bc-49ad-4670-ac51-28331a0c7a75",
        "part": "whole"
       },
       "id": "facd2994-63c3-41a2-a140-9f02a1956265"
      }
     }
    },
    "f1c30776-cd33-432a-9e5f-acf757fc0544": {
     "id": "f1c30776-cd33-432a-9e5f-acf757fc0544",
     "prev": null,
     "regions": {
      "beed4895-db50-4ba5-a142-1c93cd9b393f": {
       "attrs": {
        "height": 0.8,
        "width": 0.8,
        "x": 0.1,
        "y": 0.1
       },
       "content": {
        "cell": "01871f7d-bded-4ed8-801b-6639464ddedf",
        "part": "whole"
       },
       "id": "beed4895-db50-4ba5-a142-1c93cd9b393f"
      }
     }
    }
   },
   "themes": {
    "default": "d0518d90-38c3-4d50-9b28-4068f10eed2c",
    "theme": {
     "d0518d90-38c3-4d50-9b28-4068f10eed2c": {
      "backgrounds": {
       "dc7afa04-bf90-40b1-82a5-726e3cff5267": {
        "background-color": "31af15d2-7e15-44c5-ab5e-e04b16a89eff",
        "id": "dc7afa04-bf90-40b1-82a5-726e3cff5267"
       }
      },
      "id": "d0518d90-38c3-4d50-9b28-4068f10eed2c",
      "palette": {
       "19cc588f-0593-49c9-9f4b-e4d7cc113b1c": {
        "id": "19cc588f-0593-49c9-9f4b-e4d7cc113b1c",
        "rgb": [
         252,
         252,
         252
        ]
       },
       "31af15d2-7e15-44c5-ab5e-e04b16a89eff": {
        "id": "31af15d2-7e15-44c5-ab5e-e04b16a89eff",
        "rgb": [
         68,
         68,
         68
        ]
       },
       "50f92c45-a630-455b-aec3-788680ec7410": {
        "id": "50f92c45-a630-455b-aec3-788680ec7410",
        "rgb": [
         197,
         226,
         245
        ]
       },
       "c5cc3653-2ee1-402a-aba2-7caae1da4f6c": {
        "id": "c5cc3653-2ee1-402a-aba2-7caae1da4f6c",
        "rgb": [
         43,
         126,
         184
        ]
       },
       "efa7f048-9acb-414c-8b04-a26811511a21": {
        "id": "efa7f048-9acb-414c-8b04-a26811511a21",
        "rgb": [
         25.118061674008803,
         73.60176211453744,
         107.4819383259912
        ]
       }
      },
      "rules": {
       "a": {
        "color": "19cc588f-0593-49c9-9f4b-e4d7cc113b1c"
       },
       "blockquote": {
        "color": "50f92c45-a630-455b-aec3-788680ec7410",
        "font-size": 3
       },
       "code": {
        "font-family": "Anonymous Pro"
       },
       "h1": {
        "color": "19cc588f-0593-49c9-9f4b-e4d7cc113b1c",
        "font-family": "Merriweather",
        "font-size": 8
       },
       "h2": {
        "color": "19cc588f-0593-49c9-9f4b-e4d7cc113b1c",
        "font-family": "Merriweather",
        "font-size": 6
       },
       "h3": {
        "color": "50f92c45-a630-455b-aec3-788680ec7410",
        "font-family": "Lato",
        "font-size": 5.5
       },
       "h4": {
        "color": "c5cc3653-2ee1-402a-aba2-7caae1da4f6c",
        "font-family": "Lato",
        "font-size": 5
       },
       "h5": {
        "font-family": "Lato"
       },
       "h6": {
        "font-family": "Lato"
       },
       "h7": {
        "font-family": "Lato"
       },
       "li": {
        "color": "50f92c45-a630-455b-aec3-788680ec7410",
        "font-size": 3.25
       },
       "pre": {
        "font-family": "Anonymous Pro",
        "font-size": 4
       }
      },
      "text-base": {
       "color": "19cc588f-0593-49c9-9f4b-e4d7cc113b1c",
       "font-family": "Lato",
       "font-size": 4
      }
     }
    }
   }
  }
 },
 "nbformat": 4,
 "nbformat_minor": 0
}

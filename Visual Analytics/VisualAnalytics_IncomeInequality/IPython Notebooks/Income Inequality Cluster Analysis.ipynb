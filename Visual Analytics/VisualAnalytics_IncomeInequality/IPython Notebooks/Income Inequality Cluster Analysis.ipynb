{
 "cells": [
  {
   "cell_type": "markdown",
   "metadata": {},
   "source": [
    "# Table of Contents\n",
    "* [Import Libraries](#Import-Libraries)\n",
    "* [Read Data](#Read-Data)\n",
    "* [Outliers](#Outliers)\n",
    "* [Convert to Numpy array for clustering](#Convert-to-Numpy-array-for-clustering)\n",
    "* [Birch Clustering](#Birch-Clustering)\n",
    "* [K-means](#K-means)\n"
   ]
  },
  {
   "cell_type": "markdown",
   "metadata": {},
   "source": [
    "# Import Libraries"
   ]
  },
  {
   "cell_type": "code",
   "execution_count": 1,
   "metadata": {
    "collapsed": true
   },
   "outputs": [],
   "source": [
    "import pandas as pd\n",
    "import numpy as np\n",
    "import seaborn as sns\n",
    "from pandas_datareader import data, wb\n",
    "import matplotlib.pyplot as plt\n",
    "%matplotlib inline\n",
    "plt.style.use('fivethirtyeight')\n",
    "sns.set(style=\"whitegrid\", color_codes=True)\n",
    "import random\n",
    "random.seed(1111111111111)\n",
    "plt.rc('axes', grid=False)"
   ]
  },
  {
   "cell_type": "markdown",
   "metadata": {},
   "source": [
    "# Read Data"
   ]
  },
  {
   "cell_type": "code",
   "execution_count": 2,
   "metadata": {
    "collapsed": true
   },
   "outputs": [],
   "source": [
    "data = pd.read_excel('robustscaled_grp_ctry.xlsx')"
   ]
  },
  {
   "cell_type": "code",
   "execution_count": 3,
   "metadata": {
    "collapsed": false
   },
   "outputs": [
    {
     "data": {
      "text/html": [
       "<div>\n",
       "<table border=\"1\" class=\"dataframe\">\n",
       "  <thead>\n",
       "    <tr style=\"text-align: right;\">\n",
       "      <th></th>\n",
       "      <th>country</th>\n",
       "      <th>gdp_rs</th>\n",
       "      <th>inc_rs</th>\n",
       "      <th>pop_rs</th>\n",
       "      <th>inc_gdpPop</th>\n",
       "      <th>inc_gdp</th>\n",
       "      <th>inc_pop</th>\n",
       "      <th>gdp_pctchg_10</th>\n",
       "      <th>inc_pctchg_10</th>\n",
       "      <th>pop_pctchg_10</th>\n",
       "      <th>gdp_pctchg_30</th>\n",
       "      <th>inc_pctchg_30</th>\n",
       "      <th>pop_pctchg_30</th>\n",
       "    </tr>\n",
       "  </thead>\n",
       "  <tbody>\n",
       "    <tr>\n",
       "      <th>0</th>\n",
       "      <td>Afghanistan</td>\n",
       "      <td>-0.001101</td>\n",
       "      <td>0.000000</td>\n",
       "      <td>0.878713</td>\n",
       "      <td>0.000000</td>\n",
       "      <td>0.000000</td>\n",
       "      <td>0.000000</td>\n",
       "      <td>-0.290323</td>\n",
       "      <td>0.000000</td>\n",
       "      <td>-0.507974</td>\n",
       "      <td>-0.032258</td>\n",
       "      <td>0.000000</td>\n",
       "      <td>-0.981790</td>\n",
       "    </tr>\n",
       "    <tr>\n",
       "      <th>1</th>\n",
       "      <td>Albania</td>\n",
       "      <td>0.291510</td>\n",
       "      <td>3.098710</td>\n",
       "      <td>-0.107319</td>\n",
       "      <td>13.312138</td>\n",
       "      <td>8.893613</td>\n",
       "      <td>-28.872601</td>\n",
       "      <td>-0.090475</td>\n",
       "      <td>-0.129032</td>\n",
       "      <td>-0.246225</td>\n",
       "      <td>0.361227</td>\n",
       "      <td>0.000000</td>\n",
       "      <td>-0.782244</td>\n",
       "    </tr>\n",
       "    <tr>\n",
       "      <th>2</th>\n",
       "      <td>Algeria</td>\n",
       "      <td>0.149267</td>\n",
       "      <td>0.867419</td>\n",
       "      <td>1.603129</td>\n",
       "      <td>0.489618</td>\n",
       "      <td>7.065235</td>\n",
       "      <td>0.526074</td>\n",
       "      <td>-0.172897</td>\n",
       "      <td>-0.032258</td>\n",
       "      <td>3.254143</td>\n",
       "      <td>-0.369017</td>\n",
       "      <td>-0.129032</td>\n",
       "      <td>8.068858</td>\n",
       "    </tr>\n",
       "    <tr>\n",
       "      <th>3</th>\n",
       "      <td>American Samoa</td>\n",
       "      <td>-0.066476</td>\n",
       "      <td>0.000000</td>\n",
       "      <td>-0.310683</td>\n",
       "      <td>0.000000</td>\n",
       "      <td>0.000000</td>\n",
       "      <td>0.000000</td>\n",
       "      <td>-0.322581</td>\n",
       "      <td>0.000000</td>\n",
       "      <td>-0.437900</td>\n",
       "      <td>-0.967742</td>\n",
       "      <td>-0.032258</td>\n",
       "      <td>-0.979433</td>\n",
       "    </tr>\n",
       "    <tr>\n",
       "      <th>4</th>\n",
       "      <td>Andorra</td>\n",
       "      <td>-0.065234</td>\n",
       "      <td>0.000000</td>\n",
       "      <td>-0.309875</td>\n",
       "      <td>0.000000</td>\n",
       "      <td>0.000000</td>\n",
       "      <td>0.000000</td>\n",
       "      <td>-0.207626</td>\n",
       "      <td>0.000000</td>\n",
       "      <td>0.177983</td>\n",
       "      <td>-0.018179</td>\n",
       "      <td>0.000000</td>\n",
       "      <td>0.223584</td>\n",
       "    </tr>\n",
       "  </tbody>\n",
       "</table>\n",
       "</div>"
      ],
      "text/plain": [
       "          country    gdp_rs    inc_rs    pop_rs  inc_gdpPop   inc_gdp  \\\n",
       "0     Afghanistan -0.001101  0.000000  0.878713    0.000000  0.000000   \n",
       "1         Albania  0.291510  3.098710 -0.107319   13.312138  8.893613   \n",
       "2         Algeria  0.149267  0.867419  1.603129    0.489618  7.065235   \n",
       "3  American Samoa -0.066476  0.000000 -0.310683    0.000000  0.000000   \n",
       "4         Andorra -0.065234  0.000000 -0.309875    0.000000  0.000000   \n",
       "\n",
       "     inc_pop  gdp_pctchg_10  inc_pctchg_10  pop_pctchg_10  gdp_pctchg_30  \\\n",
       "0   0.000000      -0.290323       0.000000      -0.507974      -0.032258   \n",
       "1 -28.872601      -0.090475      -0.129032      -0.246225       0.361227   \n",
       "2   0.526074      -0.172897      -0.032258       3.254143      -0.369017   \n",
       "3   0.000000      -0.322581       0.000000      -0.437900      -0.967742   \n",
       "4   0.000000      -0.207626       0.000000       0.177983      -0.018179   \n",
       "\n",
       "   inc_pctchg_30  pop_pctchg_30  \n",
       "0       0.000000      -0.981790  \n",
       "1       0.000000      -0.782244  \n",
       "2      -0.129032       8.068858  \n",
       "3      -0.032258      -0.979433  \n",
       "4       0.000000       0.223584  "
      ]
     },
     "execution_count": 3,
     "metadata": {},
     "output_type": "execute_result"
    }
   ],
   "source": [
    "data.head()"
   ]
  },
  {
   "cell_type": "code",
   "execution_count": 4,
   "metadata": {
    "collapsed": false,
    "scrolled": false
   },
   "outputs": [
    {
     "data": {
      "text/html": [
       "<div>\n",
       "<table border=\"1\" class=\"dataframe\">\n",
       "  <thead>\n",
       "    <tr style=\"text-align: right;\">\n",
       "      <th></th>\n",
       "      <th>country</th>\n",
       "      <th>gdp_rs</th>\n",
       "      <th>inc_rs</th>\n",
       "      <th>pop_rs</th>\n",
       "      <th>inc_gdpPop</th>\n",
       "      <th>inc_gdp</th>\n",
       "      <th>inc_pop</th>\n",
       "      <th>gdp_pctchg_10</th>\n",
       "      <th>inc_pctchg_10</th>\n",
       "      <th>pop_pctchg_10</th>\n",
       "      <th>gdp_pctchg_30</th>\n",
       "      <th>inc_pctchg_30</th>\n",
       "      <th>pop_pctchg_30</th>\n",
       "    </tr>\n",
       "  </thead>\n",
       "  <tbody>\n",
       "    <tr>\n",
       "      <th>209</th>\n",
       "      <td>Virgin Islands (U.S.)</td>\n",
       "      <td>-0.066217</td>\n",
       "      <td>0.000000</td>\n",
       "      <td>-0.306862</td>\n",
       "      <td>0.000000</td>\n",
       "      <td>0.000000</td>\n",
       "      <td>0.000000</td>\n",
       "      <td>-0.193548</td>\n",
       "      <td>0.000000</td>\n",
       "      <td>-0.333960</td>\n",
       "      <td>-0.838709</td>\n",
       "      <td>-0.193548</td>\n",
       "      <td>-0.969070</td>\n",
       "    </tr>\n",
       "    <tr>\n",
       "      <th>210</th>\n",
       "      <td>West Bank and Gaza</td>\n",
       "      <td>-0.058204</td>\n",
       "      <td>4.363548</td>\n",
       "      <td>-0.180544</td>\n",
       "      <td>-34.079382</td>\n",
       "      <td>-90.432938</td>\n",
       "      <td>-55.052797</td>\n",
       "      <td>6.154290</td>\n",
       "      <td>-0.161290</td>\n",
       "      <td>9.780542</td>\n",
       "      <td>-0.354839</td>\n",
       "      <td>0.000000</td>\n",
       "      <td>17.318045</td>\n",
       "    </tr>\n",
       "    <tr>\n",
       "      <th>211</th>\n",
       "      <td>Yemen, Rep.</td>\n",
       "      <td>2.244351</td>\n",
       "      <td>0.967419</td>\n",
       "      <td>0.717259</td>\n",
       "      <td>0.186107</td>\n",
       "      <td>0.234823</td>\n",
       "      <td>0.897083</td>\n",
       "      <td>-0.452625</td>\n",
       "      <td>-0.032258</td>\n",
       "      <td>-0.208001</td>\n",
       "      <td>134.585700</td>\n",
       "      <td>-0.124701</td>\n",
       "      <td>3.427201</td>\n",
       "    </tr>\n",
       "    <tr>\n",
       "      <th>212</th>\n",
       "      <td>Zambia</td>\n",
       "      <td>-0.023154</td>\n",
       "      <td>10.402581</td>\n",
       "      <td>0.330714</td>\n",
       "      <td>29.282896</td>\n",
       "      <td>-474.149415</td>\n",
       "      <td>27.186102</td>\n",
       "      <td>-0.150834</td>\n",
       "      <td>-0.230164</td>\n",
       "      <td>-0.072613</td>\n",
       "      <td>-0.655951</td>\n",
       "      <td>-0.018092</td>\n",
       "      <td>-0.345109</td>\n",
       "    </tr>\n",
       "    <tr>\n",
       "      <th>213</th>\n",
       "      <td>Zimbabwe</td>\n",
       "      <td>-0.056507</td>\n",
       "      <td>0.000000</td>\n",
       "      <td>0.444721</td>\n",
       "      <td>0.000000</td>\n",
       "      <td>0.000000</td>\n",
       "      <td>0.000000</td>\n",
       "      <td>-0.200970</td>\n",
       "      <td>0.000000</td>\n",
       "      <td>0.174861</td>\n",
       "      <td>-0.720761</td>\n",
       "      <td>-0.225806</td>\n",
       "      <td>0.207000</td>\n",
       "    </tr>\n",
       "  </tbody>\n",
       "</table>\n",
       "</div>"
      ],
      "text/plain": [
       "                   country    gdp_rs     inc_rs    pop_rs  inc_gdpPop  \\\n",
       "209  Virgin Islands (U.S.) -0.066217   0.000000 -0.306862    0.000000   \n",
       "210     West Bank and Gaza -0.058204   4.363548 -0.180544  -34.079382   \n",
       "211            Yemen, Rep.  2.244351   0.967419  0.717259    0.186107   \n",
       "212                 Zambia -0.023154  10.402581  0.330714   29.282896   \n",
       "213               Zimbabwe -0.056507   0.000000  0.444721    0.000000   \n",
       "\n",
       "        inc_gdp    inc_pop  gdp_pctchg_10  inc_pctchg_10  pop_pctchg_10  \\\n",
       "209    0.000000   0.000000      -0.193548       0.000000      -0.333960   \n",
       "210  -90.432938 -55.052797       6.154290      -0.161290       9.780542   \n",
       "211    0.234823   0.897083      -0.452625      -0.032258      -0.208001   \n",
       "212 -474.149415  27.186102      -0.150834      -0.230164      -0.072613   \n",
       "213    0.000000   0.000000      -0.200970       0.000000       0.174861   \n",
       "\n",
       "     gdp_pctchg_30  inc_pctchg_30  pop_pctchg_30  \n",
       "209      -0.838709      -0.193548      -0.969070  \n",
       "210      -0.354839       0.000000      17.318045  \n",
       "211     134.585700      -0.124701       3.427201  \n",
       "212      -0.655951      -0.018092      -0.345109  \n",
       "213      -0.720761      -0.225806       0.207000  "
      ]
     },
     "execution_count": 4,
     "metadata": {},
     "output_type": "execute_result"
    }
   ],
   "source": [
    "data.tail()"
   ]
  },
  {
   "cell_type": "markdown",
   "metadata": {},
   "source": [
    "# Outliers"
   ]
  },
  {
   "cell_type": "code",
   "execution_count": 5,
   "metadata": {
    "collapsed": false
   },
   "outputs": [
    {
     "name": "stderr",
     "output_type": "stream",
     "text": [
      "C:\\Users\\arsha_000\\Anaconda3\\lib\\site-packages\\seaborn\\categorical.py:2125: UserWarning: The boxplot API has been changed. Attempting to adjust your arguments for the new API (which might not work). Please update your code. See the version 0.6 release notes for more info.\n",
      "  warnings.warn(msg, UserWarning)\n"
     ]
    },
    {
     "data": {
      "text/plain": [
       "<matplotlib.axes._subplots.AxesSubplot at 0x1f971edbb70>"
      ]
     },
     "execution_count": 5,
     "metadata": {},
     "output_type": "execute_result"
    },
    {
     "data": {
      "image/png": "[encoded data removed]",
      "text/plain": [
       "<matplotlib.figure.Figure at 0x1f971edba90>"
      ]
     },
     "metadata": {},
     "output_type": "display_data"
    }
   ],
   "source": [
    "sns.boxplot(data, orient='h')"
   ]
  },
  {
   "cell_type": "code",
   "execution_count": 6,
   "metadata": {
    "collapsed": false
   },
   "outputs": [
    {
     "data": {
      "text/plain": [
       "gdp_rs             3223.733538\n",
       "inc_rs               38.681613\n",
       "pop_rs               80.215378\n",
       "inc_gdpPop          933.579133\n",
       "inc_gdp            4231.279523\n",
       "inc_pop             661.878393\n",
       "gdp_pctchg_10     17291.611078\n",
       "inc_pctchg_10         0.000000\n",
       "pop_pctchg_10      1546.573677\n",
       "gdp_pctchg_30    524433.663460\n",
       "inc_pctchg_30         0.034587\n",
       "pop_pctchg_30      3481.776828\n",
       "dtype: float64"
      ]
     },
     "execution_count": 6,
     "metadata": {},
     "output_type": "execute_result"
    }
   ],
   "source": [
    "data.iloc[:,1:].max()"
   ]
  },
  {
   "cell_type": "code",
   "execution_count": 7,
   "metadata": {
    "collapsed": false
   },
   "outputs": [
    {
     "data": {
      "text/plain": [
       "gdp_rs              -0.066476\n",
       "inc_rs               0.000000\n",
       "pop_rs              -0.313448\n",
       "inc_gdpPop        -176.042838\n",
       "inc_gdp         -42470.947176\n",
       "inc_pop          -8678.430735\n",
       "gdp_pctchg_10       -0.745989\n",
       "inc_pctchg_10       -0.346486\n",
       "pop_pctchg_10       -0.659326\n",
       "gdp_pctchg_30       -0.999999\n",
       "inc_pctchg_30       -0.838710\n",
       "pop_pctchg_30       -0.996550\n",
       "dtype: float64"
      ]
     },
     "execution_count": 7,
     "metadata": {},
     "output_type": "execute_result"
    }
   ],
   "source": [
    "data.iloc[:,1:].min()"
   ]
  },
  {
   "cell_type": "code",
   "execution_count": 8,
   "metadata": {
    "collapsed": false
   },
   "outputs": [
    {
     "name": "stdout",
     "output_type": "stream",
     "text": [
      "Outlier Indices\n",
      "\n",
      "GDP:  87\n",
      "GDP Pct Change 10: 208\n",
      "GDP Pct Chg 30:  199\n",
      "INC/GDP: 82\n",
      "Pop Pct Chg 10: 86\n",
      "Pop Pct Chg 30 86\n",
      "\n",
      "INC/GDP Min: 31\n",
      "INC/Pop Min: 143\n"
     ]
    }
   ],
   "source": [
    "print(\"Outlier Indices\\n\")\n",
    "print('GDP: ',np.argmax(data['gdp_rs']))\n",
    "print('GDP Pct Change 10:',np.argmax(data['gdp_pctchg_10']))\n",
    "print('GDP Pct Chg 30: ',np.argmax(data['gdp_pctchg_30']))\n",
    "print('INC/GDP:',np.argmax(data['inc_gdp']))\n",
    "print('Pop Pct Chg 10:',np.argmax(data['pop_pctchg_10']))\n",
    "print('Pop Pct Chg 30',np.argmax(data['pop_pctchg_30']))\n",
    "print('')\n",
    "print('INC/GDP Min:',np.argmin(data['inc_gdp']))\n",
    "print('INC/Pop Min:',np.argmin(data['inc_pop']))"
   ]
  },
  {
   "cell_type": "code",
   "execution_count": 9,
   "metadata": {
    "collapsed": false
   },
   "outputs": [
    {
     "name": "stderr",
     "output_type": "stream",
     "text": [
      "C:\\Users\\arsha_000\\Anaconda3\\lib\\site-packages\\pandas\\core\\indexing.py:545: SettingWithCopyWarning: \n",
      "A value is trying to be set on a copy of a slice from a DataFrame\n",
      "\n",
      "See the caveats in the documentation: http://pandas.pydata.org/pandas-docs/stable/indexing.html#indexing-view-versus-copy\n",
      "  self.obj[item_labels[indexer[info_axis]]] = value\n"
     ]
    }
   ],
   "source": [
    "data['gdp_rs'].iloc[87,] = 0\n",
    "data['gdp_pctchg_10'].iloc[208,]= 0\n",
    "data['gdp_pctchg_30'].iloc[199,]= 0\n",
    "data['inc_gdp'].iloc[82,]= 0\n",
    "data['pop_pctchg_10'].iloc[86,]= 0\n",
    "data['pop_pctchg_30'].iloc[86,]= 0\n",
    "data['inc_gdp'].iloc[31,]= 0\n",
    "data['inc_pop'].iloc[143,]= 0"
   ]
  },
  {
   "cell_type": "code",
   "execution_count": 10,
   "metadata": {
    "collapsed": false
   },
   "outputs": [
    {
     "data": {
      "text/plain": [
       "gdp_rs            1054.765804\n",
       "inc_rs              38.681613\n",
       "pop_rs              80.215378\n",
       "inc_gdpPop         933.579133\n",
       "inc_gdp           3171.154714\n",
       "inc_pop            661.878393\n",
       "gdp_pctchg_10     5437.104343\n",
       "inc_pctchg_10        0.000000\n",
       "pop_pctchg_10     1078.192537\n",
       "gdp_pctchg_30    21899.347004\n",
       "inc_pctchg_30        0.034587\n",
       "pop_pctchg_30     2248.810278\n",
       "dtype: float64"
      ]
     },
     "execution_count": 10,
     "metadata": {},
     "output_type": "execute_result"
    }
   ],
   "source": [
    "data.iloc[:,1:].max()"
   ]
  },
  {
   "cell_type": "code",
   "execution_count": 11,
   "metadata": {
    "collapsed": false
   },
   "outputs": [
    {
     "name": "stdout",
     "output_type": "stream",
     "text": [
      "GDP Pct Chg 30:  208\n"
     ]
    }
   ],
   "source": [
    "print('GDP Pct Chg 30: ',np.argmax(data['gdp_pctchg_30']))"
   ]
  },
  {
   "cell_type": "code",
   "execution_count": 12,
   "metadata": {
    "collapsed": false
   },
   "outputs": [
    {
     "name": "stderr",
     "output_type": "stream",
     "text": [
      "C:\\Users\\arsha_000\\Anaconda3\\lib\\site-packages\\pandas\\core\\indexing.py:545: SettingWithCopyWarning: \n",
      "A value is trying to be set on a copy of a slice from a DataFrame\n",
      "\n",
      "See the caveats in the documentation: http://pandas.pydata.org/pandas-docs/stable/indexing.html#indexing-view-versus-copy\n",
      "  self.obj[item_labels[indexer[info_axis]]] = value\n"
     ]
    }
   ],
   "source": [
    "data['gdp_pctchg_30'].iloc[208,]= 0"
   ]
  },
  {
   "cell_type": "code",
   "execution_count": 13,
   "metadata": {
    "collapsed": false,
    "scrolled": false
   },
   "outputs": [
    {
     "name": "stderr",
     "output_type": "stream",
     "text": [
      "C:\\Users\\arsha_000\\Anaconda3\\lib\\site-packages\\seaborn\\categorical.py:2125: UserWarning: The boxplot API has been changed. Attempting to adjust your arguments for the new API (which might not work). Please update your code. See the version 0.6 release notes for more info.\n",
      "  warnings.warn(msg, UserWarning)\n"
     ]
    },
    {
     "data": {
      "text/plain": [
       "<matplotlib.axes._subplots.AxesSubplot at 0x1f97208e160>"
      ]
     },
     "execution_count": 13,
     "metadata": {},
     "output_type": "execute_result"
    },
    {
     "data": {
      "image/png": "[encoded data removed]",
      "text/plain": [
       "<matplotlib.figure.Figure at 0x1f9722153c8>"
      ]
     },
     "metadata": {},
     "output_type": "display_data"
    }
   ],
   "source": [
    "sns.boxplot(data, orient='h')"
   ]
  },
  {
   "cell_type": "code",
   "execution_count": 14,
   "metadata": {
    "collapsed": false
   },
   "outputs": [
    {
     "name": "stdout",
     "output_type": "stream",
     "text": [
      "GDP Pct Chg 30:  17\n"
     ]
    }
   ],
   "source": [
    "data.iloc[:,1:].max()\n",
    "print('GDP Pct Chg 30: ',np.argmax(data['gdp_pctchg_30']))"
   ]
  },
  {
   "cell_type": "code",
   "execution_count": 15,
   "metadata": {
    "collapsed": false
   },
   "outputs": [
    {
     "name": "stderr",
     "output_type": "stream",
     "text": [
      "C:\\Users\\arsha_000\\Anaconda3\\lib\\site-packages\\pandas\\core\\indexing.py:545: SettingWithCopyWarning: \n",
      "A value is trying to be set on a copy of a slice from a DataFrame\n",
      "\n",
      "See the caveats in the documentation: http://pandas.pydata.org/pandas-docs/stable/indexing.html#indexing-view-versus-copy\n",
      "  self.obj[item_labels[indexer[info_axis]]] = value\n"
     ]
    }
   ],
   "source": [
    "data['gdp_pctchg_30'].iloc[17,]= 0\n",
    "data['inc_pop'].iloc[np.argmin(data['inc_pop']),]=0"
   ]
  },
  {
   "cell_type": "code",
   "execution_count": 16,
   "metadata": {
    "collapsed": false
   },
   "outputs": [
    {
     "data": {
      "text/plain": [
       "gdp_rs            -0.066476\n",
       "inc_rs             0.000000\n",
       "pop_rs            -0.313448\n",
       "inc_gdpPop      -176.042838\n",
       "inc_gdp         -716.171305\n",
       "inc_pop         -961.298628\n",
       "gdp_pctchg_10     -0.745989\n",
       "inc_pctchg_10     -0.346486\n",
       "pop_pctchg_10     -0.659326\n",
       "gdp_pctchg_30     -0.999999\n",
       "inc_pctchg_30     -0.838710\n",
       "pop_pctchg_30     -0.996550\n",
       "dtype: float64"
      ]
     },
     "execution_count": 16,
     "metadata": {},
     "output_type": "execute_result"
    }
   ],
   "source": [
    "data.iloc[:,1:].min()"
   ]
  },
  {
   "cell_type": "markdown",
   "metadata": {},
   "source": [
    "# Convert to Numpy array for clustering"
   ]
  },
  {
   "cell_type": "code",
   "execution_count": 17,
   "metadata": {
    "collapsed": true
   },
   "outputs": [],
   "source": [
    "X = np.asarray(data.iloc[:,1:])"
   ]
  },
  {
   "cell_type": "code",
   "execution_count": 18,
   "metadata": {
    "collapsed": false
   },
   "outputs": [
    {
     "data": {
      "text/plain": [
       "array([[ -1.10062808e-03,   0.00000000e+00,   8.78713032e-01,\n",
       "          0.00000000e+00,   0.00000000e+00,   0.00000000e+00,\n",
       "         -2.90322581e-01,   0.00000000e+00,  -5.07973675e-01,\n",
       "         -3.22580645e-02,   0.00000000e+00,  -9.81789508e-01],\n",
       "       [  2.91509684e-01,   3.09870968e+00,  -1.07319486e-01,\n",
       "          1.33121376e+01,   8.89361293e+00,  -2.88726007e+01,\n",
       "         -9.04747537e-02,  -1.29032258e-01,  -2.46225300e-01,\n",
       "          3.61227040e-01,   0.00000000e+00,  -7.82244451e-01]])"
      ]
     },
     "execution_count": 18,
     "metadata": {},
     "output_type": "execute_result"
    }
   ],
   "source": [
    "X[:2]"
   ]
  },
  {
   "cell_type": "code",
   "execution_count": 19,
   "metadata": {
    "collapsed": true
   },
   "outputs": [],
   "source": [
    "from sklearn.cluster import *\n",
    "from sklearn.decomposition import PCA"
   ]
  },
  {
   "cell_type": "markdown",
   "metadata": {},
   "source": [
    "# Birch Clustering"
   ]
  },
  {
   "cell_type": "code",
   "execution_count": 20,
   "metadata": {
    "collapsed": false
   },
   "outputs": [],
   "source": [
    "pca = PCA(2)\n",
    "plot_columns = pca.fit_transform(X)"
   ]
  },
  {
   "cell_type": "code",
   "execution_count": 21,
   "metadata": {
    "collapsed": false
   },
   "outputs": [
    {
     "data": {
      "text/plain": [
       "<matplotlib.text.Text at 0x1f972bc7668>"
      ]
     },
     "execution_count": 21,
     "metadata": {},
     "output_type": "execute_result"
    },
    {
     "data": {
      "image/png": "[encoded data removed]",
      "text/plain": [
       "<matplotlib.figure.Figure at 0x1f972831710>"
      ]
     },
     "metadata": {},
     "output_type": "display_data"
    }
   ],
   "source": [
    "brc = Birch().fit(X)\n",
    "plt.scatter(plot_columns[:,0],plot_columns[:,1], c=brc.labels_,s=80, cmap=plt.cm.plasma)\n",
    "plt.xticks(fontsize=15)\n",
    "plt.yticks(fontsize=15)\n",
    "plt.xlabel(\"PC 1\", fontsize=15)\n",
    "plt.ylabel(\"PC 2\", fontsize=15)\n",
    "plt.suptitle(\"Scatterplot of Principal Components for Birch Clustering\", fontsize=15)\n",
    "plt.title('Estimated number of clusters: %d' % brc.n_clusters, fontsize=15)"
   ]
  },
  {
   "cell_type": "code",
   "execution_count": 22,
   "metadata": {
    "collapsed": false
   },
   "outputs": [
    {
     "data": {
      "text/plain": [
       "array([1, 1, 1, 1, 1, 1, 1, 1, 1, 1, 1, 1, 1, 1, 1, 1, 1, 2, 1, 1, 0, 1, 1,\n",
       "       1, 1, 1, 1, 1, 1, 1, 1, 1, 1, 1, 1, 1, 1, 1, 1, 0, 1, 1, 1, 1, 1, 1,\n",
       "       1, 1, 1, 1, 1, 1, 1, 1, 1, 1, 1, 1, 1, 1, 1, 1, 1, 1, 1, 1, 1, 1, 1,\n",
       "       1, 1, 1, 1, 1, 1, 1, 1, 1, 1, 1, 1, 1, 1, 1, 1, 1, 1, 1, 1, 1, 1, 1,\n",
       "       1, 1, 1, 1, 1, 1, 1, 1, 1, 1, 1, 1, 1, 1, 1, 1, 1, 1, 1, 1, 1, 1, 1,\n",
       "       1, 1, 1, 1, 1, 1, 1, 1, 0, 1, 1, 1, 1, 1, 0, 1, 1, 1, 1, 1, 1, 1, 1,\n",
       "       1, 1, 1, 1, 1, 1, 1, 1, 1, 1, 1, 0, 1, 1, 1, 1, 1, 1, 1, 1, 1, 1, 1,\n",
       "       1, 1, 1, 1, 1, 1, 1, 1, 1, 1, 1, 1, 1, 1, 1, 1, 1, 1, 1, 1, 1, 1, 1,\n",
       "       1, 1, 1, 1, 0, 1, 1, 1, 1, 1, 1, 1, 1, 1, 1, 1, 1, 1, 1, 1, 1, 1, 1,\n",
       "       1, 1, 1, 1, 1, 1, 1], dtype=int64)"
      ]
     },
     "execution_count": 22,
     "metadata": {},
     "output_type": "execute_result"
    }
   ],
   "source": [
    "brc.labels_"
   ]
  },
  {
   "cell_type": "code",
   "execution_count": 23,
   "metadata": {
    "collapsed": false
   },
   "outputs": [],
   "source": [
    "idx = np.argsort(brc.labels_)"
   ]
  },
  {
   "cell_type": "code",
   "execution_count": 24,
   "metadata": {
    "collapsed": false,
    "scrolled": true
   },
   "outputs": [
    {
     "data": {
      "text/plain": [
       "20          Benin\n",
       "39          Chile\n",
       "123    Mauritania\n",
       "129      Mongolia\n",
       "149      Paraguay\n",
       "188      Tanzania\n",
       "Name: country, dtype: object"
      ]
     },
     "execution_count": 24,
     "metadata": {},
     "output_type": "execute_result"
    }
   ],
   "source": [
    "data['country'][brc.labels_==0]"
   ]
  },
  {
   "cell_type": "code",
   "execution_count": 25,
   "metadata": {
    "collapsed": false
   },
   "outputs": [
    {
     "data": {
      "text/plain": [
       "0             Afghanistan\n",
       "1                 Albania\n",
       "2                 Algeria\n",
       "3          American Samoa\n",
       "4                 Andorra\n",
       "5                  Angola\n",
       "6     Antigua and Barbuda\n",
       "7               Argentina\n",
       "8                 Armenia\n",
       "9                   Aruba\n",
       "10              Australia\n",
       "11                Austria\n",
       "12             Azerbaijan\n",
       "13           Bahamas, The\n",
       "14                Bahrain\n",
       "15             Bangladesh\n",
       "16               Barbados\n",
       "18                Belgium\n",
       "19                 Belize\n",
       "21                Bermuda\n",
       "Name: country, dtype: object"
      ]
     },
     "execution_count": 25,
     "metadata": {},
     "output_type": "execute_result"
    }
   ],
   "source": [
    "data['country'][brc.labels_==1][:20]"
   ]
  },
  {
   "cell_type": "code",
   "execution_count": 26,
   "metadata": {
    "collapsed": false
   },
   "outputs": [
    {
     "data": {
      "text/plain": [
       "17    Belarus\n",
       "Name: country, dtype: object"
      ]
     },
     "execution_count": 26,
     "metadata": {},
     "output_type": "execute_result"
    }
   ],
   "source": [
    "data['country'][brc.labels_==2]"
   ]
  },
  {
   "cell_type": "markdown",
   "metadata": {},
   "source": [
    "# K-means"
   ]
  },
  {
   "cell_type": "code",
   "execution_count": 27,
   "metadata": {
    "collapsed": false
   },
   "outputs": [
    {
     "data": {
      "text/plain": [
       "<matplotlib.text.Text at 0x1f972c42b70>"
      ]
     },
     "execution_count": 27,
     "metadata": {},
     "output_type": "execute_result"
    },
    {
     "data": {
      "image/png": "[encoded data removed]",
      "text/plain": [
       "<matplotlib.figure.Figure at 0x1f972be5f28>"
      ]
     },
     "metadata": {},
     "output_type": "display_data"
    }
   ],
   "source": [
    "km3 = KMeans(3).fit(X)\n",
    "plt.scatter(plot_columns[:,0],plot_columns[:,1], c=km3.labels_,s=80, cmap=plt.cm.plasma)\n",
    "plt.xticks(fontsize=15)\n",
    "plt.yticks(fontsize=15)\n",
    "plt.xlabel(\"PC 1\", fontsize=15)\n",
    "plt.ylabel(\"PC 2\", fontsize=15)\n",
    "plt.suptitle(\"Scatterplot of Principal Components for K-Means Clustering Robust Scaling\", fontsize=15)\n",
    "plt.title('K =3 Cluster Solution', fontsize=15)"
   ]
  },
  {
   "cell_type": "code",
   "execution_count": 28,
   "metadata": {
    "collapsed": false
   },
   "outputs": [],
   "source": [
    "data.to_excel('robust_merged_noOutlier.xlsx')"
   ]
  },
  {
   "cell_type": "code",
   "execution_count": 29,
   "metadata": {
    "collapsed": false
   },
   "outputs": [
    {
     "name": "stdout",
     "output_type": "stream",
     "text": [
      "\n"
     ]
    },
    {
     "name": "stderr",
     "output_type": "stream",
     "text": [
      "C:\\Users\\arsha_000\\Anaconda3\\lib\\site-packages\\sklearn\\manifold\\spectral_embedding_.py:217: UserWarning: Graph is not fully connected, spectral embedding may not work as expected.\n",
      "  warnings.warn(\"Graph is not fully connected, spectral embedding\"\n"
     ]
    },
    {
     "data": {
      "text/plain": [
       "<matplotlib.text.Text at 0x1f972da0f60>"
      ]
     },
     "execution_count": 29,
     "metadata": {},
     "output_type": "execute_result"
    },
    {
     "data": {
      "image/png": "[encoded data removed]",
      "text/plain": [
       "<matplotlib.figure.Figure at 0x1f972c00668>"
      ]
     },
     "metadata": {},
     "output_type": "display_data"
    }
   ],
   "source": [
    "plt.figure(figsize=(20,7))\n",
    "\n",
    "plt.suptitle('PCA Scatter Plot of Birch, K-means and Spectral Clustering Solutions with Robust Scaling\\n\\n', fontsize=20)\n",
    "print()\n",
    "plt.subplot(131)\n",
    "#plot birch\n",
    "plt.scatter(plot_columns[:,0],plot_columns[:,1], c=brc.labels_,s=80, cmap=plt.cm.plasma)\n",
    "plt.xticks(fontsize=15)\n",
    "plt.yticks(fontsize=15)\n",
    "plt.xlabel(\"PC 1\", fontsize=15)\n",
    "plt.ylabel(\"PC 2\", fontsize=15)\n",
    "plt.title('Birch Estimated number of clusters: %d' % brc.n_clusters, fontsize=15)\n",
    "\n",
    "plt.subplot(132)\n",
    "#plot k-means\n",
    "plt.scatter(plot_columns[:,0],plot_columns[:,1], c=km3.labels_,s=80, cmap=plt.cm.plasma)\n",
    "plt.xticks(fontsize=15)\n",
    "plt.yticks(fontsize=15)\n",
    "plt.xlabel(\"PC 1\", fontsize=15)\n",
    "plt.ylabel(\"PC 2\", fontsize=15)\n",
    "plt.title('Kmeans, K =3 Cluster Solution', fontsize=15)\n",
    "\n",
    "plt.subplot(133)\n",
    "#plot spectral clustering\n",
    "sc = SpectralClustering().fit(X)\n",
    "plt.scatter(plot_columns[:,0],plot_columns[:,1], c=sc.labels_,s=80, cmap=plt.cm.plasma)\n",
    "plt.xticks(fontsize=15)\n",
    "plt.yticks(fontsize=15)\n",
    "plt.xlabel(\"PC 1\", fontsize=15)\n",
    "plt.ylabel(\"PC 2\", fontsize=15)\n",
    "plt.title('Spectral Clustering Estimated number of clusters: %d' % sc.n_clusters, fontsize=15)\n"
   ]
  },
  {
   "cell_type": "code",
   "execution_count": 49,
   "metadata": {
    "collapsed": false
   },
   "outputs": [
    {
     "data": {
      "text/plain": [
       "99     Kiribati\n",
       "192       Tonga\n",
       "Name: country, dtype: object"
      ]
     },
     "execution_count": 49,
     "metadata": {},
     "output_type": "execute_result"
    }
   ],
   "source": [
    "data['country'][sc.labels_==2]"
   ]
  },
  {
   "cell_type": "code",
   "execution_count": 35,
   "metadata": {
    "collapsed": false
   },
   "outputs": [
    {
     "data": {
      "text/plain": [
       "159              Samoa\n",
       "171    Solomon Islands\n",
       "Name: country, dtype: object"
      ]
     },
     "execution_count": 35,
     "metadata": {},
     "output_type": "execute_result"
    }
   ],
   "source": [
    "data['country'][sc.labels_==3]"
   ]
  },
  {
   "cell_type": "code",
   "execution_count": 36,
   "metadata": {
    "collapsed": false
   },
   "outputs": [
    {
     "data": {
      "text/plain": [
       "13          Bahamas, The\n",
       "27     Brunei Darussalam\n",
       "167            Singapore\n",
       "198               Tuvalu\n",
       "Name: country, dtype: object"
      ]
     },
     "execution_count": 36,
     "metadata": {},
     "output_type": "execute_result"
    }
   ],
   "source": [
    "data['country'][sc.labels_==4]"
   ]
  },
  {
   "cell_type": "code",
   "execution_count": 37,
   "metadata": {
    "collapsed": false
   },
   "outputs": [
    {
     "data": {
      "text/plain": [
       "0      Afghanistan\n",
       "4          Andorra\n",
       "75         Grenada\n",
       "76            Guam\n",
       "138    New Zealand\n",
       "172        Somalia\n",
       "213       Zimbabwe\n",
       "Name: country, dtype: object"
      ]
     },
     "execution_count": 37,
     "metadata": {},
     "output_type": "execute_result"
    }
   ],
   "source": [
    "data['country'][sc.labels_==5]"
   ]
  },
  {
   "cell_type": "code",
   "execution_count": 38,
   "metadata": {
    "collapsed": false
   },
   "outputs": [
    {
     "data": {
      "text/plain": [
       "9                          Aruba\n",
       "35                Cayman Islands\n",
       "38               Channel Islands\n",
       "54                      Dominica\n",
       "91                   Isle of Man\n",
       "128                       Monaco\n",
       "137                New Caledonia\n",
       "146                        Palau\n",
       "154                  Puerto Rico\n",
       "160                   San Marino\n",
       "168    Sint Maarten (Dutch part)\n",
       "197     Turks and Caicos Islands\n",
       "Name: country, dtype: object"
      ]
     },
     "execution_count": 38,
     "metadata": {},
     "output_type": "execute_result"
    }
   ],
   "source": [
    "data['country'][sc.labels_==6]"
   ]
  },
  {
   "cell_type": "code",
   "execution_count": 42,
   "metadata": {
    "collapsed": false
   },
   "outputs": [
    {
     "data": {
      "text/plain": [
       "20          Benin\n",
       "39          Chile\n",
       "123    Mauritania\n",
       "129      Mongolia\n",
       "149      Paraguay\n",
       "188      Tanzania\n",
       "Name: country, dtype: object"
      ]
     },
     "execution_count": 42,
     "metadata": {},
     "output_type": "execute_result"
    }
   ],
   "source": [
    "data['country'][km3.labels_==1]"
   ]
  },
  {
   "cell_type": "code",
   "execution_count": 48,
   "metadata": {
    "collapsed": false
   },
   "outputs": [
    {
     "data": {
      "text/plain": [
       "17    Belarus\n",
       "Name: country, dtype: object"
      ]
     },
     "execution_count": 48,
     "metadata": {},
     "output_type": "execute_result"
    }
   ],
   "source": [
    "data['country'][brc.labels_==2]"
   ]
  },
  {
   "cell_type": "code",
   "execution_count": null,
   "metadata": {
    "collapsed": true
   },
   "outputs": [],
   "source": []
  }
 ],
 "metadata": {
  "kernelspec": {
   "display_name": "Python 3",
   "language": "python",
   "name": "python3"
  },
  "language_info": {
   "codemirror_mode": {
    "name": "ipython",
    "version": 3
   },
   "file_extension": ".py",
   "mimetype": "text/x-python",
   "name": "python",
   "nbconvert_exporter": "python",
   "pygments_lexer": "ipython3",
   "version": "3.5.1"
  }
 },
 "nbformat": 4,
 "nbformat_minor": 0
}

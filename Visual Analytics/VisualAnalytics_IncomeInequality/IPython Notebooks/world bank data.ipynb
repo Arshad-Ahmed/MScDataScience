{
 "cells": [
  {
   "cell_type": "markdown",
   "metadata": {
    "nbpresent": {
     "id": "01871f7d-bded-4ed8-801b-6639464ddedf"
    },
    "slideshow": {
     "slide_type": "slide"
    }
   },
   "source": [
    "# A Visual Analytics Exploration of Development, Energy Use, Health and Migration Data"
   ]
  },
  {
   "cell_type": "markdown",
   "metadata": {},
   "source": [
    "---"
   ]
  },
  {
   "cell_type": "markdown",
   "metadata": {
    "nbpresent": {
     "id": "d73828b6-e17c-416c-b576-9280f0fd3932"
    },
    "slideshow": {
     "slide_type": "slide"
    }
   },
   "source": [
    "## Introduction"
   ]
  },
  {
   "cell_type": "markdown",
   "metadata": {},
   "source": [
    "Using data from the World Bank I explore the spatial and temporal relationships between development, energy use, health and migration data. \n",
    "\n",
    "The indicators used are as follows:\n",
    "- GDP Growth\n",
    "- Energy use (kg of oil equivalent per capita)\n",
    "- Annual deforestation (% of change)\t\n",
    "- Refugee population by country or territory\n",
    "- Life expectancy at birth, total (years)"
   ]
  },
  {
   "cell_type": "code",
   "execution_count": 73,
   "metadata": {
    "ExecuteTime": {
     "end_time": "2016-04-02T17:36:06.005238",
     "start_time": "2016-04-02T17:36:05.987226"
    },
    "collapsed": false,
    "nbpresent": {
     "id": "d60a014c-4aba-4aaa-832d-1f3c7ad82cf3"
    },
    "slideshow": {
     "slide_type": "skip"
    }
   },
   "outputs": [],
   "source": [
    "import pandas as pd\n",
    "import numpy as np\n",
    "import seaborn as sns\n",
    "import folium \n",
    "import mplleaflet\n",
    "from pandas.io import wb\n",
    "import matplotlib.pyplot as plt\n",
    "%matplotlib inline"
   ]
  },
  {
   "cell_type": "code",
   "execution_count": 74,
   "metadata": {
    "ExecuteTime": {
     "end_time": "2016-04-02T17:36:18.948684",
     "start_time": "2016-04-02T17:36:08.144129"
    },
    "collapsed": false,
    "nbpresent": {
     "id": "4d783705-9579-48c4-b446-ab8c67908f03"
    },
    "slideshow": {
     "slide_type": "skip"
    }
   },
   "outputs": [
    {
     "data": {
      "text/html": [
       "<div>\n",
       "<table border=\"1\" class=\"dataframe\">\n",
       "  <thead>\n",
       "    <tr style=\"text-align: right;\">\n",
       "      <th></th>\n",
       "      <th></th>\n",
       "      <th>BG.GSR.NFSV.GD.ZS</th>\n",
       "      <th>AG.LND.FRST.ZS</th>\n",
       "      <th>EG.USE.PCAP.KG.OE</th>\n",
       "      <th>SM.POP.REFG</th>\n",
       "      <th>SP.DYN.LE00.IN</th>\n",
       "    </tr>\n",
       "    <tr>\n",
       "      <th>country</th>\n",
       "      <th>year</th>\n",
       "      <th></th>\n",
       "      <th></th>\n",
       "      <th></th>\n",
       "      <th></th>\n",
       "      <th></th>\n",
       "    </tr>\n",
       "  </thead>\n",
       "  <tbody>\n",
       "    <tr>\n",
       "      <th rowspan=\"5\" valign=\"top\">Arab World</th>\n",
       "      <th>2013</th>\n",
       "      <td>14.502663</td>\n",
       "      <td>2.838442</td>\n",
       "      <td>NaN</td>\n",
       "      <td>7794808.0</td>\n",
       "      <td>70.631305</td>\n",
       "    </tr>\n",
       "    <tr>\n",
       "      <th>2012</th>\n",
       "      <td>13.977559</td>\n",
       "      <td>2.856322</td>\n",
       "      <td>1843.498772</td>\n",
       "      <td>6638911.0</td>\n",
       "      <td>70.428991</td>\n",
       "    </tr>\n",
       "    <tr>\n",
       "      <th>2011</th>\n",
       "      <td>14.969959</td>\n",
       "      <td>2.874204</td>\n",
       "      <td>1747.429223</td>\n",
       "      <td>6657656.0</td>\n",
       "      <td>70.219347</td>\n",
       "    </tr>\n",
       "    <tr>\n",
       "      <th>2010</th>\n",
       "      <td>17.142639</td>\n",
       "      <td>3.417508</td>\n",
       "      <td>1786.126353</td>\n",
       "      <td>7077529.0</td>\n",
       "      <td>70.003017</td>\n",
       "    </tr>\n",
       "    <tr>\n",
       "      <th>2009</th>\n",
       "      <td>19.115962</td>\n",
       "      <td>3.425092</td>\n",
       "      <td>1715.097489</td>\n",
       "      <td>6955072.0</td>\n",
       "      <td>69.773806</td>\n",
       "    </tr>\n",
       "  </tbody>\n",
       "</table>\n",
       "</div>"
      ],
      "text/plain": [
       "                 BG.GSR.NFSV.GD.ZS  AG.LND.FRST.ZS  EG.USE.PCAP.KG.OE  \\\n",
       "country    year                                                         \n",
       "Arab World 2013          14.502663        2.838442                NaN   \n",
       "           2012          13.977559        2.856322        1843.498772   \n",
       "           2011          14.969959        2.874204        1747.429223   \n",
       "           2010          17.142639        3.417508        1786.126353   \n",
       "           2009          19.115962        3.425092        1715.097489   \n",
       "\n",
       "                 SM.POP.REFG  SP.DYN.LE00.IN  \n",
       "country    year                               \n",
       "Arab World 2013    7794808.0       70.631305  \n",
       "           2012    6638911.0       70.428991  \n",
       "           2011    6657656.0       70.219347  \n",
       "           2010    7077529.0       70.003017  \n",
       "           2009    6955072.0       69.773806  "
      ]
     },
     "execution_count": 74,
     "metadata": {},
     "output_type": "execute_result"
    }
   ],
   "source": [
    "df = wb.download(indicator=['BG.GSR.NFSV.GD.ZS','AG.LND.FRST.ZS','EG.USE.PCAP.KG.OE','SM.POP.REFG','SP.DYN.LE00.IN'],\n",
    "                    country='all',\n",
    "                    start=2000,end=2013)\n",
    "df.head()"
   ]
  },
  {
   "cell_type": "code",
   "execution_count": 76,
   "metadata": {
    "ExecuteTime": {
     "end_time": "2016-04-02T17:36:29.689078",
     "start_time": "2016-04-02T17:36:29.681070"
    },
    "collapsed": false,
    "nbpresent": {
     "id": "d7004522-8538-447b-bde6-506843b6673c"
    },
    "slideshow": {
     "slide_type": "skip"
    }
   },
   "outputs": [
    {
     "data": {
      "text/plain": [
       "Index(['BG.GSR.NFSV.GD.ZS', 'AG.LND.FRST.ZS', 'EG.USE.PCAP.KG.OE',\n",
       "       'SM.POP.REFG', 'SP.DYN.LE00.IN'],\n",
       "      dtype='object')"
      ]
     },
     "execution_count": 76,
     "metadata": {},
     "output_type": "execute_result"
    }
   ],
   "source": [
    "df.columns"
   ]
  },
  {
   "cell_type": "code",
   "execution_count": 77,
   "metadata": {
    "ExecuteTime": {
     "end_time": "2016-04-02T17:36:30.570784",
     "start_time": "2016-04-02T17:36:30.566781"
    },
    "collapsed": false,
    "nbpresent": {
     "id": "70fa05a0-b104-4771-a2d7-a5c7417a4171"
    },
    "slideshow": {
     "slide_type": "skip"
    }
   },
   "outputs": [],
   "source": [
    "df.columns= ['ServicesPercGDP', 'Deforestation','EnergyUse','RefugeePop','LifeExpTotal']"
   ]
  },
  {
   "cell_type": "code",
   "execution_count": 78,
   "metadata": {
    "ExecuteTime": {
     "end_time": "2016-04-02T17:36:46.435423",
     "start_time": "2016-04-02T17:36:46.423416"
    },
    "collapsed": false,
    "nbpresent": {
     "id": "b2ead05d-8d27-4d84-9c77-43325e82988c"
    },
    "slideshow": {
     "slide_type": "skip"
    }
   },
   "outputs": [],
   "source": [
    "df.reset_index(inplace=True)\n",
    "df.fillna(0);"
   ]
  },
  {
   "cell_type": "code",
   "execution_count": 79,
   "metadata": {
    "ExecuteTime": {
     "end_time": "2016-04-02T17:36:47.220230",
     "start_time": "2016-04-02T17:36:47.198215"
    },
    "collapsed": false,
    "scrolled": true
   },
   "outputs": [
    {
     "data": {
      "text/html": [
       "<div>\n",
       "<table border=\"1\" class=\"dataframe\">\n",
       "  <thead>\n",
       "    <tr style=\"text-align: right;\">\n",
       "      <th></th>\n",
       "      <th>country</th>\n",
       "      <th>year</th>\n",
       "      <th>ServicesPercGDP</th>\n",
       "      <th>Deforestation</th>\n",
       "      <th>EnergyUse</th>\n",
       "      <th>RefugeePop</th>\n",
       "      <th>LifeExpTotal</th>\n",
       "    </tr>\n",
       "  </thead>\n",
       "  <tbody>\n",
       "    <tr>\n",
       "      <th>0</th>\n",
       "      <td>Arab World</td>\n",
       "      <td>2013</td>\n",
       "      <td>14.502663</td>\n",
       "      <td>2.838442</td>\n",
       "      <td>NaN</td>\n",
       "      <td>7794808.0</td>\n",
       "      <td>70.631305</td>\n",
       "    </tr>\n",
       "    <tr>\n",
       "      <th>1</th>\n",
       "      <td>Arab World</td>\n",
       "      <td>2012</td>\n",
       "      <td>13.977559</td>\n",
       "      <td>2.856322</td>\n",
       "      <td>1843.498772</td>\n",
       "      <td>6638911.0</td>\n",
       "      <td>70.428991</td>\n",
       "    </tr>\n",
       "    <tr>\n",
       "      <th>2</th>\n",
       "      <td>Arab World</td>\n",
       "      <td>2011</td>\n",
       "      <td>14.969959</td>\n",
       "      <td>2.874204</td>\n",
       "      <td>1747.429223</td>\n",
       "      <td>6657656.0</td>\n",
       "      <td>70.219347</td>\n",
       "    </tr>\n",
       "    <tr>\n",
       "      <th>3</th>\n",
       "      <td>Arab World</td>\n",
       "      <td>2010</td>\n",
       "      <td>17.142639</td>\n",
       "      <td>3.417508</td>\n",
       "      <td>1786.126353</td>\n",
       "      <td>7077529.0</td>\n",
       "      <td>70.003017</td>\n",
       "    </tr>\n",
       "    <tr>\n",
       "      <th>4</th>\n",
       "      <td>Arab World</td>\n",
       "      <td>2009</td>\n",
       "      <td>19.115962</td>\n",
       "      <td>3.425092</td>\n",
       "      <td>1715.097489</td>\n",
       "      <td>6955072.0</td>\n",
       "      <td>69.773806</td>\n",
       "    </tr>\n",
       "  </tbody>\n",
       "</table>\n",
       "</div>"
      ],
      "text/plain": [
       "      country  year  ServicesPercGDP  Deforestation    EnergyUse  RefugeePop  \\\n",
       "0  Arab World  2013        14.502663       2.838442          NaN   7794808.0   \n",
       "1  Arab World  2012        13.977559       2.856322  1843.498772   6638911.0   \n",
       "2  Arab World  2011        14.969959       2.874204  1747.429223   6657656.0   \n",
       "3  Arab World  2010        17.142639       3.417508  1786.126353   7077529.0   \n",
       "4  Arab World  2009        19.115962       3.425092  1715.097489   6955072.0   \n",
       "\n",
       "   LifeExpTotal  \n",
       "0     70.631305  \n",
       "1     70.428991  \n",
       "2     70.219347  \n",
       "3     70.003017  \n",
       "4     69.773806  "
      ]
     },
     "execution_count": 79,
     "metadata": {},
     "output_type": "execute_result"
    }
   ],
   "source": [
    "df.head()"
   ]
  },
  {
   "cell_type": "markdown",
   "metadata": {},
   "source": [
    "### Get the country names from the dataframe and drop the aggregates"
   ]
  },
  {
   "cell_type": "code",
   "execution_count": 139,
   "metadata": {
    "ExecuteTime": {
     "end_time": "2016-04-02T18:21:51.429145",
     "start_time": "2016-04-02T18:21:51.418138"
    },
    "collapsed": false
   },
   "outputs": [
    {
     "data": {
      "text/plain": [
       "248"
      ]
     },
     "execution_count": 139,
     "metadata": {},
     "output_type": "execute_result"
    }
   ],
   "source": [
    "country_names = df['country'].unique()\n",
    "len(country_names)"
   ]
  },
  {
   "cell_type": "code",
   "execution_count": 140,
   "metadata": {
    "ExecuteTime": {
     "end_time": "2016-04-02T18:21:52.403814",
     "start_time": "2016-04-02T18:21:52.394809"
    },
    "collapsed": false,
    "scrolled": false
   },
   "outputs": [
    {
     "data": {
      "text/plain": [
       "array(['Afghanistan', 'Albania', 'Algeria', 'American Samoa', 'Andorra',\n",
       "       'Angola', 'Antigua and Barbuda', 'Argentina', 'Armenia', 'Aruba'], dtype=object)"
      ]
     },
     "execution_count": 140,
     "metadata": {},
     "output_type": "execute_result"
    }
   ],
   "source": [
    "keep_ctry = country_names[34:]\n",
    "keep_ctry[:10]"
   ]
  },
  {
   "cell_type": "code",
   "execution_count": 82,
   "metadata": {
    "ExecuteTime": {
     "end_time": "2016-04-02T17:37:02.697624",
     "start_time": "2016-04-02T17:37:02.147255"
    },
    "collapsed": false,
    "nbpresent": {
     "id": "25f89e24-202f-4020-bdee-b6ca535be50e"
    },
    "scrolled": true,
    "slideshow": {
     "slide_type": "skip"
    }
   },
   "outputs": [
    {
     "data": {
      "text/html": [
       "<div>\n",
       "<table border=\"1\" class=\"dataframe\">\n",
       "  <thead>\n",
       "    <tr style=\"text-align: right;\">\n",
       "      <th></th>\n",
       "      <th>adminregion</th>\n",
       "      <th>capitalCity</th>\n",
       "      <th>iso3c</th>\n",
       "      <th>incomeLevel</th>\n",
       "      <th>iso2c</th>\n",
       "      <th>latitude</th>\n",
       "      <th>lendingType</th>\n",
       "      <th>longitude</th>\n",
       "      <th>name</th>\n",
       "      <th>region</th>\n",
       "    </tr>\n",
       "  </thead>\n",
       "  <tbody>\n",
       "    <tr>\n",
       "      <th>0</th>\n",
       "      <td></td>\n",
       "      <td>Oranjestad</td>\n",
       "      <td>ABW</td>\n",
       "      <td>High income: nonOECD</td>\n",
       "      <td>AW</td>\n",
       "      <td>12.5167</td>\n",
       "      <td>Not classified</td>\n",
       "      <td>-70.0167</td>\n",
       "      <td>Aruba</td>\n",
       "      <td>Latin America &amp; Caribbean (all income levels)</td>\n",
       "    </tr>\n",
       "    <tr>\n",
       "      <th>1</th>\n",
       "      <td>South Asia</td>\n",
       "      <td>Kabul</td>\n",
       "      <td>AFG</td>\n",
       "      <td>Low income</td>\n",
       "      <td>AF</td>\n",
       "      <td>34.5228</td>\n",
       "      <td>IDA</td>\n",
       "      <td>69.1761</td>\n",
       "      <td>Afghanistan</td>\n",
       "      <td>South Asia</td>\n",
       "    </tr>\n",
       "    <tr>\n",
       "      <th>2</th>\n",
       "      <td></td>\n",
       "      <td></td>\n",
       "      <td>AFR</td>\n",
       "      <td>Aggregates</td>\n",
       "      <td>A9</td>\n",
       "      <td></td>\n",
       "      <td>Aggregates</td>\n",
       "      <td></td>\n",
       "      <td>Africa</td>\n",
       "      <td>Aggregates</td>\n",
       "    </tr>\n",
       "    <tr>\n",
       "      <th>3</th>\n",
       "      <td>Sub-Saharan Africa (developing only)</td>\n",
       "      <td>Luanda</td>\n",
       "      <td>AGO</td>\n",
       "      <td>Upper middle income</td>\n",
       "      <td>AO</td>\n",
       "      <td>-8.81155</td>\n",
       "      <td>IBRD</td>\n",
       "      <td>13.242</td>\n",
       "      <td>Angola</td>\n",
       "      <td>Sub-Saharan Africa (all income levels)</td>\n",
       "    </tr>\n",
       "    <tr>\n",
       "      <th>4</th>\n",
       "      <td>Europe &amp; Central Asia (developing only)</td>\n",
       "      <td>Tirane</td>\n",
       "      <td>ALB</td>\n",
       "      <td>Upper middle income</td>\n",
       "      <td>AL</td>\n",
       "      <td>41.3317</td>\n",
       "      <td>IBRD</td>\n",
       "      <td>19.8172</td>\n",
       "      <td>Albania</td>\n",
       "      <td>Europe &amp; Central Asia (all income levels)</td>\n",
       "    </tr>\n",
       "  </tbody>\n",
       "</table>\n",
       "</div>"
      ],
      "text/plain": [
       "                               adminregion capitalCity iso3c  \\\n",
       "0                                           Oranjestad   ABW   \n",
       "1                               South Asia       Kabul   AFG   \n",
       "2                                                        AFR   \n",
       "3     Sub-Saharan Africa (developing only)      Luanda   AGO   \n",
       "4  Europe & Central Asia (developing only)      Tirane   ALB   \n",
       "\n",
       "            incomeLevel iso2c  latitude     lendingType longitude  \\\n",
       "0  High income: nonOECD    AW   12.5167  Not classified  -70.0167   \n",
       "1            Low income    AF   34.5228             IDA   69.1761   \n",
       "2            Aggregates    A9                Aggregates             \n",
       "3   Upper middle income    AO  -8.81155            IBRD    13.242   \n",
       "4   Upper middle income    AL   41.3317            IBRD   19.8172   \n",
       "\n",
       "          name                                         region  \n",
       "0        Aruba  Latin America & Caribbean (all income levels)  \n",
       "1  Afghanistan                                     South Asia  \n",
       "2       Africa                                     Aggregates  \n",
       "3       Angola         Sub-Saharan Africa (all income levels)  \n",
       "4      Albania      Europe & Central Asia (all income levels)  "
      ]
     },
     "execution_count": 82,
     "metadata": {},
     "output_type": "execute_result"
    }
   ],
   "source": [
    "countries=wb.get_countries()\n",
    "countries.head()"
   ]
  },
  {
   "cell_type": "markdown",
   "metadata": {},
   "source": [
    "### Get Lat, Long Data for countries"
   ]
  },
  {
   "cell_type": "code",
   "execution_count": 90,
   "metadata": {
    "ExecuteTime": {
     "end_time": "2016-04-02T17:42:01.234125",
     "start_time": "2016-04-02T17:42:01.204108"
    },
    "collapsed": false
   },
   "outputs": [
    {
     "data": {
      "text/html": [
       "<div>\n",
       "<table border=\"1\" class=\"dataframe\">\n",
       "  <thead>\n",
       "    <tr style=\"text-align: right;\">\n",
       "      <th></th>\n",
       "      <th>name</th>\n",
       "      <th>Latitude</th>\n",
       "      <th>Longitude</th>\n",
       "    </tr>\n",
       "  </thead>\n",
       "  <tbody>\n",
       "    <tr>\n",
       "      <th>0</th>\n",
       "      <td>Aruba</td>\n",
       "      <td>12.5167</td>\n",
       "      <td>-70.0167</td>\n",
       "    </tr>\n",
       "    <tr>\n",
       "      <th>1</th>\n",
       "      <td>Afghanistan</td>\n",
       "      <td>34.5228</td>\n",
       "      <td>69.1761</td>\n",
       "    </tr>\n",
       "    <tr>\n",
       "      <th>2</th>\n",
       "      <td>Africa</td>\n",
       "      <td></td>\n",
       "      <td></td>\n",
       "    </tr>\n",
       "    <tr>\n",
       "      <th>3</th>\n",
       "      <td>Angola</td>\n",
       "      <td>-8.81155</td>\n",
       "      <td>13.242</td>\n",
       "    </tr>\n",
       "    <tr>\n",
       "      <th>4</th>\n",
       "      <td>Albania</td>\n",
       "      <td>41.3317</td>\n",
       "      <td>19.8172</td>\n",
       "    </tr>\n",
       "  </tbody>\n",
       "</table>\n",
       "</div>"
      ],
      "text/plain": [
       "          name  Latitude Longitude\n",
       "0        Aruba   12.5167  -70.0167\n",
       "1  Afghanistan   34.5228   69.1761\n",
       "2       Africa                    \n",
       "3       Angola  -8.81155    13.242\n",
       "4      Albania   41.3317   19.8172"
      ]
     },
     "execution_count": 90,
     "metadata": {},
     "output_type": "execute_result"
    }
   ],
   "source": [
    "country_lonlat_df = pd.DataFrame( {'Longitude': countries['longitude'], \n",
    "                                   'Latitude': countries['latitude']}\n",
    "                                 )\n",
    "country_lonlat_df.index= countries['name']\n",
    "country_lonlat_df.reset_index(inplace=True)\n",
    "country_lonlat_df.dropna(inplace=True)\n",
    "country_lonlat_df.head()"
   ]
  },
  {
   "cell_type": "code",
   "execution_count": 121,
   "metadata": {
    "ExecuteTime": {
     "end_time": "2016-04-02T18:02:17.318329",
     "start_time": "2016-04-02T18:02:17.167231"
    },
    "collapsed": false
   },
   "outputs": [],
   "source": [
    "country_lonlat_df.to_excel('country_latlong.xlsx')"
   ]
  },
  {
   "cell_type": "code",
   "execution_count": 122,
   "metadata": {
    "ExecuteTime": {
     "end_time": "2016-04-02T18:04:33.199220",
     "start_time": "2016-04-02T18:04:32.585457"
    },
    "collapsed": true
   },
   "outputs": [],
   "source": [
    "lat_long = pd.read_excel('country_latlong_mod.xlsx')"
   ]
  },
  {
   "cell_type": "code",
   "execution_count": 125,
   "metadata": {
    "ExecuteTime": {
     "end_time": "2016-04-02T18:04:52.489594",
     "start_time": "2016-04-02T18:04:52.473585"
    },
    "collapsed": false
   },
   "outputs": [
    {
     "data": {
      "text/html": [
       "<div>\n",
       "<table border=\"1\" class=\"dataframe\">\n",
       "  <thead>\n",
       "    <tr style=\"text-align: right;\">\n",
       "      <th></th>\n",
       "      <th>name</th>\n",
       "      <th>Latitude</th>\n",
       "      <th>Longitude</th>\n",
       "    </tr>\n",
       "  </thead>\n",
       "  <tbody>\n",
       "    <tr>\n",
       "      <th>0</th>\n",
       "      <td>Aruba</td>\n",
       "      <td>12.51670</td>\n",
       "      <td>-70.0167</td>\n",
       "    </tr>\n",
       "    <tr>\n",
       "      <th>1</th>\n",
       "      <td>Afghanistan</td>\n",
       "      <td>34.52280</td>\n",
       "      <td>69.1761</td>\n",
       "    </tr>\n",
       "    <tr>\n",
       "      <th>2</th>\n",
       "      <td>Angola</td>\n",
       "      <td>-8.81155</td>\n",
       "      <td>13.2420</td>\n",
       "    </tr>\n",
       "    <tr>\n",
       "      <th>3</th>\n",
       "      <td>Albania</td>\n",
       "      <td>41.33170</td>\n",
       "      <td>19.8172</td>\n",
       "    </tr>\n",
       "    <tr>\n",
       "      <th>4</th>\n",
       "      <td>Andorra</td>\n",
       "      <td>42.50750</td>\n",
       "      <td>1.5218</td>\n",
       "    </tr>\n",
       "  </tbody>\n",
       "</table>\n",
       "</div>"
      ],
      "text/plain": [
       "          name  Latitude  Longitude\n",
       "0        Aruba  12.51670   -70.0167\n",
       "1  Afghanistan  34.52280    69.1761\n",
       "2       Angola  -8.81155    13.2420\n",
       "3      Albania  41.33170    19.8172\n",
       "4      Andorra  42.50750     1.5218"
      ]
     },
     "execution_count": 125,
     "metadata": {},
     "output_type": "execute_result"
    }
   ],
   "source": [
    "lat_long.head()"
   ]
  },
  {
   "cell_type": "code",
   "execution_count": 126,
   "metadata": {
    "ExecuteTime": {
     "end_time": "2016-04-02T18:06:02.521663",
     "start_time": "2016-04-02T18:06:02.056717"
    },
    "collapsed": false
   },
   "outputs": [
    {
     "data": {
      "text/html": [
       "\n",
       "           <script>\n",
       "               \n",
       "                function vct_load_lib(url, callback){\n",
       "                      if(typeof d3 !== 'undefined' &&\n",
       "                         url === 'http://d3js.org/d3.v3.min.js'){\n",
       "                        callback()\n",
       "                      }\n",
       "                      var s = document.createElement('script');\n",
       "                      s.src = url;\n",
       "                      s.async = true;\n",
       "                      s.onreadystatechange = s.onload = callback;\n",
       "                      s.onerror = function(){\n",
       "                        console.warn(\"failed to load library \" + url);\n",
       "                        };\n",
       "                      document.getElementsByTagName(\"head\")[0].appendChild(s);\n",
       "                };\n",
       "                var vincent_event = new CustomEvent(\n",
       "                  \"vincent_libs_loaded\",\n",
       "                  {bubbles: true, cancelable: true}\n",
       "                );\n",
       "                \n",
       "               function load_all_libs(){\n",
       "                  console.log('Loading Vincent libs...')\n",
       "                  vct_load_lib('http://d3js.org/d3.v3.min.js', function(){\n",
       "                  vct_load_lib('http://d3js.org/d3.geo.projection.v0.min.js', function(){\n",
       "                  vct_load_lib('http://wrobstory.github.io/d3-cloud/d3.layout.cloud.js', function(){\n",
       "                  vct_load_lib('http://wrobstory.github.io/vega/vega.v1.3.3.js', function(){\n",
       "                  window.dispatchEvent(vincent_event);\n",
       "                  });\n",
       "                  });\n",
       "                  });\n",
       "                  });\n",
       "               };\n",
       "               if(typeof define === \"function\" && define.amd){\n",
       "                    if (window['d3'] === undefined ||\n",
       "                        window['topojson'] === undefined){\n",
       "                        require.config(\n",
       "                            {paths: {\n",
       "                              d3: 'http://d3js.org/d3.v3.min',\n",
       "                              topojson: 'http://d3js.org/topojson.v1.min'\n",
       "                              }\n",
       "                            }\n",
       "                          );\n",
       "                        require([\"d3\"], function(d3){\n",
       "                            console.log('Loading Vincent from require.js...')\n",
       "                            window.d3 = d3;\n",
       "                            require([\"topojson\"], function(topojson){\n",
       "                                window.topojson = topojson;\n",
       "                                load_all_libs();\n",
       "                            });\n",
       "                        });\n",
       "                    } else {\n",
       "                        load_all_libs();\n",
       "                    };\n",
       "               }else{\n",
       "                    console.log('Require.js not found, loading manually...')\n",
       "                    load_all_libs();\n",
       "               };\n",
       "\n",
       "           </script>"
      ],
      "text/plain": [
       "<IPython.core.display.HTML object>"
      ]
     },
     "metadata": {},
     "output_type": "display_data"
    }
   ],
   "source": [
    "import vincent\n",
    "vincent.core.initialize_notebook()"
   ]
  },
  {
   "cell_type": "code",
   "execution_count": null,
   "metadata": {
    "ExecuteTime": {
     "end_time": "2016-04-02T17:08:46.936832",
     "start_time": "2016-04-02T17:08:44.707341"
    },
    "collapsed": false,
    "nbpresent": {
     "id": "22f027c3-6194-4e8b-a8fb-e2f153ef2810"
    },
    "scrolled": false,
    "slideshow": {
     "slide_type": "slide"
    }
   },
   "outputs": [],
   "source": [
    "df[35:].plot(x='country',subplots=True,figsize=(15,25), use_index=True, rot=90, colormap=plt.cm.viridis, kind='line')"
   ]
  },
  {
   "cell_type": "code",
   "execution_count": null,
   "metadata": {
    "ExecuteTime": {
     "end_time": "2016-04-02T16:49:11.067171",
     "start_time": "2016-04-02T15:48:28.235Z"
    },
    "collapsed": false,
    "nbpresent": {
     "id": "66ce71fc-702c-4276-a729-df79b2486f4a"
    }
   },
   "outputs": [],
   "source": [
    "len(df['country'].unique())"
   ]
  },
  {
   "cell_type": "code",
   "execution_count": null,
   "metadata": {
    "ExecuteTime": {
     "end_time": "2016-04-02T16:49:11.068176",
     "start_time": "2016-04-02T15:48:28.240Z"
    },
    "collapsed": false,
    "nbpresent": {
     "id": "8c0e762e-0d31-4e3c-a266-b40de792bc03"
    }
   },
   "outputs": [],
   "source": [
    "df.to_excel('wbdata.xlsx')"
   ]
  }
 ],
 "metadata": {
  "kernelspec": {
   "display_name": "Python 3",
   "language": "python",
   "name": "python3"
  },
  "language_info": {
   "codemirror_mode": {
    "name": "ipython",
    "version": 3
   },
   "file_extension": ".py",
   "mimetype": "text/x-python",
   "name": "python",
   "nbconvert_exporter": "python",
   "pygments_lexer": "ipython3",
   "version": "3.5.1"
  },
  "nbpresent": {
   "slides": {
    "14fa70f2-f6db-43c6-b063-e02522652f2e": {
     "id": "14fa70f2-f6db-43c6-b063-e02522652f2e",
     "prev": "f1c30776-cd33-432a-9e5f-acf757fc0544",
     "regions": {
      "0af25ef4-1f57-4588-939e-0294bf8ce83f": {
       "attrs": {
        "height": 0.4,
        "width": 0.8,
        "x": 0.1,
        "y": 0.5
       },
       "content": {
        "cell": "153f929a-cef1-4835-a336-7c7e6aea263f",
        "part": "whole"
       },
       "id": "0af25ef4-1f57-4588-939e-0294bf8ce83f"
      },
      "0be338a2-bc2a-4386-aa82-0061d6045a0f": {
       "attrs": {
        "height": 0.4,
        "width": 0.8,
        "x": 0.1,
        "y": 0.5
       },
       "content": {
        "cell": "22f027c3-6194-4e8b-a8fb-e2f153ef2810",
        "part": "whole"
       },
       "id": "0be338a2-bc2a-4386-aa82-0061d6045a0f"
      },
      "2b93b258-0c24-4159-a373-e3b65b511b30": {
       "attrs": {
        "height": 0.4,
        "width": 0.8,
        "x": 0.1,
        "y": 0.5
       },
       "content": {
        "cell": "dbcc2c76-f733-449d-b25f-45a0617e5f3b",
        "part": "whole"
       },
       "id": "2b93b258-0c24-4159-a373-e3b65b511b30"
      },
      "2be95b69-5f6f-4694-892b-6bd568b9bef2": {
       "attrs": {
        "height": 0.4,
        "width": 0.8,
        "x": 0.1,
        "y": 0.5
       },
       "content": {
        "cell": "e10025c2-9095-4aad-887c-d07024afaffa",
        "part": "whole"
       },
       "id": "2be95b69-5f6f-4694-892b-6bd568b9bef2"
      },
      "3acacffb-037a-48f7-92b7-3330f881a3a8": {
       "attrs": {
        "height": 0.4,
        "width": 0.8,
        "x": 0.1,
        "y": 0.5
       },
       "content": {
        "cell": "70fa05a0-b104-4771-a2d7-a5c7417a4171",
        "part": "whole"
       },
       "id": "3acacffb-037a-48f7-92b7-3330f881a3a8"
      },
      "3f1f0e4d-70a0-48a8-87b8-5d575b5241c0": {
       "attrs": {
        "height": 0.8,
        "width": 0.8,
        "x": 0.1,
        "y": 0.1
       },
       "content": {
        "cell": "d73828b6-e17c-416c-b576-9280f0fd3932",
        "part": "whole"
       },
       "id": "3f1f0e4d-70a0-48a8-87b8-5d575b5241c0"
      },
      "73500eec-bef8-4a7f-b15a-17920c8a5cf1": {
       "attrs": {
        "height": 0.4,
        "width": 0.8,
        "x": 0.1,
        "y": 0.5
       },
       "content": {
        "cell": "4d783705-9579-48c4-b446-ab8c67908f03",
        "part": "whole"
       },
       "id": "73500eec-bef8-4a7f-b15a-17920c8a5cf1"
      },
      "7573b4e0-1f9b-4b88-ba35-a7b414390277": {
       "attrs": {
        "height": 0.4,
        "width": 0.8,
        "x": 0.1,
        "y": 0.5
       },
       "content": {
        "cell": "9d737d1c-9545-4d2a-9361-4bc85858b67f",
        "part": "whole"
       },
       "id": "7573b4e0-1f9b-4b88-ba35-a7b414390277"
      },
      "76eac4ba-dd40-4dbc-92fb-a9ab0bbb3280": {
       "attrs": {
        "height": 0.4,
        "width": 0.8,
        "x": 0.1,
        "y": 0.5
       },
       "content": {
        "cell": "b2ead05d-8d27-4d84-9c77-43325e82988c",
        "part": "whole"
       },
       "id": "76eac4ba-dd40-4dbc-92fb-a9ab0bbb3280"
      },
      "77711df0-424c-424f-b594-5666cfca9ab6": {
       "attrs": {
        "height": 0.4,
        "width": 0.8,
        "x": 0.1,
        "y": 0.5
       },
       "content": {
        "cell": "25e4e801-f255-469f-ad7b-a31c44ab9736",
        "part": "whole"
       },
       "id": "77711df0-424c-424f-b594-5666cfca9ab6"
      },
      "83a84274-211c-40b9-a2b5-a9da8d883320": {
       "attrs": {
        "height": 0.4,
        "width": 0.8,
        "x": 0.1,
        "y": 0.5
       },
       "content": {
        "cell": "8c0e762e-0d31-4e3c-a266-b40de792bc03",
        "part": "whole"
       },
       "id": "83a84274-211c-40b9-a2b5-a9da8d883320"
      },
      "b522ed25-14ae-4bb4-9ded-d67c48cd6adc": {
       "attrs": {
        "height": 0.4,
        "width": 0.8,
        "x": 0.1,
        "y": 0.5
       },
       "content": {
        "cell": "d60a014c-4aba-4aaa-832d-1f3c7ad82cf3",
        "part": "whole"
       },
       "id": "b522ed25-14ae-4bb4-9ded-d67c48cd6adc"
      },
      "bc0b1e34-dd6a-4ebc-bc5b-42bfc4716454": {
       "attrs": {
        "height": 0.4,
        "width": 0.8,
        "x": 0.1,
        "y": 0.5
       },
       "content": {
        "cell": "d7004522-8538-447b-bde6-506843b6673c",
        "part": "whole"
       },
       "id": "bc0b1e34-dd6a-4ebc-bc5b-42bfc4716454"
      },
      "d095c260-b613-45a3-b993-ed841c04e97b": {
       "attrs": {
        "height": 0.4,
        "width": 0.8,
        "x": 0.1,
        "y": 0.5
       },
       "content": {
        "cell": "66ce71fc-702c-4276-a729-df79b2486f4a",
        "part": "whole"
       },
       "id": "d095c260-b613-45a3-b993-ed841c04e97b"
      },
      "f39041c8-9912-4062-a49a-aca5b54d0b6f": {
       "attrs": {
        "height": 0.4,
        "width": 0.8,
        "x": 0.1,
        "y": 0.5
       },
       "content": {
        "cell": "25f89e24-202f-4020-bdee-b6ca535be50e",
        "part": "whole"
       },
       "id": "f39041c8-9912-4062-a49a-aca5b54d0b6f"
      },
      "facd2994-63c3-41a2-a140-9f02a1956265": {
       "attrs": {
        "height": 0.4,
        "width": 0.8,
        "x": 0.1,
        "y": 0.5
       },
       "content": {
        "cell": "adcbe9bc-49ad-4670-ac51-28331a0c7a75",
        "part": "whole"
       },
       "id": "facd2994-63c3-41a2-a140-9f02a1956265"
      }
     }
    },
    "f1c30776-cd33-432a-9e5f-acf757fc0544": {
     "id": "f1c30776-cd33-432a-9e5f-acf757fc0544",
     "prev": null,
     "regions": {
      "beed4895-db50-4ba5-a142-1c93cd9b393f": {
       "attrs": {
        "height": 0.8,
        "width": 0.8,
        "x": 0.1,
        "y": 0.1
       },
       "content": {
        "cell": "01871f7d-bded-4ed8-801b-6639464ddedf",
        "part": "whole"
       },
       "id": "beed4895-db50-4ba5-a142-1c93cd9b393f"
      }
     }
    }
   },
   "themes": {
    "default": "d0518d90-38c3-4d50-9b28-4068f10eed2c",
    "theme": {
     "d0518d90-38c3-4d50-9b28-4068f10eed2c": {
      "backgrounds": {
       "dc7afa04-bf90-40b1-82a5-726e3cff5267": {
        "background-color": "31af15d2-7e15-44c5-ab5e-e04b16a89eff",
        "id": "dc7afa04-bf90-40b1-82a5-726e3cff5267"
       }
      },
      "id": "d0518d90-38c3-4d50-9b28-4068f10eed2c",
      "palette": {
       "19cc588f-0593-49c9-9f4b-e4d7cc113b1c": {
        "id": "19cc588f-0593-49c9-9f4b-e4d7cc113b1c",
        "rgb": [
         252,
         252,
         252
        ]
       },
       "31af15d2-7e15-44c5-ab5e-e04b16a89eff": {
        "id": "31af15d2-7e15-44c5-ab5e-e04b16a89eff",
        "rgb": [
         68,
         68,
         68
        ]
       },
       "50f92c45-a630-455b-aec3-788680ec7410": {
        "id": "50f92c45-a630-455b-aec3-788680ec7410",
        "rgb": [
         197,
         226,
         245
        ]
       },
       "c5cc3653-2ee1-402a-aba2-7caae1da4f6c": {
        "id": "c5cc3653-2ee1-402a-aba2-7caae1da4f6c",
        "rgb": [
         43,
         126,
         184
        ]
       },
       "efa7f048-9acb-414c-8b04-a26811511a21": {
        "id": "efa7f048-9acb-414c-8b04-a26811511a21",
        "rgb": [
         25.118061674008803,
         73.60176211453744,
         107.4819383259912
        ]
       }
      },
      "rules": {
       "a": {
        "color": "19cc588f-0593-49c9-9f4b-e4d7cc113b1c"
       },
       "blockquote": {
        "color": "50f92c45-a630-455b-aec3-788680ec7410",
        "font-size": 3
       },
       "code": {
        "font-family": "Anonymous Pro"
       },
       "h1": {
        "color": "19cc588f-0593-49c9-9f4b-e4d7cc113b1c",
        "font-family": "Merriweather",
        "font-size": 8
       },
       "h2": {
        "color": "19cc588f-0593-49c9-9f4b-e4d7cc113b1c",
        "font-family": "Merriweather",
        "font-size": 6
       },
       "h3": {
        "color": "50f92c45-a630-455b-aec3-788680ec7410",
        "font-family": "Lato",
        "font-size": 5.5
       },
       "h4": {
        "color": "c5cc3653-2ee1-402a-aba2-7caae1da4f6c",
        "font-family": "Lato",
        "font-size": 5
       },
       "h5": {
        "font-family": "Lato"
       },
       "h6": {
        "font-family": "Lato"
       },
       "h7": {
        "font-family": "Lato"
       },
       "li": {
        "color": "50f92c45-a630-455b-aec3-788680ec7410",
        "font-size": 3.25
       },
       "pre": {
        "font-family": "Anonymous Pro",
        "font-size": 4
       }
      },
      "text-base": {
       "color": "19cc588f-0593-49c9-9f4b-e4d7cc113b1c",
       "font-family": "Lato",
       "font-size": 4
      }
     }
    }
   }
  }
 },
 "nbformat": 4,
 "nbformat_minor": 0
}

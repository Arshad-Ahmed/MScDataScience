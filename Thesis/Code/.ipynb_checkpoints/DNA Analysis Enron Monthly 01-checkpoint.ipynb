{
 "cells": [
  {
   "cell_type": "code",
   "execution_count": 12,
   "metadata": {
    "collapsed": true
   },
   "outputs": [],
   "source": [
    "import pandas as pd\n",
    "import numpy as np\n",
    "import networkx as nx\n",
    "import seaborn as sns\n",
    "import matplotlib.pyplot as plt\n",
    "import scipy as sc\n",
    "%matplotlib inline\n",
    "sns.set(style=\"whitegrid\", color_codes=True, context='paper')\n",
    "import random\n",
    "random.seed(1111111111111)\n",
    "plt.rc('axes', grid=False, titlesize='large', labelsize='medium',labelweight='heavy')\n",
    "plt.rc('lines', linewidth=4)\n",
    "plt.rc('font',family='serif',size=12, serif='Georgia')\n",
    "plt.rc('figure', figsize = (15,6),titlesize='large',titleweight='heavy')\n",
    "plt.rc('grid',linewidth=3)\n",
    "sns.set_palette('cubehelix')\n",
    "from scipy.signal import *\n",
    "from numpy.linalg import *"
   ]
  },
  {
   "cell_type": "markdown",
   "metadata": {},
   "source": [
    "# Introduction\n",
    "\n",
    "Here using the Enron Email datawith timestamps from John Hopkins, I will attempt to recreatea dynamic network at monthly level of granularity. Previously I conducted this analysis at the yearly level. "
   ]
  },
  {
   "cell_type": "markdown",
   "metadata": {},
   "source": [
    "## Load Preprocessed Data"
   ]
  },
  {
   "cell_type": "code",
   "execution_count": 13,
   "metadata": {
    "collapsed": true
   },
   "outputs": [],
   "source": [
    "data = pd.read_excel(\"../Data/data 03.2.xlsx\")"
   ]
  },
  {
   "cell_type": "code",
   "execution_count": 14,
   "metadata": {
    "collapsed": false
   },
   "outputs": [
    {
     "data": {
      "text/html": [
       "<div>\n",
       "<table border=\"1\" class=\"dataframe\">\n",
       "  <thead>\n",
       "    <tr style=\"text-align: right;\">\n",
       "      <th></th>\n",
       "      <th>timestamp</th>\n",
       "      <th>to</th>\n",
       "      <th>from</th>\n",
       "      <th>year</th>\n",
       "      <th>month</th>\n",
       "    </tr>\n",
       "  </thead>\n",
       "  <tbody>\n",
       "    <tr>\n",
       "      <th>0</th>\n",
       "      <td>1979-12-31 21:00:00</td>\n",
       "      <td>24</td>\n",
       "      <td>153</td>\n",
       "      <td>1979</td>\n",
       "      <td>12</td>\n",
       "    </tr>\n",
       "    <tr>\n",
       "      <th>1</th>\n",
       "      <td>1979-12-31 21:00:00</td>\n",
       "      <td>24</td>\n",
       "      <td>153</td>\n",
       "      <td>1979</td>\n",
       "      <td>12</td>\n",
       "    </tr>\n",
       "    <tr>\n",
       "      <th>2</th>\n",
       "      <td>1979-12-31 21:00:00</td>\n",
       "      <td>29</td>\n",
       "      <td>29</td>\n",
       "      <td>1979</td>\n",
       "      <td>12</td>\n",
       "    </tr>\n",
       "    <tr>\n",
       "      <th>3</th>\n",
       "      <td>1979-12-31 21:00:00</td>\n",
       "      <td>29</td>\n",
       "      <td>29</td>\n",
       "      <td>1979</td>\n",
       "      <td>12</td>\n",
       "    </tr>\n",
       "    <tr>\n",
       "      <th>4</th>\n",
       "      <td>1979-12-31 21:00:00</td>\n",
       "      <td>29</td>\n",
       "      <td>29</td>\n",
       "      <td>1979</td>\n",
       "      <td>12</td>\n",
       "    </tr>\n",
       "  </tbody>\n",
       "</table>\n",
       "</div>"
      ],
      "text/plain": [
       "            timestamp  to   from  year  month\n",
       "0 1979-12-31 21:00:00   24   153  1979     12\n",
       "1 1979-12-31 21:00:00   24   153  1979     12\n",
       "2 1979-12-31 21:00:00   29    29  1979     12\n",
       "3 1979-12-31 21:00:00   29    29  1979     12\n",
       "4 1979-12-31 21:00:00   29    29  1979     12"
      ]
     },
     "execution_count": 14,
     "metadata": {},
     "output_type": "execute_result"
    }
   ],
   "source": [
    "data.head()"
   ]
  },
  {
   "cell_type": "markdown",
   "metadata": {},
   "source": [
    "## Check Year Labels"
   ]
  },
  {
   "cell_type": "code",
   "execution_count": 15,
   "metadata": {
    "collapsed": false
   },
   "outputs": [
    {
     "data": {
      "text/plain": [
       "{1979, 1998, 1999, 2000, 2001, 2002}"
      ]
     },
     "execution_count": 15,
     "metadata": {},
     "output_type": "execute_result"
    }
   ],
   "source": [
    "set(data.year)"
   ]
  },
  {
   "cell_type": "code",
   "execution_count": 16,
   "metadata": {
    "collapsed": false
   },
   "outputs": [
    {
     "data": {
      "text/plain": [
       "timestamp    174\n",
       "to           174\n",
       "from         174\n",
       "year         174\n",
       "month        174\n",
       "dtype: int64"
      ]
     },
     "execution_count": 16,
     "metadata": {},
     "output_type": "execute_result"
    }
   ],
   "source": [
    "data[data.year==1979].count()"
   ]
  },
  {
   "cell_type": "code",
   "execution_count": 17,
   "metadata": {
    "collapsed": false
   },
   "outputs": [
    {
     "data": {
      "text/plain": [
       "(125409, 5)"
      ]
     },
     "execution_count": 17,
     "metadata": {},
     "output_type": "execute_result"
    }
   ],
   "source": [
    "data.shape"
   ]
  },
  {
   "cell_type": "code",
   "execution_count": 18,
   "metadata": {
    "collapsed": false
   },
   "outputs": [
    {
     "data": {
      "text/plain": [
       "timestamp    0.138746\n",
       "to           0.138746\n",
       "from         0.138746\n",
       "year         0.138746\n",
       "month        0.138746\n",
       "dtype: float64"
      ]
     },
     "execution_count": 18,
     "metadata": {},
     "output_type": "execute_result"
    }
   ],
   "source": [
    "#total % of mislabelled 1979 entries\n",
    "(data[data.year==1979].count()/data.shape[0]) * 100"
   ]
  },
  {
   "cell_type": "markdown",
   "metadata": {},
   "source": [
    "## Split data into yearly slices"
   ]
  },
  {
   "cell_type": "markdown",
   "metadata": {},
   "source": [
    "The entries labelled 1979 are mislabelled hence they will be excluded from analysis. As we see that they are a tiny fraction of the dataset anyway"
   ]
  },
  {
   "cell_type": "code",
   "execution_count": 19,
   "metadata": {
    "collapsed": true
   },
   "outputs": [],
   "source": [
    "data = data[data.year!= 1979]"
   ]
  },
  {
   "cell_type": "code",
   "execution_count": 26,
   "metadata": {
    "collapsed": false
   },
   "outputs": [],
   "source": [
    "years = sorted(set(data.year))"
   ]
  },
  {
   "cell_type": "code",
   "execution_count": 43,
   "metadata": {
    "collapsed": false,
    "scrolled": false
   },
   "outputs": [
    {
     "data": {
      "text/plain": [
       "[1998, 1999, 2000, 2001, 2002]"
      ]
     },
     "execution_count": 43,
     "metadata": {},
     "output_type": "execute_result"
    }
   ],
   "source": [
    "years"
   ]
  },
  {
   "cell_type": "code",
   "execution_count": 48,
   "metadata": {
    "collapsed": false
   },
   "outputs": [],
   "source": [
    "df_98 = data[data.year==years[0]]\n",
    "df_99 = data[data.year==years[1]]\n",
    "df_2k = data[data.year==years[2]]\n",
    "df_2k1 = data[data.year==years[3]]\n",
    "df_2k2 = data[data.year==years[4]]\n"
   ]
  },
  {
   "cell_type": "code",
   "execution_count": 49,
   "metadata": {
    "collapsed": false
   },
   "outputs": [
    {
     "data": {
      "text/html": [
       "<div>\n",
       "<table border=\"1\" class=\"dataframe\">\n",
       "  <thead>\n",
       "    <tr style=\"text-align: right;\">\n",
       "      <th></th>\n",
       "      <th>timestamp</th>\n",
       "      <th>to</th>\n",
       "      <th>from</th>\n",
       "      <th>year</th>\n",
       "      <th>month</th>\n",
       "    </tr>\n",
       "  </thead>\n",
       "  <tbody>\n",
       "    <tr>\n",
       "      <th>174</th>\n",
       "      <td>1998-11-13 09:07:00</td>\n",
       "      <td>114</td>\n",
       "      <td>169</td>\n",
       "      <td>1998</td>\n",
       "      <td>11</td>\n",
       "    </tr>\n",
       "    <tr>\n",
       "      <th>175</th>\n",
       "      <td>1998-11-13 09:07:00</td>\n",
       "      <td>114</td>\n",
       "      <td>169</td>\n",
       "      <td>1998</td>\n",
       "      <td>11</td>\n",
       "    </tr>\n",
       "    <tr>\n",
       "      <th>176</th>\n",
       "      <td>1998-11-19 12:19:00</td>\n",
       "      <td>114</td>\n",
       "      <td>123</td>\n",
       "      <td>1998</td>\n",
       "      <td>11</td>\n",
       "    </tr>\n",
       "    <tr>\n",
       "      <th>177</th>\n",
       "      <td>1998-11-19 12:19:00</td>\n",
       "      <td>114</td>\n",
       "      <td>123</td>\n",
       "      <td>1998</td>\n",
       "      <td>11</td>\n",
       "    </tr>\n",
       "    <tr>\n",
       "      <th>178</th>\n",
       "      <td>1998-11-19 13:24:00</td>\n",
       "      <td>114</td>\n",
       "      <td>123</td>\n",
       "      <td>1998</td>\n",
       "      <td>11</td>\n",
       "    </tr>\n",
       "  </tbody>\n",
       "</table>\n",
       "</div>"
      ],
      "text/plain": [
       "              timestamp  to   from  year  month\n",
       "174 1998-11-13 09:07:00  114   169  1998     11\n",
       "175 1998-11-13 09:07:00  114   169  1998     11\n",
       "176 1998-11-19 12:19:00  114   123  1998     11\n",
       "177 1998-11-19 12:19:00  114   123  1998     11\n",
       "178 1998-11-19 13:24:00  114   123  1998     11"
      ]
     },
     "execution_count": 49,
     "metadata": {},
     "output_type": "execute_result"
    }
   ],
   "source": [
    "df_98.head()"
   ]
  },
  {
   "cell_type": "code",
   "execution_count": 79,
   "metadata": {
    "collapsed": false
   },
   "outputs": [
    {
     "data": {
      "text/html": [
       "<div>\n",
       "<table border=\"1\" class=\"dataframe\">\n",
       "  <thead>\n",
       "    <tr style=\"text-align: right;\">\n",
       "      <th></th>\n",
       "      <th>to</th>\n",
       "      <th>from</th>\n",
       "      <th>year</th>\n",
       "      <th>month</th>\n",
       "    </tr>\n",
       "  </thead>\n",
       "  <tbody>\n",
       "    <tr>\n",
       "      <th>count</th>\n",
       "      <td>82.000000</td>\n",
       "      <td>82.000000</td>\n",
       "      <td>82.0</td>\n",
       "      <td>82.000000</td>\n",
       "    </tr>\n",
       "    <tr>\n",
       "      <th>mean</th>\n",
       "      <td>114.292683</td>\n",
       "      <td>119.000000</td>\n",
       "      <td>1998.0</td>\n",
       "      <td>11.634146</td>\n",
       "    </tr>\n",
       "    <tr>\n",
       "      <th>std</th>\n",
       "      <td>2.051725</td>\n",
       "      <td>48.393449</td>\n",
       "      <td>0.0</td>\n",
       "      <td>0.484633</td>\n",
       "    </tr>\n",
       "    <tr>\n",
       "      <th>min</th>\n",
       "      <td>112.000000</td>\n",
       "      <td>11.000000</td>\n",
       "      <td>1998.0</td>\n",
       "      <td>11.000000</td>\n",
       "    </tr>\n",
       "    <tr>\n",
       "      <th>25%</th>\n",
       "      <td>114.000000</td>\n",
       "      <td>110.000000</td>\n",
       "      <td>1998.0</td>\n",
       "      <td>11.000000</td>\n",
       "    </tr>\n",
       "    <tr>\n",
       "      <th>50%</th>\n",
       "      <td>114.000000</td>\n",
       "      <td>123.000000</td>\n",
       "      <td>1998.0</td>\n",
       "      <td>12.000000</td>\n",
       "    </tr>\n",
       "    <tr>\n",
       "      <th>75%</th>\n",
       "      <td>114.000000</td>\n",
       "      <td>169.000000</td>\n",
       "      <td>1998.0</td>\n",
       "      <td>12.000000</td>\n",
       "    </tr>\n",
       "    <tr>\n",
       "      <th>max</th>\n",
       "      <td>123.000000</td>\n",
       "      <td>169.000000</td>\n",
       "      <td>1998.0</td>\n",
       "      <td>12.000000</td>\n",
       "    </tr>\n",
       "  </tbody>\n",
       "</table>\n",
       "</div>"
      ],
      "text/plain": [
       "              to         from    year      month\n",
       "count   82.000000   82.000000    82.0  82.000000\n",
       "mean   114.292683  119.000000  1998.0  11.634146\n",
       "std      2.051725   48.393449     0.0   0.484633\n",
       "min    112.000000   11.000000  1998.0  11.000000\n",
       "25%    114.000000  110.000000  1998.0  11.000000\n",
       "50%    114.000000  123.000000  1998.0  12.000000\n",
       "75%    114.000000  169.000000  1998.0  12.000000\n",
       "max    123.000000  169.000000  1998.0  12.000000"
      ]
     },
     "execution_count": 79,
     "metadata": {},
     "output_type": "execute_result"
    }
   ],
   "source": [
    "df_98.describe()"
   ]
  },
  {
   "cell_type": "code",
   "execution_count": 50,
   "metadata": {
    "collapsed": false
   },
   "outputs": [
    {
     "data": {
      "text/html": [
       "<div>\n",
       "<table border=\"1\" class=\"dataframe\">\n",
       "  <thead>\n",
       "    <tr style=\"text-align: right;\">\n",
       "      <th></th>\n",
       "      <th>timestamp</th>\n",
       "      <th>to</th>\n",
       "      <th>from</th>\n",
       "      <th>year</th>\n",
       "      <th>month</th>\n",
       "    </tr>\n",
       "  </thead>\n",
       "  <tbody>\n",
       "    <tr>\n",
       "      <th>256</th>\n",
       "      <td>1999-01-04 07:21:00</td>\n",
       "      <td>114</td>\n",
       "      <td>65</td>\n",
       "      <td>1999</td>\n",
       "      <td>1</td>\n",
       "    </tr>\n",
       "    <tr>\n",
       "      <th>257</th>\n",
       "      <td>1999-01-04 07:21:00</td>\n",
       "      <td>114</td>\n",
       "      <td>65</td>\n",
       "      <td>1999</td>\n",
       "      <td>1</td>\n",
       "    </tr>\n",
       "    <tr>\n",
       "      <th>258</th>\n",
       "      <td>1999-01-04 09:11:00</td>\n",
       "      <td>114</td>\n",
       "      <td>169</td>\n",
       "      <td>1999</td>\n",
       "      <td>1</td>\n",
       "    </tr>\n",
       "    <tr>\n",
       "      <th>259</th>\n",
       "      <td>1999-01-04 09:11:00</td>\n",
       "      <td>114</td>\n",
       "      <td>169</td>\n",
       "      <td>1999</td>\n",
       "      <td>1</td>\n",
       "    </tr>\n",
       "    <tr>\n",
       "      <th>260</th>\n",
       "      <td>1999-01-07 13:42:00</td>\n",
       "      <td>114</td>\n",
       "      <td>112</td>\n",
       "      <td>1999</td>\n",
       "      <td>1</td>\n",
       "    </tr>\n",
       "  </tbody>\n",
       "</table>\n",
       "</div>"
      ],
      "text/plain": [
       "              timestamp  to   from  year  month\n",
       "256 1999-01-04 07:21:00  114    65  1999      1\n",
       "257 1999-01-04 07:21:00  114    65  1999      1\n",
       "258 1999-01-04 09:11:00  114   169  1999      1\n",
       "259 1999-01-04 09:11:00  114   169  1999      1\n",
       "260 1999-01-07 13:42:00  114   112  1999      1"
      ]
     },
     "execution_count": 50,
     "metadata": {},
     "output_type": "execute_result"
    }
   ],
   "source": [
    "df_99.head()"
   ]
  },
  {
   "cell_type": "code",
   "execution_count": 51,
   "metadata": {
    "collapsed": false
   },
   "outputs": [
    {
     "data": {
      "text/html": [
       "<div>\n",
       "<table border=\"1\" class=\"dataframe\">\n",
       "  <thead>\n",
       "    <tr style=\"text-align: right;\">\n",
       "      <th></th>\n",
       "      <th>timestamp</th>\n",
       "      <th>to</th>\n",
       "      <th>from</th>\n",
       "      <th>year</th>\n",
       "      <th>month</th>\n",
       "    </tr>\n",
       "  </thead>\n",
       "  <tbody>\n",
       "    <tr>\n",
       "      <th>3971</th>\n",
       "      <td>2000-01-03 06:47:00</td>\n",
       "      <td>82</td>\n",
       "      <td>51</td>\n",
       "      <td>2000</td>\n",
       "      <td>1</td>\n",
       "    </tr>\n",
       "    <tr>\n",
       "      <th>3972</th>\n",
       "      <td>2000-01-03 06:47:00</td>\n",
       "      <td>82</td>\n",
       "      <td>51</td>\n",
       "      <td>2000</td>\n",
       "      <td>1</td>\n",
       "    </tr>\n",
       "    <tr>\n",
       "      <th>3973</th>\n",
       "      <td>2000-01-03 06:47:00</td>\n",
       "      <td>82</td>\n",
       "      <td>51</td>\n",
       "      <td>2000</td>\n",
       "      <td>1</td>\n",
       "    </tr>\n",
       "    <tr>\n",
       "      <th>3974</th>\n",
       "      <td>2000-01-03 06:47:00</td>\n",
       "      <td>82</td>\n",
       "      <td>51</td>\n",
       "      <td>2000</td>\n",
       "      <td>1</td>\n",
       "    </tr>\n",
       "    <tr>\n",
       "      <th>3975</th>\n",
       "      <td>2000-01-03 06:47:00</td>\n",
       "      <td>82</td>\n",
       "      <td>51</td>\n",
       "      <td>2000</td>\n",
       "      <td>1</td>\n",
       "    </tr>\n",
       "  </tbody>\n",
       "</table>\n",
       "</div>"
      ],
      "text/plain": [
       "               timestamp  to   from  year  month\n",
       "3971 2000-01-03 06:47:00   82    51  2000      1\n",
       "3972 2000-01-03 06:47:00   82    51  2000      1\n",
       "3973 2000-01-03 06:47:00   82    51  2000      1\n",
       "3974 2000-01-03 06:47:00   82    51  2000      1\n",
       "3975 2000-01-03 06:47:00   82    51  2000      1"
      ]
     },
     "execution_count": 51,
     "metadata": {},
     "output_type": "execute_result"
    }
   ],
   "source": [
    "df_2k.head()"
   ]
  },
  {
   "cell_type": "code",
   "execution_count": 81,
   "metadata": {
    "collapsed": false
   },
   "outputs": [
    {
     "data": {
      "text/html": [
       "<div>\n",
       "<table border=\"1\" class=\"dataframe\">\n",
       "  <thead>\n",
       "    <tr style=\"text-align: right;\">\n",
       "      <th></th>\n",
       "      <th>to</th>\n",
       "      <th>from</th>\n",
       "      <th>year</th>\n",
       "      <th>month</th>\n",
       "    </tr>\n",
       "  </thead>\n",
       "  <tbody>\n",
       "    <tr>\n",
       "      <th>count</th>\n",
       "      <td>3715.000000</td>\n",
       "      <td>3715.000000</td>\n",
       "      <td>3715.0</td>\n",
       "      <td>3715.000000</td>\n",
       "    </tr>\n",
       "    <tr>\n",
       "      <th>mean</th>\n",
       "      <td>116.191386</td>\n",
       "      <td>115.949933</td>\n",
       "      <td>1999.0</td>\n",
       "      <td>9.725707</td>\n",
       "    </tr>\n",
       "    <tr>\n",
       "      <th>std</th>\n",
       "      <td>56.692443</td>\n",
       "      <td>43.626945</td>\n",
       "      <td>0.0</td>\n",
       "      <td>2.648675</td>\n",
       "    </tr>\n",
       "    <tr>\n",
       "      <th>min</th>\n",
       "      <td>11.000000</td>\n",
       "      <td>2.000000</td>\n",
       "      <td>1999.0</td>\n",
       "      <td>1.000000</td>\n",
       "    </tr>\n",
       "    <tr>\n",
       "      <th>25%</th>\n",
       "      <td>65.000000</td>\n",
       "      <td>88.000000</td>\n",
       "      <td>1999.0</td>\n",
       "      <td>8.000000</td>\n",
       "    </tr>\n",
       "    <tr>\n",
       "      <th>50%</th>\n",
       "      <td>145.000000</td>\n",
       "      <td>114.000000</td>\n",
       "      <td>1999.0</td>\n",
       "      <td>10.000000</td>\n",
       "    </tr>\n",
       "    <tr>\n",
       "      <th>75%</th>\n",
       "      <td>169.000000</td>\n",
       "      <td>156.000000</td>\n",
       "      <td>1999.0</td>\n",
       "      <td>12.000000</td>\n",
       "    </tr>\n",
       "    <tr>\n",
       "      <th>max</th>\n",
       "      <td>178.000000</td>\n",
       "      <td>178.000000</td>\n",
       "      <td>1999.0</td>\n",
       "      <td>12.000000</td>\n",
       "    </tr>\n",
       "  </tbody>\n",
       "</table>\n",
       "</div>"
      ],
      "text/plain": [
       "               to          from    year        month\n",
       "count  3715.000000  3715.000000  3715.0  3715.000000\n",
       "mean    116.191386   115.949933  1999.0     9.725707\n",
       "std      56.692443    43.626945     0.0     2.648675\n",
       "min      11.000000     2.000000  1999.0     1.000000\n",
       "25%      65.000000    88.000000  1999.0     8.000000\n",
       "50%     145.000000   114.000000  1999.0    10.000000\n",
       "75%     169.000000   156.000000  1999.0    12.000000\n",
       "max     178.000000   178.000000  1999.0    12.000000"
      ]
     },
     "execution_count": 81,
     "metadata": {},
     "output_type": "execute_result"
    }
   ],
   "source": [
    "df_99.describe()"
   ]
  },
  {
   "cell_type": "code",
   "execution_count": 52,
   "metadata": {
    "collapsed": false
   },
   "outputs": [
    {
     "data": {
      "text/html": [
       "<div>\n",
       "<table border=\"1\" class=\"dataframe\">\n",
       "  <thead>\n",
       "    <tr style=\"text-align: right;\">\n",
       "      <th></th>\n",
       "      <th>timestamp</th>\n",
       "      <th>to</th>\n",
       "      <th>from</th>\n",
       "      <th>year</th>\n",
       "      <th>month</th>\n",
       "    </tr>\n",
       "  </thead>\n",
       "  <tbody>\n",
       "    <tr>\n",
       "      <th>48030</th>\n",
       "      <td>2001-01-01 13:36:00</td>\n",
       "      <td>78</td>\n",
       "      <td>82</td>\n",
       "      <td>2001</td>\n",
       "      <td>1</td>\n",
       "    </tr>\n",
       "    <tr>\n",
       "      <th>48031</th>\n",
       "      <td>2001-01-01 13:36:00</td>\n",
       "      <td>78</td>\n",
       "      <td>82</td>\n",
       "      <td>2001</td>\n",
       "      <td>1</td>\n",
       "    </tr>\n",
       "    <tr>\n",
       "      <th>48032</th>\n",
       "      <td>2001-01-01 13:36:00</td>\n",
       "      <td>78</td>\n",
       "      <td>82</td>\n",
       "      <td>2001</td>\n",
       "      <td>1</td>\n",
       "    </tr>\n",
       "    <tr>\n",
       "      <th>48033</th>\n",
       "      <td>2001-01-01 13:55:00</td>\n",
       "      <td>78</td>\n",
       "      <td>127</td>\n",
       "      <td>2001</td>\n",
       "      <td>1</td>\n",
       "    </tr>\n",
       "    <tr>\n",
       "      <th>48034</th>\n",
       "      <td>2001-01-01 13:55:00</td>\n",
       "      <td>78</td>\n",
       "      <td>127</td>\n",
       "      <td>2001</td>\n",
       "      <td>1</td>\n",
       "    </tr>\n",
       "  </tbody>\n",
       "</table>\n",
       "</div>"
      ],
      "text/plain": [
       "                timestamp  to   from  year  month\n",
       "48030 2001-01-01 13:36:00   78    82  2001      1\n",
       "48031 2001-01-01 13:36:00   78    82  2001      1\n",
       "48032 2001-01-01 13:36:00   78    82  2001      1\n",
       "48033 2001-01-01 13:55:00   78   127  2001      1\n",
       "48034 2001-01-01 13:55:00   78   127  2001      1"
      ]
     },
     "execution_count": 52,
     "metadata": {},
     "output_type": "execute_result"
    }
   ],
   "source": [
    "df_2k1.head()"
   ]
  },
  {
   "cell_type": "code",
   "execution_count": 54,
   "metadata": {
    "collapsed": false
   },
   "outputs": [
    {
     "data": {
      "text/html": [
       "<div>\n",
       "<table border=\"1\" class=\"dataframe\">\n",
       "  <thead>\n",
       "    <tr style=\"text-align: right;\">\n",
       "      <th></th>\n",
       "      <th>timestamp</th>\n",
       "      <th>to</th>\n",
       "      <th>from</th>\n",
       "      <th>year</th>\n",
       "      <th>month</th>\n",
       "    </tr>\n",
       "  </thead>\n",
       "  <tbody>\n",
       "    <tr>\n",
       "      <th>116918</th>\n",
       "      <td>2002-01-01 17:27:27</td>\n",
       "      <td>0</td>\n",
       "      <td>9</td>\n",
       "      <td>2002</td>\n",
       "      <td>1</td>\n",
       "    </tr>\n",
       "    <tr>\n",
       "      <th>116919</th>\n",
       "      <td>2002-01-01 17:27:27</td>\n",
       "      <td>0</td>\n",
       "      <td>48</td>\n",
       "      <td>2002</td>\n",
       "      <td>1</td>\n",
       "    </tr>\n",
       "    <tr>\n",
       "      <th>116920</th>\n",
       "      <td>2002-01-01 20:12:31</td>\n",
       "      <td>0</td>\n",
       "      <td>20</td>\n",
       "      <td>2002</td>\n",
       "      <td>1</td>\n",
       "    </tr>\n",
       "    <tr>\n",
       "      <th>116921</th>\n",
       "      <td>2002-01-01 21:27:27</td>\n",
       "      <td>0</td>\n",
       "      <td>9</td>\n",
       "      <td>2002</td>\n",
       "      <td>1</td>\n",
       "    </tr>\n",
       "    <tr>\n",
       "      <th>116922</th>\n",
       "      <td>2002-01-01 21:27:27</td>\n",
       "      <td>0</td>\n",
       "      <td>48</td>\n",
       "      <td>2002</td>\n",
       "      <td>1</td>\n",
       "    </tr>\n",
       "  </tbody>\n",
       "</table>\n",
       "</div>"
      ],
      "text/plain": [
       "                 timestamp  to   from  year  month\n",
       "116918 2002-01-01 17:27:27    0     9  2002      1\n",
       "116919 2002-01-01 17:27:27    0    48  2002      1\n",
       "116920 2002-01-01 20:12:31    0    20  2002      1\n",
       "116921 2002-01-01 21:27:27    0     9  2002      1\n",
       "116922 2002-01-01 21:27:27    0    48  2002      1"
      ]
     },
     "execution_count": 54,
     "metadata": {},
     "output_type": "execute_result"
    }
   ],
   "source": [
    "df_2k2.head()"
   ]
  },
  {
   "cell_type": "markdown",
   "metadata": {},
   "source": [
    "# Network Year 1998"
   ]
  },
  {
   "cell_type": "code",
   "execution_count": 83,
   "metadata": {
    "collapsed": false
   },
   "outputs": [],
   "source": [
    "nov_98 = df_98[df_98.month==11]\n",
    "dec_98= df_98[df_98.month==12]\n"
   ]
  },
  {
   "cell_type": "code",
   "execution_count": 89,
   "metadata": {
    "collapsed": true
   },
   "outputs": [],
   "source": [
    "def create_graph(df):\n",
    "    tmp = df.values[:,1:3]\n",
    "    G= nx.Graph()\n",
    "    G = nx.from_edgelist(tmp)\n",
    "    \n",
    "    return G"
   ]
  },
  {
   "cell_type": "code",
   "execution_count": 95,
   "metadata": {
    "collapsed": false
   },
   "outputs": [],
   "source": [
    "G_nov98 = create_graph(nov_98)\n",
    "G_dec98 = create_graph(dec_98)"
   ]
  },
  {
   "cell_type": "code",
   "execution_count": 100,
   "metadata": {
    "collapsed": false
   },
   "outputs": [
    {
     "data": {
      "image/png": "[encoded data removed]",
      "text/plain": [
       "<matplotlib.figure.Figure at 0x1ba74c4dc88>"
      ]
     },
     "metadata": {},
     "output_type": "display_data"
    }
   ],
   "source": [
    "plt.figure()\n",
    "plt.suptitle(\"Enron Email Network in 1998\", fontsize=20)\n",
    "plt.subplot(121)\n",
    "plt.title(\"Nov 1998\", fontsize=16)\n",
    "nx.draw_networkx(G_nov98)\n",
    "plt.subplot(122)\n",
    "plt.title(\"Dec 1998\", fontsize=16)\n",
    "nx.draw_networkx(G_dec98)\n"
   ]
  },
  {
   "cell_type": "markdown",
   "metadata": {},
   "source": [
    "# Network Year 1999"
   ]
  },
  {
   "cell_type": "code",
   "execution_count": 101,
   "metadata": {
    "collapsed": false
   },
   "outputs": [
    {
     "data": {
      "text/html": [
       "<div>\n",
       "<table border=\"1\" class=\"dataframe\">\n",
       "  <thead>\n",
       "    <tr style=\"text-align: right;\">\n",
       "      <th></th>\n",
       "      <th>to</th>\n",
       "      <th>from</th>\n",
       "      <th>year</th>\n",
       "      <th>month</th>\n",
       "    </tr>\n",
       "  </thead>\n",
       "  <tbody>\n",
       "    <tr>\n",
       "      <th>count</th>\n",
       "      <td>3715.000000</td>\n",
       "      <td>3715.000000</td>\n",
       "      <td>3715.0</td>\n",
       "      <td>3715.000000</td>\n",
       "    </tr>\n",
       "    <tr>\n",
       "      <th>mean</th>\n",
       "      <td>116.191386</td>\n",
       "      <td>115.949933</td>\n",
       "      <td>1999.0</td>\n",
       "      <td>9.725707</td>\n",
       "    </tr>\n",
       "    <tr>\n",
       "      <th>std</th>\n",
       "      <td>56.692443</td>\n",
       "      <td>43.626945</td>\n",
       "      <td>0.0</td>\n",
       "      <td>2.648675</td>\n",
       "    </tr>\n",
       "    <tr>\n",
       "      <th>min</th>\n",
       "      <td>11.000000</td>\n",
       "      <td>2.000000</td>\n",
       "      <td>1999.0</td>\n",
       "      <td>1.000000</td>\n",
       "    </tr>\n",
       "    <tr>\n",
       "      <th>25%</th>\n",
       "      <td>65.000000</td>\n",
       "      <td>88.000000</td>\n",
       "      <td>1999.0</td>\n",
       "      <td>8.000000</td>\n",
       "    </tr>\n",
       "    <tr>\n",
       "      <th>50%</th>\n",
       "      <td>145.000000</td>\n",
       "      <td>114.000000</td>\n",
       "      <td>1999.0</td>\n",
       "      <td>10.000000</td>\n",
       "    </tr>\n",
       "    <tr>\n",
       "      <th>75%</th>\n",
       "      <td>169.000000</td>\n",
       "      <td>156.000000</td>\n",
       "      <td>1999.0</td>\n",
       "      <td>12.000000</td>\n",
       "    </tr>\n",
       "    <tr>\n",
       "      <th>max</th>\n",
       "      <td>178.000000</td>\n",
       "      <td>178.000000</td>\n",
       "      <td>1999.0</td>\n",
       "      <td>12.000000</td>\n",
       "    </tr>\n",
       "  </tbody>\n",
       "</table>\n",
       "</div>"
      ],
      "text/plain": [
       "               to          from    year        month\n",
       "count  3715.000000  3715.000000  3715.0  3715.000000\n",
       "mean    116.191386   115.949933  1999.0     9.725707\n",
       "std      56.692443    43.626945     0.0     2.648675\n",
       "min      11.000000     2.000000  1999.0     1.000000\n",
       "25%      65.000000    88.000000  1999.0     8.000000\n",
       "50%     145.000000   114.000000  1999.0    10.000000\n",
       "75%     169.000000   156.000000  1999.0    12.000000\n",
       "max     178.000000   178.000000  1999.0    12.000000"
      ]
     },
     "execution_count": 101,
     "metadata": {},
     "output_type": "execute_result"
    }
   ],
   "source": [
    "df_99.describe()"
   ]
  },
  {
   "cell_type": "code",
   "execution_count": null,
   "metadata": {
    "collapsed": true
   },
   "outputs": [],
   "source": [
    "jan_99\n",
    "feb_99\n",
    "mar_99\n",
    "apr_99\n",
    "may_99\n",
    "jun_99\n",
    "jul_99\n",
    "aug_99\n",
    "sep_99\n",
    "oct_99\n",
    "nov_99\n",
    "dec_99\n"
   ]
  }
 ],
 "metadata": {
  "anaconda-cloud": {},
  "kernelspec": {
   "display_name": "Python [Root]",
   "language": "python",
   "name": "Python [Root]"
  },
  "language_info": {
   "codemirror_mode": {
    "name": "ipython",
    "version": 3
   },
   "file_extension": ".py",
   "mimetype": "text/x-python",
   "name": "python",
   "nbconvert_exporter": "python",
   "pygments_lexer": "ipython3",
   "version": "3.5.2"
  },
  "toc": {
   "toc_cell": false,
   "toc_number_sections": true,
   "toc_threshold": 6,
   "toc_window_display": false
  }
 },
 "nbformat": 4,
 "nbformat_minor": 0
}

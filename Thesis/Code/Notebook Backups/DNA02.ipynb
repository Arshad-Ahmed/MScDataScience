{
 "cells": [
  {
   "cell_type": "markdown",
   "metadata": {
    "run_control": {
     "marked": false
    },
    "toc": "true"
   },
   "source": [
    "# Table of Contents\n",
    " <p><div class=\"lev1 toc-item\"><a data-toc-modified-id=\"Import-Libraries-1\" href=\"#Import-Libraries\"><span class=\"toc-item-num\">1&nbsp;&nbsp;</span>Import Libraries</a></div><div class=\"lev1 toc-item\"><a data-toc-modified-id=\"Helper-Functions-2\" href=\"#Helper-Functions\"><span class=\"toc-item-num\">2&nbsp;&nbsp;</span>Helper Functions</a></div><div class=\"lev1 toc-item\"><a data-toc-modified-id=\"Data-Import-3\" href=\"#Data-Import\"><span class=\"toc-item-num\">3&nbsp;&nbsp;</span>Data Import</a></div><div class=\"lev2 toc-item\"><a data-toc-modified-id=\"Split-into-years-3.1\" href=\"#Split-into-years\"><span class=\"toc-item-num\">3.1&nbsp;&nbsp;</span>Split into years</a></div><div class=\"lev2 toc-item\"><a data-toc-modified-id=\"Create-yearly-graphs-3.2\" href=\"#Create-yearly-graphs\"><span class=\"toc-item-num\">3.2&nbsp;&nbsp;</span>Create yearly graphs</a></div><div class=\"lev2 toc-item\"><a data-toc-modified-id=\"Split-into-months-and-create-monthly-graphs-3.3\" href=\"#Split-into-months-and-create-monthly-graphs\"><span class=\"toc-item-num\">3.3&nbsp;&nbsp;</span>Split into months and create monthly graphs</a></div><div class=\"lev2 toc-item\"><a data-toc-modified-id=\"Visualise-Networks-3.4\" href=\"#Visualise-Networks\"><span class=\"toc-item-num\">3.4&nbsp;&nbsp;</span>Visualise Networks</a></div><div class=\"lev1 toc-item\"><a data-toc-modified-id=\"Centrality-and-Assortativity-Analysis-4\" href=\"#Centrality-and-Assortativity-Analysis\"><span class=\"toc-item-num\">4&nbsp;&nbsp;</span>Centrality and Assortativity Analysis</a></div><div class=\"lev2 toc-item\"><a data-toc-modified-id=\"Centrality-Analysis:-Year-4.1\" href=\"#Centrality-Analysis:-Year\"><span class=\"toc-item-num\">4.1&nbsp;&nbsp;</span>Centrality Analysis: Year</a></div><div class=\"lev2 toc-item\"><a data-toc-modified-id=\"Calculate-average-of-attributes-for-yearly-networks-4.2\" href=\"#Calculate-average-of-attributes-for-yearly-networks\"><span class=\"toc-item-num\">4.2&nbsp;&nbsp;</span>Calculate average of attributes for yearly networks</a></div><div class=\"lev2 toc-item\"><a data-toc-modified-id=\"Observations-4.3\" href=\"#Observations\"><span class=\"toc-item-num\">4.3&nbsp;&nbsp;</span>Observations</a></div><div class=\"lev2 toc-item\"><a data-toc-modified-id=\"Monthly-Analysis-4.4\" href=\"#Monthly-Analysis\"><span class=\"toc-item-num\">4.4&nbsp;&nbsp;</span>Monthly Analysis</a></div><div class=\"lev2 toc-item\"><a data-toc-modified-id=\"Comparison-of-Yearly-and-Monthly-trends-in-Centrality-4.5\" href=\"#Comparison-of-Yearly-and-Monthly-trends-in-Centrality\"><span class=\"toc-item-num\">4.5&nbsp;&nbsp;</span>Comparison of Yearly and Monthly trends in Centrality</a></div><div class=\"lev1 toc-item\"><a data-toc-modified-id=\"Attributes-Analysis-on-Graphs-5\" href=\"#Attributes-Analysis-on-Graphs\"><span class=\"toc-item-num\">5&nbsp;&nbsp;</span>Attributes Analysis on Graphs</a></div><div class=\"lev2 toc-item\"><a data-toc-modified-id=\"Instantaneous-Amplitude-5.1\" href=\"#Instantaneous-Amplitude\"><span class=\"toc-item-num\">5.1&nbsp;&nbsp;</span>Instantaneous Amplitude</a></div><div class=\"lev2 toc-item\"><a data-toc-modified-id=\"Derivative-of-Instantanteous-Amplitue,-$\\frac{\\mathrm-d}{\\mathrm-d-t}-\\big(-IA-\\big)$-5.2\" href=\"#Derivative-of-Instantanteous-Amplitue,-$\\frac{\\mathrm-d}{\\mathrm-d-t}-\\big(-IA-\\big)$\"><span class=\"toc-item-num\">5.2&nbsp;&nbsp;</span>Derivative of Instantanteous Amplitue, <span style=\"color: inherit;\" class=\"MathJax_Preview\"><span id=\"MJXp-Span-162\" class=\"MJXp-math\"><span style=\"vertical-align: 0.25em;\" id=\"MJXp-Span-163\" class=\"MJXp-mfrac\"><span class=\"MJXp-box MJXp-script\"><span id=\"MJXp-Span-164\" class=\"MJXp-mrow\"><span id=\"MJXp-Span-165\" class=\"MJXp-mi\">d</span></span></span><span style=\"margin-top: -0.9em;\" class=\"MJXp-box\"><span class=\"MJXp-denom\"><span><span style=\"height: 1em; border-top: medium none; border-bottom: 1px solid; margin: 0.1em 0px;\" class=\"MJXp-rule\"></span></span><span><span class=\"MJXp-box MJXp-script\"><span id=\"MJXp-Span-166\" class=\"MJXp-mrow\"><span id=\"MJXp-Span-167\" class=\"MJXp-mi\">d</span></span><span id=\"MJXp-Span-168\" class=\"MJXp-mi MJXp-italic\">t</span></span></span></span></span></span><span id=\"MJXp-Span-169\" class=\"MJXp-mrow\"><span style=\"margin-left: 0em; margin-right: 0em; vertical-align: -0.083em;\" id=\"MJXp-Span-170\" class=\"MJXp-mo\"><span class=\"MJXp-right MJXp-scale10\" style=\"font-size: 1.333em; margin-left: 0.07em;\">(</span></span></span><span id=\"MJXp-Span-171\" class=\"MJXp-mi MJXp-italic\">I</span><span id=\"MJXp-Span-172\" class=\"MJXp-mi MJXp-italic\">A</span><span id=\"MJXp-Span-173\" class=\"MJXp-mrow\"><span style=\"margin-left: 0em; margin-right: 0em; vertical-align: -0.083em;\" id=\"MJXp-Span-174\" class=\"MJXp-mo\"><span class=\"MJXp-right MJXp-scale10\" style=\"font-size: 1.333em; margin-left: 0.07em;\">)</span></span></span></span></span><script id=\"MathJax-Element-16\" type=\"math/tex\">\\frac{\\mathrm d}{\\mathrm d t} \\big( IA \\big)</script></a></div><div class=\"lev2 toc-item\"><a data-toc-modified-id=\"2nd-Derivative-of-Instantaneous-Amplitude-$\\frac{\\mathrm-d^2}{\\mathrm-d-t^2}-\\big(-IA-\\big)$-5.3\" href=\"#2nd-Derivative-of-Instantaneous-Amplitude-$\\frac{\\mathrm-d^2}{\\mathrm-d-t^2}-\\big(-IA-\\big)$\"><span class=\"toc-item-num\">5.3&nbsp;&nbsp;</span>2nd Derivative of Instantaneous Amplitude <span style=\"color: inherit;\" class=\"MathJax_Preview\"><span id=\"MJXp-Span-175\" class=\"MJXp-math\"><span style=\"vertical-align: 0.25em;\" id=\"MJXp-Span-176\" class=\"MJXp-mfrac\"><span class=\"MJXp-box MJXp-script\"><span id=\"MJXp-Span-177\" class=\"MJXp-msubsup\"><span style=\"margin-right: 0.05em;\" id=\"MJXp-Span-178\" class=\"MJXp-mrow\"><span id=\"MJXp-Span-179\" class=\"MJXp-mi\">d</span></span><span style=\"vertical-align: 0.5em;\" id=\"MJXp-Span-180\" class=\"MJXp-mn MJXp-script\">2</span></span></span><span style=\"margin-top: -0.9em;\" class=\"MJXp-box\"><span class=\"MJXp-denom\"><span><span style=\"height: 1em; border-top: medium none; border-bottom: 1px solid; margin: 0.1em 0px;\" class=\"MJXp-rule\"></span></span><span><span class=\"MJXp-box MJXp-script\"><span id=\"MJXp-Span-181\" class=\"MJXp-mrow\"><span id=\"MJXp-Span-182\" class=\"MJXp-mi\">d</span></span><span id=\"MJXp-Span-183\" class=\"MJXp-msubsup\"><span style=\"margin-right: 0.05em;\" id=\"MJXp-Span-184\" class=\"MJXp-mi MJXp-italic\">t</span><span style=\"vertical-align: 0.5em;\" id=\"MJXp-Span-185\" class=\"MJXp-mn MJXp-script\">2</span></span></span></span></span></span></span><span id=\"MJXp-Span-186\" class=\"MJXp-mrow\"><span style=\"margin-left: 0em; margin-right: 0em; vertical-align: -0.083em;\" id=\"MJXp-Span-187\" class=\"MJXp-mo\"><span class=\"MJXp-right MJXp-scale10\" style=\"font-size: 1.333em; margin-left: 0.07em;\">(</span></span></span><span id=\"MJXp-Span-188\" class=\"MJXp-mi MJXp-italic\">I</span><span id=\"MJXp-Span-189\" class=\"MJXp-mi MJXp-italic\">A</span><span id=\"MJXp-Span-190\" class=\"MJXp-mrow\"><span style=\"margin-left: 0em; margin-right: 0em; vertical-align: -0.083em;\" id=\"MJXp-Span-191\" class=\"MJXp-mo\"><span class=\"MJXp-right MJXp-scale10\" style=\"font-size: 1.333em; margin-left: 0.07em;\">)</span></span></span></span></span><script id=\"MathJax-Element-17\" type=\"math/tex\">\\frac{\\mathrm d^2}{\\mathrm d t^2} \\big( IA \\big)</script></a></div><div class=\"lev2 toc-item\"><a data-toc-modified-id=\"Instantaneous-Phase-5.4\" href=\"#Instantaneous-Phase\"><span class=\"toc-item-num\">5.4&nbsp;&nbsp;</span>Instantaneous Phase</a></div><div class=\"lev2 toc-item\"><a data-toc-modified-id=\"Cosine-of-IP-5.5\" href=\"#Cosine-of-IP\"><span class=\"toc-item-num\">5.5&nbsp;&nbsp;</span>Cosine of IP</a></div><div class=\"lev2 toc-item\"><a data-toc-modified-id=\"Instantaneous-Frequency-5.6\" href=\"#Instantaneous-Frequency\"><span class=\"toc-item-num\">5.6&nbsp;&nbsp;</span>Instantaneous Frequency</a></div><div class=\"lev2 toc-item\"><a data-toc-modified-id=\"Instantaneous-Acceleration-5.7\" href=\"#Instantaneous-Acceleration\"><span class=\"toc-item-num\">5.7&nbsp;&nbsp;</span>Instantaneous Acceleration</a></div><div class=\"lev2 toc-item\"><a data-toc-modified-id=\"Amplitude-Weighted-IF-5.8\" href=\"#Amplitude-Weighted-IF\"><span class=\"toc-item-num\">5.8&nbsp;&nbsp;</span>Amplitude Weighted IF</a></div><div class=\"lev2 toc-item\"><a data-toc-modified-id=\"Amplitude-weighted-Instantaneous-Phase-5.9\" href=\"#Amplitude-weighted-Instantaneous-Phase\"><span class=\"toc-item-num\">5.9&nbsp;&nbsp;</span>Amplitude weighted Instantaneous Phase</a></div><div class=\"lev2 toc-item\"><a data-toc-modified-id=\"Mean-Curvature-5.10\" href=\"#Mean-Curvature\"><span class=\"toc-item-num\">5.10&nbsp;&nbsp;</span>Mean Curvature</a></div><div class=\"lev2 toc-item\"><a data-toc-modified-id=\"Kernel-PCA-3-Components-Ratio-5.11\" href=\"#Kernel-PCA-3-Components-Ratio\"><span class=\"toc-item-num\">5.11&nbsp;&nbsp;</span>Kernel PCA 3 Components Ratio</a></div><div class=\"lev2 toc-item\"><a data-toc-modified-id=\"ICA-Ratio-5.12\" href=\"#ICA-Ratio\"><span class=\"toc-item-num\">5.12&nbsp;&nbsp;</span>ICA Ratio</a></div><div class=\"lev2 toc-item\"><a data-toc-modified-id=\"Norm-NMF-Ratio-5.13\" href=\"#Norm-NMF-Ratio\"><span class=\"toc-item-num\">5.13&nbsp;&nbsp;</span>Norm NMF Ratio</a></div><div class=\"lev2 toc-item\"><a data-toc-modified-id=\"Resistance-Distance-5.14\" href=\"#Resistance-Distance\"><span class=\"toc-item-num\">5.14&nbsp;&nbsp;</span>Resistance Distance</a></div><div class=\"lev2 toc-item\"><a data-toc-modified-id=\"Stationarity-Ratio-5.15\" href=\"#Stationarity-Ratio\"><span class=\"toc-item-num\">5.15&nbsp;&nbsp;</span>Stationarity Ratio</a></div><div class=\"lev1 toc-item\"><a data-toc-modified-id=\"Frequency--Wavenumber-(fk)-and-Radon-Plots-6\" href=\"#Frequency--Wavenumber-(fk)-and-Radon-Plots\"><span class=\"toc-item-num\">6&nbsp;&nbsp;</span>Frequency  Wavenumber (fk) and Radon Plots</a></div><div class=\"lev1 toc-item\"><a data-toc-modified-id=\"Towards-Global-Measures-7\" href=\"#Towards-Global-Measures\"><span class=\"toc-item-num\">7&nbsp;&nbsp;</span>Towards Global Measures</a></div><div class=\"lev2 toc-item\"><a data-toc-modified-id=\"Subgraph-Stationarity,-$\\zeta$-7.1\" href=\"#Subgraph-Stationarity,-$\\zeta$\"><span class=\"toc-item-num\">7.1&nbsp;&nbsp;</span>Subgraph Stationarity, <span style=\"color: inherit;\" class=\"MathJax_Preview\"><span id=\"MJXp-Span-388\" class=\"MJXp-math\"><span id=\"MJXp-Span-389\" class=\"MJXp-mi MJXp-italic\">ζ</span></span></span><script id=\"MathJax-Element-27\" type=\"math/tex\">\\zeta</script></a></div><div class=\"lev2 toc-item\"><a data-toc-modified-id=\"Persistence-&amp;-Emergence-7.2\" href=\"#Persistence-&amp;-Emergence\"><span class=\"toc-item-num\">7.2&nbsp;&nbsp;</span>Persistence &amp; Emergence</a></div><div class=\"lev2 toc-item\"><a data-toc-modified-id=\"NRMS-of-Emergence-7.3\" href=\"#NRMS-of-Emergence\"><span class=\"toc-item-num\">7.3&nbsp;&nbsp;</span>NRMS of Emergence</a></div><div class=\"lev2 toc-item\"><a data-toc-modified-id=\"NRMS-of-Network-Attributes-7.4\" href=\"#NRMS-of-Network-Attributes\"><span class=\"toc-item-num\">7.4&nbsp;&nbsp;</span>NRMS of Network Attributes</a></div><div class=\"lev2 toc-item\"><a data-toc-modified-id=\"Sort-by-freq-and-wavenumber-indices-7.5\" href=\"#Sort-by-freq-and-wavenumber-indices\"><span class=\"toc-item-num\">7.5&nbsp;&nbsp;</span>Sort by freq and wavenumber indices</a></div><div class=\"lev1 toc-item\"><a data-toc-modified-id=\"Attribute-Correlations-8\" href=\"#Attribute-Correlations\"><span class=\"toc-item-num\">8&nbsp;&nbsp;</span>Attribute Correlations</a></div><div class=\"lev2 toc-item\"><a data-toc-modified-id=\"Correlation-Matrix-8.1\" href=\"#Correlation-Matrix\"><span class=\"toc-item-num\">8.1&nbsp;&nbsp;</span>Correlation Matrix</a></div><div class=\"lev2 toc-item\"><a data-toc-modified-id=\"Correlation-Dendogram-8.2\" href=\"#Correlation-Dendogram\"><span class=\"toc-item-num\">8.2&nbsp;&nbsp;</span>Correlation Dendogram</a></div><div class=\"lev2 toc-item\"><a data-toc-modified-id=\"Correlation-Matrix->-0.7-8.3\" href=\"#Correlation-Matrix->-0.7\"><span class=\"toc-item-num\">8.3&nbsp;&nbsp;</span>Correlation Matrix &gt; 0.7</a></div><div class=\"lev2 toc-item\"><a data-toc-modified-id=\"Correlation-Network-of-Attributes-8.4\" href=\"#Correlation-Network-of-Attributes\"><span class=\"toc-item-num\">8.4&nbsp;&nbsp;</span>Correlation Network of Attributes</a></div><div class=\"lev1 toc-item\"><a data-toc-modified-id=\"Feature-Ranking-with-Gradient-Boositng-Regressor-9\" href=\"#Feature-Ranking-with-Gradient-Boositng-Regressor\"><span class=\"toc-item-num\">9&nbsp;&nbsp;</span>Feature Ranking with Gradient Boositng Regressor</a></div><div class=\"lev2 toc-item\"><a data-toc-modified-id=\"Feature-Ranking-for-predicting-Emergence-9.1\" href=\"#Feature-Ranking-for-predicting-Emergence\"><span class=\"toc-item-num\">9.1&nbsp;&nbsp;</span>Feature Ranking for predicting Emergence</a></div><div class=\"lev2 toc-item\"><a data-toc-modified-id=\"Feature-Ranking-for-predicting-Average-Degree-9.2\" href=\"#Feature-Ranking-for-predicting-Average-Degree\"><span class=\"toc-item-num\">9.2&nbsp;&nbsp;</span>Feature Ranking for predicting Average Degree</a></div><div class=\"lev1 toc-item\"><a data-toc-modified-id=\"Signal-to-Noise-ratio-10\" href=\"#Signal-to-Noise-ratio\"><span class=\"toc-item-num\">10&nbsp;&nbsp;</span>Signal to Noise ratio</a></div><div class=\"lev1 toc-item\"><a data-toc-modified-id=\"Thoughts-and-Observations-11\" href=\"#Thoughts-and-Observations\"><span class=\"toc-item-num\">11&nbsp;&nbsp;</span>Thoughts and Observations</a></div>"
   ]
  },
  {
   "cell_type": "markdown",
   "metadata": {
    "run_control": {
     "marked": false
    }
   },
   "source": [
    "# Import Libraries"
   ]
  },
  {
   "cell_type": "code",
   "execution_count": null,
   "metadata": {
    "collapsed": false,
    "run_control": {
     "marked": false
    }
   },
   "outputs": [],
   "source": [
    "import pandas as pd\n",
    "import numpy as np\n",
    "import networkx as nx\n",
    "import seaborn as sns\n",
    "import matplotlib.pyplot as plt\n",
    "import scipy as sc\n",
    "import random\n",
    "from scipy.signal import *\n",
    "from numpy.linalg import *\n",
    "#plotting parameters\n",
    "%matplotlib inline\n",
    "sns.set(style=\"whitegrid\", color_codes=True, context='paper')\n",
    "plt.rc('axes', grid=False, titlesize='large', labelsize='large',labelweight='heavy')\n",
    "plt.rc('lines', linewidth=4)\n",
    "plt.rc('font',family='serif',size=16, serif='Georgia Pro')\n",
    "plt.rc('figure', figsize = (15,6),titlesize='large',titleweight='heavy')\n",
    "plt.rc('grid',linewidth=5)\n",
    "from sklearn.decomposition import *"
   ]
  },
  {
   "cell_type": "markdown",
   "metadata": {},
   "source": [
    "Set color palette"
   ]
  },
  {
   "cell_type": "code",
   "execution_count": null,
   "metadata": {
    "collapsed": false
   },
   "outputs": [
    {
     "data": {
      "image/png": "[encoded data removed]",
      "text/plain": [
       "<matplotlib.figure.Figure at 0x20811de0b70>"
      ]
     },
     "metadata": {},
     "output_type": "display_data"
    }
   ],
   "source": [
    "sns.palplot(sns.husl_palette(20, h=0.8,l=0.5))"
   ]
  },
  {
   "cell_type": "code",
   "execution_count": null,
   "metadata": {
    "collapsed": false
   },
   "outputs": [],
   "source": [
    "sns.set_palette(sns.husl_palette(20, h=0.8,l=0.5))"
   ]
  },
  {
   "cell_type": "markdown",
   "metadata": {
    "run_control": {
     "marked": false
    }
   },
   "source": [
    "# Helper Functions"
   ]
  },
  {
   "cell_type": "code",
   "execution_count": null,
   "metadata": {
    "collapsed": true,
    "run_control": {
     "marked": false
    }
   },
   "outputs": [],
   "source": [
    "def get_val(val):\n",
    "    return sorted(set(val.values()))"
   ]
  },
  {
   "cell_type": "code",
   "execution_count": null,
   "metadata": {
    "collapsed": true,
    "run_control": {
     "marked": false
    }
   },
   "outputs": [],
   "source": [
    "def avg_cent(cent):\n",
    "    avg = sum(set(cent.values()))/len(cent)\n",
    "    return avg"
   ]
  },
  {
   "cell_type": "code",
   "execution_count": null,
   "metadata": {
    "collapsed": true,
    "run_control": {
     "marked": false
    }
   },
   "outputs": [],
   "source": [
    "def get_cent(net):\n",
    "    degC = nx.degree_centrality(net)\n",
    "    cloC = nx.closeness_centrality(net)\n",
    "    betC = nx.betweenness_centrality(net)\n",
    "    eigC = nx.eigenvector_centrality_numpy(net)\n",
    "    katzC = nx.katz_centrality_numpy(net)\n",
    "    loadC = nx.load_centrality(net)\n",
    "    \n",
    "    #cent_df = pd.Data\n",
    "        \n",
    "    return [degC,cloC,betC,eigC,katzC, loadC]"
   ]
  },
  {
   "cell_type": "code",
   "execution_count": null,
   "metadata": {
    "collapsed": true,
    "run_control": {
     "marked": false
    }
   },
   "outputs": [],
   "source": [
    "def stationarity_ratio(G):\n",
    "    #stationarity ratio with laplian\n",
    "    L = nx.normalized_laplacian_matrix(G).todense()\n",
    "    U = eigvals(L)\n",
    "    C =np.cov(L)\n",
    "    CF = np.dot(L,np.dot(np.dot(U.T,C),U))\n",
    "    r = np.linalg.norm(np.diag(CF))/np.linalg.norm(CF)\n",
    "       \n",
    "    return [r]"
   ]
  },
  {
   "cell_type": "code",
   "execution_count": null,
   "metadata": {
    "collapsed": true,
    "run_control": {
     "marked": false
    }
   },
   "outputs": [],
   "source": [
    "#cite:`klein1993resistance`\n",
    "def resistance_distance(net):  \n",
    "    M = nx.normalized_laplacian_matrix(net).todense()\n",
    "    pseudo = pinv(M)\n",
    "    N = M.shape[0]\n",
    "    d = np.diag(pseudo)\n",
    "    rd  = np.kron(d,np.ones((N,1))).T+np.kron(d,np.ones((N,1))).T - pseudo - pseudo.T\n",
    "    \n",
    "    return [rd, rd.mean()]"
   ]
  },
  {
   "cell_type": "code",
   "execution_count": null,
   "metadata": {
    "collapsed": true,
    "run_control": {
     "marked": false
    }
   },
   "outputs": [],
   "source": [
    "def calc_seisatt(net):\n",
    "    M = nx.normalized_laplacian_matrix(net).todense()\n",
    "    Ht = hilbert(M)  \n",
    "    \n",
    "    #Basic attributes IA, IP, IF\n",
    "    IA = np.real(np.nan_to_num(np.sqrt(np.dot(M,M)+np.dot(Ht,Ht))))\n",
    "    IP = np.real(np.nan_to_num(np.arctan(Ht/M)))\n",
    "    IF,_ = np.real(np.nan_to_num(np.asarray(np.gradient(IP))))\n",
    "    \n",
    "    #Derivatives \n",
    "    dIA,_ = np.nan_to_num(np.asarray(np.gradient(IA)))\n",
    "    d2IA,_ = np.nan_to_num(np.asarray(np.gradient(dIA)))\n",
    "    IAcc,_ =np.nan_to_num(np.asarray(np.gradient(IF)))\n",
    "   \n",
    "    #Derived Attributes\n",
    "    cosIP = np.cos(IP)\n",
    "    IA_weit_IF = IA * IF\n",
    "    IA_weit_IP = IA*IP\n",
    "    \n",
    "    att_globalval = pd.DataFrame([IA.mean(),IP.mean(),IF.mean(), dIA.mean(),d2IA.mean(), \\\n",
    "                                  IAcc.mean(),cosIP.mean(),IA_weit_IF.mean(), IA_weit_IP.mean()]).T\n",
    "    att_globalval.columns =['InstAmp','InstPhase','InstFreq','dInstAmp','d2InstAmp','InstAccel','cosInstPhase','IAwIF',\\\n",
    "                           'IAwIP']\n",
    "   \n",
    "    return [IA,IP,IF,dIA,d2IA,IAcc,cosIP, IA_weit_IF,IA_weit_IP, att_globalval]"
   ]
  },
  {
   "cell_type": "code",
   "execution_count": null,
   "metadata": {
    "collapsed": true,
    "run_control": {
     "marked": false
    }
   },
   "outputs": [],
   "source": [
    "def curvature(net):\n",
    "    from skimage.feature import hessian_matrix, hessian_matrix_det, hessian_matrix_eigvals\n",
    "    M = nx.normalized_laplacian_matrix(net).todense()\n",
    "    M = np.float64(M)\n",
    "    fx, fy = np.gradient(M)\n",
    "    Hxx, Hxy, Hyy = hessian_matrix(M)\n",
    "    K = np.divide((np.dot(Hxx,Hxy)-np.dot(Hxy,Hxy)),\\\n",
    "                  (1+np.dot(fx,fx)+np.dot(fy,fy)))\n",
    "    \n",
    "    He1,_ = hessian_matrix_eigvals(Hxx,Hxy,Hyy)\n",
    "    mean_curv = np.trace(He1)\n",
    "    s, a = np.linalg.slogdet(He1)\n",
    "    conc = s * np.exp(a)\n",
    "    Pmax = np.max(He1)\n",
    "    Pmin = np.min(He1)\n",
    "    \n",
    "    return [K,mean_curv]"
   ]
  },
  {
   "cell_type": "code",
   "execution_count": null,
   "metadata": {
    "collapsed": true,
    "run_control": {
     "marked": false
    }
   },
   "outputs": [],
   "source": [
    "def cal_avgstat(net):\n",
    "    #calculate all attributes from previously defined functions here\n",
    "    degC,cloC,betC,eigC,katzC, loadC = get_cent(net)\n",
    "    _,meanK = curvature(net)\n",
    "    _,_,_,_,_,_,_,_,_, att_globalval = calc_seisatt(net)\n",
    "    _,norm_rd = resistance_distance(net)\n",
    "    r = stationarity_ratio(net)\n",
    "    den = nx.density(net)\n",
    "    clustcof = nx.average_clustering(net)\n",
    "    algcon = nx.algebraic_connectivity(net)\n",
    "    \n",
    "    #create attribute volume here\n",
    "    stat_df = pd.DataFrame([avg_cent(degC),avg_cent(cloC), avg_cent(betC),avg_cent(eigC), \\\n",
    "            avg_cent(katzC), avg_cent(loadC), den, clustcof,algcon, meanK, ]).T\n",
    "    stat_df.columns= ['AvgDeg','AvgCloseness','AvgBet','AvgEig','AvgKatz','AvgLoad','Density','AvgClustCoef',\\\n",
    "                      'AlgebraicConnect','MeanKurv',]\n",
    "    stat_df = stat_df.join(att_globalval)\n",
    "    stat_df['MeanResistanceDist']= norm_rd\n",
    "    stat_df['StatRat']=r\n",
    "   \n",
    "        \n",
    "    return stat_df"
   ]
  },
  {
   "cell_type": "code",
   "execution_count": null,
   "metadata": {
    "collapsed": true,
    "run_control": {
     "marked": false
    }
   },
   "outputs": [],
   "source": [
    "def get_top_keys(dictionary, top):\n",
    "    items = dictionary.items()\n",
    "    items = sorted(items,reverse=True, key=lambda x: x[1])\n",
    "    obj = map(lambda x: x[0], items[:top])\n",
    "    for i in obj:\n",
    "        print(i)\n",
    "    #return map(lambda x: x[0], items[:top])"
   ]
  },
  {
   "cell_type": "code",
   "execution_count": null,
   "metadata": {
    "collapsed": true,
    "run_control": {
     "marked": false
    }
   },
   "outputs": [],
   "source": [
    "def create_graph(df):\n",
    "    tmp = df.values[:,1:3]\n",
    "    G= nx.Graph()\n",
    "    G = nx.from_edgelist(tmp)\n",
    "    \n",
    "    return G"
   ]
  },
  {
   "cell_type": "code",
   "execution_count": null,
   "metadata": {
    "collapsed": true,
    "run_control": {
     "marked": false
    }
   },
   "outputs": [],
   "source": [
    "def rms(a, axis=None):\n",
    "    from numpy import mean, sqrt,square\n",
    "    rms = sqrt(mean(square(a), axis=axis))\n",
    "    return rms\n",
    "\n",
    "def nrms(a,b):\n",
    "    nrms = 200*rms(a-b)/(rms(a)+ rms(b))\n",
    "    return nrms"
   ]
  },
  {
   "cell_type": "code",
   "execution_count": null,
   "metadata": {
    "collapsed": false,
    "run_control": {
     "marked": false
    }
   },
   "outputs": [],
   "source": [
    "def get_centhistval(cent_dict, title=None):\n",
    "    from collections import Counter\n",
    "    vals = list(Counter(cent_dict.values()))\n",
    "    freq = list(Counter(cent_dict.values()).values())\n",
    "    plt.figure()\n",
    "    pd.DataFrame.from_dict(cent_dict, orient='index').plot(kind='hist', legend=False)\n",
    "    #sns.distplot(vals,hist=True,kde=False, color='#6F4E37')\n",
    "    plt.title(\"Distribution of \" + str(title), fontsize=20)\n",
    "    plt.xlabel(\"Centrality Value\", fontsize=18)\n",
    "    plt.ylabel(\"No. of Nodes\", fontsize=18)\n",
    "    plt.xticks(fontsize=18)\n",
    "    plt.yticks(fontsize=18)\n",
    "    plt.tight_layout()\n",
    "    \n",
    "    plt.show()"
   ]
  },
  {
   "cell_type": "code",
   "execution_count": null,
   "metadata": {
    "collapsed": true,
    "run_control": {
     "marked": false
    }
   },
   "outputs": [],
   "source": [
    "def pad_shape(x,ref,offset=0):\n",
    "    result = np.zeros_like(ref)\n",
    "    result[0:x.shape[0]+0,0:x.shape[1]+0] = x\n",
    "    \n",
    "    return result"
   ]
  },
  {
   "cell_type": "code",
   "execution_count": null,
   "metadata": {
    "collapsed": true,
    "run_control": {
     "marked": false
    }
   },
   "outputs": [],
   "source": [
    "def subgraph_stat(net1,net2):\n",
    "    net1_int_net2 = net1.copy()\n",
    "    net1_int_net2.remove_nodes_from(n for n in net1 if n not in net2)\n",
    "    net1_u_net2 = nx.disjoint_union(net1, net2)\n",
    "    int_adjmat = nx.adjacency_matrix(net1_int_net2).todense()\n",
    "    uni_adjmat = nx.adjacency_matrix(net1_u_net2).todense()\n",
    "    int_adjmat_pad = pad_shape(int_adjmat,uni_adjmat)\n",
    "    \n",
    "    Ct = np.divide(norm(int_adjmat_pad),norm(uni_adjmat))\n",
    "    \n",
    "    return Ct"
   ]
  },
  {
   "cell_type": "code",
   "execution_count": null,
   "metadata": {
    "collapsed": true
   },
   "outputs": [],
   "source": [
    "def fk_plot(f,name):\n",
    "    freq = sc.fft(f)\n",
    "    wavnum = 1/freq\n",
    "       \n",
    "    plt.scatter(freq, wavnum, s=60, marker='^', c='k')\n",
    "    plt.title(\"F-K Plot of \"+str(name), fontsize=18)\n",
    "    plt.xticks(fontsize=14)\n",
    "    plt.yticks(fontsize=14)\n",
    "    plt.xlabel(\"Wavenumber,k\", fontsize=18)\n",
    "    plt.ylabel(\"Frequency,f\", fontsize=18)\n",
    "\n",
    "    plt.show()\n",
    "     \n",
    "    return [freq,wavnum]"
   ]
  },
  {
   "cell_type": "code",
   "execution_count": null,
   "metadata": {
    "collapsed": true
   },
   "outputs": [],
   "source": [
    "def plot_radon(m, name):\n",
    "    from skimage.transform import radon\n",
    "    theta = np.linspace(0., 180., max(m.shape), endpoint=False)\n",
    "    sinogram = radon(m, theta=theta, circle=True)\n",
    "    \n",
    "    fig, ax = plt.subplots(1,2)\n",
    "    \n",
    "    ax[0].scatter(sinogram[0], sinogram[1], s=60, marker='^', c='k')\n",
    "    ax[0].set_title(\"Radon Transform Plot of \"+str(name), fontsize=14)\n",
    " \n",
    "    \n",
    "    ax[1].scatter(1/sinogram[0], sinogram[1], s=60, marker='^', c='r')\n",
    "    ax[1].set_title(\"1/Radon[0] vs Radon[1] Plot of \"+str(name), fontsize=14)\n",
    "\n",
    "    \n",
    "    plt.show()\n",
    "    \n",
    "    return sinogram"
   ]
  },
  {
   "cell_type": "markdown",
   "metadata": {
    "run_control": {
     "marked": false
    }
   },
   "source": [
    "# Data Import"
   ]
  },
  {
   "cell_type": "code",
   "execution_count": null,
   "metadata": {
    "collapsed": true,
    "run_control": {
     "marked": false
    }
   },
   "outputs": [],
   "source": [
    "data = pd.read_excel(\"../Data/data 03.2.xlsx\")"
   ]
  },
  {
   "cell_type": "code",
   "execution_count": null,
   "metadata": {
    "collapsed": false,
    "run_control": {
     "marked": false
    }
   },
   "outputs": [],
   "source": [
    "data.head()"
   ]
  },
  {
   "cell_type": "code",
   "execution_count": null,
   "metadata": {
    "collapsed": false,
    "run_control": {
     "marked": false
    }
   },
   "outputs": [],
   "source": [
    "years = sorted(set(data.year))\n",
    "years"
   ]
  },
  {
   "cell_type": "code",
   "execution_count": null,
   "metadata": {
    "collapsed": false,
    "run_control": {
     "marked": false
    }
   },
   "outputs": [],
   "source": [
    "#total % of mislabelled 1979 entries\n",
    "(data[data.year==1979].count()/data.shape[0]) * 100"
   ]
  },
  {
   "cell_type": "markdown",
   "metadata": {
    "run_control": {
     "marked": false
    }
   },
   "source": [
    "## Split into years"
   ]
  },
  {
   "cell_type": "code",
   "execution_count": null,
   "metadata": {
    "collapsed": false,
    "run_control": {
     "marked": false
    }
   },
   "outputs": [],
   "source": [
    "df_98 = data[data.year==years[1]]\n",
    "df_99 = data[data.year==years[2]]\n",
    "df_2k = data[data.year==years[3]]\n",
    "df_2k1 = data[data.year==years[4]]\n",
    "df_2k2 = data[data.year==years[5]]"
   ]
  },
  {
   "cell_type": "code",
   "execution_count": null,
   "metadata": {
    "collapsed": false,
    "run_control": {
     "marked": false
    }
   },
   "outputs": [],
   "source": [
    "df_2k.head()"
   ]
  },
  {
   "cell_type": "markdown",
   "metadata": {
    "run_control": {
     "marked": false
    }
   },
   "source": [
    "## Create yearly graphs"
   ]
  },
  {
   "cell_type": "code",
   "execution_count": null,
   "metadata": {
    "collapsed": true,
    "run_control": {
     "marked": false
    }
   },
   "outputs": [],
   "source": [
    "Gt0 = create_graph(df_98)\n",
    "Gt1 = create_graph(df_99)\n",
    "Gt2 = create_graph(df_2k)\n",
    "Gt3 = create_graph(df_2k1)\n",
    "Gt4 = create_graph(df_2k2)"
   ]
  },
  {
   "cell_type": "markdown",
   "metadata": {
    "run_control": {
     "marked": false
    }
   },
   "source": [
    "## Split into months and create monthly graphs"
   ]
  },
  {
   "cell_type": "code",
   "execution_count": null,
   "metadata": {
    "collapsed": true,
    "run_control": {
     "marked": false
    }
   },
   "outputs": [],
   "source": [
    "nov_98 = df_98[df_98.month==11]\n",
    "dec_98= df_98[df_98.month==12]\n",
    "\n",
    "G_nov98 = create_graph(nov_98)\n",
    "G_dec98 = create_graph(dec_98)"
   ]
  },
  {
   "cell_type": "code",
   "execution_count": null,
   "metadata": {
    "collapsed": true,
    "run_control": {
     "marked": false
    }
   },
   "outputs": [],
   "source": [
    "jan_99=df_99[df_99.month==1]\n",
    "feb_99=df_99[df_99.month==2]\n",
    "mar_99=df_99[df_99.month==3]\n",
    "apr_99=df_99[df_99.month==4]\n",
    "may_99=df_99[df_99.month==5]\n",
    "jun_99=df_99[df_99.month==6]\n",
    "jul_99=df_99[df_99.month==7]\n",
    "aug_99=df_99[df_99.month==8]\n",
    "sep_99=df_99[df_99.month==9]\n",
    "oct_99=df_99[df_99.month==10]\n",
    "nov_99=df_99[df_99.month==11]\n",
    "dec_99=df_99[df_99.month==12]\n",
    "\n",
    "\n",
    "G_jan_99=create_graph(jan_99)\n",
    "G_feb_99=create_graph(feb_99)\n",
    "G_mar_99=create_graph(mar_99)\n",
    "G_apr_99=create_graph(apr_99)\n",
    "G_may_99=create_graph(may_99)\n",
    "G_jun_99=create_graph(jun_99)\n",
    "G_jul_99=create_graph(jul_99)\n",
    "G_aug_99=create_graph(aug_99)\n",
    "G_sep_99=create_graph(sep_99)\n",
    "G_oct_99=create_graph(oct_99)\n",
    "G_nov_99=create_graph(nov_99)\n",
    "G_dec_99=create_graph(dec_99)"
   ]
  },
  {
   "cell_type": "code",
   "execution_count": null,
   "metadata": {
    "collapsed": true,
    "run_control": {
     "marked": false
    }
   },
   "outputs": [],
   "source": [
    "jan_2k=df_2k[df_2k.month==1]\n",
    "feb_2k=df_2k[df_2k.month==2]\n",
    "mar_2k=df_2k[df_2k.month==3]\n",
    "apr_2k=df_2k[df_2k.month==4]\n",
    "may_2k=df_2k[df_2k.month==5]\n",
    "jun_2k=df_2k[df_2k.month==6]\n",
    "jul_2k=df_2k[df_2k.month==7]\n",
    "aug_2k=df_2k[df_2k.month==8]\n",
    "sep_2k=df_2k[df_2k.month==9]\n",
    "oct_2k=df_2k[df_2k.month==10]\n",
    "nov_2k=df_2k[df_2k.month==11]\n",
    "dec_2k=df_2k[df_2k.month==12]\n",
    "\n",
    "\n",
    "G_jan_2k=create_graph(jan_2k)\n",
    "G_feb_2k=create_graph(feb_2k)\n",
    "G_mar_2k=create_graph(mar_2k)\n",
    "G_apr_2k=create_graph(apr_2k)\n",
    "G_may_2k=create_graph(may_2k)\n",
    "G_jun_2k=create_graph(jun_2k)\n",
    "G_jul_2k=create_graph(jul_2k)\n",
    "G_aug_2k=create_graph(aug_2k)\n",
    "G_sep_2k=create_graph(sep_2k)\n",
    "G_oct_2k=create_graph(oct_2k)\n",
    "G_nov_2k=create_graph(nov_2k)\n",
    "G_dec_2k=create_graph(dec_2k)"
   ]
  },
  {
   "cell_type": "code",
   "execution_count": null,
   "metadata": {
    "collapsed": true,
    "run_control": {
     "marked": false
    }
   },
   "outputs": [],
   "source": [
    "jan_2k1=df_2k1[df_2k1.month==1]\n",
    "feb_2k1=df_2k1[df_2k1.month==2]\n",
    "mar_2k1=df_2k1[df_2k1.month==3]\n",
    "apr_2k1=df_2k1[df_2k1.month==4]\n",
    "may_2k1=df_2k1[df_2k1.month==5]\n",
    "jun_2k1=df_2k1[df_2k1.month==6]\n",
    "jul_2k1=df_2k1[df_2k1.month==7]\n",
    "aug_2k1=df_2k1[df_2k1.month==8]\n",
    "sep_2k1=df_2k1[df_2k1.month==9]\n",
    "oct_2k1=df_2k1[df_2k1.month==10]\n",
    "nov_2k1=df_2k1[df_2k1.month==11]\n",
    "dec_2k1=df_2k1[df_2k1.month==12]\n",
    "\n",
    "\n",
    "G_jan_2k1=create_graph(jan_2k1)\n",
    "G_feb_2k1=create_graph(feb_2k1)\n",
    "G_mar_2k1=create_graph(mar_2k1)\n",
    "G_apr_2k1=create_graph(apr_2k1)\n",
    "G_may_2k1=create_graph(may_2k1)\n",
    "G_jun_2k1=create_graph(jun_2k1)\n",
    "G_jul_2k1=create_graph(jul_2k1)\n",
    "G_aug_2k1=create_graph(aug_2k1)\n",
    "G_sep_2k1=create_graph(sep_2k1)\n",
    "G_oct_2k1=create_graph(oct_2k1)\n",
    "G_nov_2k1=create_graph(nov_2k1)\n",
    "G_dec_2k1=create_graph(dec_2k1)"
   ]
  },
  {
   "cell_type": "code",
   "execution_count": null,
   "metadata": {
    "collapsed": true,
    "run_control": {
     "marked": false
    }
   },
   "outputs": [],
   "source": [
    "jan_2k2=df_2k2[df_2k2.month==1]\n",
    "feb_2k2=df_2k2[df_2k2.month==2]\n",
    "mar_2k2=df_2k2[df_2k2.month==3]\n",
    "apr_2k2=df_2k2[df_2k2.month==4]\n",
    "may_2k2=df_2k2[df_2k2.month==5]\n",
    "jun_2k2=df_2k2[df_2k2.month==6]\n",
    "jul_2k2=df_2k2[df_2k2.month==7]\n",
    "aug_2k2=df_2k2[df_2k2.month==8]\n",
    "sep_2k2=df_2k2[df_2k2.month==9]\n",
    "oct_2k2=df_2k2[df_2k2.month==10]\n",
    "nov_2k2=df_2k2[df_2k2.month==11]\n",
    "dec_2k2=df_2k2[df_2k2.month==12]\n",
    "\n",
    "\n",
    "G_jan_2k2=create_graph(jan_2k2)\n",
    "G_feb_2k2=create_graph(feb_2k2)\n",
    "G_mar_2k2=create_graph(mar_2k2)\n",
    "G_apr_2k2=create_graph(apr_2k2)\n",
    "G_may_2k2=create_graph(may_2k2)\n",
    "G_jun_2k2=create_graph(jun_2k2)\n",
    "G_jul_2k2=create_graph(jul_2k2)\n",
    "G_aug_2k2=create_graph(aug_2k2)\n",
    "G_sep_2k2=create_graph(sep_2k2)\n",
    "G_oct_2k2=create_graph(oct_2k2)\n",
    "G_nov_2k2=create_graph(nov_2k2)\n",
    "G_dec_2k2=create_graph(dec_2k2)"
   ]
  },
  {
   "cell_type": "markdown",
   "metadata": {
    "run_control": {
     "marked": false
    }
   },
   "source": [
    "## Visualise Networks "
   ]
  },
  {
   "cell_type": "code",
   "execution_count": null,
   "metadata": {
    "collapsed": false,
    "run_control": {
     "marked": false
    }
   },
   "outputs": [],
   "source": [
    "plt.figure(figsize=(18,18))\n",
    "plt.suptitle('Enron Email Dynamic Network Year level', fontsize=24)\n",
    "plt.subplot(321)\n",
    "nx.draw_spring(Gt0,  node_color='#810541',node_shape='^',edge_color ='#C6AEC7')\n",
    "plt.title(\"Graph in 1998\", fontsize=18)\n",
    "\n",
    "plt.subplot(322)\n",
    "nx.draw_spring(Gt1,  node_color='#810541',node_shape='^',edge_color ='#C6AEC7')\n",
    "plt.title(\"Graph in 1999\", fontsize=18)\n",
    "\n",
    "plt.subplot(323)\n",
    "nx.draw_spring(Gt2,  node_color='#810541',node_shape='^',edge_color ='#C6AEC7')\n",
    "plt.title(\"Graph 2000\", fontsize=18)\n",
    "\n",
    "plt.subplot(324)\n",
    "nx.draw_spring(Gt3,  node_color='#810541',node_shape='^',edge_color ='#C6AEC7')\n",
    "plt.title(\"Graph 2001\", fontsize=18)\n",
    "\n",
    "plt.subplot(325)\n",
    "nx.draw_spring(Gt4,  node_color='#810541',node_shape='^',edge_color ='#C6AEC7')\n",
    "plt.title(\"Graph 2002\", fontsize=18)\n",
    "\n",
    "plt.show()"
   ]
  },
  {
   "cell_type": "code",
   "execution_count": null,
   "metadata": {
    "collapsed": false,
    "run_control": {
     "marked": false
    }
   },
   "outputs": [],
   "source": [
    "plt.figure()\n",
    "plt.suptitle(\"Enron Email Network in 1998\", fontsize=20)\n",
    "plt.subplot(121)\n",
    "plt.title(\"Nov 1998\", fontsize=16)\n",
    "nx.draw_circular(G_nov98, node_color='#810541',node_shape='^',edge_color ='#C6AEC7')\n",
    "plt.subplot(122)\n",
    "plt.title(\"Dec 1998\", fontsize=16)\n",
    "nx.draw_circular(G_dec98, node_color='#810541',node_shape='^',edge_color ='#C6AEC7')"
   ]
  },
  {
   "cell_type": "code",
   "execution_count": null,
   "metadata": {
    "collapsed": false,
    "run_control": {
     "marked": false
    }
   },
   "outputs": [],
   "source": [
    "plt.figure(figsize=(32,18))\n",
    "plt.suptitle(\"Enron Email Network in 99\", fontsize=40)\n",
    "\n",
    "plt.subplot(331)\n",
    "plt.title(\"Jan 99\", fontsize=25)\n",
    "nx.draw_circular(G_jan_99, node_color='#810541',node_shape='^',edge_color ='#C6AEC7')\n",
    "\n",
    "plt.subplot(332)\n",
    "plt.title(\"Feb 99\", fontsize=25)\n",
    "nx.draw_circular(G_feb_99, node_color='#810541',node_shape='^',edge_color ='#C6AEC7')\n",
    "\n",
    "plt.subplot(333)\n",
    "plt.title(\"Mar 99\", fontsize=25)\n",
    "nx.draw_circular(G_mar_99, node_color='#810541',node_shape='^',edge_color ='#C6AEC7')\n",
    "\n",
    "plt.subplot(334)\n",
    "plt.title(\"Apr 99\", fontsize=25)\n",
    "nx.draw_circular(G_apr_99, node_color='#810541',node_shape='^',edge_color ='#C6AEC7')\n",
    "\n",
    "plt.subplot(335)\n",
    "plt.title(\"May 99\", fontsize=25)\n",
    "nx.draw_circular(G_may_99, node_color='#810541',node_shape='^',edge_color ='#C6AEC7')\n",
    "\n",
    "plt.subplot(336)\n",
    "plt.title(\"Jun 99\", fontsize=25)\n",
    "nx.draw_circular(G_jun_99, node_color='#810541',node_shape='^',edge_color ='#C6AEC7')\n",
    "\n",
    "plt.subplot(337)\n",
    "plt.title(\"Jul 99\", fontsize=25)\n",
    "nx.draw_circular(G_jul_99, node_color='#810541',node_shape='^',edge_color ='#C6AEC7')\n",
    "\n",
    "plt.subplot(338)\n",
    "plt.title(\"Aug 99\", fontsize=25)\n",
    "nx.draw_circular(G_aug_99, node_color='#810541',node_shape='^',edge_color ='#C6AEC7')\n",
    "\n",
    "plt.subplot(339)\n",
    "plt.title(\"Sep 99\", fontsize=25)\n",
    "nx.draw_circular(G_sep_99, node_color='#810541',node_shape='^',edge_color ='#C6AEC7')\n",
    "\n",
    "plt.figure(figsize=(32,5))\n",
    "#plt.suptitle(\"Enron Email Network in 99\", fontsize=40)\n",
    "\n",
    "plt.subplot(131)\n",
    "plt.title(\"Oct 99\", fontsize=25)\n",
    "nx.draw_circular(G_oct_99, node_color='#810541',node_shape='^',edge_color ='#C6AEC7')\n",
    "\n",
    "plt.subplot(132)\n",
    "plt.title(\"Nov 99\", fontsize=25)\n",
    "nx.draw_circular(G_nov_99, node_color='#810541',node_shape='^',edge_color ='#C6AEC7')\n",
    "\n",
    "plt.subplot(133)\n",
    "plt.title(\"Dec 99\", fontsize=25)\n",
    "nx.draw_circular(G_dec_99, node_color='#810541',node_shape='^',edge_color ='#C6AEC7')"
   ]
  },
  {
   "cell_type": "code",
   "execution_count": null,
   "metadata": {
    "collapsed": false,
    "run_control": {
     "marked": false
    }
   },
   "outputs": [],
   "source": [
    "plt.figure(figsize=(32,18))\n",
    "plt.suptitle(\"Enron Email Network in 2k\", fontsize=40)\n",
    "\n",
    "plt.subplot(331)\n",
    "plt.title(\"Jan 2k\", fontsize=25)\n",
    "nx.draw_circular(G_jan_2k, node_color='#810541',node_shape='^',edge_color ='#C6AEC7')\n",
    "\n",
    "plt.subplot(332)\n",
    "plt.title(\"Feb 2k\", fontsize=25)\n",
    "nx.draw_circular(G_feb_2k, node_color='#810541',node_shape='^',edge_color ='#C6AEC7')\n",
    "\n",
    "plt.subplot(333)\n",
    "plt.title(\"Mar 2k\", fontsize=25)\n",
    "nx.draw_circular(G_mar_2k, node_color='#810541',node_shape='^',edge_color ='#C6AEC7')\n",
    "\n",
    "plt.subplot(334)\n",
    "plt.title(\"Apr 2k\", fontsize=25)\n",
    "nx.draw_circular(G_apr_2k, node_color='#810541',node_shape='^',edge_color ='#C6AEC7')\n",
    "\n",
    "plt.subplot(335)\n",
    "plt.title(\"May 2k\", fontsize=25)\n",
    "nx.draw_circular(G_may_2k, node_color='#810541',node_shape='^',edge_color ='#C6AEC7')\n",
    "\n",
    "plt.subplot(336)\n",
    "plt.title(\"Jun 2k\", fontsize=25)\n",
    "nx.draw_circular(G_jun_2k, node_color='#810541',node_shape='^',edge_color ='#C6AEC7')\n",
    "\n",
    "plt.subplot(337)\n",
    "plt.title(\"Jul 2k\", fontsize=25)\n",
    "nx.draw_circular(G_jul_2k, node_color='#810541',node_shape='^',edge_color ='#C6AEC7')\n",
    "\n",
    "plt.subplot(338)\n",
    "plt.title(\"Aug 2k\", fontsize=25)\n",
    "nx.draw_circular(G_aug_2k, node_color='#810541',node_shape='^',edge_color ='#C6AEC7')\n",
    "\n",
    "plt.subplot(339)\n",
    "plt.title(\"Sep 2k\", fontsize=25)\n",
    "nx.draw_circular(G_sep_2k, node_color='#810541',node_shape='^',edge_color ='#C6AEC7')\n",
    "\n",
    "plt.figure(figsize=(32,5))\n",
    "#plt.suptitle(\"Enron Email Network in 2k\", fontsize=40)\n",
    "\n",
    "plt.subplot(131)\n",
    "plt.title(\"Oct 2k\", fontsize=25)\n",
    "nx.draw_circular(G_oct_2k, node_color='#810541',node_shape='^',edge_color ='#C6AEC7')\n",
    "\n",
    "plt.subplot(132)\n",
    "plt.title(\"Nov 2k\", fontsize=25)\n",
    "nx.draw_circular(G_nov_2k, node_color='#810541',node_shape='^',edge_color ='#C6AEC7')\n",
    "\n",
    "plt.subplot(133)\n",
    "plt.title(\"Dec 2k\", fontsize=25)\n",
    "nx.draw_circular(G_dec_2k, node_color='#810541',node_shape='^',edge_color ='#C6AEC7')"
   ]
  },
  {
   "cell_type": "code",
   "execution_count": null,
   "metadata": {
    "collapsed": false,
    "run_control": {
     "marked": false
    }
   },
   "outputs": [],
   "source": [
    "plt.figure(figsize=(32,18))\n",
    "plt.suptitle(\"Enron Email Network in 2k1\", fontsize=40)\n",
    "\n",
    "plt.subplot(331)\n",
    "plt.title(\"Jan 2k1\", fontsize=25)\n",
    "nx.draw_circular(G_jan_2k1, node_color='#810541',node_shape='^',edge_color ='#C6AEC7')\n",
    "\n",
    "plt.subplot(332)\n",
    "plt.title(\"Feb 2k1\", fontsize=25)\n",
    "nx.draw_circular(G_feb_2k1, node_color='#810541',node_shape='^',edge_color ='#C6AEC7')\n",
    "\n",
    "plt.subplot(333)\n",
    "plt.title(\"Mar 2k1\", fontsize=25)\n",
    "nx.draw_circular(G_mar_2k1, node_color='#810541',node_shape='^',edge_color ='#C6AEC7')\n",
    "\n",
    "plt.subplot(334)\n",
    "plt.title(\"Apr 2k1\", fontsize=25)\n",
    "nx.draw_circular(G_apr_2k1, node_color='#810541',node_shape='^',edge_color ='#C6AEC7')\n",
    "\n",
    "plt.subplot(335)\n",
    "plt.title(\"May 2k1\", fontsize=25)\n",
    "nx.draw_circular(G_may_2k1, node_color='#810541',node_shape='^',edge_color ='#C6AEC7')\n",
    "\n",
    "plt.subplot(336)\n",
    "plt.title(\"Jun 2k1\", fontsize=25)\n",
    "nx.draw_circular(G_jun_2k1, node_color='#810541',node_shape='^',edge_color ='#C6AEC7')\n",
    "\n",
    "plt.subplot(337)\n",
    "plt.title(\"Jul 2k1\", fontsize=25)\n",
    "nx.draw_circular(G_jul_2k1, node_color='#810541',node_shape='^',edge_color ='#C6AEC7')\n",
    "\n",
    "plt.subplot(338)\n",
    "plt.title(\"Aug 2k1\", fontsize=25)\n",
    "nx.draw_circular(G_aug_2k1, node_color='#810541',node_shape='^',edge_color ='#C6AEC7')\n",
    "\n",
    "plt.subplot(339)\n",
    "plt.title(\"Sep 2k1\", fontsize=25)\n",
    "nx.draw_circular(G_sep_2k1, node_color='#810541',node_shape='^',edge_color ='#C6AEC7')\n",
    "\n",
    "plt.figure(figsize=(32,5))\n",
    "#plt.suptitle(\"Enron Email Network in 2k1\", fontsize=40)\n",
    "\n",
    "plt.subplot(131)\n",
    "plt.title(\"Oct 2k1\", fontsize=25)\n",
    "nx.draw_circular(G_oct_2k1, node_color='#810541',node_shape='^',edge_color ='#C6AEC7')\n",
    "\n",
    "plt.subplot(132)\n",
    "plt.title(\"Nov 2k1\", fontsize=25)\n",
    "nx.draw_circular(G_nov_2k1, node_color='#810541',node_shape='^',edge_color ='#C6AEC7')\n",
    "\n",
    "plt.subplot(133)\n",
    "plt.title(\"Dec 2k1\", fontsize=25)\n",
    "nx.draw_circular(G_dec_2k1, node_color='#810541',node_shape='^',edge_color ='#C6AEC7')"
   ]
  },
  {
   "cell_type": "code",
   "execution_count": null,
   "metadata": {
    "collapsed": false,
    "run_control": {
     "marked": false
    }
   },
   "outputs": [],
   "source": [
    "plt.figure(figsize=(32,18))\n",
    "plt.suptitle(\"Enron Email Network in 2k2\", fontsize=40)\n",
    "\n",
    "plt.subplot(331)\n",
    "plt.title(\"Jan 2k2\", fontsize=25)\n",
    "nx.draw_circular(G_jan_2k2, node_color='#810541',node_shape='^',edge_color ='#C6AEC7')\n",
    "\n",
    "plt.subplot(332)\n",
    "plt.title(\"Feb 2k2\", fontsize=25)\n",
    "nx.draw_circular(G_feb_2k2, node_color='#810541',node_shape='^',edge_color ='#C6AEC7')\n",
    "\n",
    "plt.subplot(333)\n",
    "plt.title(\"Mar 2k2\", fontsize=25)\n",
    "nx.draw_circular(G_mar_2k2, node_color='#810541',node_shape='^',edge_color ='#C6AEC7')\n",
    "\n",
    "plt.subplot(334)\n",
    "plt.title(\"Apr 2k2\", fontsize=25)\n",
    "nx.draw_circular(G_apr_2k2, node_color='#810541',node_shape='^',edge_color ='#C6AEC7')\n",
    "\n",
    "plt.subplot(335)\n",
    "plt.title(\"May 2k2\", fontsize=25)\n",
    "nx.draw_circular(G_may_2k2, node_color='#810541',node_shape='^',edge_color ='#C6AEC7')\n",
    "\n",
    "plt.subplot(336)\n",
    "plt.title(\"Jun 2k2\", fontsize=25)\n",
    "nx.draw_circular(G_jun_2k2, node_color='#810541',node_shape='^',edge_color ='#C6AEC7')"
   ]
  },
  {
   "cell_type": "markdown",
   "metadata": {
    "run_control": {
     "marked": false
    }
   },
   "source": [
    "# Centrality and Assortativity Analysis"
   ]
  },
  {
   "cell_type": "markdown",
   "metadata": {
    "run_control": {
     "marked": false
    }
   },
   "source": [
    "We look at some traditional network measures in this section for the networks both at the year and monthly level.\n",
    "\n",
    "**Analysis Methodology**\n",
    "\n",
    "1. Analyse network at the yearly level using centrality measures and other measures\n",
    "    - Find top 5 nodes for each centrality measure across the years\n",
    "2. Analyse network across years using averaged measures\n",
    "3. Analyse network in monthly intervals using average centrality and other measures \n",
    "4. Compare yearly and monthly trends\n",
    "\n",
    "*The specific measures used are:*\n",
    "\n",
    "**Degree Centrality** \n",
    "\n",
    "Degree Centrality is defined as the number of links incident upon a node (i.e., the number of ties that a node has). The degree can be interpreted in terms of the immediate risk of a node for catching whatever is flowing through the network (such as a virus, or some information).\n",
    "\n",
    "**Closeness Centrality**\n",
    "\n",
    "The farness of a node x is defined as the sum of its distances from all other nodes, and its closeness was defined by the reciprocal of the farness.\n",
    "\n",
    "**Betweenness Centrality**\n",
    "\n",
    "Betweenness centrality quantifies the number of times a node acts as a bridge along the shortest path between two other nodes\n",
    "\n",
    "**Eigenvector Centrality**\n",
    "\n",
    "Eigenvector centrality (also called eigencentrality) is a measure of the influence of a node in a network. It assigns relative scores to all nodes in the network based on the concept that connections to high-scoring nodes contribute more to the score of the node in question than equal connections to low-scoring nodes.\n",
    "\n",
    "**Katz Centrality**\n",
    "\n",
    "Katz centrality measures the number of all nodes that can be connected through a path, while the contributions of distant nodes are penalized.\n",
    "\n",
    "**Load Centrality**\n",
    "\n",
    "The load centrality of a node is the fraction of all shortest paths that pass through that node.\n",
    "\n",
    "**Density**\n",
    "\n",
    "The ratio of the number of edges and the number of possible edges.\n",
    "\n",
    "**Clustering Coefficient**\n",
    "\n",
    "The local clustering of each node in a graph is the fraction of triangles that actually exist over all possible triangles in its neighborhood. The average clustering coefficient of a graph is the mean of local clusterings.\n",
    "\n",
    "**Algebraic Connectivity**\n",
    "\n",
    "By the definition of algebraic connectivity, the second smallest eigenvalue of the graph Laplacian is a lower bound on the\n",
    "node connectivity. Increases in algebraic connectivity actually correspond to a decrease in node connectivity. This means that the networks are actually less robust with respect to node-connectivity as the algebraic connectivity increases. \n",
    "\n",
    "**References:**\n",
    "\n",
    "1. [Centrality](https://en.wikipedia.org/wiki/Centrality)\n",
    "\n",
    "2. [Algebraic Connectivity](http://ece-research.unm.edu/chaouki/PAPERS/Tech-Reports/SAND-Report-Byrne-Feddema-Abdallah.pdf)"
   ]
  },
  {
   "cell_type": "markdown",
   "metadata": {
    "run_control": {
     "marked": false
    }
   },
   "source": [
    "## Centrality Analysis: Year"
   ]
  },
  {
   "cell_type": "code",
   "execution_count": null,
   "metadata": {
    "collapsed": false,
    "run_control": {
     "marked": false
    }
   },
   "outputs": [],
   "source": [
    "degC0, cloC0, betC0, eigC0,  katzC0, loadC0 = get_cent(Gt0)\n",
    "degC1, cloC1, betC1, eigC1,  katzC1, loadC1 = get_cent(Gt1)\n",
    "degC2, cloC2, betC2, eigC2,  katzC2, loadC2 = get_cent(Gt2)\n",
    "degC3, cloC3, betC3, eigC3,  katzC3, loadC3 = get_cent(Gt3)\n",
    "degC4, cloC4, betC4, eigC4,  katzC4, loadC4 = get_cent(Gt4)"
   ]
  },
  {
   "cell_type": "code",
   "execution_count": null,
   "metadata": {
    "collapsed": false,
    "scrolled": false
   },
   "outputs": [],
   "source": [
    "get_centhistval(degC0,'Degree Centrality 1998')\n",
    "get_centhistval(degC1,'Degree Centrality 1999')\n",
    "get_centhistval(degC2,'Degree Centrality 2000')\n",
    "get_centhistval(degC3,'Degree Centrality 2001')\n",
    "get_centhistval(degC4,'Degree Centrality 2002')"
   ]
  },
  {
   "cell_type": "code",
   "execution_count": null,
   "metadata": {
    "collapsed": false,
    "run_control": {
     "marked": false
    }
   },
   "outputs": [],
   "source": [
    "print(\"Top 5 Degree Centrality Nodes year 98\")\n",
    "get_top_keys(degC0,5)\n",
    "print(\"Top 5 Degree Centrality Nodes year 99\")\n",
    "get_top_keys(degC1,5)\n",
    "print(\"Top 5 Degree Centrality Nodes year 2k\")\n",
    "get_top_keys(degC2,5)\n",
    "print(\"Top 5 Degree Centrality Nodes year 2k1\")\n",
    "get_top_keys(degC3,5)\n",
    "print(\"Top 5 Degree Centrality Nodes year 2k2\")\n",
    "get_top_keys(degC4,5)"
   ]
  },
  {
   "cell_type": "code",
   "execution_count": null,
   "metadata": {
    "collapsed": false,
    "run_control": {
     "marked": false
    },
    "scrolled": false
   },
   "outputs": [],
   "source": [
    "get_centhistval(cloC0,'Closeness Centrality 1998')\n",
    "get_centhistval(cloC1,'Closeness Centrality 1999')\n",
    "get_centhistval(cloC2,'Closeness Centrality 2000')\n",
    "get_centhistval(cloC3,'Closeness Centrality 2001')\n",
    "get_centhistval(cloC4,'Closeness Centrality 2002')"
   ]
  },
  {
   "cell_type": "code",
   "execution_count": null,
   "metadata": {
    "collapsed": false,
    "run_control": {
     "marked": false
    }
   },
   "outputs": [],
   "source": [
    "print(\"Top 5 Closeness Centrality Nodes year 98\")\n",
    "get_top_keys(cloC0,5)\n",
    "print(\"Top 5 Closeness Centrality Nodes year 99\")\n",
    "get_top_keys(cloC1,5)\n",
    "print(\"Top 5 Closeness Centrality Nodes year 2k\")\n",
    "get_top_keys(cloC2,5)\n",
    "print(\"Top 5 Closeness Centrality Nodes year 2k1\")\n",
    "get_top_keys(cloC3,5)\n",
    "print(\"Top 5 Closeness Centrality Nodes year 2k2\")\n",
    "get_top_keys(cloC4,5)"
   ]
  },
  {
   "cell_type": "code",
   "execution_count": null,
   "metadata": {
    "collapsed": false,
    "run_control": {
     "marked": false
    },
    "scrolled": false
   },
   "outputs": [],
   "source": [
    "get_centhistval(betC0,'Betweeness Centrality 1998')\n",
    "get_centhistval(betC1,'Betweeness Centrality 1999')\n",
    "get_centhistval(betC2,'Betweeness Centrality 2000')\n",
    "get_centhistval(betC3,'Betweeness Centrality 2001')\n",
    "get_centhistval(betC4,'Betweeness Centrality 2002')"
   ]
  },
  {
   "cell_type": "code",
   "execution_count": null,
   "metadata": {
    "collapsed": false,
    "run_control": {
     "marked": false
    }
   },
   "outputs": [],
   "source": [
    "print(\"Top 5 Betweeness Centrality Nodes year 98\")\n",
    "get_top_keys(betC0,5)\n",
    "print(\"Top 5 Betweeness Centrality Nodes year 99\")\n",
    "get_top_keys(betC1,5)\n",
    "print(\"Top 5 Betweeness Centrality Nodes year 2k\")\n",
    "get_top_keys(betC2,5)\n",
    "print(\"Top 5 Betweeness Centrality Nodes year 2k1\")\n",
    "get_top_keys(betC3,5)\n",
    "print(\"Top 5 Betweeness Centrality Nodes year 2k2\")\n",
    "get_top_keys(betC4,5)"
   ]
  },
  {
   "cell_type": "code",
   "execution_count": null,
   "metadata": {
    "collapsed": false,
    "run_control": {
     "marked": false
    }
   },
   "outputs": [],
   "source": [
    "get_centhistval(katzC0,'Katz Centrality 1998')\n",
    "get_centhistval(katzC1,'Katz Centrality 1999')\n",
    "get_centhistval(katzC2,'Katz Centrality 2000')\n",
    "get_centhistval(katzC3,'Katz Centrality 2001')\n",
    "get_centhistval(katzC4,'Katz Centrality 2002')"
   ]
  },
  {
   "cell_type": "code",
   "execution_count": null,
   "metadata": {
    "collapsed": false,
    "run_control": {
     "marked": false
    }
   },
   "outputs": [],
   "source": [
    "print(\"Top 5 Katz Centrality Nodes year 98\")\n",
    "get_top_keys(katzC0,5)\n",
    "print(\"Top 5 Katz Centrality Nodes year 99\")\n",
    "get_top_keys(katzC1,5)\n",
    "print(\"Top 5 Katz Centrality Nodes year 2k\")\n",
    "get_top_keys(katzC2,5)\n",
    "print(\"Top 5 Katz Centrality Nodes year 2k1\")\n",
    "get_top_keys(katzC3,5)\n",
    "print(\"Top 5 Katz Centrality Nodes year 2k2\")\n",
    "get_top_keys(katzC4,5)"
   ]
  },
  {
   "cell_type": "code",
   "execution_count": null,
   "metadata": {
    "collapsed": false,
    "run_control": {
     "marked": false
    },
    "scrolled": false
   },
   "outputs": [],
   "source": [
    "get_centhistval(loadC0,'Load Centrality 1998')\n",
    "get_centhistval(loadC1,'Load Centrality 1999')\n",
    "get_centhistval(loadC2,'Load Centrality 2000')\n",
    "get_centhistval(loadC3,'Load Centrality 2001')\n",
    "get_centhistval(loadC4,'Load Centrality 2002')"
   ]
  },
  {
   "cell_type": "code",
   "execution_count": null,
   "metadata": {
    "collapsed": false,
    "run_control": {
     "marked": false
    }
   },
   "outputs": [],
   "source": [
    "print(\"Top 5 Load Centrality Nodes year 98\")\n",
    "get_top_keys(loadC0,5)\n",
    "print(\"Top 5 Load Centrality Nodes year 99\")\n",
    "get_top_keys(loadC1,5)\n",
    "print(\"Top 5 Load Centrality Nodes year 2k\")\n",
    "get_top_keys(loadC2,5)\n",
    "print(\"Top 5 Load Centrality Nodes year 2k1\")\n",
    "get_top_keys(loadC3,5)\n",
    "print(\"Top 5 Load Centrality Nodes year 2k2\")\n",
    "get_top_keys(loadC4,5)"
   ]
  },
  {
   "cell_type": "code",
   "execution_count": null,
   "metadata": {
    "collapsed": false,
    "run_control": {
     "marked": false
    }
   },
   "outputs": [],
   "source": [
    "all_year_G  =tuple([Gt0,Gt1,Gt2,Gt3,Gt4])\n",
    "all_year_G[:5]"
   ]
  },
  {
   "cell_type": "code",
   "execution_count": null,
   "metadata": {
    "collapsed": true,
    "run_control": {
     "marked": false
    }
   },
   "outputs": [],
   "source": [
    "density_year = []\n",
    "avclustcoff_year = []\n",
    "algebconn_year = []\n",
    "\n",
    "for i in all_year_G:\n",
    "    density_year.append(nx.density(i))\n",
    "    avclustcoff_year.append(nx.average_clustering(i))\n",
    "    algebconn_year.append(nx.algebraic_connectivity(i))"
   ]
  },
  {
   "cell_type": "code",
   "execution_count": null,
   "metadata": {
    "collapsed": false,
    "run_control": {
     "marked": false
    }
   },
   "outputs": [],
   "source": [
    "density_year"
   ]
  },
  {
   "cell_type": "code",
   "execution_count": null,
   "metadata": {
    "collapsed": false,
    "run_control": {
     "marked": false
    }
   },
   "outputs": [],
   "source": [
    "avclustcoff_year"
   ]
  },
  {
   "cell_type": "code",
   "execution_count": null,
   "metadata": {
    "collapsed": false,
    "run_control": {
     "marked": false
    }
   },
   "outputs": [],
   "source": [
    "algebconn_year"
   ]
  },
  {
   "cell_type": "code",
   "execution_count": null,
   "metadata": {
    "collapsed": false,
    "run_control": {
     "marked": false
    }
   },
   "outputs": [],
   "source": [
    "assorstat_year = pd.DataFrame([density_year,avclustcoff_year,algebconn_year]).T\n",
    "assorstat_year.columns = ['Density','AvgClusteringCoff','AlgebraicConnect']\n",
    "assorstat_year = assorstat_year.T\n",
    "assorstat_year.columns = years[1:]\n",
    "assorstat_year = assorstat_year.T\n",
    "assorstat_year"
   ]
  },
  {
   "cell_type": "code",
   "execution_count": null,
   "metadata": {
    "collapsed": false,
    "run_control": {
     "marked": false
    }
   },
   "outputs": [],
   "source": [
    "assorstat_year.plot(fontsize=18, use_index=True)\n",
    "plt.suptitle(\"Plot of Density, Avg Clust Coeff & Algebraic Connectivity over years\", fontsize=22)\n",
    "plt.xlabel(\"Years\", fontsize=18)\n",
    "plt.ylabel(\"Attribute Value\", fontsize=18)\n",
    "plt.legend(fontsize=20, bbox_to_anchor=(1.05, 1), loc=2, borderaxespad=0.)\n",
    "plt.xticks(years[1:],[i for i in years[1:]],fontsize=18)\n",
    "plt.yticks(fontsize=18)"
   ]
  },
  {
   "cell_type": "code",
   "execution_count": null,
   "metadata": {
    "collapsed": false,
    "run_control": {
     "marked": false
    }
   },
   "outputs": [],
   "source": [
    "assorstat_year.pct_change().plot(fontsize=18, use_index=True)\n",
    "plt.suptitle(\"Plot of % Chg Density, Avg Clust Coeff & Algebraic Connectivity over years\", fontsize=22)\n",
    "plt.xlabel(\"Years\", fontsize=18)\n",
    "plt.ylabel(\"Attribute Value\", fontsize=18)\n",
    "plt.legend(fontsize=20, bbox_to_anchor=(1.05, 1), loc=2, borderaxespad=0.)\n",
    "plt.xticks(years[1:],[i for i in years[1:]],fontsize=18)\n",
    "plt.yticks(fontsize=18)"
   ]
  },
  {
   "cell_type": "code",
   "execution_count": null,
   "metadata": {
    "collapsed": false,
    "run_control": {
     "marked": false
    }
   },
   "outputs": [],
   "source": [
    "print(\"No. of edges 2000 and 2001: \\n\", nx.number_of_edges(Gt2),nx.number_of_edges(Gt3))\n",
    "print(\"No. of nodes 2000 and 2001: \\n\",  nx.number_of_nodes(Gt2),nx.number_of_nodes(Gt3))\n"
   ]
  },
  {
   "cell_type": "markdown",
   "metadata": {
    "run_control": {
     "marked": false
    }
   },
   "source": [
    "## Calculate average of attributes for yearly networks"
   ]
  },
  {
   "cell_type": "code",
   "execution_count": null,
   "metadata": {
    "collapsed": false,
    "run_control": {
     "marked": false
    }
   },
   "outputs": [],
   "source": [
    "y_avgst0 = cal_avgstat(Gt0)\n",
    "y_avgst1 = cal_avgstat(Gt1)\n",
    "y_avgst2 = cal_avgstat(Gt2)\n",
    "y_avgst3 = cal_avgstat(Gt3)\n",
    "y_avgst4 = cal_avgstat(Gt4)\n",
    "\n",
    "y_avgst_all = y_avgst0.append(y_avgst1).append(y_avgst2).append(y_avgst3).append(y_avgst4)\n",
    "y_avgst_all = y_avgst_all.T \n",
    "y_avgst_all.columns = years[1:]\n",
    "y_avgst_all = y_avgst_all.T "
   ]
  },
  {
   "cell_type": "code",
   "execution_count": null,
   "metadata": {
    "collapsed": false,
    "run_control": {
     "marked": false
    }
   },
   "outputs": [],
   "source": [
    "y_avgst_all.iloc[:,:6].plot(fontsize=18)\n",
    "plt.suptitle(\"Plot of Avg of Centrality measures over years\", fontsize=22)\n",
    "plt.xlabel(\"Years\", fontsize=18)\n",
    "plt.ylabel(\"Attribute Value\", fontsize=18)\n",
    "plt.legend(fontsize=20, bbox_to_anchor=(1.05, 1), loc=2, borderaxespad=0.)\n",
    "plt.xticks(years[1:],[i for i in years[1:]],fontsize=18)\n",
    "plt.yticks(fontsize=18)"
   ]
  },
  {
   "cell_type": "code",
   "execution_count": null,
   "metadata": {
    "collapsed": false,
    "run_control": {
     "marked": false
    }
   },
   "outputs": [],
   "source": [
    "y_avgst_all.iloc[:,:6].plot(fontsize=18, logy=True)\n",
    "plt.suptitle(\"Plot of Log Avg of Centrality measures over years\", fontsize=22)\n",
    "plt.xlabel(\"Years\", fontsize=18)\n",
    "plt.ylabel(\"Log of Attribute Value\", fontsize=18)\n",
    "plt.legend(fontsize=20, bbox_to_anchor=(1.05, 1), loc=2, borderaxespad=0.)\n",
    "plt.xticks(years[1:],[i for i in years[1:]],fontsize=18)\n",
    "plt.yticks(fontsize=18)"
   ]
  },
  {
   "cell_type": "code",
   "execution_count": null,
   "metadata": {
    "collapsed": false,
    "run_control": {
     "marked": false
    }
   },
   "outputs": [],
   "source": [
    "y_avgst_all.iloc[:,:6].pct_change().fillna(0).plot(fontsize=18)\n",
    "plt.suptitle(\"Plot of %Change in Avg of Centrality measures over years\", fontsize=22)\n",
    "plt.xlabel(\"Years\", fontsize=18)\n",
    "plt.ylabel(\"Attribute Value\", fontsize=18)\n",
    "plt.legend(fontsize=20, bbox_to_anchor=(1.05, 1), loc=2, borderaxespad=0.)\n",
    "plt.xticks(years[1:],[i for i in years[1:]],fontsize=18)\n",
    "plt.yticks(fontsize=18)"
   ]
  },
  {
   "cell_type": "markdown",
   "metadata": {
    "run_control": {
     "marked": false
    }
   },
   "source": [
    "## Observations\n",
    "\n",
    "The algebraic connectivity > 0 indicates that the network is connected so excluding the first network the only other time that this measure indicates that the network is connected is in 2000. This is the first signal that emerges from these set of measures. From the percentage change plot we see that the year 2000 experiences the largest increase in density and clustering coefficient. The density implies that more edges that could be formed are formed in the network in 2000 as opposed to the other years. While the density is largely similar between 2000 and 2001 the local average clustering coefficient decreases between 2000 and 2001 this could largely be down to the larger network size. This means that although the network has grown the number of triangles has decreased due to much higher number of edges between nodes.\n",
    "\n",
    "From the average of the centrality measures we see a similar signal across the years. We see that 2000 again experiences a big change compared to the previous years. The Closeness Centrality dominates due to its scale but in the log plot we see that the Closeness Centrality changes the most for this year before almost flat lining for the remaining years. The Degree centrality confirms the observationsregarding the density because we see only marginal change in the Degree Centrality between 2000 and 2001. The Eigenvector Centrality tells us that the power structure or the influence structure in the network did not change much within the network over this time period. However, the Katz centrality and Load centrality are much more interesting. The Katz centrality is an indicator of node importance and from 2000 it seems that there was an increase in the number average number of influential nodes and the path between them decreased as indicated by the falling Load centrality. They coincide in 2001 just at the end of the Golden age of Enron. The rising Katz and Load Centrality can be interepreted as the involvement of outside actors as the accounting scandal unfolded leading to more influential players in the network. Hence Load and Katz Centrality experience a largest percentage increase during this time. \n"
   ]
  },
  {
   "cell_type": "markdown",
   "metadata": {
    "run_control": {
     "marked": false
    }
   },
   "source": [
    "## Monthly Analysis\n",
    "\n",
    "Calculate average statistics for monthly networks"
   ]
  },
  {
   "cell_type": "code",
   "execution_count": null,
   "metadata": {
    "collapsed": false,
    "run_control": {
     "marked": false
    }
   },
   "outputs": [],
   "source": [
    "stat_nov98 = cal_avgstat(G_nov98)\n",
    "stat_dec98 = cal_avgstat(G_dec98)\n",
    "stat98= stat_nov98.append(stat_dec98).T\n",
    "stat98.columns = ['Nov98','Dec98']\n",
    "stat98.head()"
   ]
  },
  {
   "cell_type": "code",
   "execution_count": null,
   "metadata": {
    "collapsed": false,
    "run_control": {
     "marked": false
    }
   },
   "outputs": [],
   "source": [
    "stat_jan_99=cal_avgstat(G_jan_99)\n",
    "stat_feb_99=cal_avgstat(G_feb_99)\n",
    "stat_mar_99=cal_avgstat(G_mar_99)\n",
    "stat_apr_99=cal_avgstat(G_apr_99)\n",
    "stat_may_99=cal_avgstat(G_may_99)\n",
    "stat_jun_99=cal_avgstat(G_jun_99)\n",
    "stat_jul_99=cal_avgstat(G_jul_99)\n",
    "stat_aug_99=cal_avgstat(G_aug_99)\n",
    "stat_sep_99=cal_avgstat(G_sep_99)\n",
    "stat_oct_99=cal_avgstat(G_oct_99)\n",
    "stat_nov_99=cal_avgstat(G_nov_99)\n",
    "stat_dec_99=cal_avgstat(G_dec_99)\n",
    "\n",
    "stat_99 = stat_jan_99.append(stat_feb_99).append(stat_mar_99).append(stat_apr_99).append(stat_may_99)\n",
    "stat_99 = stat_99.append(stat_jun_99).append(stat_jul_99).append(stat_aug_99).append(stat_sep_99)\n",
    "stat_99 = stat_99.append(stat_oct_99).append(stat_nov_99).append(stat_dec_99).T\n",
    "stat_99.columns = ['jan_99','feb_99','mar_99','apr_99','may_99','jun_99','jul_99','aug_99','sep_99','oct_99','nov_99','dec_99']\n",
    "stat_99.head()"
   ]
  },
  {
   "cell_type": "code",
   "execution_count": null,
   "metadata": {
    "collapsed": true
   },
   "outputs": [],
   "source": [
    "stat_jan_2k=cal_avgstat(G_jan_2k)\n",
    "stat_feb_2k=cal_avgstat(G_feb_2k)\n",
    "stat_mar_2k=cal_avgstat(G_mar_2k)\n",
    "stat_apr_2k=cal_avgstat(G_apr_2k)\n",
    "stat_may_2k=cal_avgstat(G_may_2k)\n",
    "stat_jun_2k=cal_avgstat(G_jun_2k)\n",
    "stat_jul_2k=cal_avgstat(G_jul_2k)\n",
    "stat_aug_2k=cal_avgstat(G_aug_2k)\n",
    "stat_sep_2k=cal_avgstat(G_sep_2k)\n",
    "stat_oct_2k=cal_avgstat(G_oct_2k)\n",
    "stat_nov_2k=cal_avgstat(G_nov_2k)\n",
    "stat_dec_2k=cal_avgstat(G_dec_2k)"
   ]
  },
  {
   "cell_type": "code",
   "execution_count": null,
   "metadata": {
    "collapsed": false,
    "run_control": {
     "marked": false
    }
   },
   "outputs": [],
   "source": [
    "stat_2k = stat_jan_2k.append(stat_feb_2k).append(stat_mar_2k).append(stat_apr_2k).append(stat_may_2k)\n",
    "stat_2k = stat_2k.append(stat_jun_2k).append(stat_jul_2k).append(stat_aug_2k).append(stat_sep_2k)\n",
    "stat_2k = stat_2k.append(stat_oct_2k).append(stat_nov_2k).append(stat_dec_2k).T\n",
    "stat_2k.columns = ['jan_2k','feb_2k','mar_2k','apr_2k','may_2k','jun_2k','jul_2k','aug_2k','sep_2k','oct_2k','nov_2k','dec_2k']\n",
    "stat_2k.head()"
   ]
  },
  {
   "cell_type": "code",
   "execution_count": null,
   "metadata": {
    "collapsed": false,
    "run_control": {
     "marked": false
    }
   },
   "outputs": [],
   "source": [
    "stat_jan_2k1=cal_avgstat(G_jan_2k1)\n",
    "stat_feb_2k1=cal_avgstat(G_feb_2k1)\n",
    "stat_mar_2k1=cal_avgstat(G_mar_2k1)\n",
    "stat_apr_2k1=cal_avgstat(G_apr_2k1)\n",
    "stat_may_2k1=cal_avgstat(G_may_2k1)\n",
    "stat_jun_2k1=cal_avgstat(G_jun_2k1)\n",
    "stat_jul_2k1=cal_avgstat(G_jul_2k1)\n",
    "stat_aug_2k1=cal_avgstat(G_aug_2k1)\n",
    "stat_sep_2k1=cal_avgstat(G_sep_2k1)\n",
    "stat_oct_2k1=cal_avgstat(G_oct_2k1)\n",
    "stat_nov_2k1=cal_avgstat(G_nov_2k1)\n",
    "stat_dec_2k1=cal_avgstat(G_dec_2k1)\n",
    "\n",
    "stat_2k1 = stat_jan_2k1.append(stat_feb_2k1).append(stat_mar_2k1).append(stat_apr_2k1).append(stat_may_2k1)\n",
    "stat_2k1 = stat_2k1.append(stat_jun_2k1).append(stat_jul_2k1).append(stat_aug_2k1).append(stat_sep_2k1)\n",
    "stat_2k1 = stat_2k1.append(stat_oct_2k1).append(stat_nov_2k1).append(stat_dec_2k1).T\n",
    "stat_2k1.columns = ['jan_2k1','feb_2k1','mar_2k1','apr_2k1','may_2k1','jun_2k1','jul_2k1','aug_2k1','sep_2k1','oct_2k1','nov_2k1','dec_2k1']\n",
    "stat_2k1.head()"
   ]
  },
  {
   "cell_type": "code",
   "execution_count": null,
   "metadata": {
    "collapsed": false,
    "run_control": {
     "marked": false
    }
   },
   "outputs": [],
   "source": [
    "stat_jan_2k2=cal_avgstat(G_jan_2k2)\n",
    "stat_feb_2k2=cal_avgstat(G_feb_2k2)\n",
    "stat_mar_2k2=cal_avgstat(G_mar_2k2)\n",
    "stat_apr_2k2=cal_avgstat(G_apr_2k2)\n",
    "stat_may_2k2=cal_avgstat(G_may_2k2)\n",
    "stat_jun_2k2=cal_avgstat(G_jun_2k2)\n",
    "\n",
    "stat_2k2 = stat_jan_2k2.append(stat_feb_2k2).append(stat_mar_2k2).append(stat_apr_2k2).append(stat_may_2k2).append(stat_jun_2k2).T\n",
    "stat_2k2.columns = ['jan_2k2','feb_2k2','mar_2k2','apr_2k2','may_2k2','jun_2k2']\n",
    "stat_2k2.head()"
   ]
  },
  {
   "cell_type": "code",
   "execution_count": null,
   "metadata": {
    "collapsed": true,
    "run_control": {
     "marked": false
    }
   },
   "outputs": [],
   "source": [
    "stat_all = stat98.join(stat_99).join(stat_2k).join(stat_2k1).join(stat_2k2).T"
   ]
  },
  {
   "cell_type": "code",
   "execution_count": null,
   "metadata": {
    "collapsed": false,
    "run_control": {
     "marked": false
    }
   },
   "outputs": [],
   "source": [
    "months = list(stat_all.index)"
   ]
  },
  {
   "cell_type": "code",
   "execution_count": null,
   "metadata": {
    "collapsed": false,
    "run_control": {
     "marked": false
    }
   },
   "outputs": [],
   "source": [
    "stat_all.iloc[:,:6].plot(fontsize=22, rot=90, figsize=(28,12))\n",
    "plt.suptitle(\"Plot of Avg of Centrality measures over months\", fontsize=33)\n",
    "plt.xlabel(\"Months\", fontsize=33)\n",
    "plt.ylabel(\"Attribute Value\", fontsize=33)\n",
    "plt.legend(fontsize=23, loc=1)\n",
    "#plt.legend(fontsize=20, bbox_to_anchor=(1.05, 1), loc=2, borderaxespad=0.)\n",
    "plt.xticks(np.arange(len(months)), months,fontsize=26)\n",
    "plt.yticks(fontsize=26)"
   ]
  },
  {
   "cell_type": "markdown",
   "metadata": {
    "run_control": {
     "marked": false
    }
   },
   "source": [
    "## Comparison of Yearly and Monthly trends in Centrality"
   ]
  },
  {
   "cell_type": "code",
   "execution_count": null,
   "metadata": {
    "collapsed": false,
    "run_control": {
     "marked": false
    }
   },
   "outputs": [],
   "source": [
    "y_avgst_all.iloc[:,:6].plot(fontsize=22, figsize=(28,6),logy=True)\n",
    "plt.suptitle(\"Plot of Log Avg of Centrality measures over years\", fontsize=33)\n",
    "plt.xlabel(\"Years\", fontsize=25)\n",
    "plt.ylabel(\"Log of Attribute Value\", fontsize=25)\n",
    "plt.legend(fontsize=24, bbox_to_anchor=(1.05, 1), loc=2, borderaxespad=0.)\n",
    "plt.xticks(years[1:],[i for i in years[1:]],fontsize=26)\n",
    "plt.yticks(fontsize=26)\n",
    "\n",
    "stat_all.iloc[:,:6].plot(fontsize=22, rot=90, figsize=(28,6), logy=True)\n",
    "plt.suptitle(\"Plot of Log of Avg of Centrality measures over months\", fontsize=33)\n",
    "plt.xlabel(\"Months\", fontsize=25)\n",
    "plt.ylabel(\"Log Attribute Value\", fontsize=25)\n",
    "plt.legend(fontsize=24, bbox_to_anchor=(1.05, 1), loc=2, borderaxespad=0.)\n",
    "plt.xticks(np.arange(len(months)), months,fontsize=26)\n",
    "plt.yticks(fontsize=26)"
   ]
  },
  {
   "cell_type": "code",
   "execution_count": null,
   "metadata": {
    "collapsed": false,
    "run_control": {
     "marked": false
    },
    "scrolled": false
   },
   "outputs": [],
   "source": [
    "y_avgst_all.iloc[:,6:9].plot(fontsize=22, figsize=(28,10))\n",
    "plt.suptitle(\"Plot of Avg of Assortativity measures over years\", fontsize=33)\n",
    "plt.xlabel(\"Years\", fontsize=25)\n",
    "plt.ylabel(\"Attribute Value\", fontsize=25)\n",
    "plt.legend(fontsize=24, bbox_to_anchor=(1.05, 1), loc=2, borderaxespad=0.)\n",
    "plt.xticks(years[1:],[i for i in years[1:]],fontsize=26)\n",
    "plt.yticks(fontsize=26)\n",
    "\n",
    "stat_all.iloc[:,6:9].plot(fontsize=22, rot=90, figsize=(28,10))\n",
    "plt.suptitle(\"Plot of Avg of Assortativity measures over months\", fontsize=33)\n",
    "plt.xlabel(\"Months\", fontsize=25)\n",
    "plt.ylabel(\"Log Attribute Value\", fontsize=25)\n",
    "plt.legend(fontsize=24, bbox_to_anchor=(1.05, 1), loc=2, borderaxespad=0.)\n",
    "plt.xticks(np.arange(len(months)), months,fontsize=26)\n",
    "plt.yticks(fontsize=26)"
   ]
  },
  {
   "cell_type": "markdown",
   "metadata": {
    "run_control": {
     "marked": false
    }
   },
   "source": [
    "# Attributes Analysis on Graphs\n",
    "\n",
    "Here I implement novel attributes taken from seismic data analysis. \n",
    "\n",
    "The complex trace is defined as $$C(t) = S(t) + iH(t) $$\n",
    "Where:\n",
    "\n",
    ">$C(t)$= Complex Trace\n",
    "\n",
    ">$S(t)$= Real Data\n",
    "\n",
    ">$H(t)$= Hilbert Transform of data \n",
    "\n",
    "Complex Trace Attributes:\n",
    "\n",
    "1. Instantaneous Amplitude, IA   $$\\sqrt{S(t)^2 + H(t)^2}$$\n",
    "2. Instantaneous Phase, IP   $$\\arctan(\\frac{H(t)}{S(t)})$$\n",
    "3. Instantatneous Frequency, IF $$\\frac{\\mathrm d}{\\mathrm d t} \\big( IP) \\big)$$\n",
    "4. Derivative of IA   $$\\frac{\\mathrm d}{\\mathrm d t} \\big( IA \\big)$$\n",
    "5. 2nd Derivative of IA   $$\\frac{\\mathrm d^2}{\\mathrm d t^2} \\big( IA \\big)$$\n",
    "6. Instantaneous Acceleration, IAcc $$\\frac{\\mathrm d}{\\mathrm d t} \\big( IF \\big)$$\n",
    "7. Amplitude Weighted Instantaneous Phase $$IA*IP$$\n",
    "8. Amplitude Weighted Instantaneous Frequency $$IA*IF$$\n",
    "\n",
    "Attributes from the normalised Graph Laplacian:\n",
    "\n",
    "+ Gaussian Curvature\n",
    "+ Kernel PCA 3 Component Ratio Change\n",
    "+ Resistane Distance\n",
    "+ Stationarity Ratio\n",
    "+ ICA 3 Component Ratio\n",
    "+ Norm NMF Ratio\n"
   ]
  },
  {
   "cell_type": "markdown",
   "metadata": {
    "run_control": {
     "marked": false
    }
   },
   "source": [
    "## Instantaneous Amplitude\n",
    "\n",
    ">Instantaneous Amplitude is widely used in traditional tectonic and stratigraphic interpretation. As one of the basic parameters of the amplitude attribute, it helps delineate the high- or low-amplitude anomaly (bright or dark spots). In this context this should highlight the bright and dark spots in the network when used as an attribute map and should show the highest and lowest points when used as a timeseries. As I show later this amplitude has a high correlation (> 0.7) with the traditional centrality measures so its behaviour is very similar to those. Therefore it is highly plausible that for this data it should suffice to look at this attribute instead of many different centrality measures."
   ]
  },
  {
   "cell_type": "code",
   "execution_count": null,
   "metadata": {
    "collapsed": false,
    "run_control": {
     "marked": false
    }
   },
   "outputs": [],
   "source": [
    "y_avgst_all.InstAmp.plot(fontsize=22, figsize=(28,10))\n",
    "plt.suptitle(\"Plot of Instantaneous Amplitude over years\", fontsize=33)\n",
    "plt.xlabel(\"Years\", fontsize=25)\n",
    "plt.ylabel(\"Attribute Value\", fontsize=25)\n",
    "plt.legend(fontsize=23, loc=3)\n",
    "plt.xticks(years[1:],[i for i in years[1:]],fontsize=26)\n",
    "plt.yticks(fontsize=26)\n"
   ]
  },
  {
   "cell_type": "code",
   "execution_count": null,
   "metadata": {
    "collapsed": false,
    "run_control": {
     "marked": false
    }
   },
   "outputs": [],
   "source": [
    "stat_all.InstAmp.plot(fontsize=22, rot=90, figsize=(28,10))\n",
    "plt.suptitle(\"Plot of Instantaneous Amplitude over months\", fontsize=33)\n",
    "plt.xlabel(\"Months\", fontsize=25)\n",
    "plt.ylabel(\"Attribute Value\", fontsize=25)\n",
    "plt.legend(fontsize=23, loc=3)\n",
    "plt.xticks(np.arange(len(months)), months,fontsize=26)\n",
    "plt.yticks(fontsize=26)"
   ]
  },
  {
   "cell_type": "markdown",
   "metadata": {},
   "source": [
    "## Derivative of Instantanteous Amplitue, $\\frac{\\mathrm d}{\\mathrm d t} \\big( IA \\big)$\n",
    "\n",
    ">The derivative of IA highlights the change in reflectivity and shows sharp interfaces and discontinuities. Effectively this should highlight the big changes in the IA and the smaller changes should make the attribute smooth. This is what we observe because the attribute highlights the peaks observed in the IA plot and the rest of the signal is fairly smooth for the time range. "
   ]
  },
  {
   "cell_type": "code",
   "execution_count": null,
   "metadata": {
    "collapsed": false,
    "run_control": {
     "marked": false
    }
   },
   "outputs": [],
   "source": [
    "y_avgst_all.dInstAmp.plot(fontsize=22, figsize=(28,10))\n",
    "plt.suptitle(\"Plot of Derivative of Instantaneous Amplitude over years\", fontsize=33)\n",
    "plt.xlabel(\"Years\", fontsize=25)\n",
    "plt.ylabel(\"Attribute Value\", fontsize=25)\n",
    "plt.legend(fontsize=23, loc=3)\n",
    "plt.xticks(years[1:],[i for i in years[1:]],fontsize=26)\n",
    "plt.yticks(fontsize=26)\n"
   ]
  },
  {
   "cell_type": "code",
   "execution_count": null,
   "metadata": {
    "collapsed": false,
    "run_control": {
     "marked": false
    }
   },
   "outputs": [],
   "source": [
    "stat_all.dInstAmp.plot(fontsize=22, rot=90, figsize=(28,10))\n",
    "plt.suptitle(\"Plot of Derivative of Instantaneous Amplitude over months\", fontsize=33)\n",
    "plt.xlabel(\"Months\", fontsize=25)\n",
    "plt.ylabel(\"Attribute Value\", fontsize=25)\n",
    "plt.legend(fontsize=23, loc=3)\n",
    "plt.xticks(np.arange(len(months)), months,fontsize=26)\n",
    "plt.yticks(fontsize=26)"
   ]
  },
  {
   "cell_type": "markdown",
   "metadata": {},
   "source": [
    "## 2nd Derivative of Instantaneous Amplitude $\\frac{\\mathrm d^2}{\\mathrm d t^2} \\big( IA \\big)$\n",
    "\n",
    ">The second derivative of the IA highlights the interfaces very well - the places of change. This attribute is not too sensitive to the amplitude and can highlight even weak events.We see this to be the case where the first derivative highlights the individual peaks the second derivative smoothes the individual peaks and gives a smooth peak over the range of months where they occur and does a better job of highlighting the peaks towards the end of the timeseries than the first derivative. "
   ]
  },
  {
   "cell_type": "code",
   "execution_count": null,
   "metadata": {
    "collapsed": false,
    "run_control": {
     "marked": false
    }
   },
   "outputs": [],
   "source": [
    "y_avgst_all.d2InstAmp.plot(fontsize=22, figsize=(28,10))\n",
    "plt.suptitle(\"Plot of 2nd Derivative of Instantaneous Amplitude over years\", fontsize=33)\n",
    "plt.xlabel(\"Years\", fontsize=25)\n",
    "plt.ylabel(\"Attribute Value\", fontsize=25)\n",
    "plt.legend(fontsize=23, loc=3)\n",
    "plt.xticks(years[1:],[i for i in years[1:]],fontsize=26)\n",
    "plt.yticks(fontsize=26)\n"
   ]
  },
  {
   "cell_type": "code",
   "execution_count": null,
   "metadata": {
    "collapsed": false,
    "run_control": {
     "marked": false
    }
   },
   "outputs": [],
   "source": [
    "stat_all.d2InstAmp.plot(fontsize=22, rot=90, figsize=(28,10))\n",
    "plt.suptitle(\"Plot of 2nd Derivative of Instantaneous Amplitude over months\", fontsize=33)\n",
    "plt.xlabel(\"Months\", fontsize=25)\n",
    "plt.ylabel(\"Attribute Value\", fontsize=25)\n",
    "plt.legend(fontsize=23, loc=3)\n",
    "plt.xticks(np.arange(len(months)), months,fontsize=26)\n",
    "plt.yticks(fontsize=26)"
   ]
  },
  {
   "cell_type": "markdown",
   "metadata": {
    "run_control": {
     "marked": false
    }
   },
   "source": [
    "## Instantaneous Phase\n",
    "\n",
    ">Instantaneous Phase is expressed in degrees or radians at the selected sampling point. Instantaneous phase helps strengthen weak reflections in the inner parts of reservoirs and also strengthens the noise. Because the hydrocarbon accumulation often causes phase changes, this attribute can be used as a direct indication of hydrocarbons. The cosine of the instantaneous phase is derived from the instantaneous phase. It is commonly used to improve the variation display of the instantaneous phase because it has fixed boundary values (-1 to +1). In this context the change in the IP can be used as an indicator for the itervals which are the most interesting since they have a noticeable phase change. This is better illustrated by the cosine of IP especially the percentage change plot here we see the months with the greatest phase change really well and the peaks are well delineated in constrast to the just the IP plot."
   ]
  },
  {
   "cell_type": "code",
   "execution_count": null,
   "metadata": {
    "collapsed": false,
    "run_control": {
     "marked": false
    }
   },
   "outputs": [],
   "source": [
    "y_avgst_all.InstPhase.plot(fontsize=22, figsize=(28,10))\n",
    "plt.suptitle(\"Plot of Instantaneous Phase over years\", fontsize=33)\n",
    "plt.xlabel(\"Years\", fontsize=25)\n",
    "plt.ylabel(\"Attribute Value\", fontsize=25)\n",
    "plt.legend(fontsize=23, loc=3)\n",
    "plt.xticks(years[1:],[i for i in years[1:]],fontsize=26)\n",
    "plt.yticks(fontsize=26)\n"
   ]
  },
  {
   "cell_type": "code",
   "execution_count": null,
   "metadata": {
    "collapsed": false,
    "run_control": {
     "marked": false
    }
   },
   "outputs": [],
   "source": [
    "stat_all.InstPhase.plot(fontsize=22, rot=90, figsize=(28,10))\n",
    "plt.suptitle(\"Plot of Instantaneous Phase over months\", fontsize=33)\n",
    "plt.xlabel(\"Months\", fontsize=25)\n",
    "plt.ylabel(\"Attribute Value\", fontsize=25)\n",
    "plt.legend(fontsize=23, loc=3)\n",
    "plt.xticks(np.arange(len(months)), months,fontsize=26)\n",
    "plt.yticks(fontsize=26)"
   ]
  },
  {
   "cell_type": "markdown",
   "metadata": {},
   "source": [
    "## Cosine of IP"
   ]
  },
  {
   "cell_type": "code",
   "execution_count": null,
   "metadata": {
    "collapsed": false,
    "run_control": {
     "marked": false
    }
   },
   "outputs": [],
   "source": [
    "y_avgst_all.cosInstPhase.plot(fontsize=22, figsize=(28,10))\n",
    "plt.suptitle(\"Plot of Cosine Instantaneous Phase over years\", fontsize=33)\n",
    "plt.xlabel(\"Years\", fontsize=25)\n",
    "plt.ylabel(\"Attribute Value\", fontsize=25)\n",
    "plt.legend(fontsize=23, loc=3)\n",
    "plt.xticks(years[1:],[i for i in years[1:]],fontsize=26)\n",
    "plt.yticks(fontsize=26)\n"
   ]
  },
  {
   "cell_type": "code",
   "execution_count": null,
   "metadata": {
    "collapsed": false,
    "run_control": {
     "marked": false
    }
   },
   "outputs": [],
   "source": [
    "stat_all.cosInstPhase.plot(fontsize=22, rot=90, figsize=(28,10))\n",
    "plt.suptitle(\"Plot of Cosine Instantaneous Phase over months\", fontsize=33)\n",
    "plt.xlabel(\"Months\", fontsize=25)\n",
    "plt.ylabel(\"Attribute Value\", fontsize=25)\n",
    "plt.legend(fontsize=23, loc=3)\n",
    "plt.xticks(np.arange(len(months)), months,fontsize=26)\n",
    "plt.yticks(fontsize=26)"
   ]
  },
  {
   "cell_type": "code",
   "execution_count": null,
   "metadata": {
    "collapsed": false
   },
   "outputs": [],
   "source": [
    "stat_all.cosInstPhase.pct_change().plot(fontsize=22, rot=90, figsize=(28,10))\n",
    "plt.suptitle(\"Plot of % Chg Instantaneous Phase over months\", fontsize=33)\n",
    "plt.xlabel(\"Months\", fontsize=25)\n",
    "plt.ylabel(\"Attribute Value\", fontsize=25)\n",
    "plt.legend(fontsize=23, loc=3)\n",
    "plt.xticks(np.arange(len(months)), months,fontsize=26)\n",
    "plt.yticks(fontsize=26)"
   ]
  },
  {
   "cell_type": "markdown",
   "metadata": {
    "run_control": {
     "marked": false
    }
   },
   "source": [
    "## Instantaneous Frequency\n",
    "\n",
    ">Instantaneous frequency is defined as the time derivative of the instantaneous phase and it is used for estimating seismic attenuation. Oil and gas reservoirs often cause the attenuation of high-frequency components, so this attribute is also conducive to measuring stratigraphic periodic intervals. In this context I expect this to show clearly the peaks of the signal. This is exactly what we see especially in the monthly trend where the two large peaks are clearly delineated with a some smaller peaks highlighted the attribute is smooth over the rest of the series. So it has the property of finding the most significant peaks in our data."
   ]
  },
  {
   "cell_type": "code",
   "execution_count": null,
   "metadata": {
    "collapsed": false,
    "run_control": {
     "marked": false
    }
   },
   "outputs": [],
   "source": [
    "y_avgst_all.InstFreq.plot(fontsize=22, figsize=(28,10))\n",
    "plt.suptitle(\"Plot of Instantaneous Frequency over years\", fontsize=33)\n",
    "plt.xlabel(\"Years\", fontsize=25)\n",
    "plt.ylabel(\"Attribute Value\", fontsize=25)\n",
    "plt.legend(fontsize=23, loc=3)\n",
    "plt.xticks(years[1:],[i for i in years[1:]],fontsize=26)\n",
    "plt.yticks(fontsize=26)\n"
   ]
  },
  {
   "cell_type": "code",
   "execution_count": null,
   "metadata": {
    "collapsed": false,
    "run_control": {
     "marked": false
    }
   },
   "outputs": [],
   "source": [
    "stat_all.InstFreq.plot(fontsize=22, rot=90, figsize=(28,10))\n",
    "plt.suptitle(\"Plot of Instantaneous Frequency over months\", fontsize=33)\n",
    "plt.xlabel(\"Months\", fontsize=25)\n",
    "plt.ylabel(\"Attribute Value\", fontsize=25)\n",
    "plt.legend(fontsize=23, loc=3)\n",
    "plt.xticks(np.arange(len(months)), months,fontsize=26)\n",
    "plt.yticks(fontsize=26)"
   ]
  },
  {
   "cell_type": "markdown",
   "metadata": {},
   "source": [
    "## Instantaneous Acceleration\n",
    "\n",
    ">Instantaneous Acceleration is defined as the rate of change of the instantaneous frequency, which is often used to indicate the rate of attenuation and absorption. As gas (or oil, or water) can cause the attenuation of seismic waves, this attribute can represent a fluid interface in the high-resolution data. As a deriative attribute I expect it to highlight the peaks and troughs very effectively and be smooth in areas of less pronounced change. This is what is observed as the attribute highlights the two large peaks but with the opposite polarity of IF. \n",
    "\n"
   ]
  },
  {
   "cell_type": "code",
   "execution_count": null,
   "metadata": {
    "collapsed": false,
    "run_control": {
     "marked": false
    }
   },
   "outputs": [],
   "source": [
    "y_avgst_all.InstAccel.plot(fontsize=22, figsize=(28,10))\n",
    "plt.suptitle(\"Plot of Instantaneous Acceleration over years\", fontsize=33)\n",
    "plt.xlabel(\"Years\", fontsize=25)\n",
    "plt.ylabel(\"Attribute Value\", fontsize=25)\n",
    "plt.legend(fontsize=23, loc=3)\n",
    "plt.xticks(years[1:],[i for i in years[1:]],fontsize=26)\n",
    "plt.yticks(fontsize=26)\n"
   ]
  },
  {
   "cell_type": "code",
   "execution_count": null,
   "metadata": {
    "collapsed": false,
    "run_control": {
     "marked": false
    }
   },
   "outputs": [],
   "source": [
    "stat_all.InstAccel.plot(fontsize=22, rot=90, figsize=(28,10))\n",
    "plt.suptitle(\"Plot of Instantaneous Acceleration over months\", fontsize=33)\n",
    "plt.xlabel(\"Months\", fontsize=25)\n",
    "plt.ylabel(\"Attribute Value\", fontsize=25)\n",
    "plt.legend(fontsize=23, loc=3)\n",
    "plt.xticks(np.arange(len(months)), months,fontsize=26)\n",
    "plt.yticks(fontsize=26)"
   ]
  },
  {
   "cell_type": "markdown",
   "metadata": {},
   "source": [
    "## Amplitude Weighted IF\n",
    "\n",
    ">Amplitude weighted Instantaneous Frequency provides a reliable smooth instantaneous frequency estimation in order to reduce the interference damage. I expcect this to better highlight frequency anomalies in the data and suppress insignificant anomalies. We see that the weighted IF is sharper in places where the IF is fairly smooth. This highlights the major peaks as well as minor anomalies not immediately obvious from the IF alone. "
   ]
  },
  {
   "cell_type": "code",
   "execution_count": null,
   "metadata": {
    "collapsed": false,
    "run_control": {
     "marked": false
    }
   },
   "outputs": [],
   "source": [
    "y_avgst_all.IAwIF.plot(fontsize=22, figsize=(28,10))\n",
    "plt.suptitle(\"Plot of Amplitude Weighted Instantaneous Frequency over years\", fontsize=33)\n",
    "plt.xlabel(\"Years\", fontsize=25)\n",
    "plt.ylabel(\"Attribute Value\", fontsize=25)\n",
    "plt.legend(fontsize=23, loc=3)\n",
    "plt.xticks(years[1:],[i for i in years[1:]],fontsize=26)\n",
    "plt.yticks(fontsize=26)\n"
   ]
  },
  {
   "cell_type": "code",
   "execution_count": null,
   "metadata": {
    "collapsed": false,
    "run_control": {
     "marked": false
    }
   },
   "outputs": [],
   "source": [
    "stat_all.IAwIF.plot(fontsize=22, rot=90, figsize=(28,10))\n",
    "plt.suptitle(\"Plot of Amplitude Weighted Instantaneous Frequency over months\", fontsize=33)\n",
    "plt.xlabel(\"Months\", fontsize=25)\n",
    "plt.ylabel(\"Attribute Value\", fontsize=25)\n",
    "plt.legend(fontsize=23, loc=3)\n",
    "plt.xticks(np.arange(len(months)), months,fontsize=26)\n",
    "plt.yticks(fontsize=26)"
   ]
  },
  {
   "cell_type": "markdown",
   "metadata": {},
   "source": [
    "## Amplitude weighted Instantaneous Phase\n",
    "\n",
    ">The amplitude weighted IP should cause the phase to become sharper with the peaks and troughs more accentuated. This has the effect of magnifying the signal as well as the noise. However, in this case we see that the trend in IP weighted and regular IP plot are identical with the only difference being the magnitude of the peaks. "
   ]
  },
  {
   "cell_type": "code",
   "execution_count": null,
   "metadata": {
    "collapsed": false,
    "run_control": {
     "marked": false
    }
   },
   "outputs": [],
   "source": [
    "y_avgst_all.IAwIP.plot(fontsize=22, figsize=(28,10))\n",
    "plt.suptitle(\"Plot of Amplitude Weighted Instantaneous Phase over years\", fontsize=33)\n",
    "plt.xlabel(\"Years\", fontsize=25)\n",
    "plt.ylabel(\"Attribute Value\", fontsize=25)\n",
    "plt.legend(fontsize=23, loc=3)\n",
    "plt.xticks(years[1:],[i for i in years[1:]],fontsize=26)\n",
    "plt.yticks(fontsize=26)\n"
   ]
  },
  {
   "cell_type": "code",
   "execution_count": null,
   "metadata": {
    "collapsed": false,
    "run_control": {
     "marked": false
    }
   },
   "outputs": [],
   "source": [
    "stat_all.IAwIP.plot(fontsize=22, rot=90, figsize=(28,10))\n",
    "plt.suptitle(\"Plot of Amplitude Weighted Instantaneous Phase over months\", fontsize=33)\n",
    "plt.xlabel(\"Months\", fontsize=25)\n",
    "plt.ylabel(\"Attribute Value\", fontsize=25)\n",
    "plt.legend(fontsize=23, loc=3)\n",
    "plt.xticks(np.arange(len(months)), months,fontsize=26)\n",
    "plt.yticks(fontsize=26)"
   ]
  },
  {
   "cell_type": "markdown",
   "metadata": {
    "run_control": {
     "marked": false
    }
   },
   "source": [
    "## Mean Curvature\n",
    "\n",
    "There are many ways to define curvature I use the Gaussian Curvature which is derived from the Hessian Matrix. A surface might be curved upward in places, curve downward in places, or even be flat in places. Also, at some given point, the surface may be curved upward in some directions and downward in others. The curvature measure helps us detect such change. Gaussian curvature can be positive, negative, or zero. A useful property of the curvature attribute is that it is independent of orientation of the\n",
    "surface. If we place vectors on this surface the would indicates where the curve bends i.e., the vectors are either diverging, converging, or parallel. This can correspond to the negative, positive or zero value of curvature.\n",
    "\n",
    "\n",
    "$$K = \\frac{f_{xx}f_{yy}+f_{xy}f_{yx}}{(1+ f_x^2 + f_y^2)^2}$$ and the mean curvature is $$K_{mean} = tr(\\lambda_{hessian}) $$ the trace of the eigenvalues of the Hessian Matrix.\n",
    "\n",
    "The Mean Curvature for the network seems to be negative throughout this range which could mean that this network is diverging. This rate of divergence is captured on a yearly and monthly scale in this case by this attribute in its normal form. To get a better sense and interpret this attribute the percent change plot is more useful here we see that the two peaks are well highlighted and the remaining profile is smoothed indicating that the network is not changing very fast more most of the months but the divergence is greater in 1999 during its golden period and in 2002 when the firm went bankrupt. This ties well with what we know from reality and what the other attributes highlight. In contrast to the KPCA we have to note that this highlights the big features as opposed to more subtle features. Curvature is typically used to dilineate structures such as faults or other structures such as anticlines (+ curvature) or synclines (- curvature). In the network context it also seems to have a preference for large features and recovers the peaks of the signal very well. "
   ]
  },
  {
   "cell_type": "code",
   "execution_count": null,
   "metadata": {
    "collapsed": false,
    "run_control": {
     "marked": false
    },
    "scrolled": false
   },
   "outputs": [],
   "source": [
    "y_avgst_all.MeanKurv.plot(fontsize=22, figsize=(28,10))\n",
    "plt.suptitle(\"Plot of Mean Curvature over years\", fontsize=33)\n",
    "plt.xlabel(\"Years\", fontsize=25)\n",
    "plt.ylabel(\"Attribute Value\", fontsize=25)\n",
    "plt.legend(fontsize=23, loc=3)\n",
    "plt.xticks(years[1:],[i for i in years[1:]],fontsize=26)\n",
    "plt.yticks(fontsize=26)\n"
   ]
  },
  {
   "cell_type": "code",
   "execution_count": null,
   "metadata": {
    "collapsed": false,
    "run_control": {
     "marked": false
    }
   },
   "outputs": [],
   "source": [
    "stat_all.MeanKurv.plot(fontsize=22, rot=90, figsize=(28,10))\n",
    "plt.suptitle(\"Plot of Mean Curvature over months\", fontsize=33)\n",
    "plt.xlabel(\"Months\", fontsize=25)\n",
    "plt.ylabel(\"Attribute Value\", fontsize=25)\n",
    "plt.legend(fontsize=23, loc=3)\n",
    "plt.xticks(np.arange(len(months)), months,fontsize=26)\n",
    "plt.yticks(fontsize=26)"
   ]
  },
  {
   "cell_type": "code",
   "execution_count": null,
   "metadata": {
    "collapsed": false
   },
   "outputs": [],
   "source": [
    "stat_all.MeanKurv.pct_change().plot(fontsize=22, rot=90, figsize=(28,10))\n",
    "plt.suptitle(\"Plot of % Change Mean Curvature over months\", fontsize=33)\n",
    "plt.xlabel(\"Months\", fontsize=25)\n",
    "plt.ylabel(\"Attribute Value\", fontsize=25)\n",
    "plt.legend(fontsize=23, loc=3)\n",
    "plt.xticks(np.arange(len(months)), months,fontsize=26)\n",
    "plt.yticks(fontsize=26)"
   ]
  },
  {
   "cell_type": "code",
   "execution_count": null,
   "metadata": {
    "collapsed": false
   },
   "outputs": [],
   "source": [
    "stat_all.MeanKurv.apply(lambda x: np.cos(x)).plot(title=\"Cosine of Mean Curvature\", fontsize=18, rot =90)\n",
    "plt.xticks(np.arange(len(months)), months,fontsize=16);\n",
    "plt.xlabel(\"Months\", fontsize=18)\n",
    "plt.ylabel(\"Attribute Value\", fontsize=18)"
   ]
  },
  {
   "cell_type": "markdown",
   "metadata": {
    "run_control": {
     "marked": false
    }
   },
   "source": [
    "## Kernel PCA 3 Components Ratio\n",
    "\n",
    "Here I calculate the Kernel PCA 3 Component ratio from the Normalised Graph Laplacian. This is the ratio of the main element difference between two networks. The reason a Kernel PCA is used is because of its ability to handle non-linearity through kernels. Here the RBF kernel is used to fit the Normalised Graph Laplacian and then the ratio is calculated as follows:\n",
    "\n",
    "Step 1: Fit and transform the Normalised Graph Laplacian keeping only the first 3 compoenets: PC1, PC2 and PC3\n",
    "\n",
    "Step 2: Calculate the Kernel PCA Ratio, $$KPCA_{r} = \\frac{PC1-PC3}{PC1-PC2}$$\n",
    "\n",
    "Step 3: For all the networks calculate the change in the KPCA Ratio as $$\\delta K_{r} =\\frac{K_{rt0}}{K_{rt1}}$$ recursively to derive a rolling measure of the change in KLPCA Ratio over time.\n",
    "\n",
    "The KLPCA is one of the main element analysis methods in seismic attribute analysis where it is used to calculate the  correlation in a multitrace window. A small value represents a degree of intermittent or no correlation of geological phenomena. It is also used to detect discontinuities, such as faults and unconformities. Here the purpose is to locate big discontinuities in our networks over time. This represents a scalalble and easy way to locate the biggest changes even when we are dealing with a large number of dynamic networks. Most of the values encountered are relatively small. But from the monthly plot we see that there is a large discontinuity in June and July 1999 whose scale dominates the plot. Hence the log of this attribute is used and we see other smaller signals emerge as a result. \n",
    "\n",
    "It is encouraging to see that the attribute picks up the Feb-Mar 99 peak like the other attributes but the the discontinuity it finds is June/July 99 which are relatively minor peaks according to the other attributes. This could be due to the fact that I use 3 components of the KLPCA to calculate the change as opposed to just the first component. The second and third KPCA components are typically used to find geological unconformities which is a discontinuity in rock sequence indicating interruption of sedimentation, commonly accompanied by erosion of rocks below the break i.e it represents an abrupt change. Hence it can be reasonably assumed that by substracting these components from the first component we are more likely to find these more abrupt breaks in the data that are no as clear looking at other attributes."
   ]
  },
  {
   "cell_type": "code",
   "execution_count": null,
   "metadata": {
    "collapsed": true,
    "run_control": {
     "marked": false
    }
   },
   "outputs": [],
   "source": [
    "all_month_G = tuple([G_nov98,G_dec98,G_jan_99,G_feb_99,G_mar_99,G_apr_99,G_may_99,G_jun_99,G_jul_99,G_aug_99,G_sep_99,G_oct_99,\\\n",
    "              G_nov_99,G_dec_99,G_jan_2k,G_feb_2k,G_mar_2k,G_apr_2k,G_may_2k,G_jun_2k,G_jul_2k,G_aug_2k,G_sep_2k,\\\n",
    "              G_oct_2k,G_nov_2k,G_dec_2k,G_jan_2k1,G_feb_2k1,G_mar_2k1,G_apr_2k1,G_may_2k1,G_jun_2k1,G_jul_2k1,\\\n",
    "              G_aug_2k1,G_sep_2k1,G_oct_2k1,G_nov_2k1,G_dec_2k1,G_jan_2k2,G_feb_2k2,G_mar_2k2,G_apr_2k2,G_may_2k2,G_jun_2k2])"
   ]
  },
  {
   "cell_type": "code",
   "execution_count": null,
   "metadata": {
    "collapsed": true,
    "run_control": {
     "marked": false
    }
   },
   "outputs": [],
   "source": [
    "def kpca_ratio(net):\n",
    "    from sklearn.decomposition import KernelPCA\n",
    "    kpca = KernelPCA(n_components=3,kernel='rbf')\n",
    "    m = nx.normalized_laplacian_matrix(net).todense()\n",
    "    X_kpca = kpca.fit_transform(m)\n",
    "    pc1 = X_kpca[:,0]\n",
    "    pc2 = X_kpca[:,1]\n",
    "    pc3 = X_kpca[:,2]\n",
    "    kpca_rat = norm(pc1-pc3/(pc1-pc2)) \n",
    "    return kpca_rat"
   ]
  },
  {
   "cell_type": "code",
   "execution_count": null,
   "metadata": {
    "collapsed": true
   },
   "outputs": [],
   "source": [
    "def kpca_att(net):\n",
    "    kpca_chg = []\n",
    "    for i in range(len(net)-1):\n",
    "        x = int(i)\n",
    "        y = 1+x\n",
    "        kpcar1= kpca_ratio(net[x])\n",
    "        kpcar2= kpca_ratio(net[y])\n",
    "        kpca_chg.append(np.divide(kpcar2,kpcar1))\n",
    "    kpca_chgpad = np.zeros(len(kpca_chg)+1);\n",
    "    kpca_chgpad[1:] = kpca_chg   \n",
    "    \n",
    "    return kpca_chgpad"
   ]
  },
  {
   "cell_type": "code",
   "execution_count": null,
   "metadata": {
    "collapsed": false
   },
   "outputs": [],
   "source": [
    "kpca_chg_y= kpca_att(all_year_G)\n",
    "kpca_chg_m = kpca_att(all_month_G)"
   ]
  },
  {
   "cell_type": "code",
   "execution_count": null,
   "metadata": {
    "collapsed": false
   },
   "outputs": [],
   "source": [
    "kpca_chg_m"
   ]
  },
  {
   "cell_type": "code",
   "execution_count": null,
   "metadata": {
    "collapsed": false
   },
   "outputs": [],
   "source": [
    "max(kpca_chg_m), min(kpca_chg_m)"
   ]
  },
  {
   "cell_type": "code",
   "execution_count": null,
   "metadata": {
    "collapsed": false
   },
   "outputs": [],
   "source": [
    "plt.plot(np.log(kpca_chg_y), '#8C001A',label='KPCA Ratio Change')\n",
    "plt.suptitle(\"Plot of Log KPCA Ratio Change over years\", fontsize=22)\n",
    "plt.xlabel(\"Years\", fontsize=16)\n",
    "plt.ylabel(\"Attribute Value\", fontsize=16)\n",
    "plt.legend(fontsize=13, loc=2)\n",
    "plt.xticks(np.arange(len(years[1:])), years[1:],fontsize=16)\n",
    "plt.yticks(fontsize=16)"
   ]
  },
  {
   "cell_type": "code",
   "execution_count": null,
   "metadata": {
    "collapsed": false
   },
   "outputs": [],
   "source": [
    "plt.plot(kpca_chg_m, '#8C001A',label='Log KPCA Ratio Change')\n",
    "plt.suptitle(\"Plot of KPCA Ratio Change over months\", fontsize=22)\n",
    "plt.xlabel(\"Months\", fontsize=16)\n",
    "plt.ylabel(\"Log Attribute Value\", fontsize=16)\n",
    "plt.legend(fontsize=13, loc=1)\n",
    "plt.xticks(np.arange(len(months)), months,fontsize=16, rotation=90)\n",
    "plt.yticks(fontsize=16)\n",
    "plt.autoscale()"
   ]
  },
  {
   "cell_type": "code",
   "execution_count": null,
   "metadata": {
    "collapsed": false,
    "run_control": {
     "marked": true
    }
   },
   "outputs": [],
   "source": [
    "plt.plot(np.log10(kpca_chg_m), '#8C001A',label='Log KPCA Ratio Change')\n",
    "plt.suptitle(\"Plot of Log KPCA Ratio Change over months\", fontsize=22)\n",
    "plt.xlabel(\"Months\", fontsize=16)\n",
    "plt.ylabel(\"Log Attribute Value\", fontsize=16)\n",
    "plt.legend(fontsize=13, loc=1)\n",
    "plt.xticks(np.arange(len(months)), months,fontsize=16, rotation=90)\n",
    "plt.yticks(fontsize=16)\n",
    "plt.autoscale()"
   ]
  },
  {
   "cell_type": "code",
   "execution_count": null,
   "metadata": {
    "collapsed": false
   },
   "outputs": [],
   "source": [
    "y_avgst_all['LogKPCARatio'] =np.log10(kpca_chg_y)\n",
    "stat_all['LogKPCARatio'] =np.log10(kpca_chg_m)"
   ]
  },
  {
   "cell_type": "code",
   "execution_count": null,
   "metadata": {
    "collapsed": false
   },
   "outputs": [],
   "source": [
    "stat_all.LogKPCARatio.iloc[0]=0\n",
    "y_avgst_all.LogKPCARatio.iloc[0]=0"
   ]
  },
  {
   "cell_type": "markdown",
   "metadata": {},
   "source": [
    "## ICA Ratio\n",
    "\n",
    "Similarly to the KPCA ratio above I derive a ICA ratio for comparison. Since this another decomposition technique but assumes non-Gaussian structure it should find more local features in contrast to PCA which find smore global features. However, since we used a Kernel PCA with a RBF Kernel this should handle non-linearity much beter and I expect the ICA ratio in this case to behave similarly to the KPCA ratio but should highlight more local changes.\n",
    "\n",
    "$$ICA_{r} = \\frac{IC1-IC3}{IC1-IC2}  $$\n",
    "\n",
    "Then the change ratio is defined as: $$\\delta ICA_{r} = \\frac{ICA_{rt0}}{ICA_{rt1}} $$ \n",
    "\n",
    "This is calculated the same way as the KPCA ratio above. As with the KPCA Ratio \n",
    "\n",
    "The trends that the ICA ratio highlights are similar to what we have seen so far. But it also highlights other points of interest. Similarly to the KPCA ratio the values are large so there is a need to scale it to keep the values in a reasonable range. So the log of the ICA Ration is used."
   ]
  },
  {
   "cell_type": "code",
   "execution_count": null,
   "metadata": {
    "collapsed": true,
    "run_control": {
     "marked": false
    }
   },
   "outputs": [],
   "source": [
    "def fica_ratio(net):\n",
    "    from sklearn.decomposition import FastICA\n",
    "    fica = FastICA(n_components=3, max_iter=3000, tol=0.001, fun='exp')\n",
    "    m = nx.normalized_laplacian_matrix(net).todense()\n",
    "    X_fica = fica.fit_transform(m)\n",
    "    fica_ratio = norm(X_fica[:,0]-X_fica[:,2]/(X_fica[:,0]-X_fica[:,1]))\n",
    "     \n",
    "    return fica_ratio"
   ]
  },
  {
   "cell_type": "code",
   "execution_count": null,
   "metadata": {
    "collapsed": true
   },
   "outputs": [],
   "source": [
    "def fica_att(net):\n",
    "    fica_chg = []\n",
    "    for i in range(len(net)-1):\n",
    "        x = int(i)\n",
    "        y = 1+x\n",
    "        fica1= fica_ratio(net[x])\n",
    "        fica2= fica_ratio(net[y])\n",
    "        fica_chg.append(np.divide(fica2,fica1))\n",
    "    fica_chgpad = np.zeros(len(fica_chg)+1);\n",
    "    fica_chgpad[1:] = fica_chg   \n",
    "    \n",
    "    return fica_chgpad"
   ]
  },
  {
   "cell_type": "code",
   "execution_count": null,
   "metadata": {
    "collapsed": false
   },
   "outputs": [],
   "source": [
    "fica_ratio_y = fica_att(all_year_G)\n",
    "fica_ratio_m = fica_att(all_month_G)"
   ]
  },
  {
   "cell_type": "code",
   "execution_count": null,
   "metadata": {
    "collapsed": false
   },
   "outputs": [],
   "source": [
    "plt.plot(fica_ratio_y,'r',label='ICA Ratio')\n",
    "plt.plot(kpca_chg_y, 'b', label='Log KPCA Ratio')\n",
    "\n",
    "plt.suptitle(\"Plot of ICA Ratio Change over years\", fontsize=22)\n",
    "plt.xlabel(\"Years\", fontsize=16)\n",
    "plt.ylabel(\"Attribute Value\", fontsize=16)\n",
    "plt.legend(fontsize=13, loc=2)\n",
    "plt.xticks(np.arange(len(years[1:])), years[1:],fontsize=16)\n",
    "plt.yticks(fontsize=16)"
   ]
  },
  {
   "cell_type": "code",
   "execution_count": null,
   "metadata": {
    "collapsed": false
   },
   "outputs": [],
   "source": [
    "plt.plot(fica_ratio_m)\n",
    "plt.suptitle(\"Plot of ICA Ratio Change over months\", fontsize=22)\n",
    "plt.xlabel(\"Months\", fontsize=16)\n",
    "plt.ylabel(\"Attribute Value\", fontsize=16)\n",
    "plt.legend(fontsize=13, loc=1)\n",
    "plt.xticks(np.arange(len(months)), months,fontsize=16, rotation=90)\n",
    "plt.yticks(fontsize=16)\n",
    "plt.autoscale()"
   ]
  },
  {
   "cell_type": "code",
   "execution_count": null,
   "metadata": {
    "collapsed": false
   },
   "outputs": [],
   "source": [
    "plt.plot(np.log10(fica_ratio_m), 'r',label=' Std ICA Ratio')\n",
    "plt.plot(np.log10(kpca_chg_m),'b',label='Std KPCA Ratio')\n",
    "plt.suptitle(\"Comparison of PCA and ICA Ratio Change over months\", fontsize=22)\n",
    "plt.xlabel(\"Months\", fontsize=16)\n",
    "plt.ylabel(\"Attribute Value\", fontsize=16)\n",
    "plt.legend(fontsize=13, loc=1)\n",
    "plt.xticks(np.arange(len(months)), months,fontsize=16, rotation=90)\n",
    "plt.yticks(fontsize=16)\n",
    "plt.autoscale()"
   ]
  },
  {
   "cell_type": "code",
   "execution_count": null,
   "metadata": {
    "collapsed": false
   },
   "outputs": [],
   "source": [
    "np.log10(fica_ratio_y)"
   ]
  },
  {
   "cell_type": "code",
   "execution_count": null,
   "metadata": {
    "collapsed": false
   },
   "outputs": [],
   "source": [
    "np.log10(fica_ratio_m)"
   ]
  },
  {
   "cell_type": "code",
   "execution_count": null,
   "metadata": {
    "collapsed": false
   },
   "outputs": [],
   "source": [
    "y_avgst_all['LogICARatio'] =np.log10(fica_ratio_y)\n",
    "stat_all['LogICARatio'] =np.nan_to_num(np.log10(fica_ratio_m))"
   ]
  },
  {
   "cell_type": "code",
   "execution_count": null,
   "metadata": {
    "collapsed": false
   },
   "outputs": [],
   "source": [
    "stat_all.LogICARatio.iloc[0]=0\n",
    "y_avgst_all.LogICARatio.iloc[0]=0"
   ]
  },
  {
   "cell_type": "markdown",
   "metadata": {},
   "source": [
    "## Norm NMF Ratio\n",
    "\n",
    "This is another metric derived from the Non-negative Matrix Factorisation of the normalised graph laplacian. Essentially the laplacian is decomposed and then I take the Frobenius norm of the result to derive a measure of comparison of the networks at different times. "
   ]
  },
  {
   "cell_type": "code",
   "execution_count": null,
   "metadata": {
    "collapsed": true
   },
   "outputs": [],
   "source": [
    "def nmf_att(net):\n",
    "    nmf_chg = []\n",
    "    nmf = NMF(init='nndsvda',solver='cd', random_state=0, l1_ratio=1)\n",
    "    for i in range(len(net)-1):\n",
    "        x = int(i)\n",
    "        y = 1+x\n",
    "        m1= abs(nx.normalized_laplacian_matrix(net[x]).todense())\n",
    "        m2= abs(nx.normalized_laplacian_matrix(net[y]).todense())\n",
    "        nmf1 = norm(nmf.fit_transform(m1))\n",
    "        nmf2 = norm(nmf.fit_transform(m2))\n",
    "        nmf_chg.append(np.divide(nmf2,nmf1))\n",
    "    nmf_chgpad = np.zeros(len(nmf_chg)+1);\n",
    "    nmf_chgpad[1:] = nmf_chg   \n",
    "    \n",
    "    return nmf_chgpad"
   ]
  },
  {
   "cell_type": "code",
   "execution_count": null,
   "metadata": {
    "collapsed": false
   },
   "outputs": [],
   "source": [
    "nmf_ratio_y = nmf_att(all_year_G)\n",
    "nmf_ratio_m = nmf_att(all_month_G)"
   ]
  },
  {
   "cell_type": "code",
   "execution_count": null,
   "metadata": {
    "collapsed": false
   },
   "outputs": [],
   "source": [
    "plt.plot(nmf_ratio_y,'g',label='NMF Ratio')\n",
    "\n",
    "plt.suptitle(\"Plot of NMF Ratio Change over years\", fontsize=22)\n",
    "plt.xlabel(\"Years\", fontsize=16)\n",
    "plt.ylabel(\"Attribute Value\", fontsize=16)\n",
    "plt.legend(fontsize=13, loc=2)\n",
    "plt.xticks(np.arange(len(years[1:])), years[1:],fontsize=16)\n",
    "plt.yticks(fontsize=16)"
   ]
  },
  {
   "cell_type": "code",
   "execution_count": null,
   "metadata": {
    "collapsed": false
   },
   "outputs": [],
   "source": [
    "plt.plot(nmf_ratio_m)\n",
    "plt.suptitle(\"Plot of NMF Ratio Change over months\", fontsize=22)\n",
    "plt.xlabel(\"Months\", fontsize=16)\n",
    "plt.ylabel(\"Attribute Value\", fontsize=16)\n",
    "plt.legend(fontsize=13, loc=1)\n",
    "plt.xticks(np.arange(len(months)), months,fontsize=16, rotation=90)\n",
    "plt.yticks(fontsize=16)\n",
    "plt.autoscale()"
   ]
  },
  {
   "cell_type": "code",
   "execution_count": null,
   "metadata": {
    "collapsed": true
   },
   "outputs": [],
   "source": [
    "y_avgst_all['NormNMFRatio'] =nmf_ratio_y\n",
    "stat_all['NormNMFRatio'] =nmf_ratio_m"
   ]
  },
  {
   "cell_type": "code",
   "execution_count": null,
   "metadata": {
    "collapsed": false
   },
   "outputs": [],
   "source": [
    "y_avgst_all.head()"
   ]
  },
  {
   "cell_type": "code",
   "execution_count": null,
   "metadata": {
    "collapsed": false
   },
   "outputs": [],
   "source": [
    "stat_all.head()"
   ]
  },
  {
   "cell_type": "markdown",
   "metadata": {
    "run_control": {
     "marked": false
    }
   },
   "source": [
    "## Resistance Distance\n",
    "\n",
    "The resistance distance between vertices i and j of a graph G is defined as the effective resistance between the two vertices (as when a battery is attached across them) when each graph edge is replaced by a unit resistor. This resistance distance is a metric on graphs.\n",
    "\n",
    "I calculate the resistance distance as:\n",
    "\n",
    ">M = Normalised Graph Laplacian Matrix\n",
    "\n",
    ">N = Length of M\n",
    "\n",
    ">P = Moore-Penrose Pseudo Inverse of M\n",
    "\n",
    ">D = The diagonal of Pinv\n",
    "\n",
    "$$R_d = (D \\otimes (N,1))^T + (D \\otimes (N,1))^T - P - P^T $$\n",
    "\n",
    "Here $\\otimes$ denotes the Kronecker or outer product\n",
    "\n",
    "Ref: \n",
    "\n",
    "1. Weisstein, Eric W. \"Resistance Distance.\" From MathWorld--A Wolfram Web Resource. http://mathworld.wolfram.com/ResistanceDistance.html\n",
    "\n",
    "2. Function implemented from [here](http://pygsp.readthedocs.io/en/latest/_modules/pygsp/utils.html?highlight=resistance%20distance_)"
   ]
  },
  {
   "cell_type": "code",
   "execution_count": null,
   "metadata": {
    "collapsed": false,
    "run_control": {
     "marked": false
    }
   },
   "outputs": [],
   "source": [
    "y_avgst_all.MeanResistanceDist.plot(fontsize=22, figsize=(28,10))\n",
    "plt.suptitle(\"Plot of Mean Resistance Distance over years\", fontsize=33)\n",
    "plt.xlabel(\"Years\", fontsize=25)\n",
    "plt.ylabel(\"Attribute Value\", fontsize=25)\n",
    "plt.legend(fontsize=23, loc=2)\n",
    "plt.xticks(years[1:],[i for i in years[1:]],fontsize=26)\n",
    "plt.yticks(fontsize=26)\n"
   ]
  },
  {
   "cell_type": "code",
   "execution_count": null,
   "metadata": {
    "collapsed": false,
    "run_control": {
     "marked": false
    }
   },
   "outputs": [],
   "source": [
    "stat_all.MeanResistanceDist.plot(fontsize=22, rot=90, figsize=(28,10))\n",
    "plt.suptitle(\"Plot of Mean Resistance Distance over months\", fontsize=33)\n",
    "plt.xlabel(\"Months\", fontsize=25)\n",
    "plt.ylabel(\"Attribute Value\", fontsize=25)\n",
    "plt.legend(fontsize=23, loc=3)\n",
    "plt.xticks(np.arange(len(months)), months,fontsize=26)\n",
    "plt.yticks(fontsize=26)"
   ]
  },
  {
   "cell_type": "code",
   "execution_count": null,
   "metadata": {
    "collapsed": false
   },
   "outputs": [],
   "source": [
    "stat_all.MeanResistanceDist.apply(lambda x: np.cos(x)).plot(title=\"Cosine of Mean Resistance Distance\", fontsize=18, rot =90)\n",
    "plt.xticks(np.arange(len(months)), months,fontsize=16);\n",
    "plt.xlabel(\"Months\", fontsize=18)\n",
    "plt.ylabel(\"Attribute Value\", fontsize=18)"
   ]
  },
  {
   "cell_type": "markdown",
   "metadata": {},
   "source": [
    "## Stationarity Ratio"
   ]
  },
  {
   "cell_type": "code",
   "execution_count": null,
   "metadata": {
    "collapsed": false,
    "run_control": {
     "marked": false
    }
   },
   "outputs": [],
   "source": [
    "y_avgst_all.StatRat.plot(fontsize=22, figsize=(28,10))\n",
    "plt.suptitle(\"Plot of Stationarity Ratio over years\", fontsize=33)\n",
    "plt.xlabel(\"Years\", fontsize=25)\n",
    "plt.ylabel(\"Attribute Value\", fontsize=25)\n",
    "plt.legend(fontsize=23, loc=2)\n",
    "plt.xticks(years[1:],[i for i in years[1:]],fontsize=26)\n",
    "plt.yticks(fontsize=26)\n"
   ]
  },
  {
   "cell_type": "code",
   "execution_count": null,
   "metadata": {
    "collapsed": false,
    "run_control": {
     "marked": false
    }
   },
   "outputs": [],
   "source": [
    "stat_all.StatRat.plot(fontsize=22, rot=90, figsize=(28,10))\n",
    "plt.suptitle(\"Plot of Stationarity Ratio over months\", fontsize=33)\n",
    "plt.xlabel(\"Months\", fontsize=25)\n",
    "plt.ylabel(\"Attribute Value\", fontsize=25)\n",
    "plt.legend(fontsize=23, loc=2)\n",
    "plt.xticks(np.arange(len(months)), months,fontsize=26)\n",
    "plt.yticks(fontsize=26)"
   ]
  },
  {
   "cell_type": "code",
   "execution_count": null,
   "metadata": {
    "collapsed": false
   },
   "outputs": [],
   "source": [
    "stat_all.StatRat.apply(lambda x: np.cos(x)).plot(title=\"Cosine of Stationarity Ratio over months\", fontsize=18, rot =90)\n",
    "plt.xticks(np.arange(len(months)), months,fontsize=16);\n",
    "plt.xlabel(\"Months\", fontsize=18)\n",
    "plt.ylabel(\"Attribute Value\", fontsize=18)"
   ]
  },
  {
   "cell_type": "code",
   "execution_count": null,
   "metadata": {
    "collapsed": false,
    "scrolled": false
   },
   "outputs": [],
   "source": [
    "stat_all.iloc[:,9:17].plot(fontsize=18, rot =90)\n",
    "plt.suptitle(\"Plot of Attributes over months\", fontsize=18)\n",
    "plt.xticks(np.arange(len(months)), months,fontsize=16);\n",
    "plt.legend(fontsize=14, bbox_to_anchor=(1.05, 1), loc=2, borderaxespad=0.)\n",
    "plt.xlabel(\"Months\", fontsize=18)\n",
    "plt.ylabel(\"Attribute Value\", fontsize=18)\n",
    "\n",
    "stat_all.iloc[:,18:].plot(fontsize=18, rot =90)\n",
    "plt.suptitle(\"Plot of Attributes over months\", fontsize=18)\n",
    "plt.xticks(np.arange(len(months)), months,fontsize=16);\n",
    "plt.legend(fontsize=14, bbox_to_anchor=(1.05, 1), loc=2, borderaxespad=0.)\n",
    "plt.xlabel(\"Months\", fontsize=18)\n",
    "plt.ylabel(\"Attribute Value\", fontsize=18)\n",
    "\n",
    "stat_all.iloc[:,9:17].apply(lambda x: np.cos(x)*-1).plot(fontsize=18, rot =90)\n",
    "plt.suptitle(\"Plot of Cosine of Attributes over months\", fontsize=18)\n",
    "plt.xticks(np.arange(len(months)), months,fontsize=16);\n",
    "plt.legend(fontsize=14, bbox_to_anchor=(1.05, 1), loc=2, borderaxespad=0.)\n",
    "plt.xlabel(\"Months\", fontsize=18)\n",
    "plt.ylabel(\"Attribute Value\", fontsize=18)\n",
    "\n",
    "stat_all.iloc[:,18:].apply(lambda x: np.cos(x)*-1).plot(fontsize=18, rot =90)\n",
    "plt.suptitle(\"Plot of Cosine of Attributes over months\", fontsize=18)\n",
    "plt.xticks(np.arange(len(months)), months,fontsize=16);\n",
    "plt.legend(fontsize=14, bbox_to_anchor=(1.05, 1), loc=2, borderaxespad=0.)\n",
    "plt.xlabel(\"Months\", fontsize=18)\n",
    "plt.ylabel(\"Attribute Value\", fontsize=18)\n",
    "\n",
    "stat_all.iloc[:,:6].plot(fontsize=18, rot=90)\n",
    "plt.suptitle(\"Plot of Avg of Centrality measures over months\", fontsize=18)\n",
    "plt.xlabel(\"Months\", fontsize=18)\n",
    "plt.ylabel(\"Attribute Value\", fontsize=18)\n",
    "plt.legend(fontsize=14, loc=1)\n",
    "plt.legend(fontsize=14, bbox_to_anchor=(1.05, 1), loc=2, borderaxespad=0.)\n",
    "plt.xticks(np.arange(len(months)), months,fontsize=16)\n",
    "plt.yticks(fontsize=16)\n",
    "\n",
    "stat_all.iloc[:,:6].apply(lambda x: np.cos(x)*-1).plot(fontsize=18, rot=90)\n",
    "plt.suptitle(\"Plot of Cosine of Avg of Centrality measures over months\", fontsize=18)\n",
    "plt.xlabel(\"Months\", fontsize=18)\n",
    "plt.ylabel(\"Attribute Value\", fontsize=18)\n",
    "plt.legend(fontsize=14, loc=1)\n",
    "plt.legend(fontsize=14, bbox_to_anchor=(1.05, 1), loc=2, borderaxespad=0.)\n",
    "plt.xticks(np.arange(len(months)), months,fontsize=16)\n",
    "plt.yticks(fontsize=16)\n"
   ]
  },
  {
   "cell_type": "code",
   "execution_count": null,
   "metadata": {
    "collapsed": false
   },
   "outputs": [],
   "source": [
    "y_avgst_all.iloc[:,9:].plot(fontsize=18)\n",
    "plt.suptitle(\"Plot of Attributes over years\", fontsize=18)\n",
    "plt.xticks(years[1:],[i for i in years[1:]],fontsize=26)\n",
    "plt.legend(fontsize=14, bbox_to_anchor=(1.05, 1), loc=2, borderaxespad=0.)\n",
    "plt.xlabel(\"Years\", fontsize=18)\n",
    "plt.ylabel(\"Attribute Value\", fontsize=18)\n",
    "\n",
    "y_avgst_all.iloc[:,9:].apply(lambda x: np.cos(x)*-1).plot(fontsize=18)\n",
    "plt.suptitle(\"Plot of Cosine of Attributes over years\", fontsize=18)\n",
    "plt.xticks(years[1:],[i for i in years[1:]],fontsize=26)\n",
    "plt.legend(fontsize=14, bbox_to_anchor=(1.05, 1), loc=2, borderaxespad=0.)\n",
    "plt.xlabel(\"Years\", fontsize=18)\n",
    "plt.ylabel(\"Attribute Value\", fontsize=18)\n",
    "\n",
    "y_avgst_all.iloc[:,:6].plot(fontsize=18)\n",
    "plt.suptitle(\"Plot of Avg of Centrality measures over years\", fontsize=18)\n",
    "plt.xlabel(\"Years\", fontsize=18)\n",
    "plt.ylabel(\"Attribute Value\", fontsize=18)\n",
    "plt.legend(fontsize=14, loc=1)\n",
    "plt.legend(fontsize=14, bbox_to_anchor=(1.05, 1), loc=2, borderaxespad=0.)\n",
    "plt.xticks(years[1:],[i for i in years[1:]],fontsize=26)\n",
    "plt.yticks(fontsize=16)\n",
    "\n",
    "y_avgst_all.iloc[:,:6].apply(lambda x: np.cos(x)*-1).plot(fontsize=18)\n",
    "plt.suptitle(\"Plot of Cosine of Avg of Centrality measures over years\", fontsize=18)\n",
    "plt.xlabel(\"Years\", fontsize=18)\n",
    "plt.ylabel(\"Attribute Value\", fontsize=18)\n",
    "plt.legend(fontsize=14, loc=1)\n",
    "plt.legend(fontsize=14, bbox_to_anchor=(1.05, 1), loc=2, borderaxespad=0.)\n",
    "plt.xticks(years[1:],[i for i in years[1:]],fontsize=26)\n",
    "plt.yticks(fontsize=16)"
   ]
  },
  {
   "cell_type": "markdown",
   "metadata": {
    "run_control": {
     "marked": false
    }
   },
   "source": [
    "# Frequency  Wavenumber (fk) and Radon Plots\n",
    "\n",
    "I propose utilising the FK and Radon domain plots to visualise the high dimensional attribute volume. In both FK and Radon space the signal should be seperated from outliers. I then use the indices from the FK and Radon to sort the attribute volume and find the interesting areas.\n",
    "\n",
    "The FK Plot is derived as follows:\n",
    "+ I take the attribute volume and apply a Fourier Transform to the values thus converting them to a frequency component, f\n",
    "+ I calculate the wavenumber, k as $\\frac{1}{f}$\n",
    "+ Plot the f and k components to reduce the high dimensional volume into a 2 dimensional representation. \n",
    "\n",
    "This plot allows for the identification of potential outliers or points of interest. These items can then be extracted or filtered based on the f,k values and a filtered attribute volume can be easily derived. For example we can filter k values > 15 in the plot below and look at them seperately. \n",
    "\n",
    "The Radon Plot is based on the Radon Transform. The Radon transform is the integral transform which takes a function f defined on the plane to a function Rf defined on the (two-dimensional) space of lines in the plane, whose value at a particular line is equal to the line integral of the function over that line. Strictly speaking the Radon transform is a generic mathematical procedure in which the input data in the frequency domain are decomposed into a series of events in the RADON domain. Whichever curve type is chosen will map to a point. Note this is similar to Fourier decomposition but using more complex functions than sinusoids. Once the attribes are transformed into radon space these can be visualised like the FK as before. Also I plot the reciprocal of the first component of the radon matrix in order to simluate a p-trace mapping which is defined as dt/dx of the trace. This gives better seperation of signal and noise as evens are seperated along p-values.\n",
    "\n",
    ">Ref:\n",
    "+ http://www.xsgeo.com/course/basic.htm#fk\n",
    "+ http://scikit-image.org/docs/dev/auto_examples/plot_radon_transform.html\n",
    "+ http://wiki.seg.org/wiki/Dictionary:Tau-p_mapping_(%CF%84-p)"
   ]
  },
  {
   "cell_type": "code",
   "execution_count": null,
   "metadata": {
    "collapsed": false,
    "hide_input": false,
    "hide_output": false,
    "run_control": {
     "marked": true
    }
   },
   "outputs": [],
   "source": [
    "freq,k = fk_plot(stat_all.values,'Network Attributes')"
   ]
  },
  {
   "cell_type": "code",
   "execution_count": null,
   "metadata": {
    "collapsed": false
   },
   "outputs": [],
   "source": [
    "radon_att = plot_radon(stat_all.values,'Network Attributes')"
   ]
  },
  {
   "cell_type": "code",
   "execution_count": null,
   "metadata": {
    "collapsed": false
   },
   "outputs": [],
   "source": [
    "freq,k = fk_plot(radon_att,'Radon Transformed Network Attributes')"
   ]
  },
  {
   "cell_type": "markdown",
   "metadata": {
    "run_control": {
     "marked": false
    }
   },
   "source": [
    "# Towards Global Measures"
   ]
  },
  {
   "cell_type": "markdown",
   "metadata": {},
   "source": [
    "## Subgraph Stationarity, $\\zeta$\n",
    "\n",
    "This is computed from the adjacency matrix of graphs and is done in two steps. Essentially this is comparing the common subraphs between two networks and deriving a correlation score. This is done in two steps.\n",
    "\n",
    "Step 1: Calculate Correlation, Ct between the graphs at time, t and time, t+1.\n",
    "\n",
    "$$C(t) = \\frac{A(t)\\cap A(t+1}{A(t) \\cup A(t+1)}$$\n",
    "\n",
    "Step 2: Calculate the Subgraph Stationarity, $\\zeta$\n",
    "$$\\zeta = \\frac{\\sum_{t=0}^{tmax-1} C(t,t+1)}{tmax-t0-1}$$\n",
    "\n",
    "From the Subgraph Stationariy $\\zeta$ we can calculate the amount of members that change at each time step as $$1- \\zeta$$"
   ]
  },
  {
   "cell_type": "code",
   "execution_count": null,
   "metadata": {
    "collapsed": false,
    "run_control": {
     "marked": false
    }
   },
   "outputs": [],
   "source": [
    "Ct_y = []\n",
    "for i in range(0,len(all_year_G)-1):\n",
    "    x = int(i)\n",
    "    y = x +1\n",
    "    Ct_y.append(subgraph_stat(all_year_G[x],all_year_G[y]))"
   ]
  },
  {
   "cell_type": "code",
   "execution_count": null,
   "metadata": {
    "collapsed": false,
    "run_control": {
     "marked": false
    }
   },
   "outputs": [],
   "source": [
    "Ct_m = []\n",
    "for i in range(0,len(all_month_G)-1):\n",
    "    x = int(i)\n",
    "    y = x +1\n",
    "    Ct_m.append(subgraph_stat(all_month_G[x],all_month_G[y]))"
   ]
  },
  {
   "cell_type": "code",
   "execution_count": null,
   "metadata": {
    "collapsed": false,
    "run_control": {
     "marked": false
    }
   },
   "outputs": [],
   "source": [
    "Ct_y"
   ]
  },
  {
   "cell_type": "code",
   "execution_count": null,
   "metadata": {
    "collapsed": false,
    "run_control": {
     "marked": false
    }
   },
   "outputs": [],
   "source": [
    "tmp3 = np.zeros(len(Ct_y)+1)\n",
    "tmp3[1:]=Ct_y\n",
    "tmp3"
   ]
  },
  {
   "cell_type": "code",
   "execution_count": null,
   "metadata": {
    "collapsed": false,
    "run_control": {
     "marked": false
    }
   },
   "outputs": [],
   "source": [
    "Ct_m[:5]"
   ]
  },
  {
   "cell_type": "code",
   "execution_count": null,
   "metadata": {
    "collapsed": false,
    "run_control": {
     "marked": false
    }
   },
   "outputs": [],
   "source": [
    "tmp4 = np.zeros(len(Ct_m)+1)\n",
    "tmp4[1:]=Ct_m\n",
    "tmp4"
   ]
  },
  {
   "cell_type": "code",
   "execution_count": null,
   "metadata": {
    "collapsed": false,
    "run_control": {
     "marked": false
    }
   },
   "outputs": [],
   "source": [
    "np.cumsum(tmp3)/tmp3.shape[0]"
   ]
  },
  {
   "cell_type": "code",
   "execution_count": null,
   "metadata": {
    "collapsed": false,
    "run_control": {
     "marked": false
    }
   },
   "outputs": [],
   "source": [
    "zeta_y= pd.DataFrame(tmp3)\n",
    "zeta_y = zeta_y.cumsum(axis=1)/(zeta_y.shape[0]-1)\n",
    "zeta_y =  zeta_y.T\n",
    "zeta_y.columns=years[1:]\n",
    "zeta_y =  pd.DataFrame(zeta_y).T\n",
    "zeta_y.columns=['ZetaYear']\n",
    "zeta_y.head()"
   ]
  },
  {
   "cell_type": "code",
   "execution_count": null,
   "metadata": {
    "collapsed": false,
    "run_control": {
     "marked": false
    }
   },
   "outputs": [],
   "source": [
    "zeta_m = pd.DataFrame(tmp4)\n",
    "zeta_m = zeta_m.cumsum(axis=1)/(zeta_m.shape[0]-1)\n",
    "zeta_m =  zeta_m.T\n",
    "zeta_m.columns=months\n",
    "zeta_m =  pd.DataFrame(zeta_m).T\n",
    "zeta_m.columns=['ZetaMonth']\n",
    "zeta_m.head()"
   ]
  },
  {
   "cell_type": "code",
   "execution_count": null,
   "metadata": {
    "collapsed": false,
    "run_control": {
     "marked": false
    }
   },
   "outputs": [],
   "source": [
    "zeta_y.plot(fontsize=22, figsize=(28,10))\n",
    "plt.suptitle(\"Plot of Subgraph Stationarity, $\\zeta$ over years\", fontsize=33)\n",
    "plt.xlabel(\"Years\", fontsize=25)\n",
    "plt.ylabel(\"Attribute Value\", fontsize=25)\n",
    "plt.legend(fontsize=24, bbox_to_anchor=(1.05, 1), loc=2, borderaxespad=0.)\n",
    "plt.xticks(years[1:],[i for i in years[1:]],fontsize=26)\n",
    "plt.yticks(fontsize=26)\n",
    "\n",
    "zeta_m.plot(fontsize=22, rot=90, figsize=(28,10))\n",
    "plt.suptitle(\"Plot of Subgraph Stationarity $\\zeta$ over months\", fontsize=33)\n",
    "plt.xlabel(\"Months\", fontsize=25)\n",
    "plt.ylabel(\"Attribute Value\", fontsize=25)\n",
    "plt.legend(fontsize=24, bbox_to_anchor=(1.05, 1), loc=2, borderaxespad=0.)\n",
    "plt.xticks(np.arange(len(months)), months,fontsize=26)\n",
    "plt.yticks(fontsize=26)"
   ]
  },
  {
   "cell_type": "code",
   "execution_count": null,
   "metadata": {
    "collapsed": false,
    "run_control": {
     "marked": false
    }
   },
   "outputs": [],
   "source": [
    "(1-zeta_y).plot(fontsize=22, figsize=(28,10))\n",
    "plt.suptitle(\"Plot of Proportion of subgraph members that changed, $1-\\zeta$ over years\", fontsize=33)\n",
    "plt.xlabel(\"Years\", fontsize=25)\n",
    "plt.ylabel(\"Attribute Value\", fontsize=25)\n",
    "plt.legend(fontsize=24, bbox_to_anchor=(1.05, 1), loc=2, borderaxespad=0.)\n",
    "plt.xticks(years[1:],[i for i in years[1:]],fontsize=26)\n",
    "plt.yticks(fontsize=26)\n",
    "\n",
    "(1-zeta_m).plot(fontsize=22, rot=90, figsize=(28,10))\n",
    "plt.suptitle(\"Plot of Proportion of subgraph members that changed $1-\\zeta$ over months\", fontsize=33)\n",
    "plt.xlabel(\"Months\", fontsize=25)\n",
    "plt.ylabel(\"Attribute Value\", fontsize=25)\n",
    "plt.legend(fontsize=24, bbox_to_anchor=(1.05, 1), loc=2, borderaxespad=0.)\n",
    "plt.xticks(np.arange(len(months)), months,fontsize=26)\n",
    "plt.yticks(fontsize=26)"
   ]
  },
  {
   "cell_type": "code",
   "execution_count": null,
   "metadata": {
    "collapsed": true,
    "run_control": {
     "marked": false
    }
   },
   "outputs": [],
   "source": [
    "y_avgst_all['SubgraphStat']=zeta_y\n",
    "stat_all['SubgraphStat']=zeta_m"
   ]
  },
  {
   "cell_type": "markdown",
   "metadata": {},
   "source": [
    "## Persistence & Emergence"
   ]
  },
  {
   "cell_type": "markdown",
   "metadata": {},
   "source": [
    "Persistence and Emergence are discussed in the paper below.\n",
    "\n",
    ">At the very beginning timestep where t = 1oratany timestep when both Pi,t and Pi,t−1 are zero, Emergence is equal to 0, which indicates a neutral change.When t is larger than 1 and max{Pi,t, Pi,t−1} ?= 0, it is defined to be the normalized change of Persistence at the most recent timesteps. Depending on whether the Persistence contains negative values, normalization terms are defined differently.\n",
    "\n",
    "Ref:\n",
    "\n",
    "[1]\tW. Wei and K. M. Carley, “Measuring Temporal Patterns in Dynamic Social Networks,” ACM Trans. Knowl. Discov. Data, vol. 10, no. 1, pp. 1–27, 2015."
   ]
  },
  {
   "cell_type": "code",
   "execution_count": null,
   "metadata": {
    "collapsed": false
   },
   "outputs": [],
   "source": [
    "stat_all.head()"
   ]
  },
  {
   "cell_type": "code",
   "execution_count": null,
   "metadata": {
    "collapsed": false,
    "run_control": {
     "marked": false
    }
   },
   "outputs": [],
   "source": [
    "persistence_y = y_avgst_all.mean(axis=1)/y_avgst_all.shape[0]\n",
    "persistence_m = stat_all.mean(axis=1)/stat_all.shape[0]"
   ]
  },
  {
   "cell_type": "code",
   "execution_count": null,
   "metadata": {
    "collapsed": false,
    "run_control": {
     "marked": false
    }
   },
   "outputs": [],
   "source": [
    "persistence_y.plot(fontsize=22, figsize=(28,10))\n",
    "plt.suptitle(\"Plot of Persistence over years\", fontsize=33)\n",
    "plt.xlabel(\"Years\", fontsize=25)\n",
    "plt.ylabel(\"Attribute Value\", fontsize=25)\n",
    "#plt.legend(fontsize=24, bbox_to_anchor=(1.05, 1), loc=2, borderaxespad=0.)\n",
    "plt.xticks(years[1:],[i for i in years[1:]],fontsize=26)\n",
    "plt.yticks(fontsize=26)"
   ]
  },
  {
   "cell_type": "code",
   "execution_count": null,
   "metadata": {
    "collapsed": false,
    "run_control": {
     "marked": false
    },
    "scrolled": false
   },
   "outputs": [],
   "source": [
    "persistence_m.plot(fontsize=22, rot=90, figsize=(28,10))\n",
    "plt.suptitle(\"Plot of Persistence over months\", fontsize=33)\n",
    "plt.xlabel(\"Months\", fontsize=25)\n",
    "plt.ylabel(\"Attribute Value\", fontsize=25)\n",
    "#plt.legend(fontsize=24, bbox_to_anchor=(1.05, 1), loc=2, borderaxespad=0.)\n",
    "plt.xticks(np.arange(len(months)), months,fontsize=26)\n",
    "plt.yticks(fontsize=26)"
   ]
  },
  {
   "cell_type": "code",
   "execution_count": null,
   "metadata": {
    "collapsed": false
   },
   "outputs": [],
   "source": [
    "def emergence(per):\n",
    "    tmp = np.asarray(per)\n",
    "    emerg = []\n",
    "    for i in range(len(tmp)-1):\n",
    "        x= int(i)\n",
    "        y = x +1\n",
    "        #print(tmp[y], tmp[x])\n",
    "        if tmp[y]==tmp[x]:\n",
    "            emerg.append(0)\n",
    "        elif tmp[y] < (0) or tmp[x] < 0:\n",
    "            res = (tmp[y]-tmp[x])/(abs(tmp[y])+abs(tmp[x]))\n",
    "            emerg.append(res)\n",
    "        else:\n",
    "            res = (tmp[y]-tmp[x])/max([tmp[y],tmp[x]])\n",
    "            emerg.append(res)\n",
    "    tmp2 = np.zeros(len(emerg)+1)\n",
    "    tmp2[1:] = emerg\n",
    "    \n",
    "    return tmp2\n",
    "            "
   ]
  },
  {
   "cell_type": "code",
   "execution_count": null,
   "metadata": {
    "collapsed": false
   },
   "outputs": [],
   "source": [
    "emerg_y = emergence(persistence_y)\n",
    "emerg_m = emergence(persistence_m)"
   ]
  },
  {
   "cell_type": "code",
   "execution_count": null,
   "metadata": {
    "collapsed": false,
    "run_control": {
     "marked": false
    }
   },
   "outputs": [],
   "source": [
    "emerg_y_df = pd.DataFrame(emerg_y).T\n",
    "emerg_y_df.columns=years[1:]\n",
    "emerg_y_df = emerg_y_df.T\n",
    "emerg_y_df.columns = ['EmergenceYear']\n",
    "emerg_y_df.head()"
   ]
  },
  {
   "cell_type": "code",
   "execution_count": null,
   "metadata": {
    "collapsed": false,
    "run_control": {
     "marked": false
    }
   },
   "outputs": [],
   "source": [
    "emerg_m_df = pd.DataFrame(emerg_m).T\n",
    "emerg_m_df.columns=months\n",
    "emerg_m_df = emerg_m_df.T\n",
    "emerg_m_df.columns = ['EmergenceMonth']\n",
    "emerg_m_df.head()"
   ]
  },
  {
   "cell_type": "code",
   "execution_count": null,
   "metadata": {
    "collapsed": false,
    "run_control": {
     "marked": false
    }
   },
   "outputs": [],
   "source": [
    "emerg_y_df.plot(fontsize=22, rot=90)\n",
    "plt.suptitle(\"Plot of Emergence over years\", fontsize=22)\n",
    "plt.xlabel(\"Years\", fontsize=18)\n",
    "plt.ylabel(\"Attribute Value\", fontsize=18)\n",
    "plt.legend(fontsize=14, loc=2)\n",
    "plt.xticks(years[1:],[i for i in years[1:]],fontsize=16)\n",
    "plt.yticks(fontsize=16)"
   ]
  },
  {
   "cell_type": "code",
   "execution_count": null,
   "metadata": {
    "collapsed": false,
    "run_control": {
     "marked": false
    }
   },
   "outputs": [],
   "source": [
    "emerg_m_df.plot(fontsize=22, figsize=(28,10), rot=90)\n",
    "plt.suptitle(\"Plot of Emergence over Month\", fontsize=33)\n",
    "plt.xlabel(\"Months\", fontsize=25)\n",
    "plt.ylabel(\"Emergence\", fontsize=25)\n",
    "plt.legend(fontsize=24, loc=1)\n",
    "plt.xticks(np.arange(len(months)), months,fontsize=26)\n",
    "plt.yticks(fontsize=26)"
   ]
  },
  {
   "cell_type": "markdown",
   "metadata": {},
   "source": [
    "## NRMS of Emergence"
   ]
  },
  {
   "cell_type": "markdown",
   "metadata": {},
   "source": [
    "The NRMS is a repeatability metric used in 4D seismic to quantify the likeness of two traces. \n",
    "\n",
    "It is defined as: $$NRMS = \\frac{200  RMS(a-b)}{RMS(a) + RMS(b)}$$\n",
    "\n",
    "where the RMS operator is $$RMS = \\sqrt{\\frac{\\sum_(x)^2}{N}}$$"
   ]
  },
  {
   "cell_type": "code",
   "execution_count": null,
   "metadata": {
    "collapsed": false
   },
   "outputs": [],
   "source": [
    "nrms_emerg = []\n",
    "for i in range(len(emerg_m)-1):\n",
    "    x = int(i)\n",
    "    y = x + 1\n",
    "    nrms_emerg.append(nrms(emerg_m[x],emerg_m[y]))\n"
   ]
  },
  {
   "cell_type": "code",
   "execution_count": null,
   "metadata": {
    "collapsed": false
   },
   "outputs": [],
   "source": [
    "nrms_emerg[:2]"
   ]
  },
  {
   "cell_type": "markdown",
   "metadata": {},
   "source": [
    "## NRMS of Network Attributes"
   ]
  },
  {
   "cell_type": "code",
   "execution_count": null,
   "metadata": {
    "collapsed": false
   },
   "outputs": [],
   "source": [
    "rms_netatt = stat_all.apply(rms,axis=1).values"
   ]
  },
  {
   "cell_type": "code",
   "execution_count": null,
   "metadata": {
    "collapsed": false
   },
   "outputs": [],
   "source": [
    "nrms_netatt = []\n",
    "for i in range(rms_netatt.shape[0]-1):\n",
    "    x = int(i)\n",
    "    y = x + 1\n",
    "    nrms_netatt.append(nrms(rms_netatt[x],rms_netatt[y]))"
   ]
  },
  {
   "cell_type": "code",
   "execution_count": null,
   "metadata": {
    "collapsed": false
   },
   "outputs": [],
   "source": [
    "nrms_netatt[:5]"
   ]
  },
  {
   "cell_type": "code",
   "execution_count": null,
   "metadata": {
    "collapsed": false,
    "scrolled": false
   },
   "outputs": [],
   "source": [
    "plt.suptitle(\"Comparison of Different Attribute Aggregation Measures (Month)\", fontsize=18)\n",
    "#plt.plot(emerg_m, 'k',label='EmergenceMonth')\n",
    "plt.plot(nrms_netatt, 'r',label='NRMS NetAttributes')\n",
    "plt.plot(nrms_emerg, 'b',label='NRMS Emergence')\n",
    "plt.xlabel(\"Months\", fontsize=18)\n",
    "plt.ylabel(\"Attribute Value\", fontsize=18)\n",
    "plt.legend(fontsize=14, bbox_to_anchor=(1.05, 1), loc=2, borderaxespad=0.)\n",
    "plt.xticks(np.arange(len(months)), months,fontsize=16, rotation=90)\n",
    "plt.yticks(fontsize=16)\n",
    "plt.autoscale()"
   ]
  },
  {
   "cell_type": "code",
   "execution_count": null,
   "metadata": {
    "collapsed": false
   },
   "outputs": [],
   "source": [
    "f,k = fk_plot(emerg_m,'Emergence Month')"
   ]
  },
  {
   "cell_type": "code",
   "execution_count": null,
   "metadata": {
    "collapsed": false
   },
   "outputs": [],
   "source": [
    "print(\"Min/Max Freq Index:\",np.argmax(f), np.argmin(f))\n",
    "print(\"Min/Max wavnumber Index:\",np.argmax(k), np.argmin(k))"
   ]
  },
  {
   "cell_type": "code",
   "execution_count": null,
   "metadata": {
    "collapsed": false
   },
   "outputs": [],
   "source": [
    "print(emerg_m_df.iloc[np.argmax(f)])\n",
    "print(emerg_m_df.iloc[np.argmin(f)])\n",
    "print(emerg_m_df.iloc[np.argmax(k)])\n",
    "print(emerg_m_df.iloc[np.argmin(k)])"
   ]
  },
  {
   "cell_type": "markdown",
   "metadata": {},
   "source": [
    "## Sort by freq and wavenumber indices"
   ]
  },
  {
   "cell_type": "code",
   "execution_count": null,
   "metadata": {
    "collapsed": false
   },
   "outputs": [],
   "source": [
    "emerg_m_df.iloc[np.argsort(f)].head(n=10)"
   ]
  },
  {
   "cell_type": "code",
   "execution_count": null,
   "metadata": {
    "collapsed": false
   },
   "outputs": [],
   "source": [
    "emerg_m_df.iloc[np.argsort(k)].head(n=10)"
   ]
  },
  {
   "cell_type": "code",
   "execution_count": null,
   "metadata": {
    "collapsed": false
   },
   "outputs": [],
   "source": [
    "f0,k0 = fk_plot(nrms_netatt,'NRMS Network Attributes')"
   ]
  },
  {
   "cell_type": "code",
   "execution_count": null,
   "metadata": {
    "collapsed": false
   },
   "outputs": [],
   "source": [
    "nrms_netatt_df = pd.DataFrame(nrms_netatt).T\n",
    "nrms_netatt_df.columns=months[1:]\n",
    "nrms_netatt_df = nrms_netatt_df.T\n",
    "nrms_netatt_df.columns = ['EmergenceMonth']\n",
    "nrms_netatt_df.head()"
   ]
  },
  {
   "cell_type": "code",
   "execution_count": null,
   "metadata": {
    "collapsed": false
   },
   "outputs": [],
   "source": [
    "nrms_netatt_df.iloc[np.argsort(f0)].head(n=10)"
   ]
  },
  {
   "cell_type": "code",
   "execution_count": null,
   "metadata": {
    "collapsed": false
   },
   "outputs": [],
   "source": [
    "nrms_netatt_df.iloc[np.argsort(k0)].head(n=10)"
   ]
  },
  {
   "cell_type": "code",
   "execution_count": null,
   "metadata": {
    "collapsed": false
   },
   "outputs": [],
   "source": [
    "print(nrms_netatt_df.iloc[np.argmax(f0)])\n",
    "print(nrms_netatt_df.iloc[np.argmin(f0)])\n",
    "print(nrms_netatt_df.iloc[np.argmax(k0)])\n",
    "print(nrms_netatt_df.iloc[np.argmin(k0)])"
   ]
  },
  {
   "cell_type": "code",
   "execution_count": null,
   "metadata": {
    "collapsed": false,
    "scrolled": false
   },
   "outputs": [],
   "source": [
    "f1,k1 = fk_plot(emerg_y_df.values,'Emergence Year')"
   ]
  },
  {
   "cell_type": "code",
   "execution_count": null,
   "metadata": {
    "collapsed": false
   },
   "outputs": [],
   "source": [
    "print(emerg_y_df.iloc[np.argmax(f1)])\n",
    "print(emerg_y_df.iloc[np.argmin(f1)])\n",
    "print(emerg_y_df.iloc[np.argmax(k1)])\n",
    "print(emerg_y_df.iloc[np.argmin(k1)])"
   ]
  },
  {
   "cell_type": "markdown",
   "metadata": {},
   "source": [
    "# Attribute Correlations"
   ]
  },
  {
   "cell_type": "code",
   "execution_count": null,
   "metadata": {
    "collapsed": false
   },
   "outputs": [],
   "source": [
    "stat_all['Emergence']=emerg_m_df"
   ]
  },
  {
   "cell_type": "code",
   "execution_count": null,
   "metadata": {
    "collapsed": false
   },
   "outputs": [],
   "source": [
    "corr_m = stat_all.corr()"
   ]
  },
  {
   "cell_type": "markdown",
   "metadata": {},
   "source": [
    "## Correlation Matrix"
   ]
  },
  {
   "cell_type": "code",
   "execution_count": null,
   "metadata": {
    "collapsed": false
   },
   "outputs": [],
   "source": [
    "plt.figure(figsize=(18,9))\n",
    "sns.heatmap(corr_m, cmap='PiYG',robust=True, fmt='d', linewidths=1, square=True)\n",
    "plt.title(\"Attribute Volume Correlation Matrix\", fontsize=22)\n",
    "plt.xticks(fontsize=18)\n",
    "plt.yticks(fontsize=18)"
   ]
  },
  {
   "cell_type": "markdown",
   "metadata": {},
   "source": [
    "## Correlation Dendogram"
   ]
  },
  {
   "cell_type": "code",
   "execution_count": null,
   "metadata": {
    "collapsed": false
   },
   "outputs": [],
   "source": [
    "sns.dendrogram(corr_m)\n",
    "plt.suptitle(\"Dendogram of Network Attributes\", fontsize=22)\n",
    "plt.xlabel(\"Attributes\", fontsize=20)\n",
    "plt.xticks(fontsize=18)\n",
    "plt.yticks(fontsize=18)\n",
    "plt.close()"
   ]
  },
  {
   "cell_type": "code",
   "execution_count": null,
   "metadata": {
    "collapsed": false
   },
   "outputs": [],
   "source": [
    "g = sns.dendrogram(corr_m, method='average', metric='chebyshev')\n",
    "plt.suptitle(\"Dendogram of Correlation Matrix Network Attributes\", fontsize=22)\n",
    "plt.xlabel(\"Attributes\", fontsize=20)\n",
    "plt.xticks(fontsize=18)\n",
    "plt.yticks(fontsize=18)\n"
   ]
  },
  {
   "cell_type": "code",
   "execution_count": null,
   "metadata": {
    "collapsed": false
   },
   "outputs": [],
   "source": [
    "g.reordered_ind[:5]"
   ]
  },
  {
   "cell_type": "markdown",
   "metadata": {},
   "source": [
    "## Correlation Matrix > 0.7"
   ]
  },
  {
   "cell_type": "code",
   "execution_count": null,
   "metadata": {
    "collapsed": false
   },
   "outputs": [],
   "source": [
    "threshold = 0.7\n",
    "corr_m.values[np.where(abs(corr_m.values) < threshold)] = 0"
   ]
  },
  {
   "cell_type": "code",
   "execution_count": null,
   "metadata": {
    "collapsed": false
   },
   "outputs": [],
   "source": [
    "plt.figure(figsize=(18,9))\n",
    "sns.heatmap(corr_m.iloc[g.reordered_ind, g.reordered_ind], cmap='PiYG',robust=True, fmt='d', linewidths=1, square=True)\n",
    "plt.title(\"Attribute Volume Correlation Matrix Reordered showing Correlation > 0.7\", fontsize=22)\n",
    "plt.xticks(fontsize=18)\n",
    "plt.yticks(fontsize=18)"
   ]
  },
  {
   "cell_type": "markdown",
   "metadata": {},
   "source": [
    "## Correlation Network of Attributes"
   ]
  },
  {
   "cell_type": "code",
   "execution_count": null,
   "metadata": {
    "collapsed": false
   },
   "outputs": [],
   "source": [
    "names = corr_m.index.values"
   ]
  },
  {
   "cell_type": "code",
   "execution_count": null,
   "metadata": {
    "collapsed": false
   },
   "outputs": [],
   "source": [
    "G_corr = nx.Graph(corr_m.values)\n",
    "pos=nx.fruchterman_reingold_layout(G_corr, iterations=1000, k=200)"
   ]
  },
  {
   "cell_type": "code",
   "execution_count": null,
   "metadata": {
    "collapsed": false,
    "scrolled": false
   },
   "outputs": [],
   "source": [
    "#ref: https://github.com/traims/correlation-based-networks/blob/master/cnetwork.ipynb\n",
    "components = nx.connected_components(G_corr)\n",
    "plt.figure(figsize=(26,12))\n",
    "plt.suptitle(\"Correlation Network of Attributes\", fontsize=33)\n",
    "plt.axis('off')\n",
    "for i in components:\n",
    "    component = G_corr.subgraph(i)\n",
    "    nx.draw_networkx(component, with_labels = True,node_size = [component.degree(i) * 500 + 88 for i in component.nodes()],\\\n",
    "        labels = dict([(x, names[x]) for x in component.nodes()]), pos=pos, font_size=18, alpha=0.8,\\\n",
    "                    edge_color='r', node_color='#E9CFEC', linewidths=2, fontsize=14, font_color='k')\n"
   ]
  },
  {
   "cell_type": "code",
   "execution_count": null,
   "metadata": {
    "collapsed": false
   },
   "outputs": [],
   "source": [
    "nx.write_gexf(G_corr,'corr_mat_att.gexf')"
   ]
  },
  {
   "cell_type": "markdown",
   "metadata": {},
   "source": [
    "# Feature Ranking with Gradient Boositng Regressor"
   ]
  },
  {
   "cell_type": "markdown",
   "metadata": {},
   "source": [
    "## Feature Ranking for predicting Emergence"
   ]
  },
  {
   "cell_type": "markdown",
   "metadata": {},
   "source": [
    "Here I use gradient boosting regression to predict Emergence based on all the other network attributes. Since Emergence is a gloabal measure that indicates changes in activity over time. Since the attribute volume is small I use a 50/50 test/train split for this analysis. Also this should prevent overfitting from this sample size."
   ]
  },
  {
   "cell_type": "code",
   "execution_count": null,
   "metadata": {
    "collapsed": false
   },
   "outputs": [],
   "source": [
    "stat_all.drop(['Emergence'],axis=1).apply(sc.stats.zscore, axis=1).head()"
   ]
  },
  {
   "cell_type": "code",
   "execution_count": null,
   "metadata": {
    "collapsed": false
   },
   "outputs": [],
   "source": [
    "X= stat_all.drop(['Emergence'],axis=1).apply(lambda x: sc.stats.zscore(x), axis=1)\n",
    "y = stat_all.Emergence"
   ]
  },
  {
   "cell_type": "code",
   "execution_count": null,
   "metadata": {
    "collapsed": true
   },
   "outputs": [],
   "source": [
    "X = X.astype(np.float32)\n",
    "offset = int(X.shape[0] * 0.5)\n",
    "X_train, y_train = X[:offset], y[:offset]\n",
    "X_test, y_test = X[offset:], y[offset:]"
   ]
  },
  {
   "cell_type": "code",
   "execution_count": null,
   "metadata": {
    "collapsed": true
   },
   "outputs": [],
   "source": [
    "from sklearn.metrics import mean_squared_error\n",
    "from sklearn import ensemble"
   ]
  },
  {
   "cell_type": "code",
   "execution_count": null,
   "metadata": {
    "collapsed": false
   },
   "outputs": [],
   "source": [
    "params = {'n_estimators': 10, 'max_depth': 10, 'min_samples_split': 10,\n",
    "          'learning_rate': 0.1, 'loss': 'ls'}\n",
    "clf = ensemble.GradientBoostingRegressor(**params)\n",
    "clf.fit(X_train, y_train)"
   ]
  },
  {
   "cell_type": "code",
   "execution_count": null,
   "metadata": {
    "collapsed": false
   },
   "outputs": [],
   "source": [
    "feature_importance = clf.feature_importances_\n",
    "\n",
    "# make importances relative to max importance\n",
    "plt.figure(figsize=(18,12))\n",
    "feature_importance = 100.0 * (feature_importance / feature_importance.max())\n",
    "sorted_idx = np.argsort(feature_importance)\n",
    "feature_names = list(X)\n",
    "pos = np.arange(sorted_idx.shape[0])\n",
    "plt.barh(pos, feature_importance[sorted_idx], align='center')\n",
    "plt.yticks(pos, feature_names, fontsize=19)\n",
    "plt.ylabel(\"Variable Name\", fontsize=22)\n",
    "plt.xlabel('Relative Importance', fontsize=22)\n",
    "plt.suptitle('Variable Importance in predicting Emergence of a Network', fontsize=22)\n",
    "plt.xticks(fontsize=18)"
   ]
  },
  {
   "cell_type": "code",
   "execution_count": null,
   "metadata": {
    "collapsed": false
   },
   "outputs": [],
   "source": [
    "test_score = np.zeros((params['n_estimators'],), dtype=np.float64)\n",
    "\n",
    "for i, y_pred in enumerate(clf.staged_predict(X_test)):\n",
    "    test_score[i] = clf.loss_(y_test, y_pred)\n",
    "\n",
    "plt.figure(figsize=(18, 6))\n",
    "plt.suptitle('Deviance of Gradient Boosting Regression Model',fontsize=22)\n",
    "plt.plot(np.arange(params['n_estimators']) + 1, clf.train_score_, 'b-',\n",
    "         label='Training Set Deviance')\n",
    "plt.plot(np.arange(params['n_estimators']) + 1, test_score, 'r-',\n",
    "         label='Test Set Deviance')\n",
    "plt.legend(loc=1, fontsize=16)\n",
    "plt.xlabel('Boosting Iterations')\n",
    "plt.ylabel('Deviance')\n",
    "plt.xticks(fontsize=18)\n",
    "plt.yticks(fontsize=18)"
   ]
  },
  {
   "cell_type": "code",
   "execution_count": null,
   "metadata": {
    "collapsed": false,
    "run_control": {
     "marked": false
    }
   },
   "outputs": [],
   "source": [
    "mse = mean_squared_error(y_test, clf.predict(X_test))\n",
    "print(\"Gradient Boosting MSE: \" ,mse)"
   ]
  },
  {
   "cell_type": "markdown",
   "metadata": {},
   "source": [
    "## Feature Ranking for predicting Average Degree"
   ]
  },
  {
   "cell_type": "code",
   "execution_count": null,
   "metadata": {
    "collapsed": false
   },
   "outputs": [],
   "source": [
    "X= stat_all.drop(['AvgDeg'],axis=1).apply(lambda x: sc.stats.zscore(x), axis=1)\n",
    "y = stat_all.AvgDeg"
   ]
  },
  {
   "cell_type": "code",
   "execution_count": null,
   "metadata": {
    "collapsed": true
   },
   "outputs": [],
   "source": [
    "X = X.astype(np.float32)\n",
    "offset = int(X.shape[0] * 0.5)\n",
    "X_train, y_train = X[:offset], y[:offset]\n",
    "X_test, y_test = X[offset:], y[offset:]"
   ]
  },
  {
   "cell_type": "code",
   "execution_count": null,
   "metadata": {
    "collapsed": false
   },
   "outputs": [],
   "source": [
    "params = {'n_estimators': 10, 'max_depth': 10, 'min_samples_split': 10,\n",
    "          'learning_rate': 0.1, 'loss': 'ls'}\n",
    "clf = ensemble.GradientBoostingRegressor(**params)\n",
    "clf.fit(X_train, y_train)"
   ]
  },
  {
   "cell_type": "code",
   "execution_count": null,
   "metadata": {
    "collapsed": false
   },
   "outputs": [],
   "source": [
    "feature_importance = clf.feature_importances_\n",
    "\n",
    "# make importances relative to max importance\n",
    "plt.figure(figsize=(18,12))\n",
    "feature_importance = 100.0 * (feature_importance / feature_importance.max())\n",
    "sorted_idx = np.argsort(feature_importance)\n",
    "feature_names = list(X)\n",
    "pos = np.arange(sorted_idx.shape[0])\n",
    "plt.barh(pos, feature_importance[sorted_idx], align='center')\n",
    "plt.yticks(pos, feature_names, fontsize=19)\n",
    "plt.ylabel(\"Variable Name\", fontsize=22)\n",
    "plt.xlabel('Relative Importance', fontsize=22)\n",
    "plt.suptitle('Variable Importance in predicting Avg Degree of a Network', fontsize=22)\n",
    "plt.xticks(fontsize=18)"
   ]
  },
  {
   "cell_type": "code",
   "execution_count": null,
   "metadata": {
    "collapsed": false
   },
   "outputs": [],
   "source": [
    "test_score = np.zeros((params['n_estimators'],), dtype=np.float64)\n",
    "\n",
    "for i, y_pred in enumerate(clf.staged_predict(X_test)):\n",
    "    test_score[i] = clf.loss_(y_test, y_pred)\n",
    "\n",
    "plt.figure(figsize=(18, 6))\n",
    "plt.suptitle('Deviance of Gradient Boosting Regression Model',fontsize=22)\n",
    "plt.plot(np.arange(params['n_estimators']) + 1, clf.train_score_, 'b-',\n",
    "         label='Training Set Deviance')\n",
    "plt.plot(np.arange(params['n_estimators']) + 1, test_score, 'r-',\n",
    "         label='Test Set Deviance')\n",
    "plt.legend(loc=1, fontsize=16)\n",
    "plt.xlabel('Boosting Iterations')\n",
    "plt.ylabel('Deviance')\n",
    "plt.xticks(fontsize=18)\n",
    "plt.yticks(fontsize=18)"
   ]
  },
  {
   "cell_type": "code",
   "execution_count": null,
   "metadata": {
    "collapsed": false,
    "run_control": {
     "marked": false
    }
   },
   "outputs": [],
   "source": [
    "mse = mean_squared_error(y_test, clf.predict(X_test))\n",
    "print(\"Gradient Boosting MSE: \" ,mse)"
   ]
  },
  {
   "cell_type": "markdown",
   "metadata": {},
   "source": [
    "# Signal to Noise ratio\n",
    "\n",
    "Here I calculate the signal to noise ratio of the attribute volume. This is done for each variable by: \n",
    "$$SNR = \\frac{Mean_{att}}{StdDev_{att}} $$\n",
    "\n",
    "A ratio higher than 1:1 indicates more signal than noise."
   ]
  },
  {
   "cell_type": "code",
   "execution_count": null,
   "metadata": {
    "collapsed": false
   },
   "outputs": [],
   "source": [
    "snr_att = stat_all.mean()/stat_all.std()\n",
    "snr_att[snr_att>1].count()"
   ]
  },
  {
   "cell_type": "code",
   "execution_count": null,
   "metadata": {
    "collapsed": false,
    "scrolled": false
   },
   "outputs": [],
   "source": [
    "(stat_all.mean()/stat_all.std()).plot(kind='bar', fontsize=18,figsize=(18,6))\n",
    "plt.suptitle('Signal to Noise Ratio of Attributes from Normalised Graph Laplacian', fontsize=22)\n",
    "plt.xlabel('Attributes')\n",
    "plt.ylabel('SNR')\n",
    "plt.xticks(fontsize=18)\n",
    "plt.yticks(fontsize=18)"
   ]
  },
  {
   "cell_type": "code",
   "execution_count": null,
   "metadata": {
    "collapsed": false
   },
   "outputs": [],
   "source": [
    "stat_all.std().plot(kind='bar', fontsize=18,figsize=(18,6))\n",
    "plt.suptitle('Std Dev of Attributes from Normalised Graph Laplacian', fontsize=22)\n",
    "plt.xlabel('Attributes')\n",
    "plt.ylabel('Std Dev')\n",
    "plt.xticks(fontsize=18)\n",
    "plt.yticks(fontsize=18)"
   ]
  },
  {
   "cell_type": "code",
   "execution_count": null,
   "metadata": {
    "collapsed": false
   },
   "outputs": [],
   "source": [
    "(stat_all.mean(axis=1)/stat_all.std(axis=1)).plot(kind='bar', fontsize=18,figsize=(18,6))\n",
    "plt.suptitle('Signal to Noise Ratio Monthly', fontsize=22)\n",
    "plt.xlabel('Months')\n",
    "plt.ylabel('SNR')\n",
    "plt.xticks(fontsize=18)\n",
    "plt.yticks(fontsize=18)"
   ]
  },
  {
   "cell_type": "code",
   "execution_count": null,
   "metadata": {
    "collapsed": true
   },
   "outputs": [],
   "source": [
    "stat_all.to_excel('enron_dynet_attvol.xlsx')"
   ]
  },
  {
   "cell_type": "markdown",
   "metadata": {},
   "source": [
    "# Thoughts and Observations"
   ]
  },
  {
   "cell_type": "markdown",
   "metadata": {},
   "source": [
    "In this study I have explored the analysis of dynamic networks. The key challenge was to find measures that would allow easy comparison among the networks at each time steps. This is complicated by the fact that the networks are changing over time so attempting to take some direct correlation of attributes will not work because they are of different lenghts. To remedy this situation temporal aggregation was necessary. \n",
    "\n",
    "Since we are dealing with a large number of networks over time it is not feasible to conduct visual analysis through the inspection of node link diagrams or of derived graph matrices such as the Laplacian, Modularity and Adjacency Matrices. Since these matrices are of different sizes at each timestep instead of considering the whole mateix which may consist of commonalities between timesteps it is better to focus on the differences of these matrices and the difference of the attributes derived from these matrices to characterise change. \n",
    "\n",
    "To this end I explored a range of measures such as traditional centrality and network statistical measures in addition to novel measures derived from the complex trace and from the decomposition of the Normalised Graph Laplacian. It is surprising to note that the complex trace attributes have such high correlation to centrality measures. But it encouraging that the trends highlighted by these traditional measures are reflected by these new measures and in some cases they highlight additional areas of interest which are not as clear from the traditional measures. \n",
    "\n",
    "The interesting finding is that the decomposition based attributes are not particularly strongly correlated to any of the old or new measures. This is useful because it suggests that we are able to get additional information from these measures while the correlated measures confirms what we have already seen. This could be as a result of scale but as the regression based feature ranking shows using the zscores of all attributes the decomposition based measures are particularly useful in trying to predict network statistics. The reason for doing this is to test given a sequence of dynamic networks can the properties of the network at a time, t+1 in the future be reasonably predicted. The assumption is that the wide range of measures used characterise the dynamics of the network to a sufficient extent to allow for predictive analytics. \n",
    "\n",
    "It is clear from the study that both tradtional and the new measures suggested are very useful in the meaningful characterisation and analysis of dynamic networks. With regards to global measures such as Emergence having a reasonable large set of measures makes it stable to variations in particular attributes. \n",
    "\n",
    "Also I have shown that it also possible to measure graph evolution directly by comparing the subgraphs of the networks at different time steps. The Subgraph Stationarity measure relies only on the adjacency matrices of the networks in question and gives a good control on the trend weshould expect to see from other measures. This is a very useful independent measure but its inclusion in the Emergence calculation clearly has benefits."
   ]
  },
  {
   "cell_type": "code",
   "execution_count": null,
   "metadata": {
    "collapsed": true
   },
   "outputs": [],
   "source": []
  }
 ],
 "metadata": {
  "anaconda-cloud": {},
  "kernelspec": {
   "display_name": "Python [Root]",
   "language": "python",
   "name": "Python [Root]"
  },
  "language_info": {
   "codemirror_mode": {
    "name": "ipython",
    "version": 3
   },
   "file_extension": ".py",
   "mimetype": "text/x-python",
   "name": "python",
   "nbconvert_exporter": "python",
   "pygments_lexer": "ipython3",
   "version": "3.5.2"
  },
  "latex_envs": {
   "bibliofile": "biblio.bib",
   "cite_by": "apalike",
   "current_citInitial": 1,
   "eqLabelWithNumbers": true,
   "eqNumInitial": 0
  },
  "nav_menu": {},
  "toc": {
   "navigate_menu": true,
   "number_sections": true,
   "sideBar": true,
   "threshold": 6,
   "toc_cell": true,
   "toc_section_display": "block",
   "toc_window_display": false
  },
  "toc_position": {
   "height": "100px",
   "left": "0px",
   "right": "20px",
   "top": "1px",
   "width": "263px"
  }
 },
 "nbformat": 4,
 "nbformat_minor": 0
}

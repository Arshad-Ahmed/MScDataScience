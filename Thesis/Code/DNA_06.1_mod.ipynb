{
 "cells": [
  {
   "cell_type": "markdown",
   "metadata": {
    "toc": "true"
   },
   "source": [
    "# Table of Contents\n",
    " <p><div class=\"lev1 toc-item\"><a href=\"#Attribute-Analysis\" data-toc-modified-id=\"Attribute-Analysis-1\"><span class=\"toc-item-num\">1&nbsp;&nbsp;</span>Attribute Analysis</a></div><div class=\"lev2 toc-item\"><a href=\"#Traditional-Measures\" data-toc-modified-id=\"Traditional-Measures-1.1\"><span class=\"toc-item-num\">1.1&nbsp;&nbsp;</span>Traditional Measures</a></div><div class=\"lev3 toc-item\"><a href=\"#Centrality\" data-toc-modified-id=\"Centrality-1.1.1\"><span class=\"toc-item-num\">1.1.1&nbsp;&nbsp;</span>Centrality</a></div><div class=\"lev3 toc-item\"><a href=\"#Assortativity-&amp;-Linear-Algebra\" data-toc-modified-id=\"Assortativity-&amp;-Linear-Algebra-1.1.2\"><span class=\"toc-item-num\">1.1.2&nbsp;&nbsp;</span>Assortativity &amp; Linear Algebra</a></div><div class=\"lev2 toc-item\"><a href=\"#Complex-Trace-Attributes\" data-toc-modified-id=\"Complex-Trace-Attributes-1.2\"><span class=\"toc-item-num\">1.2&nbsp;&nbsp;</span>Complex Trace Attributes</a></div><div class=\"lev2 toc-item\"><a href=\"#Matrix\" data-toc-modified-id=\"Matrix-1.3\"><span class=\"toc-item-num\">1.3&nbsp;&nbsp;</span>Matrix</a></div><div class=\"lev2 toc-item\"><a href=\"#Matrix-Decomposition\" data-toc-modified-id=\"Matrix-Decomposition-1.4\"><span class=\"toc-item-num\">1.4&nbsp;&nbsp;</span>Matrix Decomposition</a></div><div class=\"lev2 toc-item\"><a href=\"#Music-Attributes\" data-toc-modified-id=\"Music-Attributes-1.5\"><span class=\"toc-item-num\">1.5&nbsp;&nbsp;</span>Music Attributes</a></div><div class=\"lev2 toc-item\"><a href=\"#Aggregation-Measures\" data-toc-modified-id=\"Aggregation-Measures-1.6\"><span class=\"toc-item-num\">1.6&nbsp;&nbsp;</span>Aggregation Measures</a></div>"
   ]
  },
  {
   "cell_type": "code",
   "execution_count": 35,
   "metadata": {
    "collapsed": false,
    "run_control": {
     "marked": false
    }
   },
   "outputs": [],
   "source": [
    "import pandas as pd\n",
    "import numpy as np\n",
    "import networkx as nx\n",
    "import seaborn as sns\n",
    "import scipy as sc\n",
    "import random\n",
    "from scipy.signal import *\n",
    "from numpy.linalg import *\n",
    "from sklearn.decomposition import *\n",
    "from sklearn.preprocessing import *\n",
    "import librosa\n",
    "import abel\n",
    "#plotting parameters\n",
    "%matplotlib inline\n",
    "sns.set(style=\"whitegrid\", color_codes=True, context='paper')"
   ]
  },
  {
   "cell_type": "code",
   "execution_count": 36,
   "metadata": {
    "collapsed": true
   },
   "outputs": [],
   "source": [
    "from matplotlib import rcParams\n",
    "rcParams['font.family'] = 'serif'\n",
    "rcParams['font.sans-serif'] = ['CMU Serif']\n",
    "rcParams['font.weight']=['heavy']"
   ]
  },
  {
   "cell_type": "code",
   "execution_count": 37,
   "metadata": {
    "collapsed": true
   },
   "outputs": [],
   "source": [
    "import matplotlib.pyplot as plt"
   ]
  },
  {
   "cell_type": "code",
   "execution_count": 38,
   "metadata": {
    "collapsed": false
   },
   "outputs": [],
   "source": [
    "plt.rc('axes', grid=False, titlesize='large', labelsize='large',labelweight='heavy')\n",
    "plt.rc('lines', linewidth=4)\n",
    "plt.rc('figure', figsize = (12,6),titlesize='large',titleweight='black')\n",
    "plt.rc('font', weight='heavy', size=11)\n",
    "plt.rc('grid',linewidth=5)"
   ]
  },
  {
   "cell_type": "code",
   "execution_count": 39,
   "metadata": {
    "collapsed": false
   },
   "outputs": [
    {
     "data": {
      "image/png": "[encoded data removed]",
      "text/plain": [
       "<matplotlib.figure.Figure at 0x7fbe086e5828>"
      ]
     },
     "metadata": {},
     "output_type": "display_data"
    }
   ],
   "source": [
    "sns.palplot(sns.cubehelix_palette(10,hue=0.3, reverse=True, rot=-0.55, dark=0.1))"
   ]
  },
  {
   "cell_type": "code",
   "execution_count": 40,
   "metadata": {
    "collapsed": true
   },
   "outputs": [],
   "source": [
    "sns.set_palette(sns.cubehelix_palette(10, hue=0.3, reverse=True, rot=-0.55, dark=0.1))"
   ]
  },
  {
   "cell_type": "code",
   "execution_count": 41,
   "metadata": {
    "collapsed": true,
    "run_control": {
     "marked": false
    }
   },
   "outputs": [],
   "source": [
    "data = pd.read_excel(\"../Data/data 03.2.xlsx\")"
   ]
  },
  {
   "cell_type": "code",
   "execution_count": 42,
   "metadata": {
    "collapsed": false,
    "run_control": {
     "marked": false
    }
   },
   "outputs": [
    {
     "data": {
      "text/plain": [
       "[1998, 1999, 2000, 2001, 2002]"
      ]
     },
     "execution_count": 42,
     "metadata": {},
     "output_type": "execute_result"
    }
   ],
   "source": [
    "years = sorted(set(data.year))\n",
    "years = years[1:]\n",
    "years"
   ]
  },
  {
   "cell_type": "code",
   "execution_count": 43,
   "metadata": {
    "collapsed": true,
    "run_control": {
     "marked": false
    }
   },
   "outputs": [],
   "source": [
    "months = ['Nov98', 'Dec98', 'jan_99', 'feb_99', 'mar_99', 'apr_99', 'may_99', 'jun_99', 'jul_99', 'aug_99', 'sep_99', 'oct_99',\\\n",
    "          'nov_99', 'dec_99', 'jan_2k', 'feb_2k', 'mar_2k', 'apr_2k', 'may_2k', 'jun_2k', 'jul_2k', 'aug_2k', 'sep_2k', 'oct_2k',\\\n",
    "          'nov_2k', 'dec_2k', 'jan_2k1', 'feb_2k1', 'mar_2k1', 'apr_2k1', 'may_2k1', 'jun_2k1', 'jul_2k1', 'aug_2k1', 'sep_2k1',\\\n",
    "          'oct_2k1', 'nov_2k1', 'dec_2k1', 'jan_2k2', 'feb_2k2', 'mar_2k2', 'apr_2k2', 'may_2k2', 'jun_2k2']"
   ]
  },
  {
   "cell_type": "code",
   "execution_count": 44,
   "metadata": {
    "collapsed": false,
    "run_control": {
     "marked": false
    }
   },
   "outputs": [],
   "source": [
    "df_98 = data[data.year==years[0]]\n",
    "df_99 = data[data.year==years[1]]\n",
    "df_2k = data[data.year==years[2]]\n",
    "df_2k1 = data[data.year==years[3]]\n",
    "df_2k2 = data[data.year==years[4]]"
   ]
  },
  {
   "cell_type": "code",
   "execution_count": 45,
   "metadata": {
    "collapsed": true,
    "run_control": {
     "marked": false
    }
   },
   "outputs": [],
   "source": [
    "def create_graph(df):\n",
    "    tmp = df.values[:,1:3]\n",
    "    G= nx.Graph()\n",
    "    G = nx.from_edgelist(tmp)\n",
    "    \n",
    "    return G"
   ]
  },
  {
   "cell_type": "code",
   "execution_count": 46,
   "metadata": {
    "collapsed": true,
    "run_control": {
     "marked": false
    }
   },
   "outputs": [],
   "source": [
    "Gt0 = create_graph(df_98)\n",
    "Gt1 = create_graph(df_99)\n",
    "Gt2 = create_graph(df_2k)\n",
    "Gt3 = create_graph(df_2k1)\n",
    "Gt4 = create_graph(df_2k2)"
   ]
  },
  {
   "cell_type": "code",
   "execution_count": 47,
   "metadata": {
    "collapsed": true,
    "run_control": {
     "marked": false
    }
   },
   "outputs": [],
   "source": [
    "nov_98 = df_98[df_98.month==11]\n",
    "dec_98= df_98[df_98.month==12]\n",
    "\n",
    "G_nov98 = create_graph(nov_98)\n",
    "G_dec98 = create_graph(dec_98)"
   ]
  },
  {
   "cell_type": "code",
   "execution_count": 48,
   "metadata": {
    "collapsed": true,
    "run_control": {
     "marked": false
    }
   },
   "outputs": [],
   "source": [
    "jan_99=df_99[df_99.month==1]\n",
    "feb_99=df_99[df_99.month==2]\n",
    "mar_99=df_99[df_99.month==3]\n",
    "apr_99=df_99[df_99.month==4]\n",
    "may_99=df_99[df_99.month==5]\n",
    "jun_99=df_99[df_99.month==6]\n",
    "jul_99=df_99[df_99.month==7]\n",
    "aug_99=df_99[df_99.month==8]\n",
    "sep_99=df_99[df_99.month==9]\n",
    "oct_99=df_99[df_99.month==10]\n",
    "nov_99=df_99[df_99.month==11]\n",
    "dec_99=df_99[df_99.month==12]\n",
    "\n",
    "\n",
    "G_jan_99=create_graph(jan_99)\n",
    "G_feb_99=create_graph(feb_99)\n",
    "G_mar_99=create_graph(mar_99)\n",
    "G_apr_99=create_graph(apr_99)\n",
    "G_may_99=create_graph(may_99)\n",
    "G_jun_99=create_graph(jun_99)\n",
    "G_jul_99=create_graph(jul_99)\n",
    "G_aug_99=create_graph(aug_99)\n",
    "G_sep_99=create_graph(sep_99)\n",
    "G_oct_99=create_graph(oct_99)\n",
    "G_nov_99=create_graph(nov_99)\n",
    "G_dec_99=create_graph(dec_99)"
   ]
  },
  {
   "cell_type": "code",
   "execution_count": 49,
   "metadata": {
    "collapsed": true,
    "run_control": {
     "marked": false
    }
   },
   "outputs": [],
   "source": [
    "jan_2k=df_2k[df_2k.month==1]\n",
    "feb_2k=df_2k[df_2k.month==2]\n",
    "mar_2k=df_2k[df_2k.month==3]\n",
    "apr_2k=df_2k[df_2k.month==4]\n",
    "may_2k=df_2k[df_2k.month==5]\n",
    "jun_2k=df_2k[df_2k.month==6]\n",
    "jul_2k=df_2k[df_2k.month==7]\n",
    "aug_2k=df_2k[df_2k.month==8]\n",
    "sep_2k=df_2k[df_2k.month==9]\n",
    "oct_2k=df_2k[df_2k.month==10]\n",
    "nov_2k=df_2k[df_2k.month==11]\n",
    "dec_2k=df_2k[df_2k.month==12]\n",
    "\n",
    "\n",
    "G_jan_2k=create_graph(jan_2k)\n",
    "G_feb_2k=create_graph(feb_2k)\n",
    "G_mar_2k=create_graph(mar_2k)\n",
    "G_apr_2k=create_graph(apr_2k)\n",
    "G_may_2k=create_graph(may_2k)\n",
    "G_jun_2k=create_graph(jun_2k)\n",
    "G_jul_2k=create_graph(jul_2k)\n",
    "G_aug_2k=create_graph(aug_2k)\n",
    "G_sep_2k=create_graph(sep_2k)\n",
    "G_oct_2k=create_graph(oct_2k)\n",
    "G_nov_2k=create_graph(nov_2k)\n",
    "G_dec_2k=create_graph(dec_2k)"
   ]
  },
  {
   "cell_type": "code",
   "execution_count": 50,
   "metadata": {
    "collapsed": true,
    "run_control": {
     "marked": false
    }
   },
   "outputs": [],
   "source": [
    "jan_2k1=df_2k1[df_2k1.month==1]\n",
    "feb_2k1=df_2k1[df_2k1.month==2]\n",
    "mar_2k1=df_2k1[df_2k1.month==3]\n",
    "apr_2k1=df_2k1[df_2k1.month==4]\n",
    "may_2k1=df_2k1[df_2k1.month==5]\n",
    "jun_2k1=df_2k1[df_2k1.month==6]\n",
    "jul_2k1=df_2k1[df_2k1.month==7]\n",
    "aug_2k1=df_2k1[df_2k1.month==8]\n",
    "sep_2k1=df_2k1[df_2k1.month==9]\n",
    "oct_2k1=df_2k1[df_2k1.month==10]\n",
    "nov_2k1=df_2k1[df_2k1.month==11]\n",
    "dec_2k1=df_2k1[df_2k1.month==12]\n",
    "\n",
    "\n",
    "G_jan_2k1=create_graph(jan_2k1)\n",
    "G_feb_2k1=create_graph(feb_2k1)\n",
    "G_mar_2k1=create_graph(mar_2k1)\n",
    "G_apr_2k1=create_graph(apr_2k1)\n",
    "G_may_2k1=create_graph(may_2k1)\n",
    "G_jun_2k1=create_graph(jun_2k1)\n",
    "G_jul_2k1=create_graph(jul_2k1)\n",
    "G_aug_2k1=create_graph(aug_2k1)\n",
    "G_sep_2k1=create_graph(sep_2k1)\n",
    "G_oct_2k1=create_graph(oct_2k1)\n",
    "G_nov_2k1=create_graph(nov_2k1)\n",
    "G_dec_2k1=create_graph(dec_2k1)"
   ]
  },
  {
   "cell_type": "code",
   "execution_count": 51,
   "metadata": {
    "collapsed": true,
    "run_control": {
     "marked": false
    }
   },
   "outputs": [],
   "source": [
    "jan_2k2=df_2k2[df_2k2.month==1]\n",
    "feb_2k2=df_2k2[df_2k2.month==2]\n",
    "mar_2k2=df_2k2[df_2k2.month==3]\n",
    "apr_2k2=df_2k2[df_2k2.month==4]\n",
    "may_2k2=df_2k2[df_2k2.month==5]\n",
    "jun_2k2=df_2k2[df_2k2.month==6]\n",
    "jul_2k2=df_2k2[df_2k2.month==7]\n",
    "aug_2k2=df_2k2[df_2k2.month==8]\n",
    "sep_2k2=df_2k2[df_2k2.month==9]\n",
    "oct_2k2=df_2k2[df_2k2.month==10]\n",
    "nov_2k2=df_2k2[df_2k2.month==11]\n",
    "dec_2k2=df_2k2[df_2k2.month==12]\n",
    "\n",
    "\n",
    "G_jan_2k2=create_graph(jan_2k2)\n",
    "G_feb_2k2=create_graph(feb_2k2)\n",
    "G_mar_2k2=create_graph(mar_2k2)\n",
    "G_apr_2k2=create_graph(apr_2k2)\n",
    "G_may_2k2=create_graph(may_2k2)\n",
    "G_jun_2k2=create_graph(jun_2k2)\n",
    "G_jul_2k2=create_graph(jul_2k2)\n",
    "G_aug_2k2=create_graph(aug_2k2)\n",
    "G_sep_2k2=create_graph(sep_2k2)\n",
    "G_oct_2k2=create_graph(oct_2k2)\n",
    "G_nov_2k2=create_graph(nov_2k2)\n",
    "G_dec_2k2=create_graph(dec_2k2)"
   ]
  },
  {
   "cell_type": "code",
   "execution_count": 52,
   "metadata": {
    "collapsed": true,
    "run_control": {
     "marked": false
    }
   },
   "outputs": [],
   "source": [
    "all_year_G  =tuple([Gt0,Gt1,Gt2,Gt3,Gt4])"
   ]
  },
  {
   "cell_type": "code",
   "execution_count": 53,
   "metadata": {
    "collapsed": true,
    "run_control": {
     "marked": false
    }
   },
   "outputs": [],
   "source": [
    "all_month_G = tuple([G_nov98,G_dec98,G_jan_99,G_feb_99,G_mar_99,G_apr_99,G_may_99,G_jun_99,G_jul_99,G_aug_99,G_sep_99,G_oct_99,\\\n",
    "              G_nov_99,G_dec_99,G_jan_2k,G_feb_2k,G_mar_2k,G_apr_2k,G_may_2k,G_jun_2k,G_jul_2k,G_aug_2k,G_sep_2k,\\\n",
    "              G_oct_2k,G_nov_2k,G_dec_2k,G_jan_2k1,G_feb_2k1,G_mar_2k1,G_apr_2k1,G_may_2k1,G_jun_2k1,G_jul_2k1,\\\n",
    "              G_aug_2k1,G_sep_2k1,G_oct_2k1,G_nov_2k1,G_dec_2k1,G_jan_2k2,G_feb_2k2,G_mar_2k2,G_apr_2k2,G_may_2k2,G_jun_2k2])"
   ]
  },
  {
   "cell_type": "markdown",
   "metadata": {
    "run_control": {
     "marked": false
    }
   },
   "source": [
    "# Attribute Analysis\n",
    "\n",
    "## Traditional Measures\n",
    "\n",
    "### Centrality\n",
    "- Degree\n",
    "- Betweeness\n",
    "- Closeness\n",
    "- Katz\n",
    "- Load\n",
    "\n",
    "### Assortativity & Linear Algebra\n",
    "- Density\n",
    "- Average Clustering Coefficient\n",
    "- Algebraic Connectivity\n",
    "\n",
    "## Complex Trace Attributes\n",
    "\n",
    "- Instantaneous Amplitude\n",
    "- Instantaneous Frequency\n",
    "- Instantaneous Phase\n",
    "- Derivative of Amplitude\n",
    "- Second Derivative of Amplitude\n",
    "- Power\n",
    "- Cosine of Instantaneous Phase\n",
    "- Amplitude weighted Frequency\n",
    "- Amplitude weighted Phase\n",
    "- Power Spectral Density\n",
    "\n",
    "## Matrix\n",
    "\n",
    "- Resistance Distance\n",
    "- Stationarity Ratio\n",
    "- Subgraph Stationarity\n",
    "- Curvature\n",
    "- Norm of Abel Transform\n",
    "\n",
    "## Matrix Decomposition\n",
    "- KLPCA Ratio Change\n",
    "- Norm NMF Ratio Change\n",
    "\n",
    "## Music Attributes\n",
    "- Zero Crossing Rate\n",
    "- Spectral Centroid\n",
    "\n",
    "## Aggregation Measures\n",
    "- Persistence\n",
    "- Emergence\n",
    "- NRMS of Attributes\n",
    "\n"
   ]
  },
  {
   "cell_type": "code",
   "execution_count": 54,
   "metadata": {
    "collapsed": true,
    "run_control": {
     "marked": false
    }
   },
   "outputs": [],
   "source": [
    "def calc_seisatt(net):\n",
    "    M = nx.modularity_matrix(net)\n",
    "    Ht = hilbert(M)  \n",
    "    rHt = np.real(Ht)\n",
    "    iHt = np.imag(Ht)\n",
    "   \n",
    "    #Basic attributes IA, IP, IF\n",
    "    IA = np.real(np.nan_to_num(np.sqrt(np.dot(rHt,rHt)+np.dot(iHt,iHt))))\n",
    "    IP = np.real(np.nan_to_num(np.arctan(iHt/rHt)))\n",
    "    IF,_ = np.real(np.nan_to_num(np.asarray(np.gradient(IP))))\n",
    "    P = np.square(IA)\n",
    "    \n",
    "    #Derivatives \n",
    "    dIA,_ = np.nan_to_num(np.asarray(np.gradient(IA)))\n",
    "    d2IA,_ = np.nan_to_num(np.asarray(np.gradient(dIA)))\n",
    "    IAcc,_ =np.nan_to_num(np.asarray(np.gradient(IF)))\n",
    "   \n",
    "    #Derived Attributes\n",
    "    cosIP = np.cos(IP)\n",
    "    IA_weit_IF = IA * IF\n",
    "    IA_weit_IP = IA*IP\n",
    "\n",
    "    return [IA,IP,IF,P, dIA,d2IA, IAcc,cosIP,IA_weit_IF,IA_weit_IP]"
   ]
  },
  {
   "cell_type": "code",
   "execution_count": 55,
   "metadata": {
    "collapsed": true,
    "run_control": {
     "marked": false
    }
   },
   "outputs": [],
   "source": [
    "def stationarity_ratio(G):\n",
    "    #stationarity ratio with laplian\n",
    "    L = nx.modularity_matrix(G)\n",
    "    U = eigvals(L)\n",
    "    C =np.cov(L)\n",
    "    CF = np.dot(L,np.dot(np.dot(U.T,C),U))\n",
    "    r = np.linalg.norm(np.diag(CF))/np.linalg.norm(CF)\n",
    "       \n",
    "    return r"
   ]
  },
  {
   "cell_type": "code",
   "execution_count": 56,
   "metadata": {
    "collapsed": true,
    "run_control": {
     "marked": false
    }
   },
   "outputs": [],
   "source": [
    "#cite:`klein1993resistance`\n",
    "def resistance_distance(net):  \n",
    "    M = nx.modularity_matrix(net)\n",
    "    pseudo = pinv(M)\n",
    "    N = M.shape[0]\n",
    "    d = np.diag(pseudo)\n",
    "    rd  = np.kron(d,np.ones((N,1))).T+np.kron(d,np.ones((N,1))).T - pseudo - pseudo.T\n",
    "    \n",
    "    return rd.mean()"
   ]
  },
  {
   "cell_type": "code",
   "execution_count": 57,
   "metadata": {
    "collapsed": true,
    "run_control": {
     "marked": false
    }
   },
   "outputs": [],
   "source": [
    "def curvature(net):\n",
    "    from skimage.feature import hessian_matrix, hessian_matrix_det, hessian_matrix_eigvals\n",
    "    M = nx.modularity_matrix(net)\n",
    "    M = np.float64(M)\n",
    "    fx, fy = np.gradient(M)\n",
    "    Hxx, Hxy, Hyy = hessian_matrix(M)\n",
    "    K = np.divide((np.dot(Hxx,Hxy)-np.dot(Hxy,Hxy)),\\\n",
    "                  (1+np.dot(fx,fx)+np.dot(fy,fy)))   \n",
    "    He1,_ = hessian_matrix_eigvals(Hxx,Hxy,Hyy)\n",
    "    mean_curv = np.trace(He1)\n",
    "   \n",
    "    return mean_curv"
   ]
  },
  {
   "cell_type": "code",
   "execution_count": 58,
   "metadata": {
    "collapsed": true,
    "run_control": {
     "marked": false
    }
   },
   "outputs": [],
   "source": [
    "def kpca_ratio(net):\n",
    "    from sklearn.decomposition import KernelPCA\n",
    "    kpca = KernelPCA(n_components=3,kernel='rbf')\n",
    "    m = nx.modularity_matrix(net)\n",
    "    X_kpca = kpca.fit_transform(m)\n",
    "    pc1 = X_kpca[:,0]\n",
    "    pc2 = X_kpca[:,1]\n",
    "    pc3 = X_kpca[:,2]\n",
    "    kpca_rat = norm(pc1-pc3/(pc1-pc2)) \n",
    "    return kpca_rat"
   ]
  },
  {
   "cell_type": "code",
   "execution_count": 59,
   "metadata": {
    "collapsed": true,
    "run_control": {
     "marked": false
    }
   },
   "outputs": [],
   "source": [
    "def kpca_att(net):\n",
    "    kpca_chg = []\n",
    "    for i in range(len(net)-1):\n",
    "        x = int(i)\n",
    "        y = 1+x\n",
    "        kpcar1= kpca_ratio(net[x])\n",
    "        kpcar2= kpca_ratio(net[y])\n",
    "        kpca_chg.append(np.divide(kpcar2,kpcar1))\n",
    "    kpca_chgpad = np.zeros(len(kpca_chg)+1);\n",
    "    kpca_chgpad[1:] = kpca_chg   \n",
    "    \n",
    "    return kpca_chgpad"
   ]
  },
  {
   "cell_type": "code",
   "execution_count": 60,
   "metadata": {
    "collapsed": true,
    "run_control": {
     "marked": false
    }
   },
   "outputs": [],
   "source": [
    "def nmf_att(net):\n",
    "    nmf_chg = []\n",
    "    \n",
    "    nmf = NMF(init='nndsvda',solver='cd', random_state=0, l1_ratio=1)\n",
    "    for i in range(len(net)-1):\n",
    "        x = int(i)\n",
    "        y = 1+x\n",
    "        m1= abs(nx.modularity_matrix(net[x]))\n",
    "        m2= abs(nx.modularity_matrix(net[y]))\n",
    "        nmf1 = norm(nmf.fit_transform(m1))\n",
    "        nmf2 = norm(nmf.fit_transform(m2))\n",
    "        nmf_chg.append(np.divide(nmf2,nmf1))\n",
    "    nmf_chgpad = np.zeros(len(nmf_chg)+1);\n",
    "    nmf_chgpad[1:] = nmf_chg   \n",
    "    \n",
    "    return nmf_chgpad"
   ]
  },
  {
   "cell_type": "code",
   "execution_count": 61,
   "metadata": {
    "collapsed": true,
    "run_control": {
     "marked": false
    }
   },
   "outputs": [],
   "source": [
    "def pad_shape(x,ref,offset=0):\n",
    "    result = np.zeros_like(ref)\n",
    "    result[0:x.shape[0]+0,0:x.shape[1]+0] = x\n",
    "    \n",
    "    return result\n",
    "\n",
    "def subgraph_stat(net1,net2):\n",
    "    net1_int_net2 = net1.copy()\n",
    "    net1_int_net2.remove_nodes_from(n for n in net1 if n not in net2)\n",
    "    net1_u_net2 = nx.disjoint_union(net1, net2)\n",
    "    int_adjmat = nx.modularity_matrix(net1_int_net2)\n",
    "    uni_adjmat = nx.modularity_matrix(net1_u_net2)\n",
    "    int_adjmat_pad = pad_shape(int_adjmat,uni_adjmat)\n",
    "    \n",
    "    Ct = np.divide(norm(int_adjmat_pad),norm(uni_adjmat))\n",
    "    \n",
    "    return Ct\n",
    "\n",
    "def zeta(n):\n",
    "       \n",
    "    Ct_m = []\n",
    "    for i in range(len(n)-1):\n",
    "        x = int(i)\n",
    "        y = x +1\n",
    "        Ct_m.append(subgraph_stat(n[x],n[y]))\n",
    "    Ct_m_pad = np.zeros(len(Ct_m)+1);\n",
    "    Ct_m_pad[1:] = Ct_m\n",
    "    return Ct_m_pad"
   ]
  },
  {
   "cell_type": "code",
   "execution_count": 62,
   "metadata": {
    "collapsed": true
   },
   "outputs": [],
   "source": [
    "def music_att(n):\n",
    "    #music attributes\n",
    "    f = sc.fftpack.rfft(nx.modularity_matrix(n)).mean(axis=1)\n",
    "    zcr = librosa.feature.zero_crossing_rate(f)[0,0]\n",
    "    spc = librosa.feature.spectral_centroid(f)[0,0]\n",
    "    \n",
    "    return [zcr,spc]"
   ]
  },
  {
   "cell_type": "code",
   "execution_count": 63,
   "metadata": {
    "collapsed": false
   },
   "outputs": [],
   "source": [
    "def norm_fabel(x):\n",
    "    import abel\n",
    "    fabel_att =[]\n",
    "    for n in x:\n",
    "        tmp = nx.modularity_matrix(n)\n",
    "        tmp2 = sc.fftpack.fft2(tmp)\n",
    "        fabel2 = abel.Transform(tmp2, direction='forward', method='direct').transform\n",
    "        mag = np.sqrt(np.square(np.real(fabel2)) + np.square(np.imag(fabel2)))\n",
    "        fabel_att.append(norm(mag))\n",
    "        \n",
    "    return np.log10(fabel_att)"
   ]
  },
  {
   "cell_type": "code",
   "execution_count": 79,
   "metadata": {
    "collapsed": false
   },
   "outputs": [],
   "source": [
    "def cal_avg_atts(x):\n",
    "    \n",
    "    #define attributes placeholders here\n",
    "    deg_y = []\n",
    "    bet_y = []\n",
    "    clo_y = []\n",
    "    load_y = []\n",
    "    eig_y = []\n",
    "    katz_y = []\n",
    "    den_y = []\n",
    "    algc_y = []\n",
    "    cluscof_y = []\n",
    "    IA_y = []\n",
    "    IP_y = [] \n",
    "    IF_y = []\n",
    "    P_y = []\n",
    "    dIA_y = []\n",
    "    d2IA_y =[] \n",
    "    IAcc_y = []\n",
    "    cosIP_y = []\n",
    "    IA_weit_IF_y = []\n",
    "    IA_weit_IP_y = []\n",
    "    psd_y = []    \n",
    "    rd_y = []    \n",
    "    zcr_y = []\n",
    "    spc_y = []\n",
    "    statr_y = []   \n",
    "    meank_y = []\n",
    "    \n",
    "    #matrix decompostion attributes\n",
    "    zeta_y = zeta(x)\n",
    "    nmf_ratio_y = nmf_att(x)\n",
    "    kpca_chg_y= kpca_att(x)\n",
    "    prop_members_chg_1_zeta = 1-zeta_y\n",
    "    fabel = norm_fabel(x)\n",
    "    \n",
    "    for n in x:\n",
    "        deg = np.mean(sorted(set(nx.degree_centrality(n).values())))\n",
    "        bet = np.mean(sorted(set(nx.betweenness_centrality(n).values())))\n",
    "        clo = np.mean(sorted(set(nx.closeness_centrality(n).values())))\n",
    "        katz = np.mean(sorted(set(nx.katz_centrality_numpy(n).values())))\n",
    "        eig = np.mean(sorted(set(nx.eigenvector_centrality_numpy(n).values())))\n",
    "        load = np.mean(sorted(set(nx.degree_centrality(n).values())))\n",
    "        den = nx.density(n)\n",
    "        algc = nx.algebraic_connectivity(n)\n",
    "        clustcof = nx.average_clustering(n)\n",
    "\n",
    "        #all network metrics\n",
    "        deg_y.append(deg), bet_y.append(bet), clo_y.append(clo), load_y.append(load), katz_y.append(katz), \\\n",
    "        den_y.append(den),  algc_y.append(algc), cluscof_y.append(clustcof), eig_y.append(eig)\n",
    "\n",
    "        #complex trace attributes\n",
    "        IA,IP,IF,P, dIA,d2IA, IAcc,cosIP,IA_weit_IF,IA_weit_IP = calc_seisatt(n)\n",
    "        IA_y.append(IA.mean())\n",
    "        IP_y.append(IP.mean())\n",
    "        IF_y.append(IF.mean())\n",
    "        P_y.append(P.mean())\n",
    "        dIA_y.append(dIA.mean())\n",
    "        d2IA_y.append(d2IA.mean()) \n",
    "        IAcc_y.append(IAcc.mean())\n",
    "        cosIP_y.append(cosIP.mean())\n",
    "        IA_weit_IF_y.append(IA_weit_IF.mean())\n",
    "        IA_weit_IP_y.append(IA_weit_IP.mean())\n",
    "\n",
    "        psd, _ = plt.psd(nx.modularity_matrix(n));\n",
    "        plt.close()\n",
    "        psd_y.append(psd.mean())\n",
    "\n",
    "        zcr, spc = music_att(n)\n",
    "        zcr_y.append(zcr)\n",
    "        spc_y.append(np.log10(spc))\n",
    "\n",
    "        #matrix attributes\n",
    "        rdm = resistance_distance(n)\n",
    "        rd_y.append(rdm)\n",
    "\n",
    "        statrat = stationarity_ratio(n)\n",
    "        statr_y.append(statrat)\n",
    "\n",
    "        meank = curvature(n)\n",
    "        meank_y.append(meank)\n",
    "        \n",
    "\n",
    "\n",
    "    colnames = ['AvgDeg','AvgBet','AvgClo','AvgLoad','AvgKatz','AvgDensity','AvgAlgCon','AvgClustCoff',''\\\n",
    "               'AvgEig' ,'InstAmp','InstPhase','InstFreq','Power','dInstAmp','d2InstAmp','InstAcc','cosInstPhase',\\\n",
    "               'A_wt_IF','A_wt_IP','PowerSpecDen','ResDist','ZeroCrossRate','LogSpecCentroid','StatRat','MeanCurv']\n",
    "\n",
    "    attvol_y = pd.DataFrame([deg_y,bet_y, clo_y ,load_y ,katz_y ,den_y, algc_y ,cluscof_y,eig_y ,IA_y ,IP_y , IF_y,\\\n",
    "                 P_y ,dIA_y ,d2IA_y,IAcc_y ,cosIP_y ,IA_weit_IF_y ,IA_weit_IP_y ,psd_y ,rd_y, zcr_y ,spc_y,\\\n",
    "                 statr_y , meank_y]).T\n",
    "\n",
    "    attvol_y.columns = colnames\n",
    "    attvol_y['SubgraphStat']=zeta_y\n",
    "    attvol_y['1-Zeta'] = prop_members_chg_1_zeta\n",
    "    attvol_y['LogKPCARatioChg'] = np.log10(kpca_chg_y)\n",
    "    attvol_y.LogKPCARatioChg[0]=0\n",
    "    attvol_y['NormNMFRatioChg']= nmf_ratio_y\n",
    "    attvol_y['NormFAbel'] = fabel\n",
    "    attvol_y.fillna(0, inplace=True)\n",
    "    #attvol_y_sc = attvol_y.apply(lambda x: minmax_scale(x, feature_range=[-1,1]))\n",
    "\n",
    "    return attvol_y\n"
   ]
  },
  {
   "cell_type": "code",
   "execution_count": 80,
   "metadata": {
    "collapsed": false
   },
   "outputs": [
    {
     "name": "stderr",
     "output_type": "stream",
     "text": [
      "/home/arshad/anaconda3/lib/python3.5/site-packages/abel/transform.py:341: ComplexWarning: Casting complex values to real discards the imaginary part\n",
      "  self.IM = self.IM.astype('float64')\n"
     ]
    }
   ],
   "source": [
    "attvol_m = cal_avg_atts(all_month_G)"
   ]
  },
  {
   "cell_type": "code",
   "execution_count": 81,
   "metadata": {
    "collapsed": false
   },
   "outputs": [
    {
     "data": {
      "text/html": [
       "<div>\n",
       "<table border=\"1\" class=\"dataframe\">\n",
       "  <thead>\n",
       "    <tr style=\"text-align: right;\">\n",
       "      <th></th>\n",
       "      <th>AvgDeg</th>\n",
       "      <th>AvgBet</th>\n",
       "      <th>AvgClo</th>\n",
       "      <th>AvgLoad</th>\n",
       "      <th>AvgKatz</th>\n",
       "      <th>AvgDensity</th>\n",
       "      <th>AvgAlgCon</th>\n",
       "      <th>AvgClustCoff</th>\n",
       "      <th>AvgEig</th>\n",
       "      <th>InstAmp</th>\n",
       "      <th>...</th>\n",
       "      <th>ResDist</th>\n",
       "      <th>ZeroCrossRate</th>\n",
       "      <th>LogSpecCentroid</th>\n",
       "      <th>StatRat</th>\n",
       "      <th>MeanCurv</th>\n",
       "      <th>SubgraphStat</th>\n",
       "      <th>1-Zeta</th>\n",
       "      <th>LogKPCARatioChg</th>\n",
       "      <th>NormNMFRatioChg</th>\n",
       "      <th>NormFAbel</th>\n",
       "    </tr>\n",
       "  </thead>\n",
       "  <tbody>\n",
       "    <tr>\n",
       "      <th>0</th>\n",
       "      <td>0.571429</td>\n",
       "      <td>0.500000</td>\n",
       "      <td>0.769231</td>\n",
       "      <td>0.571429</td>\n",
       "      <td>0.370869</td>\n",
       "      <td>0.250000</td>\n",
       "      <td>1.0</td>\n",
       "      <td>0.000000</td>\n",
       "      <td>0.355230</td>\n",
       "      <td>0.467707</td>\n",
       "      <td>...</td>\n",
       "      <td>-0.062500</td>\n",
       "      <td>0.000000</td>\n",
       "      <td>-inf</td>\n",
       "      <td>0.876275</td>\n",
       "      <td>1.192107</td>\n",
       "      <td>0.000000</td>\n",
       "      <td>1.000000</td>\n",
       "      <td>0.000000</td>\n",
       "      <td>0.000000</td>\n",
       "      <td>1.844124</td>\n",
       "    </tr>\n",
       "    <tr>\n",
       "      <th>1</th>\n",
       "      <td>0.400000</td>\n",
       "      <td>0.318519</td>\n",
       "      <td>0.667527</td>\n",
       "      <td>0.400000</td>\n",
       "      <td>0.312713</td>\n",
       "      <td>0.218182</td>\n",
       "      <td>1.0</td>\n",
       "      <td>0.246465</td>\n",
       "      <td>0.297522</td>\n",
       "      <td>0.400987</td>\n",
       "      <td>...</td>\n",
       "      <td>0.018890</td>\n",
       "      <td>0.001953</td>\n",
       "      <td>3.737523</td>\n",
       "      <td>0.832329</td>\n",
       "      <td>1.752823</td>\n",
       "      <td>0.558449</td>\n",
       "      <td>0.441551</td>\n",
       "      <td>0.324141</td>\n",
       "      <td>1.149458</td>\n",
       "      <td>2.280478</td>\n",
       "    </tr>\n",
       "    <tr>\n",
       "      <th>2</th>\n",
       "      <td>0.541667</td>\n",
       "      <td>0.500000</td>\n",
       "      <td>0.760870</td>\n",
       "      <td>0.541667</td>\n",
       "      <td>0.375000</td>\n",
       "      <td>0.153846</td>\n",
       "      <td>1.0</td>\n",
       "      <td>0.000000</td>\n",
       "      <td>0.275979</td>\n",
       "      <td>0.480384</td>\n",
       "      <td>...</td>\n",
       "      <td>-0.023669</td>\n",
       "      <td>0.000977</td>\n",
       "      <td>3.780607</td>\n",
       "      <td>0.923344</td>\n",
       "      <td>1.981761</td>\n",
       "      <td>0.603514</td>\n",
       "      <td>0.396486</td>\n",
       "      <td>0.000000</td>\n",
       "      <td>1.215008</td>\n",
       "      <td>2.227368</td>\n",
       "    </tr>\n",
       "    <tr>\n",
       "      <th>3</th>\n",
       "      <td>0.750000</td>\n",
       "      <td>0.500000</td>\n",
       "      <td>0.833333</td>\n",
       "      <td>0.750000</td>\n",
       "      <td>0.585335</td>\n",
       "      <td>0.666667</td>\n",
       "      <td>1.0</td>\n",
       "      <td>0.000000</td>\n",
       "      <td>0.603553</td>\n",
       "      <td>0.408248</td>\n",
       "      <td>...</td>\n",
       "      <td>-0.444444</td>\n",
       "      <td>0.000977</td>\n",
       "      <td>3.917346</td>\n",
       "      <td>0.707107</td>\n",
       "      <td>0.129621</td>\n",
       "      <td>0.236194</td>\n",
       "      <td>0.763806</td>\n",
       "      <td>0.000000</td>\n",
       "      <td>0.441547</td>\n",
       "      <td>0.734859</td>\n",
       "    </tr>\n",
       "    <tr>\n",
       "      <th>4</th>\n",
       "      <td>0.600000</td>\n",
       "      <td>0.500000</td>\n",
       "      <td>0.777778</td>\n",
       "      <td>0.600000</td>\n",
       "      <td>0.416526</td>\n",
       "      <td>0.333333</td>\n",
       "      <td>1.0</td>\n",
       "      <td>0.000000</td>\n",
       "      <td>0.413948</td>\n",
       "      <td>0.456435</td>\n",
       "      <td>...</td>\n",
       "      <td>-0.111111</td>\n",
       "      <td>0.000977</td>\n",
       "      <td>3.818538</td>\n",
       "      <td>0.836660</td>\n",
       "      <td>0.809556</td>\n",
       "      <td>0.427239</td>\n",
       "      <td>0.572761</td>\n",
       "      <td>0.094457</td>\n",
       "      <td>1.330967</td>\n",
       "      <td>1.635269</td>\n",
       "    </tr>\n",
       "  </tbody>\n",
       "</table>\n",
       "<p>5 rows × 30 columns</p>\n",
       "</div>"
      ],
      "text/plain": [
       "     AvgDeg    AvgBet    AvgClo   AvgLoad   AvgKatz  AvgDensity  AvgAlgCon  \\\n",
       "0  0.571429  0.500000  0.769231  0.571429  0.370869    0.250000        1.0   \n",
       "1  0.400000  0.318519  0.667527  0.400000  0.312713    0.218182        1.0   \n",
       "2  0.541667  0.500000  0.760870  0.541667  0.375000    0.153846        1.0   \n",
       "3  0.750000  0.500000  0.833333  0.750000  0.585335    0.666667        1.0   \n",
       "4  0.600000  0.500000  0.777778  0.600000  0.416526    0.333333        1.0   \n",
       "\n",
       "   AvgClustCoff    AvgEig   InstAmp    ...       ResDist  ZeroCrossRate  \\\n",
       "0      0.000000  0.355230  0.467707    ...     -0.062500       0.000000   \n",
       "1      0.246465  0.297522  0.400987    ...      0.018890       0.001953   \n",
       "2      0.000000  0.275979  0.480384    ...     -0.023669       0.000977   \n",
       "3      0.000000  0.603553  0.408248    ...     -0.444444       0.000977   \n",
       "4      0.000000  0.413948  0.456435    ...     -0.111111       0.000977   \n",
       "\n",
       "   LogSpecCentroid   StatRat  MeanCurv  SubgraphStat    1-Zeta  \\\n",
       "0             -inf  0.876275  1.192107      0.000000  1.000000   \n",
       "1         3.737523  0.832329  1.752823      0.558449  0.441551   \n",
       "2         3.780607  0.923344  1.981761      0.603514  0.396486   \n",
       "3         3.917346  0.707107  0.129621      0.236194  0.763806   \n",
       "4         3.818538  0.836660  0.809556      0.427239  0.572761   \n",
       "\n",
       "   LogKPCARatioChg  NormNMFRatioChg  NormFAbel  \n",
       "0         0.000000         0.000000   1.844124  \n",
       "1         0.324141         1.149458   2.280478  \n",
       "2         0.000000         1.215008   2.227368  \n",
       "3         0.000000         0.441547   0.734859  \n",
       "4         0.094457         1.330967   1.635269  \n",
       "\n",
       "[5 rows x 30 columns]"
      ]
     },
     "execution_count": 81,
     "metadata": {},
     "output_type": "execute_result"
    }
   ],
   "source": [
    "attvol_m.head()"
   ]
  },
  {
   "cell_type": "code",
   "execution_count": 82,
   "metadata": {
    "collapsed": true
   },
   "outputs": [],
   "source": [
    "attvol_m.LogSpecCentroid[0]=0"
   ]
  },
  {
   "cell_type": "code",
   "execution_count": 84,
   "metadata": {
    "collapsed": false
   },
   "outputs": [],
   "source": [
    "attvol_m_sc = attvol_m.apply(lambda x: minmax_scale(x, feature_range=[-1,1]))"
   ]
  },
  {
   "cell_type": "code",
   "execution_count": 90,
   "metadata": {
    "collapsed": true
   },
   "outputs": [],
   "source": [
    "persistence_m = attvol_m_sc.mean(axis=1)/(attvol_m.shape[0]-1)\n",
    "\n",
    "def RMS(x, axis=None):\n",
    "    rms = np.sqrt(np.mean(np.square(x), axis=axis))\n",
    "    return rms\n",
    "\n",
    "def emergence(per):\n",
    "    tmp = np.asarray(per)\n",
    "    emerg = []\n",
    "    for i in range(len(tmp)-1):\n",
    "        x= int(i)\n",
    "        y = x +1\n",
    "        #print(tmp[y], tmp[x])\n",
    "        if tmp[y]==tmp[x]:\n",
    "            emerg.append(0)\n",
    "        elif tmp[y] < (0) or tmp[x] < 0:\n",
    "            res = (tmp[y]-tmp[x])/(abs(tmp[y])+abs(tmp[x]))\n",
    "            emerg.append(res)\n",
    "        else:\n",
    "            res = (tmp[y]-tmp[x])/max([tmp[y],tmp[x]])\n",
    "            emerg.append(res)\n",
    "    tmp2 = np.zeros(len(emerg)+1)\n",
    "    tmp2[1:] = emerg\n",
    "    \n",
    "    return tmp2\n",
    "            \n",
    "\n",
    "def NRMS(n):\n",
    "    nrms = []\n",
    "    for i in range(len(n)-1):\n",
    "        x= int(i)\n",
    "        y = x +1\n",
    "        a = n[x]\n",
    "        b = n[y]\n",
    "        nrms_ = np.divide((RMS(a-b)),(RMS(a)+RMS(b)))\n",
    "        nrms.append(nrms_)\n",
    "    tmp2 = np.zeros(len(nrms)+1)\n",
    "    tmp2[1:] = nrms\n",
    "    \n",
    "    return tmp2\n",
    "\n",
    "rms_m = attvol_m_sc.apply(lambda x: RMS(x), axis=1)\n",
    "nrms_m = NRMS(rms_m)\n",
    "emerg_m = emergence(persistence_m)\n",
    "final_attvol_m = attvol_m_sc.copy()\n",
    "\n",
    "final_attvol_m['NRMS'] = nrms_m\n",
    "final_attvol_m['RMS']=rms_m\n",
    "final_attvol_m['Emergence'] =emerg_m"
   ]
  },
  {
   "cell_type": "code",
   "execution_count": 91,
   "metadata": {
    "collapsed": true
   },
   "outputs": [],
   "source": [
    "path = '/home/arshad/Documents/MScDataScience/Thesis/Code/attribute_data/mod_att.xlsx'\n",
    "\n",
    "final_attvol_m.to_excel(path)"
   ]
  },
  {
   "cell_type": "code",
   "execution_count": null,
   "metadata": {
    "collapsed": true
   },
   "outputs": [],
   "source": []
  }
 ],
 "metadata": {
  "anaconda-cloud": {},
  "kernelspec": {
   "display_name": "Python [Root]",
   "language": "python",
   "name": "Python [Root]"
  },
  "language_info": {
   "codemirror_mode": {
    "name": "ipython",
    "version": 3
   },
   "file_extension": ".py",
   "mimetype": "text/x-python",
   "name": "python",
   "nbconvert_exporter": "python",
   "pygments_lexer": "ipython3",
   "version": "3.5.2"
  },
  "latex_envs": {
   "bibliofile": "biblio.bib",
   "cite_by": "apalike",
   "current_citInitial": 1,
   "eqLabelWithNumbers": true,
   "eqNumInitial": 0
  },
  "nav_menu": {},
  "toc": {
   "navigate_menu": true,
   "number_sections": true,
   "sideBar": true,
   "threshold": 6,
   "toc_cell": true,
   "toc_section_display": "block",
   "toc_window_display": false
  },
  "toc_position": {
   "height": "548px",
   "left": "0px",
   "right": "1111px",
   "top": "106px",
   "width": "212px"
  }
 },
 "nbformat": 4,
 "nbformat_minor": 0
}

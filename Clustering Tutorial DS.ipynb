{
 "cells": [
  {
   "cell_type": "markdown",
   "metadata": {
    "slideshow": {
     "slide_type": "slide"
    }
   },
   "source": [
    "#Clustering Example using the Wine Dataset from UCI ML Repository\n",
    "![Clustering Image](http://sid.cps.unizar.es/SEMANTICWEB/GENIE/GENIE_files/clustering.jpg)"
   ]
  },
  {
   "cell_type": "code",
   "execution_count": 2,
   "metadata": {
    "collapsed": true
   },
   "outputs": [],
   "source": [
    "#Use this if notebook cant import libraries \n",
    "import sys\n",
    "sys.path.append('/usr/local/lib/python3.4/dist-packages')"
   ]
  },
  {
   "cell_type": "markdown",
   "metadata": {},
   "source": [
    "*Import Libraries*"
   ]
  },
  {
   "cell_type": "code",
   "execution_count": 19,
   "metadata": {
    "collapsed": false
   },
   "outputs": [],
   "source": [
    "%matplotlib inline\n",
    "import matplotlib\n",
    "import pandas as pd\n",
    "import numpy as np\n",
    "import sklearn\n",
    "import matplotlib.pyplot as plt\n",
    "from pylab import plot,show\n",
    "from numpy import vstack,array\n",
    "from numpy.random import rand\n",
    "from scipy.cluster.vq import kmeans,vq\n",
    "from sklearn.decomposition import PCA\n",
    "from sklearn.cluster import KMeans"
   ]
  },
  {
   "cell_type": "code",
   "execution_count": 5,
   "metadata": {
    "collapsed": false
   },
   "outputs": [],
   "source": [
    "winePD =  pd.io.parsers.read_csv('http://archive.ics.uci.edu/ml/machine-learning-databases/wine/wine.data')"
   ]
  },
  {
   "cell_type": "code",
   "execution_count": 6,
   "metadata": {
    "collapsed": false,
    "scrolled": true
   },
   "outputs": [
    {
     "name": "stdout",
     "output_type": "stream",
     "text": [
      "   1  14.23  1.71  2.43  15.6  127   2.8  3.06   .28  2.29  5.64  1.04  3.92  \\\n",
      "0  1  13.20  1.78  2.14  11.2  100  2.65  2.76  0.26  1.28  4.38  1.05  3.40   \n",
      "1  1  13.16  2.36  2.67  18.6  101  2.80  3.24  0.30  2.81  5.68  1.03  3.17   \n",
      "2  1  14.37  1.95  2.50  16.8  113  3.85  3.49  0.24  2.18  7.80  0.86  3.45   \n",
      "3  1  13.24  2.59  2.87  21.0  118  2.80  2.69  0.39  1.82  4.32  1.04  2.93   \n",
      "4  1  14.20  1.76  2.45  15.2  112  3.27  3.39  0.34  1.97  6.75  1.05  2.85   \n",
      "\n",
      "   1065  \n",
      "0  1050  \n",
      "1  1185  \n",
      "2  1480  \n",
      "3   735  \n",
      "4  1450  \n"
     ]
    }
   ],
   "source": [
    "print (winePD.head()) # check if everything is in place\n",
    "data = winePD.as_matrix()"
   ]
  },
  {
   "cell_type": "code",
   "execution_count": 10,
   "metadata": {
    "collapsed": false
   },
   "outputs": [],
   "source": [
    "classLabelsKnown = np.asarray(data[:,0], 'i') \n",
    "classLabelsKnown -= 1 # get the labels start from 0"
   ]
  },
  {
   "cell_type": "code",
   "execution_count": 11,
   "metadata": {
    "collapsed": true
   },
   "outputs": [],
   "source": [
    "# get all the data but not the class labels\n",
    "DataToCluster = data[:,1::]"
   ]
  },
  {
   "cell_type": "code",
   "execution_count": 12,
   "metadata": {
    "collapsed": true
   },
   "outputs": [],
   "source": [
    "#computing K-Means with K = 3 (3 clusters)\n",
    "kmeansModel = KMeans(init='random', n_clusters=3, n_init=10)\n",
    "kmeansModel.fit_predict(DataToCluster)\n",
    "clusterResults = kmeansModel.labels_"
   ]
  },
  {
   "cell_type": "code",
   "execution_count": 13,
   "metadata": {
    "collapsed": false
   },
   "outputs": [
    {
     "name": "stdout",
     "output_type": "stream",
     "text": [
      "Cluster result:  1  Known labels:  0\n",
      "Cluster result:  1  Known labels:  0\n",
      "Cluster result:  1  Known labels:  0\n",
      "Cluster result:  2  Known labels:  0\n",
      "Cluster result:  1  Known labels:  0\n",
      "Cluster result:  1  Known labels:  0\n",
      "Cluster result:  1  Known labels:  0\n",
      "Cluster result:  1  Known labels:  0\n",
      "Cluster result:  1  Known labels:  0\n",
      "Cluster result:  1  Known labels:  0\n",
      "Cluster result:  1  Known labels:  0\n",
      "Cluster result:  1  Known labels:  0\n",
      "Cluster result:  1  Known labels:  0\n",
      "Cluster result:  1  Known labels:  0\n",
      "Cluster result:  1  Known labels:  0\n",
      "Cluster result:  1  Known labels:  0\n",
      "Cluster result:  1  Known labels:  0\n",
      "Cluster result:  1  Known labels:  0\n",
      "Cluster result:  2  Known labels:  0\n",
      "Cluster result:  2  Known labels:  0\n",
      "Cluster result:  2  Known labels:  0\n",
      "Cluster result:  1  Known labels:  0\n",
      "Cluster result:  1  Known labels:  0\n",
      "Cluster result:  2  Known labels:  0\n",
      "Cluster result:  2  Known labels:  0\n",
      "Cluster result:  1  Known labels:  0\n",
      "Cluster result:  1  Known labels:  0\n",
      "Cluster result:  2  Known labels:  0\n",
      "Cluster result:  1  Known labels:  0\n",
      "Cluster result:  1  Known labels:  0\n",
      "Cluster result:  1  Known labels:  0\n",
      "Cluster result:  1  Known labels:  0\n",
      "Cluster result:  1  Known labels:  0\n",
      "Cluster result:  1  Known labels:  0\n",
      "Cluster result:  2  Known labels:  0\n",
      "Cluster result:  2  Known labels:  0\n",
      "Cluster result:  1  Known labels:  0\n",
      "Cluster result:  1  Known labels:  0\n",
      "Cluster result:  2  Known labels:  0\n",
      "Cluster result:  2  Known labels:  0\n",
      "Cluster result:  1  Known labels:  0\n",
      "Cluster result:  1  Known labels:  0\n",
      "Cluster result:  2  Known labels:  0\n",
      "Cluster result:  2  Known labels:  0\n",
      "Cluster result:  1  Known labels:  0\n",
      "Cluster result:  1  Known labels:  0\n",
      "Cluster result:  1  Known labels:  0\n",
      "Cluster result:  1  Known labels:  0\n",
      "Cluster result:  1  Known labels:  0\n",
      "Cluster result:  1  Known labels:  0\n",
      "Cluster result:  1  Known labels:  0\n",
      "Cluster result:  1  Known labels:  0\n",
      "Cluster result:  1  Known labels:  0\n",
      "Cluster result:  1  Known labels:  0\n",
      "Cluster result:  1  Known labels:  0\n",
      "Cluster result:  1  Known labels:  0\n",
      "Cluster result:  1  Known labels:  0\n",
      "Cluster result:  1  Known labels:  0\n",
      "Cluster result:  0  Known labels:  1\n",
      "Cluster result:  2  Known labels:  1\n",
      "Cluster result:  0  Known labels:  1\n",
      "Cluster result:  2  Known labels:  1\n",
      "Cluster result:  0  Known labels:  1\n",
      "Cluster result:  0  Known labels:  1\n",
      "Cluster result:  2  Known labels:  1\n",
      "Cluster result:  0  Known labels:  1\n",
      "Cluster result:  0  Known labels:  1\n",
      "Cluster result:  2  Known labels:  1\n",
      "Cluster result:  2  Known labels:  1\n",
      "Cluster result:  2  Known labels:  1\n",
      "Cluster result:  0  Known labels:  1\n",
      "Cluster result:  0  Known labels:  1\n",
      "Cluster result:  1  Known labels:  1\n",
      "Cluster result:  2  Known labels:  1\n",
      "Cluster result:  0  Known labels:  1\n",
      "Cluster result:  0  Known labels:  1\n",
      "Cluster result:  0  Known labels:  1\n",
      "Cluster result:  2  Known labels:  1\n",
      "Cluster result:  0  Known labels:  1\n",
      "Cluster result:  0  Known labels:  1\n",
      "Cluster result:  2  Known labels:  1\n",
      "Cluster result:  2  Known labels:  1\n",
      "Cluster result:  0  Known labels:  1\n",
      "Cluster result:  0  Known labels:  1\n",
      "Cluster result:  0  Known labels:  1\n",
      "Cluster result:  0  Known labels:  1\n",
      "Cluster result:  0  Known labels:  1\n",
      "Cluster result:  2  Known labels:  1\n",
      "Cluster result:  2  Known labels:  1\n",
      "Cluster result:  0  Known labels:  1\n",
      "Cluster result:  0  Known labels:  1\n",
      "Cluster result:  0  Known labels:  1\n",
      "Cluster result:  0  Known labels:  1\n",
      "Cluster result:  0  Known labels:  1\n",
      "Cluster result:  2  Known labels:  1\n",
      "Cluster result:  2  Known labels:  1\n",
      "Cluster result:  0  Known labels:  1\n",
      "Cluster result:  2  Known labels:  1\n",
      "Cluster result:  0  Known labels:  1\n",
      "Cluster result:  2  Known labels:  1\n",
      "Cluster result:  0  Known labels:  1\n",
      "Cluster result:  0  Known labels:  1\n",
      "Cluster result:  0  Known labels:  1\n",
      "Cluster result:  2  Known labels:  1\n",
      "Cluster result:  0  Known labels:  1\n",
      "Cluster result:  0  Known labels:  1\n",
      "Cluster result:  0  Known labels:  1\n",
      "Cluster result:  0  Known labels:  1\n",
      "Cluster result:  2  Known labels:  1\n",
      "Cluster result:  0  Known labels:  1\n",
      "Cluster result:  0  Known labels:  1\n",
      "Cluster result:  2  Known labels:  1\n",
      "Cluster result:  0  Known labels:  1\n",
      "Cluster result:  0  Known labels:  1\n",
      "Cluster result:  0  Known labels:  1\n",
      "Cluster result:  0  Known labels:  1\n",
      "Cluster result:  0  Known labels:  1\n",
      "Cluster result:  0  Known labels:  1\n",
      "Cluster result:  0  Known labels:  1\n",
      "Cluster result:  2  Known labels:  1\n",
      "Cluster result:  0  Known labels:  1\n",
      "Cluster result:  0  Known labels:  1\n",
      "Cluster result:  0  Known labels:  1\n",
      "Cluster result:  0  Known labels:  1\n",
      "Cluster result:  0  Known labels:  1\n",
      "Cluster result:  0  Known labels:  1\n",
      "Cluster result:  0  Known labels:  1\n",
      "Cluster result:  0  Known labels:  1\n",
      "Cluster result:  0  Known labels:  1\n",
      "Cluster result:  2  Known labels:  2\n",
      "Cluster result:  0  Known labels:  2\n",
      "Cluster result:  0  Known labels:  2\n",
      "Cluster result:  2  Known labels:  2\n",
      "Cluster result:  2  Known labels:  2\n",
      "Cluster result:  2  Known labels:  2\n",
      "Cluster result:  2  Known labels:  2\n",
      "Cluster result:  0  Known labels:  2\n",
      "Cluster result:  0  Known labels:  2\n",
      "Cluster result:  0  Known labels:  2\n",
      "Cluster result:  2  Known labels:  2\n",
      "Cluster result:  2  Known labels:  2\n",
      "Cluster result:  0  Known labels:  2\n",
      "Cluster result:  0  Known labels:  2\n",
      "Cluster result:  2  Known labels:  2\n",
      "Cluster result:  2  Known labels:  2\n",
      "Cluster result:  0  Known labels:  2\n",
      "Cluster result:  2  Known labels:  2\n",
      "Cluster result:  2  Known labels:  2\n",
      "Cluster result:  0  Known labels:  2\n",
      "Cluster result:  0  Known labels:  2\n",
      "Cluster result:  0  Known labels:  2\n",
      "Cluster result:  0  Known labels:  2\n",
      "Cluster result:  2  Known labels:  2\n",
      "Cluster result:  2  Known labels:  2\n",
      "Cluster result:  2  Known labels:  2\n",
      "Cluster result:  0  Known labels:  2\n",
      "Cluster result:  2  Known labels:  2\n",
      "Cluster result:  2  Known labels:  2\n",
      "Cluster result:  2  Known labels:  2\n",
      "Cluster result:  0  Known labels:  2\n",
      "Cluster result:  2  Known labels:  2\n",
      "Cluster result:  0  Known labels:  2\n",
      "Cluster result:  2  Known labels:  2\n",
      "Cluster result:  2  Known labels:  2\n",
      "Cluster result:  0  Known labels:  2\n",
      "Cluster result:  2  Known labels:  2\n",
      "Cluster result:  2  Known labels:  2\n",
      "Cluster result:  2  Known labels:  2\n",
      "Cluster result:  2  Known labels:  2\n",
      "Cluster result:  0  Known labels:  2\n",
      "Cluster result:  0  Known labels:  2\n",
      "Cluster result:  2  Known labels:  2\n",
      "Cluster result:  2  Known labels:  2\n",
      "Cluster result:  2  Known labels:  2\n",
      "Cluster result:  2  Known labels:  2\n",
      "Cluster result:  2  Known labels:  2\n",
      "Cluster result:  0  Known labels:  2\n"
     ]
    }
   ],
   "source": [
    "## Let's check the results and try to compare with known labels\n",
    "for i, clustLabel in enumerate(clusterResults):\n",
    "    print(\"Cluster result: \", clustLabel, \" Known labels: \",classLabelsKnown[i])"
   ]
  },
  {
   "cell_type": "markdown",
   "metadata": {},
   "source": [
    "**Analysing the labels from the output of the clustering is a bit arbitrary and subject to change if we run it again. So it requires caution a better way is to use PCA and visualise with the PC components on a 2D projection.  **"
   ]
  },
  {
   "cell_type": "code",
   "execution_count": 20,
   "metadata": {
    "collapsed": false
   },
   "outputs": [
    {
     "data": {
      "image/png": "[encoded data removed]",
      "text/plain": [
       "<matplotlib.figure.Figure at 0x7fad37633f60>"
      ]
     },
     "metadata": {},
     "output_type": "display_data"
    },
    {
     "data": {
      "image/png": "[encoded data removed]",
      "text/plain": [
       "<matplotlib.figure.Figure at 0x7fad376255f8>"
      ]
     },
     "metadata": {},
     "output_type": "display_data"
    }
   ],
   "source": [
    "pca = PCA(n_components=2)\n",
    "\n",
    "# We first fit a PCA model to the data\n",
    "pca.fit(DataToCluster)\n",
    "\n",
    "# have a look at the components directly if we can notice any interesting structure\n",
    "projectedAxes = pca.transform(DataToCluster)\n",
    "\n",
    "dataColumnsToVisualize = projectedAxes\n",
    "#dataColumnsToVisualize = data\n",
    "IDsForvisualization = clusterResults # to color the points according to the results of k-means\n",
    "#IDsForvisualization = classLabelsKnown # to color the points according to the known labels \n",
    "\n",
    "columnIDToVisX = 0 # some variable to keep coind simple and flexible\n",
    "columnIDToVisY = 1\n",
    "\n",
    "\n",
    "plt.figure(1)\n",
    "plt.suptitle('Results of the algorithm visualised over PCs')\n",
    "plt.xlabel('PC_1')\n",
    "plt.ylabel('PC_2')\n",
    "# some plotting using numpy's logical indexing\n",
    "plt.scatter(dataColumnsToVisualize[IDsForvisualization==0,columnIDToVisX], dataColumnsToVisualize[IDsForvisualization==0,columnIDToVisY], c = \"#66c2a5\", s = 50, alpha = 0.7, linewidth='0') # greenish\n",
    "plt.scatter(dataColumnsToVisualize[IDsForvisualization==1,columnIDToVisX], dataColumnsToVisualize[IDsForvisualization==1,columnIDToVisY], c = \"#fc8d62\", s = 50, alpha = 0.7, linewidth='0') # orangish\n",
    "plt.scatter(dataColumnsToVisualize[IDsForvisualization==2,columnIDToVisX], dataColumnsToVisualize[IDsForvisualization==2,columnIDToVisY], c = \"#8da0cb\", s = 50, alpha = 0.7, linewidth='0') # blueish\n",
    "plt.show()\n",
    "\n",
    "IDsForvisualization = classLabelsKnown\n",
    "\n",
    "plt.figure(2)\n",
    "plt.suptitle('Known labels visualised over PCs')\n",
    "plt.scatter(dataColumnsToVisualize[IDsForvisualization==0,columnIDToVisX], dataColumnsToVisualize[IDsForvisualization==0,columnIDToVisY], c = \"#66c2a5\", s = 50, alpha = 0.7, linewidth='0')\n",
    "plt.scatter(dataColumnsToVisualize[IDsForvisualization==1,columnIDToVisX], dataColumnsToVisualize[IDsForvisualization==1,columnIDToVisY], c = \"#fc8d62\", s = 50, alpha = 0.7, linewidth='0')\n",
    "plt.scatter(dataColumnsToVisualize[IDsForvisualization==2,columnIDToVisX], dataColumnsToVisualize[IDsForvisualization==2,columnIDToVisY], c = \"#8da0cb\", s = 50, alpha = 0.7, linewidth='0')\n",
    "plt.show()"
   ]
  },
  {
   "cell_type": "markdown",
   "metadata": {},
   "source": [
    "We see several missclassifcations when comparing visually the results for the classification with the labels. Probably needs a better method and/or a better distance metric. "
   ]
  }
 ],
 "metadata": {
  "celltoolbar": "Raw Cell Format",
  "kernelspec": {
   "display_name": "Python 3",
   "language": "python",
   "name": "python3"
  },
  "language_info": {
   "codemirror_mode": {
    "name": "ipython",
    "version": 3
   },
   "file_extension": ".py",
   "mimetype": "text/x-python",
   "name": "python",
   "nbconvert_exporter": "python",
   "pygments_lexer": "ipython3",
   "version": "3.4.3+"
  }
 },
 "nbformat": 4,
 "nbformat_minor": 0
}
